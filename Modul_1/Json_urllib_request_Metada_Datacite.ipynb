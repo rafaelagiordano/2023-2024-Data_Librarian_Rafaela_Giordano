{
 "cells": [
  {
   "cell_type": "code",
   "execution_count": 81,
   "id": "9f2293fe",
   "metadata": {},
   "outputs": [],
   "source": [
    "import urllib.request\n",
    "import json"
   ]
  },
  {
   "cell_type": "code",
   "execution_count": 82,
   "id": "e69a7dfb",
   "metadata": {},
   "outputs": [],
   "source": [
    "base_url = \"https://api.datacite.org/application/vnd.datacite.datacite+json/\"\n",
    "doi = \"10.5281/zenodo.5563162\"\n",
    "full_url = base_url + doi"
   ]
  },
  {
   "cell_type": "code",
   "execution_count": 83,
   "id": "17702fb1",
   "metadata": {},
   "outputs": [],
   "source": [
    "#JSON Daten von DaCite eingelesen\n",
    "\n",
    "doi_json_dataset = urllib.request.urlopen(full_url).read()"
   ]
  },
  {
   "cell_type": "code",
   "execution_count": 84,
   "id": "3eb7b526",
   "metadata": {},
   "outputs": [],
   "source": [
    "# JSON Format für Python nutzbar gemacht\n",
    "\n",
    "doi_dataset = json.loads(doi_json_dataset)"
   ]
  },
  {
   "cell_type": "code",
   "execution_count": 85,
   "id": "fc9769ad",
   "metadata": {},
   "outputs": [
    {
     "data": {
      "text/plain": [
       "{'id': 'https://doi.org/10.5281/zenodo.5563162',\n",
       " 'doi': '10.5281/ZENODO.5563162',\n",
       " 'url': 'https://zenodo.org/record/5563162',\n",
       " 'types': {'ris': 'DATA',\n",
       "  'bibtex': 'misc',\n",
       "  'citeproc': 'dataset',\n",
       "  'schemaOrg': 'Dataset',\n",
       "  'resourceTypeGeneral': 'Dataset'},\n",
       " 'creators': [{'name': 'Banda, Juan M.',\n",
       "   'givenName': 'Juan M.',\n",
       "   'familyName': 'Banda',\n",
       "   'affiliation': [{'name': 'Georgia State University'}],\n",
       "   'nameIdentifiers': [{'schemeUri': 'https://orcid.org',\n",
       "     'nameIdentifier': 'https://orcid.org/0000-0001-8499-824X',\n",
       "     'nameIdentifierScheme': 'ORCID'}]},\n",
       "  {'name': 'Tekumalla, Ramya',\n",
       "   'givenName': 'Ramya',\n",
       "   'familyName': 'Tekumalla',\n",
       "   'affiliation': [{'name': 'Georgia State University'}],\n",
       "   'nameIdentifiers': [{'schemeUri': 'https://orcid.org',\n",
       "     'nameIdentifier': 'https://orcid.org/0000-0002-1606-4856',\n",
       "     'nameIdentifierScheme': 'ORCID'}]},\n",
       "  {'name': 'Wang, Guanyu',\n",
       "   'givenName': 'Guanyu',\n",
       "   'familyName': 'Wang',\n",
       "   'affiliation': [{'name': 'University of Missouri'}]},\n",
       "  {'name': 'Yu, Jingyuan',\n",
       "   'givenName': 'Jingyuan',\n",
       "   'familyName': 'Yu',\n",
       "   'affiliation': [{'name': 'Universitat Autònoma de Barcelona'}]},\n",
       "  {'name': 'Liu, Tuo',\n",
       "   'givenName': 'Tuo',\n",
       "   'familyName': 'Liu',\n",
       "   'affiliation': [{'name': 'Carl von Ossietzky Universität Oldenburg'}]},\n",
       "  {'name': 'Ding, Yuning',\n",
       "   'givenName': 'Yuning',\n",
       "   'familyName': 'Ding',\n",
       "   'affiliation': [{'name': 'Universität Duisburg-Essen'}]},\n",
       "  {'name': 'Artemova, Katya',\n",
       "   'givenName': 'Katya',\n",
       "   'familyName': 'Artemova',\n",
       "   'affiliation': [{'name': 'NRU HSE'}]},\n",
       "  {'name': 'Tutubalina, Elena',\n",
       "   'givenName': 'Elena',\n",
       "   'familyName': 'Tutubalina',\n",
       "   'affiliation': [{'name': 'KFU'}]},\n",
       "  {'name': 'Chowell, Gerardo',\n",
       "   'givenName': 'Gerardo',\n",
       "   'familyName': 'Chowell',\n",
       "   'affiliation': [{'name': 'Georgia State University'}],\n",
       "   'nameIdentifiers': [{'schemeUri': 'https://orcid.org',\n",
       "     'nameIdentifier': 'https://orcid.org/0000-0003-2194-2251',\n",
       "     'nameIdentifierScheme': 'ORCID'}]}],\n",
       " 'titles': [{'title': 'A large-scale COVID-19 Twitter chatter dataset for open scientific research - an international collaboration'}],\n",
       " 'publisher': 'Zenodo',\n",
       " 'container': {'type': 'DataRepository',\n",
       "  'identifier': 'https://zenodo.org/communities/biohackathon',\n",
       "  'identifierType': 'URL'},\n",
       " 'subjects': [{'subject': 'social media'},\n",
       "  {'subject': 'twitter'},\n",
       "  {'subject': 'nlp'},\n",
       "  {'subject': 'covid-19'},\n",
       "  {'subject': 'covid19'}],\n",
       " 'contributors': [],\n",
       " 'dates': [{'date': '2021-10-10', 'dateType': 'Issued'}],\n",
       " 'publicationYear': 2021,\n",
       " 'language': 'en',\n",
       " 'identifiers': [{'identifier': 'https://github.com/thepanacealab/covid19_twitter',\n",
       "   'identifierType': 'URL'},\n",
       "  {'identifier': 'https://zenodo.org/record/5563162',\n",
       "   'identifierType': 'URL'}],\n",
       " 'sizes': [],\n",
       " 'formats': [],\n",
       " 'version': '83',\n",
       " 'rightsList': [{'rights': 'Open Access',\n",
       "   'rightsUri': 'info:eu-repo/semantics/openAccess'}],\n",
       " 'descriptions': [{'description': '<em><strong>Version 83 of the dataset. The peer-reviewed publication for this dataset has now been published in Epidemiologia an MDPI journal, and can be accessed here: https://doi.org/10.3390/epidemiologia2030024. Please cite this when using the dataset.</strong></em> <strong>Due to the relevance of the COVID-19 global pandemic, we are releasing our dataset of tweets acquired from the Twitter Stream related to COVID-19 chatter. Since our first release we have received additional data from our new collaborators, allowing this resource to grow to its current size. Dedicated data gathering started from March 11th yielding over 4 million tweets a day. We have added additional data provided by our new collaborators from January 27th to March 27th, to provide extra longitudinal coverage. Version 10 added ~1.5 million tweets in the Russian language collected between January 1st and May 8th, gracefully provided to us by: Katya Artemova (NRU HSE) and Elena Tutubalina (KFU). From version 12 we have included daily hashtags, mentions and emoijis and their frequencies the respective zip files. From version 14 <em>we</em> have included the tweet identifiers and their respective language for the clean version of the dataset. Since version 20 we have included language and place location for all tweets.</strong> <strong>The data collected from the stream captures all languages, but the higher prevalence are: English, Spanish, and French. We release all tweets and retweets on the full_dataset.tsv file (1,222,981,652 unique tweets), and a cleaned version with no retweets on the full_dataset-clean.tsv file (313,558,225 unique tweets). There are several practical reasons for us to leave the retweets, tracing important tweets and their dissemination is one of them. For NLP tasks we provide the top 1000 frequent terms in frequent_terms.csv, the top 1000 bigrams in frequent_bigrams.csv, and the top 1000 trigrams in frequent_trigrams.csv. Some general statistics per day are included for both datasets in the full_dataset-statistics.tsv and full_dataset-clean-statistics.tsv files. For more statistics and some visualizations visit: http://www.panacealab.org/covid19/ </strong> <strong>More details can be found (and will be updated faster at: https://github.com/thepanacealab/covid19_twitter) and our pre-print about the dataset (https://arxiv.org/abs/2004.03688) </strong> <strong>As always, the tweets distributed here are only tweet identifiers (with date and time added) due to the terms and conditions of Twitter to re-distribute Twitter data ONLY for research purposes. They need to be hydrated to be used.</strong>',\n",
       "   'descriptionType': 'Abstract'},\n",
       "  {'description': 'This dataset will be updated bi-weekly at least with additional tweets, look at the github repo for these updates. Release: We have standardized the name of the resource to match our pre-print manuscript and to not have to update it every week.',\n",
       "   'descriptionType': 'Other'}],\n",
       " 'geoLocations': [],\n",
       " 'fundingReferences': [],\n",
       " 'relatedIdentifiers': [{'relationType': 'IsContinuedBy',\n",
       "   'relatedIdentifier': 'http://www.panacealab.org/covid19/',\n",
       "   'resourceTypeGeneral': 'Other',\n",
       "   'relatedIdentifierType': 'URL'},\n",
       "  {'relationType': 'IsSupplementTo',\n",
       "   'relatedIdentifier': 'https://arxiv.org/abs/2004.03688',\n",
       "   'resourceTypeGeneral': 'Preprint',\n",
       "   'relatedIdentifierType': 'URL'},\n",
       "  {'relationType': 'IsVersionOf',\n",
       "   'relatedIdentifier': '10.5281/zenodo.3723939',\n",
       "   'relatedIdentifierType': 'DOI'},\n",
       "  {'relationType': 'IsPartOf',\n",
       "   'relatedIdentifier': 'https://zenodo.org/communities/biohackathon',\n",
       "   'relatedIdentifierType': 'URL'},\n",
       "  {'relationType': 'IsPartOf',\n",
       "   'relatedIdentifier': 'https://zenodo.org/communities/covid-19',\n",
       "   'relatedIdentifierType': 'URL'},\n",
       "  {'relationType': 'IsPartOf',\n",
       "   'relatedIdentifier': 'https://zenodo.org/communities/zenodo',\n",
       "   'relatedIdentifierType': 'URL'}],\n",
       " 'relatedItems': [],\n",
       " 'schemaVersion': 'http://datacite.org/schema/kernel-4',\n",
       " 'providerId': 'cern',\n",
       " 'clientId': 'cern.zenodo',\n",
       " 'agency': 'datacite',\n",
       " 'state': 'findable'}"
      ]
     },
     "execution_count": 85,
     "metadata": {},
     "output_type": "execute_result"
    }
   ],
   "source": [
    "doi_dataset"
   ]
  },
  {
   "cell_type": "code",
   "execution_count": 86,
   "id": "b7bea755",
   "metadata": {},
   "outputs": [
    {
     "data": {
      "text/plain": [
       "dict_keys(['id', 'doi', 'url', 'types', 'creators', 'titles', 'publisher', 'container', 'subjects', 'contributors', 'dates', 'publicationYear', 'language', 'identifiers', 'sizes', 'formats', 'version', 'rightsList', 'descriptions', 'geoLocations', 'fundingReferences', 'relatedIdentifiers', 'relatedItems', 'schemaVersion', 'providerId', 'clientId', 'agency', 'state'])"
      ]
     },
     "execution_count": 86,
     "metadata": {},
     "output_type": "execute_result"
    }
   ],
   "source": [
    "doi_dataset.keys()"
   ]
  },
  {
   "cell_type": "code",
   "execution_count": 87,
   "id": "b7401653",
   "metadata": {},
   "outputs": [
    {
     "data": {
      "text/plain": [
       "2021"
      ]
     },
     "execution_count": 87,
     "metadata": {},
     "output_type": "execute_result"
    }
   ],
   "source": [
    "doi_dataset[\"publicationYear\"]"
   ]
  },
  {
   "cell_type": "code",
   "execution_count": 88,
   "id": "ea6d397d",
   "metadata": {},
   "outputs": [
    {
     "data": {
      "text/plain": [
       "[{'title': 'A large-scale COVID-19 Twitter chatter dataset for open scientific research - an international collaboration'}]"
      ]
     },
     "execution_count": 88,
     "metadata": {},
     "output_type": "execute_result"
    }
   ],
   "source": [
    "doi_dataset[\"titles\"]"
   ]
  },
  {
   "cell_type": "code",
   "execution_count": 89,
   "id": "d4423c74",
   "metadata": {},
   "outputs": [
    {
     "data": {
      "text/plain": [
       "{'title': 'A large-scale COVID-19 Twitter chatter dataset for open scientific research - an international collaboration'}"
      ]
     },
     "execution_count": 89,
     "metadata": {},
     "output_type": "execute_result"
    }
   ],
   "source": [
    "doi_dataset[\"titles\"][0]"
   ]
  },
  {
   "cell_type": "code",
   "execution_count": 90,
   "id": "8113d264",
   "metadata": {},
   "outputs": [
    {
     "data": {
      "text/plain": [
       "'A large-scale COVID-19 Twitter chatter dataset for open scientific research - an international collaboration'"
      ]
     },
     "execution_count": 90,
     "metadata": {},
     "output_type": "execute_result"
    }
   ],
   "source": [
    "doi_dataset[\"titles\"][0][\"title\"]"
   ]
  },
  {
   "cell_type": "code",
   "execution_count": 91,
   "id": "1fad2771",
   "metadata": {},
   "outputs": [
    {
     "name": "stdout",
     "output_type": "stream",
     "text": [
      "A large-scale COVID-19 Twitter chatter dataset for open scientific research - an international collaboration\n"
     ]
    }
   ],
   "source": [
    "print(doi_dataset[\"titles\"][0][\"title\"])"
   ]
  },
  {
   "cell_type": "code",
   "execution_count": 92,
   "id": "9c515ee0",
   "metadata": {},
   "outputs": [
    {
     "data": {
      "text/plain": [
       "[{'name': 'Banda, Juan M.',\n",
       "  'givenName': 'Juan M.',\n",
       "  'familyName': 'Banda',\n",
       "  'affiliation': [{'name': 'Georgia State University'}],\n",
       "  'nameIdentifiers': [{'schemeUri': 'https://orcid.org',\n",
       "    'nameIdentifier': 'https://orcid.org/0000-0001-8499-824X',\n",
       "    'nameIdentifierScheme': 'ORCID'}]},\n",
       " {'name': 'Tekumalla, Ramya',\n",
       "  'givenName': 'Ramya',\n",
       "  'familyName': 'Tekumalla',\n",
       "  'affiliation': [{'name': 'Georgia State University'}],\n",
       "  'nameIdentifiers': [{'schemeUri': 'https://orcid.org',\n",
       "    'nameIdentifier': 'https://orcid.org/0000-0002-1606-4856',\n",
       "    'nameIdentifierScheme': 'ORCID'}]},\n",
       " {'name': 'Wang, Guanyu',\n",
       "  'givenName': 'Guanyu',\n",
       "  'familyName': 'Wang',\n",
       "  'affiliation': [{'name': 'University of Missouri'}]},\n",
       " {'name': 'Yu, Jingyuan',\n",
       "  'givenName': 'Jingyuan',\n",
       "  'familyName': 'Yu',\n",
       "  'affiliation': [{'name': 'Universitat Autònoma de Barcelona'}]},\n",
       " {'name': 'Liu, Tuo',\n",
       "  'givenName': 'Tuo',\n",
       "  'familyName': 'Liu',\n",
       "  'affiliation': [{'name': 'Carl von Ossietzky Universität Oldenburg'}]},\n",
       " {'name': 'Ding, Yuning',\n",
       "  'givenName': 'Yuning',\n",
       "  'familyName': 'Ding',\n",
       "  'affiliation': [{'name': 'Universität Duisburg-Essen'}]},\n",
       " {'name': 'Artemova, Katya',\n",
       "  'givenName': 'Katya',\n",
       "  'familyName': 'Artemova',\n",
       "  'affiliation': [{'name': 'NRU HSE'}]},\n",
       " {'name': 'Tutubalina, Elena',\n",
       "  'givenName': 'Elena',\n",
       "  'familyName': 'Tutubalina',\n",
       "  'affiliation': [{'name': 'KFU'}]},\n",
       " {'name': 'Chowell, Gerardo',\n",
       "  'givenName': 'Gerardo',\n",
       "  'familyName': 'Chowell',\n",
       "  'affiliation': [{'name': 'Georgia State University'}],\n",
       "  'nameIdentifiers': [{'schemeUri': 'https://orcid.org',\n",
       "    'nameIdentifier': 'https://orcid.org/0000-0003-2194-2251',\n",
       "    'nameIdentifierScheme': 'ORCID'}]}]"
      ]
     },
     "execution_count": 92,
     "metadata": {},
     "output_type": "execute_result"
    }
   ],
   "source": [
    "doi_dataset[\"creators\"]"
   ]
  },
  {
   "cell_type": "code",
   "execution_count": 93,
   "id": "4817bca0",
   "metadata": {},
   "outputs": [
    {
     "data": {
      "text/plain": [
       "{'name': 'Banda, Juan M.',\n",
       " 'givenName': 'Juan M.',\n",
       " 'familyName': 'Banda',\n",
       " 'affiliation': [{'name': 'Georgia State University'}],\n",
       " 'nameIdentifiers': [{'schemeUri': 'https://orcid.org',\n",
       "   'nameIdentifier': 'https://orcid.org/0000-0001-8499-824X',\n",
       "   'nameIdentifierScheme': 'ORCID'}]}"
      ]
     },
     "execution_count": 93,
     "metadata": {},
     "output_type": "execute_result"
    }
   ],
   "source": [
    "doi_dataset[\"creators\"][0]"
   ]
  },
  {
   "cell_type": "code",
   "execution_count": 94,
   "id": "52753387",
   "metadata": {},
   "outputs": [
    {
     "data": {
      "text/plain": [
       "'Banda, Juan M.'"
      ]
     },
     "execution_count": 94,
     "metadata": {},
     "output_type": "execute_result"
    }
   ],
   "source": [
    "doi_dataset[\"creators\"][0][\"name\"]"
   ]
  },
  {
   "cell_type": "code",
   "execution_count": 95,
   "id": "bc019ec5",
   "metadata": {},
   "outputs": [
    {
     "name": "stdout",
     "output_type": "stream",
     "text": [
      "Banda, Juan M.\n"
     ]
    }
   ],
   "source": [
    "print(doi_dataset[\"creators\"][0][\"name\"])"
   ]
  },
  {
   "cell_type": "code",
   "execution_count": 96,
   "id": "0dacec2e",
   "metadata": {},
   "outputs": [
    {
     "name": "stdout",
     "output_type": "stream",
     "text": [
      "Tekumalla, Ramya\n"
     ]
    }
   ],
   "source": [
    "print(doi_dataset[\"creators\"][1][\"name\"])"
   ]
  },
  {
   "cell_type": "code",
   "execution_count": 97,
   "id": "1344c391",
   "metadata": {},
   "outputs": [
    {
     "name": "stdout",
     "output_type": "stream",
     "text": [
      "Banda, Juan M.\n",
      "---\n",
      "Tekumalla, Ramya\n",
      "---\n",
      "Wang, Guanyu\n",
      "---\n",
      "Yu, Jingyuan\n",
      "---\n",
      "Liu, Tuo\n",
      "---\n",
      "Ding, Yuning\n",
      "---\n",
      "Artemova, Katya\n",
      "---\n",
      "Tutubalina, Elena\n",
      "---\n",
      "Chowell, Gerardo\n",
      "---\n"
     ]
    }
   ],
   "source": [
    "for creator in doi_dataset[\"creators\"]:\n",
    "    print(creator[\"name\"])\n",
    "    print(\"---\")"
   ]
  },
  {
   "cell_type": "code",
   "execution_count": 98,
   "id": "10018107",
   "metadata": {},
   "outputs": [
    {
     "name": "stdout",
     "output_type": "stream",
     "text": [
      "Banda\n",
      "---\n",
      "Tekumalla\n",
      "---\n",
      "Wang\n",
      "---\n",
      "Yu\n",
      "---\n",
      "Liu\n",
      "---\n",
      "Ding\n",
      "---\n",
      "Artemova\n",
      "---\n",
      "Tutubalina\n",
      "---\n",
      "Chowell\n",
      "---\n"
     ]
    }
   ],
   "source": [
    "for creator in doi_dataset[\"creators\"]:\n",
    "    print(creator[\"familyName\"])\n",
    "    print(\"---\")"
   ]
  },
  {
   "cell_type": "code",
   "execution_count": 99,
   "id": "5b8ac1e6",
   "metadata": {},
   "outputs": [
    {
     "data": {
      "text/plain": [
       "dict_keys(['name', 'givenName', 'familyName', 'affiliation', 'nameIdentifiers'])"
      ]
     },
     "execution_count": 99,
     "metadata": {},
     "output_type": "execute_result"
    }
   ],
   "source": [
    "doi_dataset[\"creators\"][0].keys()"
   ]
  },
  {
   "cell_type": "code",
   "execution_count": 100,
   "id": "3aaa8118",
   "metadata": {},
   "outputs": [
    {
     "data": {
      "text/plain": [
       "dict_keys(['title'])"
      ]
     },
     "execution_count": 100,
     "metadata": {},
     "output_type": "execute_result"
    }
   ],
   "source": [
    "doi_dataset[\"titles\"][0].keys()"
   ]
  },
  {
   "cell_type": "code",
   "execution_count": 101,
   "id": "1f02eed0",
   "metadata": {},
   "outputs": [],
   "source": [
    "# Liste mit DOIs\n",
    "\n",
    "dois = [\"10.6084/m9.figshare.155613\",\n",
    "        \"10.6084/m9.figshare.153821.v1\",\n",
    "        \"10.7490/f1000research.1115338.1\",\n",
    "        \"10.5281/zenodo.2599866\"]\n",
    "\n",
    "# Lass euch von jeder dois aus der Liste dois den Titel, die DOI un den Publisher zurückgeben"
   ]
  },
  {
   "cell_type": "code",
   "execution_count": 102,
   "id": "3a360504",
   "metadata": {},
   "outputs": [
    {
     "data": {
      "text/plain": [
       "['10.6084/m9.figshare.155613',\n",
       " '10.6084/m9.figshare.153821.v1',\n",
       " '10.7490/f1000research.1115338.1',\n",
       " '10.5281/zenodo.2599866']"
      ]
     },
     "execution_count": 102,
     "metadata": {},
     "output_type": "execute_result"
    }
   ],
   "source": [
    "dois"
   ]
  },
  {
   "cell_type": "code",
   "execution_count": 103,
   "id": "08670074",
   "metadata": {},
   "outputs": [],
   "source": [
    "doi_json_dataset = urllib.request.urlopen(full_url).read()"
   ]
  },
  {
   "cell_type": "code",
   "execution_count": 104,
   "id": "5892cb58",
   "metadata": {},
   "outputs": [],
   "source": [
    "doi_dataset = json.loads(doi_json_dataset)"
   ]
  },
  {
   "cell_type": "code",
   "execution_count": 105,
   "id": "61caed1b",
   "metadata": {},
   "outputs": [
    {
     "name": "stdout",
     "output_type": "stream",
     "text": [
      "10.6084/m9.figshare.155613\n",
      "10.6084/m9.figshare.153821.v1\n",
      "10.7490/f1000research.1115338.1\n",
      "10.5281/zenodo.2599866\n"
     ]
    }
   ],
   "source": [
    "for doi in dois:\n",
    "    print(doi)"
   ]
  },
  {
   "cell_type": "code",
   "execution_count": 110,
   "id": "63bc723f",
   "metadata": {},
   "outputs": [
    {
     "name": "stdout",
     "output_type": "stream",
     "text": [
      "10.6084/m9.figshare.155613\n",
      "git repository for paper on git and reproducible science\n",
      "figshare\n",
      "10.6084/m9.figshare.155613\n",
      "---\n",
      "10.6084/m9.figshare.153821.v1\n",
      "git can facilitate greater reproducibility and increased transparency in science\n",
      "figshare\n",
      "10.6084/m9.figshare.153821.v1\n",
      "---\n",
      "10.7490/f1000research.1115338.1\n",
      "The role of the German National Library for Life Sciences ZB MED in the approach to a FAIR Research Data Infrastructure in Agricultural Science embedded in the Life Sciences\n",
      "F1000 Research Limited\n",
      "10.7490/f1000research.1115338.1\n",
      "---\n",
      "10.5281/zenodo.2599866\n",
      "Nachnutzbare Awarenessmaterialien für Forschungsdatenmanagement (FDM)\n",
      "Zenodo\n",
      "10.5281/zenodo.2599866\n",
      "---\n"
     ]
    }
   ],
   "source": [
    "for doi in dois:\n",
    "    print(doi)\n",
    "    doi_json_dataset = urllib.request.urlopen(base_url + doi).read()\n",
    "    doi_dataset = json.loads(doi_json_dataset)\n",
    "    print(doi_dataset[\"titles\"][0][\"title\"])\n",
    "    print(doi_dataset[\"publisher\"])\n",
    "    print(doi)\n",
    "    print(\"---\")"
   ]
  },
  {
   "cell_type": "code",
   "execution_count": 112,
   "id": "2feac06a",
   "metadata": {},
   "outputs": [],
   "source": [
    "full_url = base_url + doi"
   ]
  },
  {
   "cell_type": "code",
   "execution_count": 133,
   "id": "6251974b",
   "metadata": {},
   "outputs": [
    {
     "name": "stdout",
     "output_type": "stream",
     "text": [
      "Nachnutzbare Awarenessmaterialien für Forschungsdatenmanagement (FDM)\n",
      "Zenodo\n",
      "10.6084/m9.figshare.155613\n",
      "---\n",
      "Nachnutzbare Awarenessmaterialien für Forschungsdatenmanagement (FDM)\n",
      "Zenodo\n",
      "10.6084/m9.figshare.153821.v1\n",
      "---\n",
      "Nachnutzbare Awarenessmaterialien für Forschungsdatenmanagement (FDM)\n",
      "Zenodo\n",
      "10.7490/f1000research.1115338.1\n",
      "---\n",
      "Nachnutzbare Awarenessmaterialien für Forschungsdatenmanagement (FDM)\n",
      "Zenodo\n",
      "10.5281/zenodo.2599866\n",
      "---\n"
     ]
    }
   ],
   "source": [
    "for doi in dois:\n",
    "    doi_json_dataset = urllib.request.urlopen(full_url).read()\n",
    "    doi_dataset = json.loads(doi_json_dataset)\n",
    "    print(doi_dataset[\"titles\"][0][\"title\"])\n",
    "    print(doi_dataset[\"publisher\"])\n",
    "    print(doi)\n",
    "    print(\"---\")"
   ]
  },
  {
   "cell_type": "code",
   "execution_count": 115,
   "id": "f0eaf5de",
   "metadata": {},
   "outputs": [
    {
     "data": {
      "text/plain": [
       "dict_keys(['id', 'doi', 'url', 'types', 'creators', 'titles', 'publisher', 'container', 'subjects', 'contributors', 'dates', 'publicationYear', 'language', 'identifiers', 'sizes', 'formats', 'rightsList', 'descriptions', 'geoLocations', 'fundingReferences', 'relatedIdentifiers', 'relatedItems', 'schemaVersion', 'providerId', 'clientId', 'agency', 'state'])"
      ]
     },
     "execution_count": 115,
     "metadata": {},
     "output_type": "execute_result"
    }
   ],
   "source": [
    "doi_dataset.keys()"
   ]
  },
  {
   "cell_type": "code",
   "execution_count": 132,
   "id": "1ce582a8",
   "metadata": {},
   "outputs": [
    {
     "name": "stdout",
     "output_type": "stream",
     "text": [
      "{'id': 'https://doi.org/10.5281/zenodo.2599866', 'doi': '10.5281/ZENODO.2599866', 'url': 'https://zenodo.org/record/2599866', 'types': {'ris': 'GEN', 'bibtex': 'misc', 'citeproc': 'article', 'schemaOrg': 'CreativeWork', 'resourceTypeGeneral': 'Other'}, 'creators': [{'name': 'Landesinitiative NFDI Der Digitalen Hochschule NRW', 'affiliation': [], 'nameIdentifiers': []}, {'name': 'AG FDM Awareness', 'affiliation': [], 'nameIdentifiers': []}], 'titles': [{'title': 'Nachnutzbare Awarenessmaterialien für Forschungsdatenmanagement (FDM)'}], 'publisher': 'Zenodo', 'container': {'type': 'Series', 'identifier': 'https://zenodo.org/communities/landesinitiative_fdm_nrw', 'identifierType': 'URL'}, 'subjects': [{'subject': 'RDM'}, {'subject': 'FDM'}, {'subject': 'Researchdatamanagement'}, {'subject': 'Forschungsdatenmanagement'}, {'subject': 'Researchdata'}, {'subject': 'Forschungsdaten'}], 'contributors': [], 'dates': [{'date': '2019-03-26', 'dateType': 'Issued'}], 'publicationYear': 2019, 'language': 'de', 'identifiers': [{'identifier': 'https://zenodo.org/record/3884745', 'identifierType': 'URL'}], 'sizes': [], 'formats': [], 'rightsList': [{'rights': 'Open Access', 'rightsUri': 'info:eu-repo/semantics/openAccess'}], 'descriptions': [{'description': 'In Rechenzentren, Bibliotheken und Einrichtungen für Forschungsförderung ist man sich der Bedeutung von FDM längst bewusst. Doch auch wenn Daten als Grundlage zukunftsfähiger Forschung gelten und Basis von Wissensgenerierung sind, bedarf es in der Breite der Forschenden noch viel Sensibilisierung und Aufklärung. Zur Unterstützung der Mitarbeiterinnen und Mitarbeiter der Infrastruktureinrichtungen bei dieser Aufgabe, hat die Landesinitiative fdm.nrw gemeinsam mit einer hochschulübergreifenden Arbeitsgruppe Awareness-Materialien für FDM entwickelt, die zur freien Nachnutzung und Anpassung unter der Lizenz CC0 (Ausnahmen wurden gekennzeichnet) zur Verfügung stehen. Diese wurden im April 2019 veröffentlicht. Die Awareness-Materialien werden stetig erweitert. In Version 2 wurden Flyer zur Informationsplattform forschungsdaten.info und zum Thema Datenschutz ergänzt. Alle Flyer wurden zudem auf Englisch übersetzt. Kontakt: info@fdm.nrw', 'descriptionType': 'Abstract'}, {'description': 'Die Flyer und Poster liegen als PDF sowie als Indesign-Dateien (*indd) sowie als IDML-Dateien vor. Die verwendeten Bilder finden sich im jeweiligen \"Links\"-Ordner.', 'descriptionType': 'Other'}], 'geoLocations': [], 'fundingReferences': [], 'relatedIdentifiers': [{'relationType': 'HasVersion', 'relatedIdentifier': '10.5281/zenodo.2599867', 'relatedIdentifierType': 'DOI'}, {'relationType': 'HasVersion', 'relatedIdentifier': '10.5281/zenodo.3884745', 'relatedIdentifierType': 'DOI'}, {'relationType': 'IsPartOf', 'relatedIdentifier': 'https://zenodo.org/communities/landesinitiative_fdm_nrw', 'relatedIdentifierType': 'URL'}], 'relatedItems': [], 'schemaVersion': 'http://datacite.org/schema/kernel-4', 'providerId': 'cern', 'clientId': 'cern.zenodo', 'agency': 'datacite', 'state': 'findable'}\n",
      "{'id': 'https://doi.org/10.5281/zenodo.2599866', 'doi': '10.5281/ZENODO.2599866', 'url': 'https://zenodo.org/record/2599866', 'types': {'ris': 'GEN', 'bibtex': 'misc', 'citeproc': 'article', 'schemaOrg': 'CreativeWork', 'resourceTypeGeneral': 'Other'}, 'creators': [{'name': 'Landesinitiative NFDI Der Digitalen Hochschule NRW', 'affiliation': [], 'nameIdentifiers': []}, {'name': 'AG FDM Awareness', 'affiliation': [], 'nameIdentifiers': []}], 'titles': [{'title': 'Nachnutzbare Awarenessmaterialien für Forschungsdatenmanagement (FDM)'}], 'publisher': 'Zenodo', 'container': {'type': 'Series', 'identifier': 'https://zenodo.org/communities/landesinitiative_fdm_nrw', 'identifierType': 'URL'}, 'subjects': [{'subject': 'RDM'}, {'subject': 'FDM'}, {'subject': 'Researchdatamanagement'}, {'subject': 'Forschungsdatenmanagement'}, {'subject': 'Researchdata'}, {'subject': 'Forschungsdaten'}], 'contributors': [], 'dates': [{'date': '2019-03-26', 'dateType': 'Issued'}], 'publicationYear': 2019, 'language': 'de', 'identifiers': [{'identifier': 'https://zenodo.org/record/3884745', 'identifierType': 'URL'}], 'sizes': [], 'formats': [], 'rightsList': [{'rights': 'Open Access', 'rightsUri': 'info:eu-repo/semantics/openAccess'}], 'descriptions': [{'description': 'In Rechenzentren, Bibliotheken und Einrichtungen für Forschungsförderung ist man sich der Bedeutung von FDM längst bewusst. Doch auch wenn Daten als Grundlage zukunftsfähiger Forschung gelten und Basis von Wissensgenerierung sind, bedarf es in der Breite der Forschenden noch viel Sensibilisierung und Aufklärung. Zur Unterstützung der Mitarbeiterinnen und Mitarbeiter der Infrastruktureinrichtungen bei dieser Aufgabe, hat die Landesinitiative fdm.nrw gemeinsam mit einer hochschulübergreifenden Arbeitsgruppe Awareness-Materialien für FDM entwickelt, die zur freien Nachnutzung und Anpassung unter der Lizenz CC0 (Ausnahmen wurden gekennzeichnet) zur Verfügung stehen. Diese wurden im April 2019 veröffentlicht. Die Awareness-Materialien werden stetig erweitert. In Version 2 wurden Flyer zur Informationsplattform forschungsdaten.info und zum Thema Datenschutz ergänzt. Alle Flyer wurden zudem auf Englisch übersetzt. Kontakt: info@fdm.nrw', 'descriptionType': 'Abstract'}, {'description': 'Die Flyer und Poster liegen als PDF sowie als Indesign-Dateien (*indd) sowie als IDML-Dateien vor. Die verwendeten Bilder finden sich im jeweiligen \"Links\"-Ordner.', 'descriptionType': 'Other'}], 'geoLocations': [], 'fundingReferences': [], 'relatedIdentifiers': [{'relationType': 'HasVersion', 'relatedIdentifier': '10.5281/zenodo.2599867', 'relatedIdentifierType': 'DOI'}, {'relationType': 'HasVersion', 'relatedIdentifier': '10.5281/zenodo.3884745', 'relatedIdentifierType': 'DOI'}, {'relationType': 'IsPartOf', 'relatedIdentifier': 'https://zenodo.org/communities/landesinitiative_fdm_nrw', 'relatedIdentifierType': 'URL'}], 'relatedItems': [], 'schemaVersion': 'http://datacite.org/schema/kernel-4', 'providerId': 'cern', 'clientId': 'cern.zenodo', 'agency': 'datacite', 'state': 'findable'}\n",
      "{'id': 'https://doi.org/10.5281/zenodo.2599866', 'doi': '10.5281/ZENODO.2599866', 'url': 'https://zenodo.org/record/2599866', 'types': {'ris': 'GEN', 'bibtex': 'misc', 'citeproc': 'article', 'schemaOrg': 'CreativeWork', 'resourceTypeGeneral': 'Other'}, 'creators': [{'name': 'Landesinitiative NFDI Der Digitalen Hochschule NRW', 'affiliation': [], 'nameIdentifiers': []}, {'name': 'AG FDM Awareness', 'affiliation': [], 'nameIdentifiers': []}], 'titles': [{'title': 'Nachnutzbare Awarenessmaterialien für Forschungsdatenmanagement (FDM)'}], 'publisher': 'Zenodo', 'container': {'type': 'Series', 'identifier': 'https://zenodo.org/communities/landesinitiative_fdm_nrw', 'identifierType': 'URL'}, 'subjects': [{'subject': 'RDM'}, {'subject': 'FDM'}, {'subject': 'Researchdatamanagement'}, {'subject': 'Forschungsdatenmanagement'}, {'subject': 'Researchdata'}, {'subject': 'Forschungsdaten'}], 'contributors': [], 'dates': [{'date': '2019-03-26', 'dateType': 'Issued'}], 'publicationYear': 2019, 'language': 'de', 'identifiers': [{'identifier': 'https://zenodo.org/record/3884745', 'identifierType': 'URL'}], 'sizes': [], 'formats': [], 'rightsList': [{'rights': 'Open Access', 'rightsUri': 'info:eu-repo/semantics/openAccess'}], 'descriptions': [{'description': 'In Rechenzentren, Bibliotheken und Einrichtungen für Forschungsförderung ist man sich der Bedeutung von FDM längst bewusst. Doch auch wenn Daten als Grundlage zukunftsfähiger Forschung gelten und Basis von Wissensgenerierung sind, bedarf es in der Breite der Forschenden noch viel Sensibilisierung und Aufklärung. Zur Unterstützung der Mitarbeiterinnen und Mitarbeiter der Infrastruktureinrichtungen bei dieser Aufgabe, hat die Landesinitiative fdm.nrw gemeinsam mit einer hochschulübergreifenden Arbeitsgruppe Awareness-Materialien für FDM entwickelt, die zur freien Nachnutzung und Anpassung unter der Lizenz CC0 (Ausnahmen wurden gekennzeichnet) zur Verfügung stehen. Diese wurden im April 2019 veröffentlicht. Die Awareness-Materialien werden stetig erweitert. In Version 2 wurden Flyer zur Informationsplattform forschungsdaten.info und zum Thema Datenschutz ergänzt. Alle Flyer wurden zudem auf Englisch übersetzt. Kontakt: info@fdm.nrw', 'descriptionType': 'Abstract'}, {'description': 'Die Flyer und Poster liegen als PDF sowie als Indesign-Dateien (*indd) sowie als IDML-Dateien vor. Die verwendeten Bilder finden sich im jeweiligen \"Links\"-Ordner.', 'descriptionType': 'Other'}], 'geoLocations': [], 'fundingReferences': [], 'relatedIdentifiers': [{'relationType': 'HasVersion', 'relatedIdentifier': '10.5281/zenodo.2599867', 'relatedIdentifierType': 'DOI'}, {'relationType': 'HasVersion', 'relatedIdentifier': '10.5281/zenodo.3884745', 'relatedIdentifierType': 'DOI'}, {'relationType': 'IsPartOf', 'relatedIdentifier': 'https://zenodo.org/communities/landesinitiative_fdm_nrw', 'relatedIdentifierType': 'URL'}], 'relatedItems': [], 'schemaVersion': 'http://datacite.org/schema/kernel-4', 'providerId': 'cern', 'clientId': 'cern.zenodo', 'agency': 'datacite', 'state': 'findable'}\n",
      "{'id': 'https://doi.org/10.5281/zenodo.2599866', 'doi': '10.5281/ZENODO.2599866', 'url': 'https://zenodo.org/record/2599866', 'types': {'ris': 'GEN', 'bibtex': 'misc', 'citeproc': 'article', 'schemaOrg': 'CreativeWork', 'resourceTypeGeneral': 'Other'}, 'creators': [{'name': 'Landesinitiative NFDI Der Digitalen Hochschule NRW', 'affiliation': [], 'nameIdentifiers': []}, {'name': 'AG FDM Awareness', 'affiliation': [], 'nameIdentifiers': []}], 'titles': [{'title': 'Nachnutzbare Awarenessmaterialien für Forschungsdatenmanagement (FDM)'}], 'publisher': 'Zenodo', 'container': {'type': 'Series', 'identifier': 'https://zenodo.org/communities/landesinitiative_fdm_nrw', 'identifierType': 'URL'}, 'subjects': [{'subject': 'RDM'}, {'subject': 'FDM'}, {'subject': 'Researchdatamanagement'}, {'subject': 'Forschungsdatenmanagement'}, {'subject': 'Researchdata'}, {'subject': 'Forschungsdaten'}], 'contributors': [], 'dates': [{'date': '2019-03-26', 'dateType': 'Issued'}], 'publicationYear': 2019, 'language': 'de', 'identifiers': [{'identifier': 'https://zenodo.org/record/3884745', 'identifierType': 'URL'}], 'sizes': [], 'formats': [], 'rightsList': [{'rights': 'Open Access', 'rightsUri': 'info:eu-repo/semantics/openAccess'}], 'descriptions': [{'description': 'In Rechenzentren, Bibliotheken und Einrichtungen für Forschungsförderung ist man sich der Bedeutung von FDM längst bewusst. Doch auch wenn Daten als Grundlage zukunftsfähiger Forschung gelten und Basis von Wissensgenerierung sind, bedarf es in der Breite der Forschenden noch viel Sensibilisierung und Aufklärung. Zur Unterstützung der Mitarbeiterinnen und Mitarbeiter der Infrastruktureinrichtungen bei dieser Aufgabe, hat die Landesinitiative fdm.nrw gemeinsam mit einer hochschulübergreifenden Arbeitsgruppe Awareness-Materialien für FDM entwickelt, die zur freien Nachnutzung und Anpassung unter der Lizenz CC0 (Ausnahmen wurden gekennzeichnet) zur Verfügung stehen. Diese wurden im April 2019 veröffentlicht. Die Awareness-Materialien werden stetig erweitert. In Version 2 wurden Flyer zur Informationsplattform forschungsdaten.info und zum Thema Datenschutz ergänzt. Alle Flyer wurden zudem auf Englisch übersetzt. Kontakt: info@fdm.nrw', 'descriptionType': 'Abstract'}, {'description': 'Die Flyer und Poster liegen als PDF sowie als Indesign-Dateien (*indd) sowie als IDML-Dateien vor. Die verwendeten Bilder finden sich im jeweiligen \"Links\"-Ordner.', 'descriptionType': 'Other'}], 'geoLocations': [], 'fundingReferences': [], 'relatedIdentifiers': [{'relationType': 'HasVersion', 'relatedIdentifier': '10.5281/zenodo.2599867', 'relatedIdentifierType': 'DOI'}, {'relationType': 'HasVersion', 'relatedIdentifier': '10.5281/zenodo.3884745', 'relatedIdentifierType': 'DOI'}, {'relationType': 'IsPartOf', 'relatedIdentifier': 'https://zenodo.org/communities/landesinitiative_fdm_nrw', 'relatedIdentifierType': 'URL'}], 'relatedItems': [], 'schemaVersion': 'http://datacite.org/schema/kernel-4', 'providerId': 'cern', 'clientId': 'cern.zenodo', 'agency': 'datacite', 'state': 'findable'}\n"
     ]
    }
   ],
   "source": [
    "for doi in dois:\n",
    "    doi_json_dataset = urllib.request.urlopen(full_url).read()\n",
    "    doi_dataset = json.loads(doi_json_dataset)\n",
    "    print(doi_dataset)"
   ]
  },
  {
   "cell_type": "code",
   "execution_count": 134,
   "id": "1a971d77",
   "metadata": {},
   "outputs": [
    {
     "name": "stdout",
     "output_type": "stream",
     "text": [
      "git repository for paper on git and reproducible science\n",
      "10.6084/M9.FIGSHARE.155613\n",
      "figshare\n",
      "-----\n",
      "git can facilitate greater reproducibility and increased transparency in science\n",
      "10.6084/M9.FIGSHARE.153821.V1\n",
      "figshare\n",
      "-----\n",
      "The role of the German National Library for Life Sciences ZB MED in the approach to a FAIR Research Data Infrastructure in Agricultural Science embedded in the Life Sciences\n",
      "10.7490/F1000RESEARCH.1115338.1\n",
      "F1000 Research Limited\n",
      "-----\n",
      "Nachnutzbare Awarenessmaterialien für Forschungsdatenmanagement (FDM)\n",
      "10.5281/ZENODO.2599866\n",
      "Zenodo\n",
      "-----\n"
     ]
    }
   ],
   "source": [
    "for doi in dois:\n",
    "    full_url = base_url + doi\n",
    "    doi_json_dataset = urllib.request.urlopen(full_url).read()\n",
    "    doi_dataset = json.loads(doi_json_dataset)\n",
    "    print(doi_dataset[\"titles\"][0][\"title\"])\n",
    "    print(doi_dataset[\"doi\"])\n",
    "    print(doi_dataset[\"publisher\"])\n",
    "    print(\"-----\")"
   ]
  },
  {
   "cell_type": "code",
   "execution_count": 136,
   "id": "f39b1c36",
   "metadata": {},
   "outputs": [
    {
     "name": "stdout",
     "output_type": "stream",
     "text": [
      "2019\n",
      "2019\n",
      "2019\n",
      "2019\n"
     ]
    }
   ],
   "source": [
    "for doi in dois:\n",
    "    doi_json_dataset = urllib.request.urlopen(full_url).read()\n",
    "    doi_dataset = json.loads(doi_json_dataset)\n",
    "    print(doi_dataset[\"publicationYear\"])"
   ]
  },
  {
   "cell_type": "code",
   "execution_count": null,
   "id": "6ba08ed0",
   "metadata": {},
   "outputs": [],
   "source": []
  }
 ],
 "metadata": {
  "kernelspec": {
   "display_name": "Python 3 (ipykernel)",
   "language": "python",
   "name": "python3"
  },
  "language_info": {
   "codemirror_mode": {
    "name": "ipython",
    "version": 3
   },
   "file_extension": ".py",
   "mimetype": "text/x-python",
   "name": "python",
   "nbconvert_exporter": "python",
   "pygments_lexer": "ipython3",
   "version": "3.11.5"
  }
 },
 "nbformat": 4,
 "nbformat_minor": 5
}
