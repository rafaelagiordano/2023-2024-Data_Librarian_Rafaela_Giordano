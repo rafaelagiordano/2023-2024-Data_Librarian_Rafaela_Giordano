{
 "cells": [
  {
   "cell_type": "code",
   "execution_count": 5,
   "id": "705cd19d",
   "metadata": {},
   "outputs": [],
   "source": [
    "# Datei in 'read-only' Modus öffnen (Textmodus)\n",
    "file_for_reading = open ('lorem_ipsum.txt', 'r')"
   ]
  },
  {
   "cell_type": "code",
   "execution_count": 6,
   "id": "4ce33fb1",
   "metadata": {},
   "outputs": [
    {
     "data": {
      "text/plain": [
       "_io.TextIOWrapper"
      ]
     },
     "execution_count": 6,
     "metadata": {},
     "output_type": "execute_result"
    }
   ],
   "source": [
    "type(file_for_reading)"
   ]
  },
  {
   "cell_type": "code",
   "execution_count": 7,
   "id": "90d7837b",
   "metadata": {},
   "outputs": [
    {
     "data": {
      "text/plain": [
       "<_io.TextIOWrapper name='lorem_ipsum.txt' mode='r' encoding='UTF-8'>"
      ]
     },
     "execution_count": 7,
     "metadata": {},
     "output_type": "execute_result"
    }
   ],
   "source": [
    "file_for_reading"
   ]
  },
  {
   "cell_type": "code",
   "execution_count": 8,
   "id": "1a504e0e",
   "metadata": {},
   "outputs": [
    {
     "data": {
      "text/plain": [
       "'Distinctio'"
      ]
     },
     "execution_count": 8,
     "metadata": {},
     "output_type": "execute_result"
    }
   ],
   "source": [
    "# eine bestimmte Anzahl Zeichen einlesen mit read()\n",
    "first_10_chars = file_for_reading.read(10)\n",
    "first_10_chars"
   ]
  },
  {
   "cell_type": "code",
   "execution_count": 9,
   "id": "03d01e8b",
   "metadata": {},
   "outputs": [
    {
     "data": {
      "text/plain": [
       "' soluta deleniti quidem maiores et sed voluptas. Qui est quis libero dolor. Illo omnis quibusdam molestias et quis nam repudiandae sint.\\n\\nImpedit quod repellendus dolor. Earum est dolorem non voluptas aut. Cum corporis aut aspernatur consequatur vel aut sit qui. Veniam sit dolorem omnis amet facilis nobis dolor. Eum magni sunt quia libero. Fuga voluptatem et voluptatem aut veritatis possimus.\\n\\nIllum et deleniti nisi ex autem eum. Eveniet cum porro enim vitae sint consectetur. Fugit aut fugit inventore omnis. Quidem sint quia reprehenderit quae molestiae quia. Id facere similique et.\\n\\nVero dignissimos aspernatur ex qui architecto. Ipsam repellendus sit ipsa. Nihil eligendi accusamus esse repudiandae debitis. Dolore eligendi aut enim dolorem.\\n\\nEsse dicta hic id. Alias alias mollitia nihil porro voluptatem sit et. Maiores sint autem numquam.\\n'"
      ]
     },
     "execution_count": 9,
     "metadata": {},
     "output_type": "execute_result"
    }
   ],
   "source": [
    "file_for_reading.read()"
   ]
  },
  {
   "cell_type": "code",
   "execution_count": 10,
   "id": "74b34373",
   "metadata": {},
   "outputs": [
    {
     "data": {
      "text/plain": [
       "''"
      ]
     },
     "execution_count": 10,
     "metadata": {},
     "output_type": "execute_result"
    }
   ],
   "source": [
    "# eine ganze Zeile einlesen mit readline()\n",
    "next_line = file_for_reading.readline()\n",
    "next_line"
   ]
  },
  {
   "cell_type": "code",
   "execution_count": 11,
   "id": "7420063e",
   "metadata": {},
   "outputs": [
    {
     "data": {
      "text/plain": [
       "[]"
      ]
     },
     "execution_count": 11,
     "metadata": {},
     "output_type": "execute_result"
    }
   ],
   "source": [
    "# den gesamten Inhalt der Datei Zeile für Zeile einlesen\n",
    "whole_text = file_for_reading.readlines()\n",
    "whole_text"
   ]
  },
  {
   "cell_type": "code",
   "execution_count": 12,
   "id": "5b2a76d1",
   "metadata": {},
   "outputs": [],
   "source": [
    "# nach getaner Arbeit muss die Datei wieder geschlossen werden:\n",
    "file_for_reading.close()"
   ]
  },
  {
   "cell_type": "code",
   "execution_count": 13,
   "id": "22de753d",
   "metadata": {},
   "outputs": [],
   "source": [
    "# besser: 'with' Block benutzen, damit Dateien automatisch geschlossen werden\n",
    "with open('lorem_ipsum.txt', 'r') as infile:\n",
    "    data = infile.readlines()"
   ]
  },
  {
   "cell_type": "code",
   "execution_count": 14,
   "id": "ea18ed34",
   "metadata": {},
   "outputs": [
    {
     "data": {
      "text/plain": [
       "list"
      ]
     },
     "execution_count": 14,
     "metadata": {},
     "output_type": "execute_result"
    }
   ],
   "source": [
    "type(data)"
   ]
  },
  {
   "cell_type": "code",
   "execution_count": 15,
   "id": "c5a5a4a6",
   "metadata": {},
   "outputs": [
    {
     "data": {
      "text/plain": [
       "['Distinctio soluta deleniti quidem maiores et sed voluptas. Qui est quis libero dolor. Illo omnis quibusdam molestias et quis nam repudiandae sint.\\n',\n",
       " '\\n',\n",
       " 'Impedit quod repellendus dolor. Earum est dolorem non voluptas aut. Cum corporis aut aspernatur consequatur vel aut sit qui. Veniam sit dolorem omnis amet facilis nobis dolor. Eum magni sunt quia libero. Fuga voluptatem et voluptatem aut veritatis possimus.\\n',\n",
       " '\\n',\n",
       " 'Illum et deleniti nisi ex autem eum. Eveniet cum porro enim vitae sint consectetur. Fugit aut fugit inventore omnis. Quidem sint quia reprehenderit quae molestiae quia. Id facere similique et.\\n',\n",
       " '\\n',\n",
       " 'Vero dignissimos aspernatur ex qui architecto. Ipsam repellendus sit ipsa. Nihil eligendi accusamus esse repudiandae debitis. Dolore eligendi aut enim dolorem.\\n',\n",
       " '\\n',\n",
       " 'Esse dicta hic id. Alias alias mollitia nihil porro voluptatem sit et. Maiores sint autem numquam.\\n']"
      ]
     },
     "execution_count": 15,
     "metadata": {},
     "output_type": "execute_result"
    }
   ],
   "source": [
    "data"
   ]
  },
  {
   "cell_type": "markdown",
   "id": "a3efa400",
   "metadata": {},
   "source": [
    "Das Iterieren über die einzelnen Zeilen is ebenfalls möglich:"
   ]
  },
  {
   "cell_type": "code",
   "execution_count": 16,
   "id": "d05cabc7",
   "metadata": {},
   "outputs": [
    {
     "name": "stdout",
     "output_type": "stream",
     "text": [
      "Distinctio soluta deleniti quidem maiores et sed voluptas. Qui est quis libero dolor. Illo omnis quibusdam molestias et quis nam repudiandae sint.\n",
      "\n",
      "Impedit quod repellendus dolor. Earum est dolorem non voluptas aut. Cum corporis aut aspernatur consequatur vel aut sit qui. Veniam sit dolorem omnis amet facilis nobis dolor. Eum magni sunt quia libero. Fuga voluptatem et voluptatem aut veritatis possimus.\n",
      "\n",
      "Illum et deleniti nisi ex autem eum. Eveniet cum porro enim vitae sint consectetur. Fugit aut fugit inventore omnis. Quidem sint quia reprehenderit quae molestiae quia. Id facere similique et.\n",
      "\n",
      "Vero dignissimos aspernatur ex qui architecto. Ipsam repellendus sit ipsa. Nihil eligendi accusamus esse repudiandae debitis. Dolore eligendi aut enim dolorem.\n",
      "\n",
      "Esse dicta hic id. Alias alias mollitia nihil porro voluptatem sit et. Maiores sint autem numquam.\n"
     ]
    }
   ],
   "source": [
    "with open('lorem_ipsum.txt', 'r') as infile:\n",
    "    for line in infile:\n",
    "        print(line.strip()) # entferne überflüssigen Whitespace"
   ]
  },
  {
   "cell_type": "markdown",
   "id": "fd557390",
   "metadata": {},
   "source": [
    "Man kann den Code noch etwas verkürzen, wenn man die Referenz auf 'infile' nicht zusätzlich benöigt:"
   ]
  },
  {
   "cell_type": "code",
   "execution_count": 17,
   "id": "e4256493",
   "metadata": {},
   "outputs": [
    {
     "ename": "FileNotFoundError",
     "evalue": "[Errno 2] No such file or directory: 'data/lorem_ipsum.txt'",
     "output_type": "error",
     "traceback": [
      "\u001b[0;31m---------------------------------------------------------------------------\u001b[0m",
      "\u001b[0;31mFileNotFoundError\u001b[0m                         Traceback (most recent call last)",
      "Cell \u001b[0;32mIn[17], line 1\u001b[0m\n\u001b[0;32m----> 1\u001b[0m \u001b[38;5;28;01mfor\u001b[39;00m line \u001b[38;5;129;01min\u001b[39;00m \u001b[38;5;28;43mopen\u001b[39;49m\u001b[43m(\u001b[49m\u001b[38;5;124;43m'\u001b[39;49m\u001b[38;5;124;43mdata/lorem_ipsum.txt\u001b[39;49m\u001b[38;5;124;43m'\u001b[39;49m\u001b[43m,\u001b[49m\u001b[43m \u001b[49m\u001b[38;5;124;43m'\u001b[39;49m\u001b[38;5;124;43mr\u001b[39;49m\u001b[38;5;124;43m'\u001b[39;49m\u001b[43m)\u001b[49m:\n\u001b[1;32m      2\u001b[0m     \u001b[38;5;28mprint\u001b[39m(line\u001b[38;5;241m.\u001b[39mstrip())\n",
      "File \u001b[0;32m~/anaconda3/lib/python3.8/site-packages/IPython/core/interactiveshell.py:284\u001b[0m, in \u001b[0;36m_modified_open\u001b[0;34m(file, *args, **kwargs)\u001b[0m\n\u001b[1;32m    277\u001b[0m \u001b[38;5;28;01mif\u001b[39;00m file \u001b[38;5;129;01min\u001b[39;00m {\u001b[38;5;241m0\u001b[39m, \u001b[38;5;241m1\u001b[39m, \u001b[38;5;241m2\u001b[39m}:\n\u001b[1;32m    278\u001b[0m     \u001b[38;5;28;01mraise\u001b[39;00m \u001b[38;5;167;01mValueError\u001b[39;00m(\n\u001b[1;32m    279\u001b[0m         \u001b[38;5;124mf\u001b[39m\u001b[38;5;124m\"\u001b[39m\u001b[38;5;124mIPython won\u001b[39m\u001b[38;5;124m'\u001b[39m\u001b[38;5;124mt let you open fd=\u001b[39m\u001b[38;5;132;01m{\u001b[39;00mfile\u001b[38;5;132;01m}\u001b[39;00m\u001b[38;5;124m by default \u001b[39m\u001b[38;5;124m\"\u001b[39m\n\u001b[1;32m    280\u001b[0m         \u001b[38;5;124m\"\u001b[39m\u001b[38;5;124mas it is likely to crash IPython. If you know what you are doing, \u001b[39m\u001b[38;5;124m\"\u001b[39m\n\u001b[1;32m    281\u001b[0m         \u001b[38;5;124m\"\u001b[39m\u001b[38;5;124myou can use builtins\u001b[39m\u001b[38;5;124m'\u001b[39m\u001b[38;5;124m open.\u001b[39m\u001b[38;5;124m\"\u001b[39m\n\u001b[1;32m    282\u001b[0m     )\n\u001b[0;32m--> 284\u001b[0m \u001b[38;5;28;01mreturn\u001b[39;00m \u001b[43mio_open\u001b[49m\u001b[43m(\u001b[49m\u001b[43mfile\u001b[49m\u001b[43m,\u001b[49m\u001b[43m \u001b[49m\u001b[38;5;241;43m*\u001b[39;49m\u001b[43margs\u001b[49m\u001b[43m,\u001b[49m\u001b[43m \u001b[49m\u001b[38;5;241;43m*\u001b[39;49m\u001b[38;5;241;43m*\u001b[39;49m\u001b[43mkwargs\u001b[49m\u001b[43m)\u001b[49m\n",
      "\u001b[0;31mFileNotFoundError\u001b[0m: [Errno 2] No such file or directory: 'data/lorem_ipsum.txt'"
     ]
    }
   ],
   "source": [
    "for line in open('data/lorem_ipsum.txt', 'r'):\n",
    "    print(line.strip())"
   ]
  },
  {
   "cell_type": "markdown",
   "id": "2192c42d",
   "metadata": {},
   "source": [
    "Das Schreiben von Dateien funktioniert analog zum Lesen - hier wird der Modus-Parameter der open -Funktion auf w (write) gesetzt"
   ]
  },
  {
   "cell_type": "code",
   "execution_count": null,
   "id": "a1a05015",
   "metadata": {},
   "outputs": [],
   "source": [
    "# Datei im 'write' Modus öffnen - bestehende Datei wird überschrieben!\n",
    "with open('writing_file.txt', 'w') as outfile:\n",
    "    outfile.writelines(data[0])"
   ]
  },
  {
   "cell_type": "markdown",
   "id": "ccf0a769",
   "metadata": {},
   "source": [
    "Alternativ sorgt der Parameterwert a (append) dafür, dass bestehender Inhalt in der Ausgabedatei nicht überschrieben wird Stattdessen wird der neue Inhalt angehangen."
   ]
  },
  {
   "cell_type": "code",
   "execution_count": null,
   "id": "0ac052eb",
   "metadata": {},
   "outputs": [],
   "source": [
    "for line in open('writing_file.txt', 'r'):\n",
    "    print(line.strip())"
   ]
  },
  {
   "cell_type": "code",
   "execution_count": null,
   "id": "1a73f95a",
   "metadata": {},
   "outputs": [],
   "source": [
    "# Datei im 'append' Modus öffnen - Geschriebenes wird an bestehenden Inhalt angehangen!\n",
    "with open('writing_file.txt', 'a') as outfile:\n",
    "    outfile.writelines(data[2])"
   ]
  },
  {
   "cell_type": "code",
   "execution_count": null,
   "id": "fc0198d6",
   "metadata": {},
   "outputs": [],
   "source": []
  }
 ],
 "metadata": {
  "kernelspec": {
   "display_name": "Python 3 (ipykernel)",
   "language": "python",
   "name": "python3"
  },
  "language_info": {
   "codemirror_mode": {
    "name": "ipython",
    "version": 3
   },
   "file_extension": ".py",
   "mimetype": "text/x-python",
   "name": "python",
   "nbconvert_exporter": "python",
   "pygments_lexer": "ipython3",
   "version": "3.8.18"
  }
 },
 "nbformat": 4,
 "nbformat_minor": 5
}
