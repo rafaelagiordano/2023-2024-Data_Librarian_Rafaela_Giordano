{
 "cells": [
  {
   "cell_type": "code",
   "execution_count": 7,
   "id": "fdb21097-4968-459b-a130-38caf6cfe43f",
   "metadata": {},
   "outputs": [],
   "source": [
    "import pandas as pd"
   ]
  },
  {
   "cell_type": "markdown",
   "id": "1b8a01a1-6fa6-4df4-998e-2b614fe91362",
   "metadata": {},
   "source": [
    "## **Series Objekte** ##"
   ]
  },
  {
   "cell_type": "markdown",
   "id": "3cbaab1b-706e-4d6e-b54d-0c260f66f25a",
   "metadata": {},
   "source": [
    "**Exemplos com listas []**\n"
   ]
  },
  {
   "cell_type": "code",
   "execution_count": 8,
   "id": "4b1b5c74-fd8b-4767-aff2-16f9e318df6b",
   "metadata": {},
   "outputs": [],
   "source": [
    "list_of_strings = [\"valor 1\", \"Valor 2\", \"Valor 3\", \"Valor 4\"]\n",
    "list_of_integers = [23, 13, 67, 34]"
   ]
  },
  {
   "cell_type": "code",
   "execution_count": 10,
   "id": "31a1be67-ccc9-4344-abee-e723ceb084f3",
   "metadata": {},
   "outputs": [],
   "source": [
    "series_of_strings = pd.Series(list_of_strings)"
   ]
  },
  {
   "cell_type": "code",
   "execution_count": 14,
   "id": "4b4a6aee-7d86-49eb-b260-47a9d5c13faa",
   "metadata": {},
   "outputs": [
    {
     "data": {
      "text/plain": [
       "0    valor 1\n",
       "1    Valor 2\n",
       "2    Valor 3\n",
       "3    Valor 4\n",
       "dtype: object"
      ]
     },
     "execution_count": 14,
     "metadata": {},
     "output_type": "execute_result"
    }
   ],
   "source": [
    "series_of_strings"
   ]
  },
  {
   "cell_type": "code",
   "execution_count": 13,
   "id": "cb489c66-1f84-4e5f-9bb7-fbf69aa73bfa",
   "metadata": {},
   "outputs": [
    {
     "name": "stdout",
     "output_type": "stream",
     "text": [
      "0    valor 1\n",
      "1    Valor 2\n",
      "2    Valor 3\n",
      "3    Valor 4\n",
      "dtype: object\n"
     ]
    }
   ],
   "source": [
    "print(series_of_strings)"
   ]
  },
  {
   "cell_type": "code",
   "execution_count": 15,
   "id": "1397883d-5e87-4596-81d0-c2d64dbcb700",
   "metadata": {},
   "outputs": [],
   "source": [
    "labeled_series = pd.Series(list_of_integers, index= list_of_strings)"
   ]
  },
  {
   "cell_type": "code",
   "execution_count": 16,
   "id": "60741cb6-af38-48fb-98e8-424056698e5c",
   "metadata": {},
   "outputs": [
    {
     "data": {
      "text/plain": [
       "valor 1    23\n",
       "Valor 2    13\n",
       "Valor 3    67\n",
       "Valor 4    34\n",
       "dtype: int64"
      ]
     },
     "execution_count": 16,
     "metadata": {},
     "output_type": "execute_result"
    }
   ],
   "source": [
    "labeled_series"
   ]
  },
  {
   "cell_type": "code",
   "execution_count": 17,
   "id": "d495a7c5-0c88-42ee-bce1-a84b47a0c28e",
   "metadata": {},
   "outputs": [
    {
     "name": "stdout",
     "output_type": "stream",
     "text": [
      "valor 1    23\n",
      "Valor 2    13\n",
      "Valor 3    67\n",
      "Valor 4    34\n",
      "dtype: int64\n"
     ]
    }
   ],
   "source": [
    "print(labeled_series)"
   ]
  },
  {
   "cell_type": "markdown",
   "id": "0de15e47-c20e-4530-a0d2-dcc5b0311fa6",
   "metadata": {},
   "source": [
    "**Exemplo com dictionaries {}**"
   ]
  },
  {
   "cell_type": "code",
   "execution_count": 23,
   "id": "613c516d-ea8b-4e9e-9e5a-0c6c5336a468",
   "metadata": {},
   "outputs": [
    {
     "name": "stdout",
     "output_type": "stream",
     "text": [
      "Dia 1    120\n",
      "Dia 2    330\n",
      "Dia 3    250\n",
      "Dia 4    270\n",
      "dtype: int64\n"
     ]
    }
   ],
   "source": [
    "vendedor = {\"Dia 1\": 120, \"Dia 2\": 330, \"Dia 3\": 250, \"Dia 4\": 270}\n",
    "\n",
    "series_vendedor = pd.Series(vendedor)\n",
    "\n",
    "print(series_vendedor)"
   ]
  },
  {
   "cell_type": "code",
   "execution_count": 24,
   "id": "5455a094-d46f-4be8-9df4-ae47878c9e61",
   "metadata": {},
   "outputs": [
    {
     "data": {
      "text/plain": [
       "270"
      ]
     },
     "execution_count": 24,
     "metadata": {},
     "output_type": "execute_result"
    }
   ],
   "source": [
    "series_vendedor[\"Dia 4\"]"
   ]
  },
  {
   "cell_type": "code",
   "execution_count": 25,
   "id": "96e3e080-6e40-4d6a-af86-80c5130a15cd",
   "metadata": {},
   "outputs": [
    {
     "data": {
      "text/plain": [
       "270"
      ]
     },
     "execution_count": 25,
     "metadata": {},
     "output_type": "execute_result"
    }
   ],
   "source": [
    "series_vendedor[3]"
   ]
  },
  {
   "cell_type": "code",
   "execution_count": 26,
   "id": "18693593-d74f-47b4-a200-7de2194798b5",
   "metadata": {},
   "outputs": [
    {
     "data": {
      "text/plain": [
       "[120, 330, 250, 270]"
      ]
     },
     "execution_count": 26,
     "metadata": {},
     "output_type": "execute_result"
    }
   ],
   "source": [
    "series_vendedor.to_list()"
   ]
  },
  {
   "cell_type": "markdown",
   "id": "b4df0ac9-a5ca-49d5-92e8-aa647ae9517e",
   "metadata": {},
   "source": [
    "## **Json-Datei** ##"
   ]
  },
  {
   "cell_type": "code",
   "execution_count": 28,
   "id": "04dab745-c771-49ab-8585-e9006fef2eb3",
   "metadata": {},
   "outputs": [
    {
     "data": {
      "text/html": [
       "<div>\n",
       "<style scoped>\n",
       "    .dataframe tbody tr th:only-of-type {\n",
       "        vertical-align: middle;\n",
       "    }\n",
       "\n",
       "    .dataframe tbody tr th {\n",
       "        vertical-align: top;\n",
       "    }\n",
       "\n",
       "    .dataframe thead th {\n",
       "        text-align: right;\n",
       "    }\n",
       "</style>\n",
       "<table border=\"1\" class=\"dataframe\">\n",
       "  <thead>\n",
       "    <tr style=\"text-align: right;\">\n",
       "      <th></th>\n",
       "      <th>_id</th>\n",
       "      <th>bestsellers_date</th>\n",
       "      <th>published_date</th>\n",
       "      <th>amazon_product_url</th>\n",
       "      <th>author</th>\n",
       "      <th>description</th>\n",
       "      <th>price</th>\n",
       "      <th>publisher</th>\n",
       "      <th>title</th>\n",
       "      <th>rank</th>\n",
       "      <th>rank_last_week</th>\n",
       "      <th>weeks_on_list</th>\n",
       "    </tr>\n",
       "  </thead>\n",
       "  <tbody>\n",
       "    <tr>\n",
       "      <th>0</th>\n",
       "      <td>{'$oid': '5b4aa4ead3089013507db18b'}</td>\n",
       "      <td>{'$date': {'$numberLong': '1211587200000'}}</td>\n",
       "      <td>{'$date': {'$numberLong': '1212883200000'}}</td>\n",
       "      <td>http://www.amazon.com/Odd-Hours-Dean-Koontz/dp...</td>\n",
       "      <td>Dean R Koontz</td>\n",
       "      <td>Odd Thomas, who can communicate with the dead,...</td>\n",
       "      <td>{'$numberInt': '27'}</td>\n",
       "      <td>Bantam</td>\n",
       "      <td>ODD HOURS</td>\n",
       "      <td>{'$numberInt': '1'}</td>\n",
       "      <td>{'$numberInt': '0'}</td>\n",
       "      <td>{'$numberInt': '1'}</td>\n",
       "    </tr>\n",
       "    <tr>\n",
       "      <th>1</th>\n",
       "      <td>{'$oid': '5b4aa4ead3089013507db18c'}</td>\n",
       "      <td>{'$date': {'$numberLong': '1211587200000'}}</td>\n",
       "      <td>{'$date': {'$numberLong': '1212883200000'}}</td>\n",
       "      <td>http://www.amazon.com/The-Host-Novel-Stephenie...</td>\n",
       "      <td>Stephenie Meyer</td>\n",
       "      <td>Aliens have taken control of the minds and bod...</td>\n",
       "      <td>{'$numberDouble': '25.99'}</td>\n",
       "      <td>Little, Brown</td>\n",
       "      <td>THE HOST</td>\n",
       "      <td>{'$numberInt': '2'}</td>\n",
       "      <td>{'$numberInt': '1'}</td>\n",
       "      <td>{'$numberInt': '3'}</td>\n",
       "    </tr>\n",
       "    <tr>\n",
       "      <th>2</th>\n",
       "      <td>{'$oid': '5b4aa4ead3089013507db18d'}</td>\n",
       "      <td>{'$date': {'$numberLong': '1211587200000'}}</td>\n",
       "      <td>{'$date': {'$numberLong': '1212883200000'}}</td>\n",
       "      <td>http://www.amazon.com/Love-Youre-With-Emily-Gi...</td>\n",
       "      <td>Emily Giffin</td>\n",
       "      <td>A woman's happy marriage is shaken when she en...</td>\n",
       "      <td>{'$numberDouble': '24.95'}</td>\n",
       "      <td>St. Martin's</td>\n",
       "      <td>LOVE THE ONE YOU'RE WITH</td>\n",
       "      <td>{'$numberInt': '3'}</td>\n",
       "      <td>{'$numberInt': '2'}</td>\n",
       "      <td>{'$numberInt': '2'}</td>\n",
       "    </tr>\n",
       "    <tr>\n",
       "      <th>3</th>\n",
       "      <td>{'$oid': '5b4aa4ead3089013507db18e'}</td>\n",
       "      <td>{'$date': {'$numberLong': '1211587200000'}}</td>\n",
       "      <td>{'$date': {'$numberLong': '1212883200000'}}</td>\n",
       "      <td>http://www.amazon.com/The-Front-Garano-Patrici...</td>\n",
       "      <td>Patricia Cornwell</td>\n",
       "      <td>A Massachusetts state investigator and his tea...</td>\n",
       "      <td>{'$numberDouble': '22.95'}</td>\n",
       "      <td>Putnam</td>\n",
       "      <td>THE FRONT</td>\n",
       "      <td>{'$numberInt': '4'}</td>\n",
       "      <td>{'$numberInt': '0'}</td>\n",
       "      <td>{'$numberInt': '1'}</td>\n",
       "    </tr>\n",
       "    <tr>\n",
       "      <th>4</th>\n",
       "      <td>{'$oid': '5b4aa4ead3089013507db18f'}</td>\n",
       "      <td>{'$date': {'$numberLong': '1211587200000'}}</td>\n",
       "      <td>{'$date': {'$numberLong': '1212883200000'}}</td>\n",
       "      <td>http://www.amazon.com/Snuff-Chuck-Palahniuk/dp...</td>\n",
       "      <td>Chuck Palahniuk</td>\n",
       "      <td>An aging porn queens aims to cap her career by...</td>\n",
       "      <td>{'$numberDouble': '24.95'}</td>\n",
       "      <td>Doubleday</td>\n",
       "      <td>SNUFF</td>\n",
       "      <td>{'$numberInt': '5'}</td>\n",
       "      <td>{'$numberInt': '0'}</td>\n",
       "      <td>{'$numberInt': '1'}</td>\n",
       "    </tr>\n",
       "    <tr>\n",
       "      <th>...</th>\n",
       "      <td>...</td>\n",
       "      <td>...</td>\n",
       "      <td>...</td>\n",
       "      <td>...</td>\n",
       "      <td>...</td>\n",
       "      <td>...</td>\n",
       "      <td>...</td>\n",
       "      <td>...</td>\n",
       "      <td>...</td>\n",
       "      <td>...</td>\n",
       "      <td>...</td>\n",
       "      <td>...</td>\n",
       "    </tr>\n",
       "    <tr>\n",
       "      <th>95</th>\n",
       "      <td>{'$oid': '5b4aa4ead3089013507db1ea'}</td>\n",
       "      <td>{'$date': {'$numberLong': '1214006400000'}}</td>\n",
       "      <td>{'$date': {'$numberLong': '1215302400000'}}</td>\n",
       "      <td>http://www.amazon.com/Blood-Anita-Blake-Vampir...</td>\n",
       "      <td>Laurell K Hamilton</td>\n",
       "      <td>The vampire hunter Anita Blake is involved in ...</td>\n",
       "      <td>{'$numberDouble': '25.95'}</td>\n",
       "      <td>Berkley</td>\n",
       "      <td>BLOOD NOIR</td>\n",
       "      <td>{'$numberInt': '16'}</td>\n",
       "      <td>{'$numberInt': '12'}</td>\n",
       "      <td>{'$numberInt': '4'}</td>\n",
       "    </tr>\n",
       "    <tr>\n",
       "      <th>96</th>\n",
       "      <td>{'$oid': '5b4aa4ead3089013507db1eb'}</td>\n",
       "      <td>{'$date': {'$numberLong': '1214006400000'}}</td>\n",
       "      <td>{'$date': {'$numberLong': '1215302400000'}}</td>\n",
       "      <td>http://www.amazon.com/Snuff-Chuck-Palahniuk/dp...</td>\n",
       "      <td>Chuck Palahniuk</td>\n",
       "      <td>An aging porn queens aims to cap her career by...</td>\n",
       "      <td>{'$numberInt': '0'}</td>\n",
       "      <td>Doubleday</td>\n",
       "      <td>SNUFF</td>\n",
       "      <td>{'$numberInt': '17'}</td>\n",
       "      <td>{'$numberInt': '0'}</td>\n",
       "      <td>{'$numberInt': '0'}</td>\n",
       "    </tr>\n",
       "    <tr>\n",
       "      <th>97</th>\n",
       "      <td>{'$oid': '5b4aa4ead3089013507db1ec'}</td>\n",
       "      <td>{'$date': {'$numberLong': '1214006400000'}}</td>\n",
       "      <td>{'$date': {'$numberLong': '1215302400000'}}</td>\n",
       "      <td>http://www.amazon.com/Death-Honor-Bound-Book/d...</td>\n",
       "      <td>W E B Griffin and William E Butterworth IV</td>\n",
       "      <td>A Marine pilot spies in  Argentina in 1943; th...</td>\n",
       "      <td>{'$numberInt': '0'}</td>\n",
       "      <td>Putnam</td>\n",
       "      <td>DEATH AND HONOR</td>\n",
       "      <td>{'$numberInt': '18'}</td>\n",
       "      <td>{'$numberInt': '0'}</td>\n",
       "      <td>{'$numberInt': '0'}</td>\n",
       "    </tr>\n",
       "    <tr>\n",
       "      <th>98</th>\n",
       "      <td>{'$oid': '5b4aa4ead3089013507db1ed'}</td>\n",
       "      <td>{'$date': {'$numberLong': '1214006400000'}}</td>\n",
       "      <td>{'$date': {'$numberLong': '1215302400000'}}</td>\n",
       "      <td>http://www.amazon.com/The-Spies-Warsaw-A-Novel...</td>\n",
       "      <td>Alan Furst</td>\n",
       "      <td>Intrigue in Poland just before World War II.</td>\n",
       "      <td>{'$numberInt': '0'}</td>\n",
       "      <td>Random House</td>\n",
       "      <td>THE SPIES OF WARSAW</td>\n",
       "      <td>{'$numberInt': '19'}</td>\n",
       "      <td>{'$numberInt': '0'}</td>\n",
       "      <td>{'$numberInt': '0'}</td>\n",
       "    </tr>\n",
       "    <tr>\n",
       "      <th>99</th>\n",
       "      <td>{'$oid': '5b4aa4ead3089013507db1ee'}</td>\n",
       "      <td>{'$date': {'$numberLong': '1214006400000'}}</td>\n",
       "      <td>{'$date': {'$numberLong': '1215302400000'}}</td>\n",
       "      <td>http://www.amazon.com/Phantom-Prey-John-Sandfo...</td>\n",
       "      <td>John Sandford</td>\n",
       "      <td>The Minneapolis detective Lucas Davenport inve...</td>\n",
       "      <td>{'$numberInt': '0'}</td>\n",
       "      <td>Putnam</td>\n",
       "      <td>PHANTOM PREY</td>\n",
       "      <td>{'$numberInt': '20'}</td>\n",
       "      <td>{'$numberInt': '0'}</td>\n",
       "      <td>{'$numberInt': '0'}</td>\n",
       "    </tr>\n",
       "  </tbody>\n",
       "</table>\n",
       "<p>100 rows × 12 columns</p>\n",
       "</div>"
      ],
      "text/plain": [
       "                                     _id  \\\n",
       "0   {'$oid': '5b4aa4ead3089013507db18b'}   \n",
       "1   {'$oid': '5b4aa4ead3089013507db18c'}   \n",
       "2   {'$oid': '5b4aa4ead3089013507db18d'}   \n",
       "3   {'$oid': '5b4aa4ead3089013507db18e'}   \n",
       "4   {'$oid': '5b4aa4ead3089013507db18f'}   \n",
       "..                                   ...   \n",
       "95  {'$oid': '5b4aa4ead3089013507db1ea'}   \n",
       "96  {'$oid': '5b4aa4ead3089013507db1eb'}   \n",
       "97  {'$oid': '5b4aa4ead3089013507db1ec'}   \n",
       "98  {'$oid': '5b4aa4ead3089013507db1ed'}   \n",
       "99  {'$oid': '5b4aa4ead3089013507db1ee'}   \n",
       "\n",
       "                               bestsellers_date  \\\n",
       "0   {'$date': {'$numberLong': '1211587200000'}}   \n",
       "1   {'$date': {'$numberLong': '1211587200000'}}   \n",
       "2   {'$date': {'$numberLong': '1211587200000'}}   \n",
       "3   {'$date': {'$numberLong': '1211587200000'}}   \n",
       "4   {'$date': {'$numberLong': '1211587200000'}}   \n",
       "..                                          ...   \n",
       "95  {'$date': {'$numberLong': '1214006400000'}}   \n",
       "96  {'$date': {'$numberLong': '1214006400000'}}   \n",
       "97  {'$date': {'$numberLong': '1214006400000'}}   \n",
       "98  {'$date': {'$numberLong': '1214006400000'}}   \n",
       "99  {'$date': {'$numberLong': '1214006400000'}}   \n",
       "\n",
       "                                 published_date  \\\n",
       "0   {'$date': {'$numberLong': '1212883200000'}}   \n",
       "1   {'$date': {'$numberLong': '1212883200000'}}   \n",
       "2   {'$date': {'$numberLong': '1212883200000'}}   \n",
       "3   {'$date': {'$numberLong': '1212883200000'}}   \n",
       "4   {'$date': {'$numberLong': '1212883200000'}}   \n",
       "..                                          ...   \n",
       "95  {'$date': {'$numberLong': '1215302400000'}}   \n",
       "96  {'$date': {'$numberLong': '1215302400000'}}   \n",
       "97  {'$date': {'$numberLong': '1215302400000'}}   \n",
       "98  {'$date': {'$numberLong': '1215302400000'}}   \n",
       "99  {'$date': {'$numberLong': '1215302400000'}}   \n",
       "\n",
       "                                   amazon_product_url  \\\n",
       "0   http://www.amazon.com/Odd-Hours-Dean-Koontz/dp...   \n",
       "1   http://www.amazon.com/The-Host-Novel-Stephenie...   \n",
       "2   http://www.amazon.com/Love-Youre-With-Emily-Gi...   \n",
       "3   http://www.amazon.com/The-Front-Garano-Patrici...   \n",
       "4   http://www.amazon.com/Snuff-Chuck-Palahniuk/dp...   \n",
       "..                                                ...   \n",
       "95  http://www.amazon.com/Blood-Anita-Blake-Vampir...   \n",
       "96  http://www.amazon.com/Snuff-Chuck-Palahniuk/dp...   \n",
       "97  http://www.amazon.com/Death-Honor-Bound-Book/d...   \n",
       "98  http://www.amazon.com/The-Spies-Warsaw-A-Novel...   \n",
       "99  http://www.amazon.com/Phantom-Prey-John-Sandfo...   \n",
       "\n",
       "                                        author  \\\n",
       "0                                Dean R Koontz   \n",
       "1                              Stephenie Meyer   \n",
       "2                                 Emily Giffin   \n",
       "3                            Patricia Cornwell   \n",
       "4                              Chuck Palahniuk   \n",
       "..                                         ...   \n",
       "95                          Laurell K Hamilton   \n",
       "96                             Chuck Palahniuk   \n",
       "97  W E B Griffin and William E Butterworth IV   \n",
       "98                                  Alan Furst   \n",
       "99                               John Sandford   \n",
       "\n",
       "                                          description  \\\n",
       "0   Odd Thomas, who can communicate with the dead,...   \n",
       "1   Aliens have taken control of the minds and bod...   \n",
       "2   A woman's happy marriage is shaken when she en...   \n",
       "3   A Massachusetts state investigator and his tea...   \n",
       "4   An aging porn queens aims to cap her career by...   \n",
       "..                                                ...   \n",
       "95  The vampire hunter Anita Blake is involved in ...   \n",
       "96  An aging porn queens aims to cap her career by...   \n",
       "97  A Marine pilot spies in  Argentina in 1943; th...   \n",
       "98       Intrigue in Poland just before World War II.   \n",
       "99  The Minneapolis detective Lucas Davenport inve...   \n",
       "\n",
       "                         price      publisher                     title  \\\n",
       "0         {'$numberInt': '27'}         Bantam                 ODD HOURS   \n",
       "1   {'$numberDouble': '25.99'}  Little, Brown                  THE HOST   \n",
       "2   {'$numberDouble': '24.95'}   St. Martin's  LOVE THE ONE YOU'RE WITH   \n",
       "3   {'$numberDouble': '22.95'}         Putnam                 THE FRONT   \n",
       "4   {'$numberDouble': '24.95'}      Doubleday                     SNUFF   \n",
       "..                         ...            ...                       ...   \n",
       "95  {'$numberDouble': '25.95'}        Berkley                BLOOD NOIR   \n",
       "96         {'$numberInt': '0'}      Doubleday                     SNUFF   \n",
       "97         {'$numberInt': '0'}         Putnam           DEATH AND HONOR   \n",
       "98         {'$numberInt': '0'}   Random House       THE SPIES OF WARSAW   \n",
       "99         {'$numberInt': '0'}         Putnam              PHANTOM PREY   \n",
       "\n",
       "                    rank        rank_last_week        weeks_on_list  \n",
       "0    {'$numberInt': '1'}   {'$numberInt': '0'}  {'$numberInt': '1'}  \n",
       "1    {'$numberInt': '2'}   {'$numberInt': '1'}  {'$numberInt': '3'}  \n",
       "2    {'$numberInt': '3'}   {'$numberInt': '2'}  {'$numberInt': '2'}  \n",
       "3    {'$numberInt': '4'}   {'$numberInt': '0'}  {'$numberInt': '1'}  \n",
       "4    {'$numberInt': '5'}   {'$numberInt': '0'}  {'$numberInt': '1'}  \n",
       "..                   ...                   ...                  ...  \n",
       "95  {'$numberInt': '16'}  {'$numberInt': '12'}  {'$numberInt': '4'}  \n",
       "96  {'$numberInt': '17'}   {'$numberInt': '0'}  {'$numberInt': '0'}  \n",
       "97  {'$numberInt': '18'}   {'$numberInt': '0'}  {'$numberInt': '0'}  \n",
       "98  {'$numberInt': '19'}   {'$numberInt': '0'}  {'$numberInt': '0'}  \n",
       "99  {'$numberInt': '20'}   {'$numberInt': '0'}  {'$numberInt': '0'}  \n",
       "\n",
       "[100 rows x 12 columns]"
      ]
     },
     "execution_count": 28,
     "metadata": {},
     "output_type": "execute_result"
    }
   ],
   "source": [
    "# Einlesen einer JSON Datei\n",
    "df_nyt = pd.read_json(\"data/nyt_bestseller.json\")\n",
    "df_nyt"
   ]
  },
  {
   "cell_type": "code",
   "execution_count": 30,
   "id": "1d66ad8e-ce86-41c5-884a-7d9959a2f318",
   "metadata": {},
   "outputs": [
    {
     "name": "stdout",
     "output_type": "stream",
     "text": [
      "<class 'pandas.core.frame.DataFrame'>\n",
      "RangeIndex: 100 entries, 0 to 99\n",
      "Data columns (total 12 columns):\n",
      " #   Column              Non-Null Count  Dtype \n",
      "---  ------              --------------  ----- \n",
      " 0   _id                 100 non-null    object\n",
      " 1   bestsellers_date    100 non-null    object\n",
      " 2   published_date      100 non-null    object\n",
      " 3   amazon_product_url  100 non-null    object\n",
      " 4   author              100 non-null    object\n",
      " 5   description         100 non-null    object\n",
      " 6   price               100 non-null    object\n",
      " 7   publisher           100 non-null    object\n",
      " 8   title               100 non-null    object\n",
      " 9   rank                100 non-null    object\n",
      " 10  rank_last_week      100 non-null    object\n",
      " 11  weeks_on_list       100 non-null    object\n",
      "dtypes: object(12)\n",
      "memory usage: 9.5+ KB\n"
     ]
    }
   ],
   "source": [
    "df_nyt.info()"
   ]
  },
  {
   "cell_type": "code",
   "execution_count": 31,
   "id": "0f58b227-0051-428b-b808-c1076ec7fb51",
   "metadata": {},
   "outputs": [
    {
     "data": {
      "text/plain": [
       "{'$date': {'$numberLong': '1211587200000'}}"
      ]
     },
     "execution_count": 31,
     "metadata": {},
     "output_type": "execute_result"
    }
   ],
   "source": [
    "df_nyt.bestsellers_date[3]"
   ]
  },
  {
   "cell_type": "code",
   "execution_count": 33,
   "id": "81918f28-7d9e-4b70-b04e-13c48d0c2f2d",
   "metadata": {},
   "outputs": [
    {
     "data": {
      "text/plain": [
       "dict"
      ]
     },
     "execution_count": 33,
     "metadata": {},
     "output_type": "execute_result"
    }
   ],
   "source": [
    "type(df_nyt.bestsellers_date[3])"
   ]
  },
  {
   "cell_type": "code",
   "execution_count": null,
   "id": "a342bdc4-25c7-497b-9994-d68c6f745b8b",
   "metadata": {},
   "outputs": [],
   "source": []
  }
 ],
 "metadata": {
  "kernelspec": {
   "display_name": "Python 3 (ipykernel)",
   "language": "python",
   "name": "python3"
  },
  "language_info": {
   "codemirror_mode": {
    "name": "ipython",
    "version": 3
   },
   "file_extension": ".py",
   "mimetype": "text/x-python",
   "name": "python",
   "nbconvert_exporter": "python",
   "pygments_lexer": "ipython3",
   "version": "3.11.5"
  }
 },
 "nbformat": 4,
 "nbformat_minor": 5
}
