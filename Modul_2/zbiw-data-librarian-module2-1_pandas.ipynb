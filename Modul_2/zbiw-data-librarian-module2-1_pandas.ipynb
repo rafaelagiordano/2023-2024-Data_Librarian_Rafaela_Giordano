{
 "cells": [
  {
   "attachments": {},
   "cell_type": "markdown",
   "id": "6f3c3d58-8ca9-4b59-ba66-b0472a8da277",
   "metadata": {},
   "source": [
    "# ZBIW-Zertifikatskurs \"Data Librarian\"\n",
    "# Modul 2.1: Strukturierte Daten und Metadaten – Pandas Tutorial\n",
    "Pandas ist ein flexibles und einfach zu bedienendes Open-Source Werkzeug zur Datenanalyse und -manipulation, das auf der Programmiersprache Python aufbaut.\n",
    "Es vereinfacht das Arbeiten mit tabellarischen Daten, vor allem durch Methoden zum Import und Export einer Reihe von Dateiformaten, Übersichtlichkeit und integrierte Funktionalitäten zur Datenvisualisierung."
   ]
  },
  {
   "attachments": {},
   "cell_type": "markdown",
   "id": "70cbe321-5da3-48f0-8a60-f2d558fff20b",
   "metadata": {
    "tags": []
   },
   "source": [
    "## Import von Pandas"
   ]
  },
  {
   "cell_type": "code",
   "execution_count": 41,
   "id": "0f4e6732-69c7-47f5-88eb-a4d1e5844f1e",
   "metadata": {},
   "outputs": [],
   "source": [
    "# Pandas wird meist unter dem alias \"pd\" importiert\n",
    "import pandas as pd"
   ]
  },
  {
   "cell_type": "code",
   "execution_count": 42,
   "id": "1b6085a6-438c-4256-89e4-b9f56fc1aae2",
   "metadata": {},
   "outputs": [
    {
     "name": "stdout",
     "output_type": "stream",
     "text": [
      "Requirement already satisfied: pandas in /home/rafaela/anaconda3/lib/python3.8/site-packages (2.0.3)\n",
      "Requirement already satisfied: python-dateutil>=2.8.2 in /home/rafaela/anaconda3/lib/python3.8/site-packages (from pandas) (2.8.2)\n",
      "Requirement already satisfied: pytz>=2020.1 in /home/rafaela/anaconda3/lib/python3.8/site-packages (from pandas) (2023.3.post1)\n",
      "Requirement already satisfied: tzdata>=2022.1 in /home/rafaela/anaconda3/lib/python3.8/site-packages (from pandas) (2023.3)\n",
      "Requirement already satisfied: numpy>=1.20.3 in /home/rafaela/anaconda3/lib/python3.8/site-packages (from pandas) (1.24.3)\n",
      "Requirement already satisfied: six>=1.5 in /home/rafaela/anaconda3/lib/python3.8/site-packages (from python-dateutil>=2.8.2->pandas) (1.16.0)\n"
     ]
    }
   ],
   "source": [
    "# Wenn pandas nicht installiert ist, kann es mit pip bzw. conda installiert werden\n",
    "!pip install pandas\n",
    "\n",
    "# Abhängig vom verwendeten Betriebssystem muss pip3 spezifiziert oder eine andere Formulierung genutz werden. \n",
    "# Mehr Informationen zur Installation unter https://pandas.pydata.org/docs/getting_started/install.html. "
   ]
  },
  {
   "attachments": {},
   "cell_type": "markdown",
   "id": "b566216f-6b9e-43d7-b642-527eda1dfefd",
   "metadata": {
    "tags": []
   },
   "source": [
    "## Dateiformate in Pandas – Series und DataFrame Objekte\n",
    "Pandas verfügt über zwei grundlegende Objekttypen. Das erste ist das Series Objekt, das im Grunde wie eine Liste (Eselsbrücke: \"Eine Serie von Einträgen\") mit Indices funktioniert. Ein DataFrame aggregiert eine beliebige Anzahl von Series Objekten zu einer tabellarischen Struktur. Die Series Objekte stellen dabei die Spalten der Tabelle da."
   ]
  },
  {
   "attachments": {},
   "cell_type": "markdown",
   "id": "39451a23-a4ab-4b35-a551-d1393827c684",
   "metadata": {},
   "source": [
    "### Series Objekte"
   ]
  },
  {
   "cell_type": "code",
   "execution_count": 43,
   "id": "d6c063c8-5192-4a39-b49a-45ad451b5863",
   "metadata": {},
   "outputs": [],
   "source": [
    "list_of_strings = [\"Value 1\", \"Value 2\", \"Value 3\", \"Value 4\"]\n",
    "list_of_integers = [1, 3, 6, 7]"
   ]
  },
  {
   "cell_type": "code",
   "execution_count": 44,
   "id": "9261ea9f-64c5-4cc0-8d34-c75fdbf001f9",
   "metadata": {},
   "outputs": [],
   "source": [
    "series_of_strings = pd.Series(list_of_strings)"
   ]
  },
  {
   "cell_type": "code",
   "execution_count": 45,
   "id": "42070c89-a646-4cfc-9ad5-7c0f159d9603",
   "metadata": {},
   "outputs": [
    {
     "name": "stdout",
     "output_type": "stream",
     "text": [
      "0    Value 1\n",
      "1    Value 2\n",
      "2    Value 3\n",
      "3    Value 4\n",
      "dtype: object\n"
     ]
    }
   ],
   "source": [
    "print(series_of_strings)"
   ]
  },
  {
   "attachments": {},
   "cell_type": "markdown",
   "id": "922211b9-f98d-4f8b-a105-a7401acf76a4",
   "metadata": {},
   "source": [
    "Ein Series Objekt kann, im Gegensatz zu einer einfachen Liste, auch labels haben:"
   ]
  },
  {
   "cell_type": "code",
   "execution_count": 46,
   "id": "7b81ca1f-28bc-457e-904e-edcc3b9e2ba6",
   "metadata": {},
   "outputs": [],
   "source": [
    "labeled_series = pd.Series(list_of_integers, index = list_of_strings)"
   ]
  },
  {
   "cell_type": "code",
   "execution_count": 47,
   "id": "5ecf8ab5-e52f-43b9-8f9a-1c77f695b583",
   "metadata": {},
   "outputs": [
    {
     "name": "stdout",
     "output_type": "stream",
     "text": [
      "Value 1    1\n",
      "Value 2    3\n",
      "Value 3    6\n",
      "Value 4    7\n",
      "dtype: int64\n"
     ]
    }
   ],
   "source": [
    "print(labeled_series)"
   ]
  },
  {
   "attachments": {},
   "cell_type": "markdown",
   "id": "b89c1bed-b95a-447b-af41-674b0babece8",
   "metadata": {},
   "source": [
    "Entsprechend kann auch über ein dictionary ein Series Objekt erzeugt werden:"
   ]
  },
  {
   "cell_type": "code",
   "execution_count": 48,
   "id": "5a5ba7b6-9fd6-42f0-b024-97253d04bcda",
   "metadata": {},
   "outputs": [
    {
     "name": "stdout",
     "output_type": "stream",
     "text": [
      "Tag 1    120\n",
      "Tag 2    330\n",
      "Tag 3    250\n",
      "Tag 4    270\n",
      "dtype: int64\n"
     ]
    }
   ],
   "source": [
    "verkaeufe = {\"Tag 1\": 120, \"Tag 2\": 330, \"Tag 3\": 250, \"Tag 4\": 270}\n",
    "\n",
    "series_verkäufe = pd.Series(verkaeufe)\n",
    "\n",
    "print(series_verkäufe)"
   ]
  },
  {
   "cell_type": "code",
   "execution_count": 49,
   "id": "059305df-84c9-4223-a347-aa05451733ab",
   "metadata": {},
   "outputs": [
    {
     "data": {
      "text/plain": [
       "330"
      ]
     },
     "execution_count": 49,
     "metadata": {},
     "output_type": "execute_result"
    }
   ],
   "source": [
    "# Zugriff auf Values über index Name\n",
    "series_verkäufe[\"Tag 2\"]"
   ]
  },
  {
   "cell_type": "code",
   "execution_count": 50,
   "id": "103cac20-7ef1-47aa-b0a3-6bacfdc45e79",
   "metadata": {},
   "outputs": [
    {
     "data": {
      "text/plain": [
       "330"
      ]
     },
     "execution_count": 50,
     "metadata": {},
     "output_type": "execute_result"
    }
   ],
   "source": [
    "# Zugriff auf Values über index Position\n",
    "series_verkäufe[1]"
   ]
  },
  {
   "cell_type": "code",
   "execution_count": 51,
   "id": "9d7fcde0-58c8-42ae-8d52-e0b85572fbc7",
   "metadata": {},
   "outputs": [
    {
     "ename": "KeyError",
     "evalue": "1",
     "output_type": "error",
     "traceback": [
      "\u001b[0;31m---------------------------------------------------------------------------\u001b[0m",
      "\u001b[0;31mKeyError\u001b[0m                                  Traceback (most recent call last)",
      "Cell \u001b[0;32mIn[51], line 2\u001b[0m\n\u001b[1;32m      1\u001b[0m \u001b[38;5;66;03m# Unterschied zu Dictionary: Ordered List\u001b[39;00m\n\u001b[0;32m----> 2\u001b[0m \u001b[43mverkaeufe\u001b[49m\u001b[43m[\u001b[49m\u001b[38;5;241;43m1\u001b[39;49m\u001b[43m]\u001b[49m\n",
      "\u001b[0;31mKeyError\u001b[0m: 1"
     ]
    }
   ],
   "source": [
    "# Unterschied zu Dictionary: Ordered List\n",
    "verkaeufe[1]"
   ]
  },
  {
   "attachments": {},
   "cell_type": "markdown",
   "id": "03cd1545-9351-4db0-aaf1-c5a822d264d8",
   "metadata": {},
   "source": [
    "Auf die Werte eines Series Objektes kann auf verschiedene Weisen zugegriffen werden:"
   ]
  },
  {
   "cell_type": "code",
   "execution_count": 52,
   "id": "d75d09cf-0cb1-4d8e-bb1a-31ccccc2b15e",
   "metadata": {},
   "outputs": [
    {
     "data": {
      "text/plain": [
       "[120, 330, 250, 270]"
      ]
     },
     "execution_count": 52,
     "metadata": {},
     "output_type": "execute_result"
    }
   ],
   "source": [
    "# die \"to_list()\" Funktion liefert die Elemente eines Series Objektes als Liste:\n",
    "series_verkäufe.to_list()"
   ]
  },
  {
   "cell_type": "code",
   "execution_count": 53,
   "id": "302ac528-4f5b-436f-a0d5-99f02fbb2f51",
   "metadata": {},
   "outputs": [
    {
     "name": "stdout",
     "output_type": "stream",
     "text": [
      "120\n",
      "330\n",
      "250\n",
      "270\n"
     ]
    }
   ],
   "source": [
    "# Series Objekte sind iterierbar\n",
    "for value in series_verkäufe:\n",
    "    print(value)"
   ]
  },
  {
   "attachments": {},
   "cell_type": "markdown",
   "id": "e5867572-eae7-4c4c-b2b5-1e3d91226794",
   "metadata": {},
   "source": [
    "### DataFrame Objekte \n",
    "\n",
    "#### Erstellung aus Listen"
   ]
  },
  {
   "cell_type": "code",
   "execution_count": 54,
   "id": "ae2d35c3-1034-4c3f-9c69-62a63a0f6c4b",
   "metadata": {},
   "outputs": [
    {
     "data": {
      "text/html": [
       "<div>\n",
       "<style scoped>\n",
       "    .dataframe tbody tr th:only-of-type {\n",
       "        vertical-align: middle;\n",
       "    }\n",
       "\n",
       "    .dataframe tbody tr th {\n",
       "        vertical-align: top;\n",
       "    }\n",
       "\n",
       "    .dataframe thead th {\n",
       "        text-align: right;\n",
       "    }\n",
       "</style>\n",
       "<table border=\"1\" class=\"dataframe\">\n",
       "  <thead>\n",
       "    <tr style=\"text-align: right;\">\n",
       "      <th></th>\n",
       "      <th>list1</th>\n",
       "      <th>list2</th>\n",
       "    </tr>\n",
       "  </thead>\n",
       "  <tbody>\n",
       "    <tr>\n",
       "      <th>0</th>\n",
       "      <td>420</td>\n",
       "      <td>50</td>\n",
       "    </tr>\n",
       "    <tr>\n",
       "      <th>1</th>\n",
       "      <td>380</td>\n",
       "      <td>40</td>\n",
       "    </tr>\n",
       "    <tr>\n",
       "      <th>2</th>\n",
       "      <td>390</td>\n",
       "      <td>45</td>\n",
       "    </tr>\n",
       "  </tbody>\n",
       "</table>\n",
       "</div>"
      ],
      "text/plain": [
       "   list1  list2\n",
       "0    420     50\n",
       "1    380     40\n",
       "2    390     45"
      ]
     },
     "execution_count": 54,
     "metadata": {},
     "output_type": "execute_result"
    }
   ],
   "source": [
    "data1 = {\n",
    "  \"list1\": [420, 380, 390],\n",
    "  \"list2\": [50, 40, 45]\n",
    "}\n",
    "\n",
    "df_1 = pd.DataFrame(data1)\n",
    "\n",
    "\n",
    "df_1"
   ]
  },
  {
   "attachments": {},
   "cell_type": "markdown",
   "id": "95a446c1-b678-431e-94c1-4d49a72cbfc0",
   "metadata": {},
   "source": [
    "Listen müssen die selbe Länge haben! (Arrays sind eine besondere Form von Listen, die das NumPy Modul nutzt, das von Pandas genutzt wird)"
   ]
  },
  {
   "cell_type": "code",
   "execution_count": 55,
   "id": "d795d08a-69a7-4063-b88c-a29743bf719a",
   "metadata": {},
   "outputs": [
    {
     "ename": "ValueError",
     "evalue": "All arrays must be of the same length",
     "output_type": "error",
     "traceback": [
      "\u001b[0;31m---------------------------------------------------------------------------\u001b[0m",
      "\u001b[0;31mValueError\u001b[0m                                Traceback (most recent call last)",
      "Cell \u001b[0;32mIn[55], line 7\u001b[0m\n\u001b[1;32m      1\u001b[0m data2 \u001b[38;5;241m=\u001b[39m {\n\u001b[1;32m      2\u001b[0m   \u001b[38;5;124m\"\u001b[39m\u001b[38;5;124mlist1\u001b[39m\u001b[38;5;124m\"\u001b[39m: [\u001b[38;5;241m420\u001b[39m, \u001b[38;5;241m380\u001b[39m, \u001b[38;5;241m390\u001b[39m],\n\u001b[1;32m      3\u001b[0m   \u001b[38;5;124m\"\u001b[39m\u001b[38;5;124mlist2\u001b[39m\u001b[38;5;124m\"\u001b[39m: [\u001b[38;5;241m50\u001b[39m, \u001b[38;5;241m40\u001b[39m, \u001b[38;5;241m45\u001b[39m],\n\u001b[1;32m      4\u001b[0m   \u001b[38;5;124m\"\u001b[39m\u001b[38;5;124mlist3\u001b[39m\u001b[38;5;124m\"\u001b[39m: [\u001b[38;5;241m1\u001b[39m, \u001b[38;5;241m2\u001b[39m, \u001b[38;5;241m3\u001b[39m, \u001b[38;5;241m4\u001b[39m, \u001b[38;5;241m5\u001b[39m , \u001b[38;5;241m6\u001b[39m, \u001b[38;5;241m7\u001b[39m]\n\u001b[1;32m      5\u001b[0m }\n\u001b[0;32m----> 7\u001b[0m df_2 \u001b[38;5;241m=\u001b[39m \u001b[43mpd\u001b[49m\u001b[38;5;241;43m.\u001b[39;49m\u001b[43mDataFrame\u001b[49m\u001b[43m(\u001b[49m\u001b[43mdata2\u001b[49m\u001b[43m)\u001b[49m\n\u001b[1;32m     10\u001b[0m df_2\n",
      "File \u001b[0;32m~/anaconda3/lib/python3.8/site-packages/pandas/core/frame.py:709\u001b[0m, in \u001b[0;36mDataFrame.__init__\u001b[0;34m(self, data, index, columns, dtype, copy)\u001b[0m\n\u001b[1;32m    703\u001b[0m     mgr \u001b[38;5;241m=\u001b[39m \u001b[38;5;28mself\u001b[39m\u001b[38;5;241m.\u001b[39m_init_mgr(\n\u001b[1;32m    704\u001b[0m         data, axes\u001b[38;5;241m=\u001b[39m{\u001b[38;5;124m\"\u001b[39m\u001b[38;5;124mindex\u001b[39m\u001b[38;5;124m\"\u001b[39m: index, \u001b[38;5;124m\"\u001b[39m\u001b[38;5;124mcolumns\u001b[39m\u001b[38;5;124m\"\u001b[39m: columns}, dtype\u001b[38;5;241m=\u001b[39mdtype, copy\u001b[38;5;241m=\u001b[39mcopy\n\u001b[1;32m    705\u001b[0m     )\n\u001b[1;32m    707\u001b[0m \u001b[38;5;28;01melif\u001b[39;00m \u001b[38;5;28misinstance\u001b[39m(data, \u001b[38;5;28mdict\u001b[39m):\n\u001b[1;32m    708\u001b[0m     \u001b[38;5;66;03m# GH#38939 de facto copy defaults to False only in non-dict cases\u001b[39;00m\n\u001b[0;32m--> 709\u001b[0m     mgr \u001b[38;5;241m=\u001b[39m \u001b[43mdict_to_mgr\u001b[49m\u001b[43m(\u001b[49m\u001b[43mdata\u001b[49m\u001b[43m,\u001b[49m\u001b[43m \u001b[49m\u001b[43mindex\u001b[49m\u001b[43m,\u001b[49m\u001b[43m \u001b[49m\u001b[43mcolumns\u001b[49m\u001b[43m,\u001b[49m\u001b[43m \u001b[49m\u001b[43mdtype\u001b[49m\u001b[38;5;241;43m=\u001b[39;49m\u001b[43mdtype\u001b[49m\u001b[43m,\u001b[49m\u001b[43m \u001b[49m\u001b[43mcopy\u001b[49m\u001b[38;5;241;43m=\u001b[39;49m\u001b[43mcopy\u001b[49m\u001b[43m,\u001b[49m\u001b[43m \u001b[49m\u001b[43mtyp\u001b[49m\u001b[38;5;241;43m=\u001b[39;49m\u001b[43mmanager\u001b[49m\u001b[43m)\u001b[49m\n\u001b[1;32m    710\u001b[0m \u001b[38;5;28;01melif\u001b[39;00m \u001b[38;5;28misinstance\u001b[39m(data, ma\u001b[38;5;241m.\u001b[39mMaskedArray):\n\u001b[1;32m    711\u001b[0m     \u001b[38;5;28;01mfrom\u001b[39;00m \u001b[38;5;21;01mnumpy\u001b[39;00m\u001b[38;5;21;01m.\u001b[39;00m\u001b[38;5;21;01mma\u001b[39;00m \u001b[38;5;28;01mimport\u001b[39;00m mrecords\n",
      "File \u001b[0;32m~/anaconda3/lib/python3.8/site-packages/pandas/core/internals/construction.py:481\u001b[0m, in \u001b[0;36mdict_to_mgr\u001b[0;34m(data, index, columns, dtype, typ, copy)\u001b[0m\n\u001b[1;32m    477\u001b[0m     \u001b[38;5;28;01melse\u001b[39;00m:\n\u001b[1;32m    478\u001b[0m         \u001b[38;5;66;03m# dtype check to exclude e.g. range objects, scalars\u001b[39;00m\n\u001b[1;32m    479\u001b[0m         arrays \u001b[38;5;241m=\u001b[39m [x\u001b[38;5;241m.\u001b[39mcopy() \u001b[38;5;28;01mif\u001b[39;00m \u001b[38;5;28mhasattr\u001b[39m(x, \u001b[38;5;124m\"\u001b[39m\u001b[38;5;124mdtype\u001b[39m\u001b[38;5;124m\"\u001b[39m) \u001b[38;5;28;01melse\u001b[39;00m x \u001b[38;5;28;01mfor\u001b[39;00m x \u001b[38;5;129;01min\u001b[39;00m arrays]\n\u001b[0;32m--> 481\u001b[0m \u001b[38;5;28;01mreturn\u001b[39;00m \u001b[43marrays_to_mgr\u001b[49m\u001b[43m(\u001b[49m\u001b[43marrays\u001b[49m\u001b[43m,\u001b[49m\u001b[43m \u001b[49m\u001b[43mcolumns\u001b[49m\u001b[43m,\u001b[49m\u001b[43m \u001b[49m\u001b[43mindex\u001b[49m\u001b[43m,\u001b[49m\u001b[43m \u001b[49m\u001b[43mdtype\u001b[49m\u001b[38;5;241;43m=\u001b[39;49m\u001b[43mdtype\u001b[49m\u001b[43m,\u001b[49m\u001b[43m \u001b[49m\u001b[43mtyp\u001b[49m\u001b[38;5;241;43m=\u001b[39;49m\u001b[43mtyp\u001b[49m\u001b[43m,\u001b[49m\u001b[43m \u001b[49m\u001b[43mconsolidate\u001b[49m\u001b[38;5;241;43m=\u001b[39;49m\u001b[43mcopy\u001b[49m\u001b[43m)\u001b[49m\n",
      "File \u001b[0;32m~/anaconda3/lib/python3.8/site-packages/pandas/core/internals/construction.py:115\u001b[0m, in \u001b[0;36marrays_to_mgr\u001b[0;34m(arrays, columns, index, dtype, verify_integrity, typ, consolidate)\u001b[0m\n\u001b[1;32m    112\u001b[0m \u001b[38;5;28;01mif\u001b[39;00m verify_integrity:\n\u001b[1;32m    113\u001b[0m     \u001b[38;5;66;03m# figure out the index, if necessary\u001b[39;00m\n\u001b[1;32m    114\u001b[0m     \u001b[38;5;28;01mif\u001b[39;00m index \u001b[38;5;129;01mis\u001b[39;00m \u001b[38;5;28;01mNone\u001b[39;00m:\n\u001b[0;32m--> 115\u001b[0m         index \u001b[38;5;241m=\u001b[39m \u001b[43m_extract_index\u001b[49m\u001b[43m(\u001b[49m\u001b[43marrays\u001b[49m\u001b[43m)\u001b[49m\n\u001b[1;32m    116\u001b[0m     \u001b[38;5;28;01melse\u001b[39;00m:\n\u001b[1;32m    117\u001b[0m         index \u001b[38;5;241m=\u001b[39m ensure_index(index)\n",
      "File \u001b[0;32m~/anaconda3/lib/python3.8/site-packages/pandas/core/internals/construction.py:655\u001b[0m, in \u001b[0;36m_extract_index\u001b[0;34m(data)\u001b[0m\n\u001b[1;32m    653\u001b[0m lengths \u001b[38;5;241m=\u001b[39m \u001b[38;5;28mlist\u001b[39m(\u001b[38;5;28mset\u001b[39m(raw_lengths))\n\u001b[1;32m    654\u001b[0m \u001b[38;5;28;01mif\u001b[39;00m \u001b[38;5;28mlen\u001b[39m(lengths) \u001b[38;5;241m>\u001b[39m \u001b[38;5;241m1\u001b[39m:\n\u001b[0;32m--> 655\u001b[0m     \u001b[38;5;28;01mraise\u001b[39;00m \u001b[38;5;167;01mValueError\u001b[39;00m(\u001b[38;5;124m\"\u001b[39m\u001b[38;5;124mAll arrays must be of the same length\u001b[39m\u001b[38;5;124m\"\u001b[39m)\n\u001b[1;32m    657\u001b[0m \u001b[38;5;28;01mif\u001b[39;00m have_dicts:\n\u001b[1;32m    658\u001b[0m     \u001b[38;5;28;01mraise\u001b[39;00m \u001b[38;5;167;01mValueError\u001b[39;00m(\n\u001b[1;32m    659\u001b[0m         \u001b[38;5;124m\"\u001b[39m\u001b[38;5;124mMixing dicts with non-Series may lead to ambiguous ordering.\u001b[39m\u001b[38;5;124m\"\u001b[39m\n\u001b[1;32m    660\u001b[0m     )\n",
      "\u001b[0;31mValueError\u001b[0m: All arrays must be of the same length"
     ]
    }
   ],
   "source": [
    "data2 = {\n",
    "  \"list1\": [420, 380, 390],\n",
    "  \"list2\": [50, 40, 45],\n",
    "  \"list3\": [1, 2, 3, 4, 5 , 6, 7]\n",
    "}\n",
    "\n",
    "df_2 = pd.DataFrame(data2)\n",
    "\n",
    "\n",
    "df_2"
   ]
  },
  {
   "attachments": {},
   "cell_type": "markdown",
   "id": "f431c02c-0e24-4317-9f14-15644b321d5b",
   "metadata": {},
   "source": [
    "#### Erstellung aus Dictionaries"
   ]
  },
  {
   "attachments": {},
   "cell_type": "markdown",
   "id": "d30ce49d-a26c-4aec-b1d0-cadb78c30af6",
   "metadata": {},
   "source": [
    "Listen müssen von selber länge sein, Einzelwerte werden für alle Einträge des Dictionaries eingetragen."
   ]
  },
  {
   "cell_type": "code",
   "execution_count": 56,
   "id": "cf809855-fac1-4d37-91a5-4843faa7142c",
   "metadata": {},
   "outputs": [],
   "source": [
    "data_dict = {\n",
    " \"date\" : \"31.01.2022\",\n",
    " \"time\" : [\"08:22\", \"08:55\", \"09:21\", \"10:40\", \"11:30\"],\n",
    " \"value\" : [12, 23, 3, 12, 3]    \n",
    "}\n",
    "\n",
    "df_3 = pd.DataFrame(data_dict)"
   ]
  },
  {
   "cell_type": "code",
   "execution_count": 57,
   "id": "a2a76c7f-dd11-4de3-93fc-c0c06d695fee",
   "metadata": {},
   "outputs": [
    {
     "data": {
      "text/html": [
       "<div>\n",
       "<style scoped>\n",
       "    .dataframe tbody tr th:only-of-type {\n",
       "        vertical-align: middle;\n",
       "    }\n",
       "\n",
       "    .dataframe tbody tr th {\n",
       "        vertical-align: top;\n",
       "    }\n",
       "\n",
       "    .dataframe thead th {\n",
       "        text-align: right;\n",
       "    }\n",
       "</style>\n",
       "<table border=\"1\" class=\"dataframe\">\n",
       "  <thead>\n",
       "    <tr style=\"text-align: right;\">\n",
       "      <th></th>\n",
       "      <th>date</th>\n",
       "      <th>time</th>\n",
       "      <th>value</th>\n",
       "    </tr>\n",
       "  </thead>\n",
       "  <tbody>\n",
       "    <tr>\n",
       "      <th>0</th>\n",
       "      <td>31.01.2022</td>\n",
       "      <td>08:22</td>\n",
       "      <td>12</td>\n",
       "    </tr>\n",
       "    <tr>\n",
       "      <th>1</th>\n",
       "      <td>31.01.2022</td>\n",
       "      <td>08:55</td>\n",
       "      <td>23</td>\n",
       "    </tr>\n",
       "    <tr>\n",
       "      <th>2</th>\n",
       "      <td>31.01.2022</td>\n",
       "      <td>09:21</td>\n",
       "      <td>3</td>\n",
       "    </tr>\n",
       "    <tr>\n",
       "      <th>3</th>\n",
       "      <td>31.01.2022</td>\n",
       "      <td>10:40</td>\n",
       "      <td>12</td>\n",
       "    </tr>\n",
       "    <tr>\n",
       "      <th>4</th>\n",
       "      <td>31.01.2022</td>\n",
       "      <td>11:30</td>\n",
       "      <td>3</td>\n",
       "    </tr>\n",
       "  </tbody>\n",
       "</table>\n",
       "</div>"
      ],
      "text/plain": [
       "         date   time  value\n",
       "0  31.01.2022  08:22     12\n",
       "1  31.01.2022  08:55     23\n",
       "2  31.01.2022  09:21      3\n",
       "3  31.01.2022  10:40     12\n",
       "4  31.01.2022  11:30      3"
      ]
     },
     "execution_count": 57,
     "metadata": {},
     "output_type": "execute_result"
    }
   ],
   "source": [
    "df_3"
   ]
  },
  {
   "attachments": {},
   "cell_type": "markdown",
   "id": "d65609da-5855-48f0-9181-1f8bfd89c7c2",
   "metadata": {},
   "source": [
    "DataFrames können auch aus mehreren Dictionaries erstellt werden. Dann ist es auch möglich, Dictionaries unterschiedlicher Längen zusammenzuführen."
   ]
  },
  {
   "cell_type": "code",
   "execution_count": 58,
   "id": "e0a0f380-0982-4397-94c7-183efba678a2",
   "metadata": {},
   "outputs": [],
   "source": [
    "merlin = {\"Name\": \"Merlin\", \"Tierart\": \"Katze\", \"Alter\" : 3, \"Farbe\": \"schwarz\"}\n",
    "otto = {\"Name\": \"Otto\", \"Tierart\": \"Hund\", \"Alter\" : 5, \"Farbe\": \"braun\"}\n",
    "renate = {\"Name\": \"Renate\", \"Tierart\": \"Fisch\", \"Alter\" : 2, \"Farbe\": \"rot\"}"
   ]
  },
  {
   "cell_type": "code",
   "execution_count": 59,
   "id": "3536ab8e-2400-4d8b-bcc1-b06e1f370a01",
   "metadata": {},
   "outputs": [],
   "source": [
    "df_tiere = pd.DataFrame([merlin, otto, renate])"
   ]
  },
  {
   "cell_type": "code",
   "execution_count": 60,
   "id": "360b440e-90ab-4688-b236-6dd162304483",
   "metadata": {},
   "outputs": [
    {
     "data": {
      "text/html": [
       "<div>\n",
       "<style scoped>\n",
       "    .dataframe tbody tr th:only-of-type {\n",
       "        vertical-align: middle;\n",
       "    }\n",
       "\n",
       "    .dataframe tbody tr th {\n",
       "        vertical-align: top;\n",
       "    }\n",
       "\n",
       "    .dataframe thead th {\n",
       "        text-align: right;\n",
       "    }\n",
       "</style>\n",
       "<table border=\"1\" class=\"dataframe\">\n",
       "  <thead>\n",
       "    <tr style=\"text-align: right;\">\n",
       "      <th></th>\n",
       "      <th>Name</th>\n",
       "      <th>Tierart</th>\n",
       "      <th>Alter</th>\n",
       "      <th>Farbe</th>\n",
       "    </tr>\n",
       "  </thead>\n",
       "  <tbody>\n",
       "    <tr>\n",
       "      <th>0</th>\n",
       "      <td>Merlin</td>\n",
       "      <td>Katze</td>\n",
       "      <td>3</td>\n",
       "      <td>schwarz</td>\n",
       "    </tr>\n",
       "    <tr>\n",
       "      <th>1</th>\n",
       "      <td>Otto</td>\n",
       "      <td>Hund</td>\n",
       "      <td>5</td>\n",
       "      <td>braun</td>\n",
       "    </tr>\n",
       "    <tr>\n",
       "      <th>2</th>\n",
       "      <td>Renate</td>\n",
       "      <td>Fisch</td>\n",
       "      <td>2</td>\n",
       "      <td>rot</td>\n",
       "    </tr>\n",
       "  </tbody>\n",
       "</table>\n",
       "</div>"
      ],
      "text/plain": [
       "     Name Tierart  Alter    Farbe\n",
       "0  Merlin   Katze      3  schwarz\n",
       "1    Otto    Hund      5    braun\n",
       "2  Renate   Fisch      2      rot"
      ]
     },
     "execution_count": 60,
     "metadata": {},
     "output_type": "execute_result"
    }
   ],
   "source": [
    "df_tiere"
   ]
  },
  {
   "cell_type": "code",
   "execution_count": 61,
   "id": "fdc66f33-ae8d-44ff-a831-0b902238d2cd",
   "metadata": {},
   "outputs": [],
   "source": [
    "verkaeufe = {\"Tag 1\": 120, \"Tag 2\": 330, \"Tag 3\": 250, \"Tag 4\": 270}\n",
    "einnahmen = {\"Tag 1\": 450, \"Tag 2\": 1210, \"Tag 3\": 760, \"Tag 4\": 950, \"Tag 5\": 350}\n",
    "\n",
    "# erstellen aus Liste von dictionaries:\n",
    "df_4 = pd.DataFrame([verkaeufe, einnahmen], index = [\"verkäufe\", \"einnahmen\"])"
   ]
  },
  {
   "cell_type": "code",
   "execution_count": 62,
   "id": "38181cf2-d094-4f78-bcd6-2528c0ac11ba",
   "metadata": {},
   "outputs": [
    {
     "data": {
      "text/html": [
       "<div>\n",
       "<style scoped>\n",
       "    .dataframe tbody tr th:only-of-type {\n",
       "        vertical-align: middle;\n",
       "    }\n",
       "\n",
       "    .dataframe tbody tr th {\n",
       "        vertical-align: top;\n",
       "    }\n",
       "\n",
       "    .dataframe thead th {\n",
       "        text-align: right;\n",
       "    }\n",
       "</style>\n",
       "<table border=\"1\" class=\"dataframe\">\n",
       "  <thead>\n",
       "    <tr style=\"text-align: right;\">\n",
       "      <th></th>\n",
       "      <th>Tag 1</th>\n",
       "      <th>Tag 2</th>\n",
       "      <th>Tag 3</th>\n",
       "      <th>Tag 4</th>\n",
       "      <th>Tag 5</th>\n",
       "    </tr>\n",
       "  </thead>\n",
       "  <tbody>\n",
       "    <tr>\n",
       "      <th>verkäufe</th>\n",
       "      <td>120</td>\n",
       "      <td>330</td>\n",
       "      <td>250</td>\n",
       "      <td>270</td>\n",
       "      <td>NaN</td>\n",
       "    </tr>\n",
       "    <tr>\n",
       "      <th>einnahmen</th>\n",
       "      <td>450</td>\n",
       "      <td>1210</td>\n",
       "      <td>760</td>\n",
       "      <td>950</td>\n",
       "      <td>350.0</td>\n",
       "    </tr>\n",
       "  </tbody>\n",
       "</table>\n",
       "</div>"
      ],
      "text/plain": [
       "           Tag 1  Tag 2  Tag 3  Tag 4  Tag 5\n",
       "verkäufe     120    330    250    270    NaN\n",
       "einnahmen    450   1210    760    950  350.0"
      ]
     },
     "execution_count": 62,
     "metadata": {},
     "output_type": "execute_result"
    }
   ],
   "source": [
    "df_4"
   ]
  },
  {
   "attachments": {},
   "cell_type": "markdown",
   "id": "f34d8647-7d33-4308-9b84-de9705d9fb9a",
   "metadata": {},
   "source": [
    "Das DataFrame wird mit \"NaN\", not a number aufgefüllt. Dieser wert ist ein float, also eine Kommazahl."
   ]
  },
  {
   "cell_type": "code",
   "execution_count": 63,
   "id": "e1fe5829-6857-4145-af86-888b927b4e40",
   "metadata": {},
   "outputs": [],
   "source": [
    "# mit \".T\" kann ein Dataframe transponiert werden, wir tauschen also Zeilen und Spalten\n",
    "df_4_transposed = df_4.T"
   ]
  },
  {
   "cell_type": "code",
   "execution_count": 64,
   "id": "f47f06be-61b4-4312-a003-b4ef8646f0b8",
   "metadata": {},
   "outputs": [
    {
     "data": {
      "text/html": [
       "<div>\n",
       "<style scoped>\n",
       "    .dataframe tbody tr th:only-of-type {\n",
       "        vertical-align: middle;\n",
       "    }\n",
       "\n",
       "    .dataframe tbody tr th {\n",
       "        vertical-align: top;\n",
       "    }\n",
       "\n",
       "    .dataframe thead th {\n",
       "        text-align: right;\n",
       "    }\n",
       "</style>\n",
       "<table border=\"1\" class=\"dataframe\">\n",
       "  <thead>\n",
       "    <tr style=\"text-align: right;\">\n",
       "      <th></th>\n",
       "      <th>verkäufe</th>\n",
       "      <th>einnahmen</th>\n",
       "    </tr>\n",
       "  </thead>\n",
       "  <tbody>\n",
       "    <tr>\n",
       "      <th>Tag 1</th>\n",
       "      <td>120.0</td>\n",
       "      <td>450.0</td>\n",
       "    </tr>\n",
       "    <tr>\n",
       "      <th>Tag 2</th>\n",
       "      <td>330.0</td>\n",
       "      <td>1210.0</td>\n",
       "    </tr>\n",
       "    <tr>\n",
       "      <th>Tag 3</th>\n",
       "      <td>250.0</td>\n",
       "      <td>760.0</td>\n",
       "    </tr>\n",
       "    <tr>\n",
       "      <th>Tag 4</th>\n",
       "      <td>270.0</td>\n",
       "      <td>950.0</td>\n",
       "    </tr>\n",
       "    <tr>\n",
       "      <th>Tag 5</th>\n",
       "      <td>NaN</td>\n",
       "      <td>350.0</td>\n",
       "    </tr>\n",
       "  </tbody>\n",
       "</table>\n",
       "</div>"
      ],
      "text/plain": [
       "       verkäufe  einnahmen\n",
       "Tag 1     120.0      450.0\n",
       "Tag 2     330.0     1210.0\n",
       "Tag 3     250.0      760.0\n",
       "Tag 4     270.0      950.0\n",
       "Tag 5       NaN      350.0"
      ]
     },
     "execution_count": 64,
     "metadata": {},
     "output_type": "execute_result"
    }
   ],
   "source": [
    "df_4_transposed"
   ]
  },
  {
   "attachments": {},
   "cell_type": "markdown",
   "id": "01655a36-1087-4376-bc9c-6909a0f8536b",
   "metadata": {},
   "source": [
    "Über .info() und .describe() lassen sich einfach Informationen über DataFrames abrufen:"
   ]
  },
  {
   "cell_type": "code",
   "execution_count": 65,
   "id": "ad2dd3e2-97c1-47bb-8137-c02c1cbee502",
   "metadata": {},
   "outputs": [
    {
     "name": "stdout",
     "output_type": "stream",
     "text": [
      "<class 'pandas.core.frame.DataFrame'>\n",
      "Index: 5 entries, Tag 1 to Tag 5\n",
      "Data columns (total 2 columns):\n",
      " #   Column     Non-Null Count  Dtype  \n",
      "---  ------     --------------  -----  \n",
      " 0   verkäufe   4 non-null      float64\n",
      " 1   einnahmen  5 non-null      float64\n",
      "dtypes: float64(2)\n",
      "memory usage: 292.0+ bytes\n"
     ]
    }
   ],
   "source": [
    "df_4_transposed.info()"
   ]
  },
  {
   "cell_type": "code",
   "execution_count": 66,
   "id": "f3c97a94-4ee3-4466-8c3c-c00b0966698b",
   "metadata": {},
   "outputs": [
    {
     "data": {
      "text/html": [
       "<div>\n",
       "<style scoped>\n",
       "    .dataframe tbody tr th:only-of-type {\n",
       "        vertical-align: middle;\n",
       "    }\n",
       "\n",
       "    .dataframe tbody tr th {\n",
       "        vertical-align: top;\n",
       "    }\n",
       "\n",
       "    .dataframe thead th {\n",
       "        text-align: right;\n",
       "    }\n",
       "</style>\n",
       "<table border=\"1\" class=\"dataframe\">\n",
       "  <thead>\n",
       "    <tr style=\"text-align: right;\">\n",
       "      <th></th>\n",
       "      <th>verkäufe</th>\n",
       "      <th>einnahmen</th>\n",
       "    </tr>\n",
       "  </thead>\n",
       "  <tbody>\n",
       "    <tr>\n",
       "      <th>count</th>\n",
       "      <td>4.00000</td>\n",
       "      <td>5.000000</td>\n",
       "    </tr>\n",
       "    <tr>\n",
       "      <th>mean</th>\n",
       "      <td>242.50000</td>\n",
       "      <td>744.000000</td>\n",
       "    </tr>\n",
       "    <tr>\n",
       "      <th>std</th>\n",
       "      <td>88.45903</td>\n",
       "      <td>354.090384</td>\n",
       "    </tr>\n",
       "    <tr>\n",
       "      <th>min</th>\n",
       "      <td>120.00000</td>\n",
       "      <td>350.000000</td>\n",
       "    </tr>\n",
       "    <tr>\n",
       "      <th>25%</th>\n",
       "      <td>217.50000</td>\n",
       "      <td>450.000000</td>\n",
       "    </tr>\n",
       "    <tr>\n",
       "      <th>50%</th>\n",
       "      <td>260.00000</td>\n",
       "      <td>760.000000</td>\n",
       "    </tr>\n",
       "    <tr>\n",
       "      <th>75%</th>\n",
       "      <td>285.00000</td>\n",
       "      <td>950.000000</td>\n",
       "    </tr>\n",
       "    <tr>\n",
       "      <th>max</th>\n",
       "      <td>330.00000</td>\n",
       "      <td>1210.000000</td>\n",
       "    </tr>\n",
       "  </tbody>\n",
       "</table>\n",
       "</div>"
      ],
      "text/plain": [
       "        verkäufe    einnahmen\n",
       "count    4.00000     5.000000\n",
       "mean   242.50000   744.000000\n",
       "std     88.45903   354.090384\n",
       "min    120.00000   350.000000\n",
       "25%    217.50000   450.000000\n",
       "50%    260.00000   760.000000\n",
       "75%    285.00000   950.000000\n",
       "max    330.00000  1210.000000"
      ]
     },
     "execution_count": 66,
     "metadata": {},
     "output_type": "execute_result"
    }
   ],
   "source": [
    "df_4_transposed.describe()"
   ]
  },
  {
   "attachments": {},
   "cell_type": "markdown",
   "id": "d528fcee-9db6-494f-9844-20ecc0dc5665",
   "metadata": {},
   "source": [
    "### Wie DataFrames und Series Objekte zusammenhängen\n",
    "Wie schon erwähnt, sind Dataframes \"zusammengefügte\" Series Objekte. Auf diese kann über den Namen der Spalte zugegriffen werden."
   ]
  },
  {
   "cell_type": "code",
   "execution_count": 67,
   "id": "42e7ec8b-80ad-4ed0-a62b-49bce0d7bfea",
   "metadata": {},
   "outputs": [
    {
     "data": {
      "text/plain": [
       "Tag 1    120.0\n",
       "Tag 2    330.0\n",
       "Tag 3    250.0\n",
       "Tag 4    270.0\n",
       "Tag 5      NaN\n",
       "Name: verkäufe, dtype: float64"
      ]
     },
     "execution_count": 67,
     "metadata": {},
     "output_type": "execute_result"
    }
   ],
   "source": [
    "df_4_transposed.verkäufe"
   ]
  },
  {
   "cell_type": "code",
   "execution_count": 68,
   "id": "21275543-91d3-4501-ac1d-a3d0cbcdf9d0",
   "metadata": {},
   "outputs": [
    {
     "data": {
      "text/plain": [
       "Tag 1    120.0\n",
       "Tag 2    330.0\n",
       "Tag 3    250.0\n",
       "Tag 4    270.0\n",
       "Tag 5      NaN\n",
       "Name: verkäufe, dtype: float64"
      ]
     },
     "execution_count": 68,
     "metadata": {},
     "output_type": "execute_result"
    }
   ],
   "source": [
    "df_4_transposed[\"verkäufe\"]"
   ]
  },
  {
   "attachments": {},
   "cell_type": "markdown",
   "id": "f407ffe9-e18a-4642-afe2-5ece1dcb53ee",
   "metadata": {},
   "source": [
    "Die Spalten sind Series Objekte:"
   ]
  },
  {
   "cell_type": "code",
   "execution_count": 69,
   "id": "3d2984e3-2d3d-4230-875f-e6574e5611df",
   "metadata": {},
   "outputs": [
    {
     "data": {
      "text/plain": [
       "pandas.core.series.Series"
      ]
     },
     "execution_count": 69,
     "metadata": {},
     "output_type": "execute_result"
    }
   ],
   "source": [
    "type(df_4_transposed.verkäufe)"
   ]
  },
  {
   "cell_type": "code",
   "execution_count": 70,
   "id": "33307346-97c3-4f5f-af5f-444cba2befda",
   "metadata": {},
   "outputs": [
    {
     "data": {
      "text/plain": [
       "pandas.core.series.Series"
      ]
     },
     "execution_count": 70,
     "metadata": {},
     "output_type": "execute_result"
    }
   ],
   "source": [
    "type(df_4_transposed[\"verkäufe\"])"
   ]
  },
  {
   "attachments": {},
   "cell_type": "markdown",
   "id": "6a826f9c-b075-4a4f-935d-ea83a990eb73",
   "metadata": {},
   "source": [
    "#### Zugriff auf Spalten- und Zeilennamen (Indices) eines Dataframes"
   ]
  },
  {
   "cell_type": "code",
   "execution_count": 71,
   "id": "87975210-abb3-4272-95cd-d140a974e085",
   "metadata": {},
   "outputs": [
    {
     "data": {
      "text/plain": [
       "Index(['verkäufe', 'einnahmen'], dtype='object')"
      ]
     },
     "execution_count": 71,
     "metadata": {},
     "output_type": "execute_result"
    }
   ],
   "source": [
    "# Zugriff auf die Namen aller Spalten:\n",
    "df_4_transposed.columns"
   ]
  },
  {
   "cell_type": "code",
   "execution_count": 72,
   "id": "6cfeff99-dfb3-44a2-87f9-364380348b72",
   "metadata": {},
   "outputs": [
    {
     "data": {
      "text/plain": [
       "['verkäufe', 'einnahmen']"
      ]
     },
     "execution_count": 72,
     "metadata": {},
     "output_type": "execute_result"
    }
   ],
   "source": [
    "# auch hier lässt sich \"to_list()\" verwenden: \n",
    "df_4_transposed.columns.to_list()"
   ]
  },
  {
   "cell_type": "code",
   "execution_count": 73,
   "id": "e43b0dbd-8a38-4ebe-87b7-8be0317e3a4c",
   "metadata": {},
   "outputs": [
    {
     "data": {
      "text/plain": [
       "Index(['Tag 1', 'Tag 2', 'Tag 3', 'Tag 4', 'Tag 5'], dtype='object')"
      ]
     },
     "execution_count": 73,
     "metadata": {},
     "output_type": "execute_result"
    }
   ],
   "source": [
    "# Ähnlich lassen sich die Indices abrufen:\n",
    "df_4_transposed.index"
   ]
  },
  {
   "cell_type": "code",
   "execution_count": 74,
   "id": "1fe3b6b8-ea96-4db0-9766-d0507e8e9a23",
   "metadata": {},
   "outputs": [
    {
     "data": {
      "text/plain": [
       "['Tag 1', 'Tag 2', 'Tag 3', 'Tag 4', 'Tag 5']"
      ]
     },
     "execution_count": 74,
     "metadata": {},
     "output_type": "execute_result"
    }
   ],
   "source": [
    "df_4_transposed.index.to_list()"
   ]
  },
  {
   "attachments": {},
   "cell_type": "markdown",
   "id": "c4ece834-e936-4386-bb1d-743eb7c31a42",
   "metadata": {},
   "source": [
    "## Einlesen von Dateien mit \"read\"\n",
    "Pandas stellt eine Reihe von Methoden zur Verfügung, mit denen ohne Probleme eine Vielzahl verschiedener Datentypen eingelesen werden können. "
   ]
  },
  {
   "attachments": {},
   "cell_type": "markdown",
   "id": "939e50f3-9751-4fcf-814f-7567a7103fdf",
   "metadata": {},
   "source": [
    "### CSV einlesen"
   ]
  },
  {
   "cell_type": "code",
   "execution_count": 75,
   "id": "48a20afa-b676-4837-820d-e3700ccf4932",
   "metadata": {},
   "outputs": [],
   "source": [
    "df = pd.read_csv(\"data/nyt_bestsellers.csv\")"
   ]
  },
  {
   "cell_type": "code",
   "execution_count": 76,
   "id": "7aafebc7-5852-4ca6-b596-d74aaa8cdd1d",
   "metadata": {},
   "outputs": [
    {
     "data": {
      "text/html": [
       "<div>\n",
       "<style scoped>\n",
       "    .dataframe tbody tr th:only-of-type {\n",
       "        vertical-align: middle;\n",
       "    }\n",
       "\n",
       "    .dataframe tbody tr th {\n",
       "        vertical-align: top;\n",
       "    }\n",
       "\n",
       "    .dataframe thead th {\n",
       "        text-align: right;\n",
       "    }\n",
       "</style>\n",
       "<table border=\"1\" class=\"dataframe\">\n",
       "  <thead>\n",
       "    <tr style=\"text-align: right;\">\n",
       "      <th></th>\n",
       "      <th>1</th>\n",
       "      <th>I Love Dad with The Very Hungry Caterpillar</th>\n",
       "      <th>children</th>\n",
       "    </tr>\n",
       "  </thead>\n",
       "  <tbody>\n",
       "    <tr>\n",
       "      <th>0</th>\n",
       "      <td>2</td>\n",
       "      <td>The Wonderful Things You Will Be</td>\n",
       "      <td>children</td>\n",
       "    </tr>\n",
       "    <tr>\n",
       "      <th>1</th>\n",
       "      <td>3</td>\n",
       "      <td>Dr. Seuss's I Love Pop!: A Celebration of Dads</td>\n",
       "      <td>children</td>\n",
       "    </tr>\n",
       "    <tr>\n",
       "      <th>2</th>\n",
       "      <td>4</td>\n",
       "      <td>Dragons Love Tacos</td>\n",
       "      <td>children</td>\n",
       "    </tr>\n",
       "    <tr>\n",
       "      <th>3</th>\n",
       "      <td>5</td>\n",
       "      <td>How to Babysit a Grandpa</td>\n",
       "      <td>children</td>\n",
       "    </tr>\n",
       "    <tr>\n",
       "      <th>4</th>\n",
       "      <td>6</td>\n",
       "      <td>I Wish You More</td>\n",
       "      <td>children</td>\n",
       "    </tr>\n",
       "    <tr>\n",
       "      <th>5</th>\n",
       "      <td>7</td>\n",
       "      <td>Grumpy Monkey</td>\n",
       "      <td>children</td>\n",
       "    </tr>\n",
       "    <tr>\n",
       "      <th>6</th>\n",
       "      <td>8</td>\n",
       "      <td>The Day the Crayons Quit</td>\n",
       "      <td>children</td>\n",
       "    </tr>\n",
       "    <tr>\n",
       "      <th>7</th>\n",
       "      <td>9</td>\n",
       "      <td>Dear Girl,</td>\n",
       "      <td>children</td>\n",
       "    </tr>\n",
       "    <tr>\n",
       "      <th>8</th>\n",
       "      <td>10</td>\n",
       "      <td>Rosie Revere, Engineer (Questioneers Collectio...</td>\n",
       "      <td>children</td>\n",
       "    </tr>\n",
       "    <tr>\n",
       "      <th>9</th>\n",
       "      <td>11</td>\n",
       "      <td>Brawl of the Wild (Dog Man Series #6)</td>\n",
       "      <td>children</td>\n",
       "    </tr>\n",
       "  </tbody>\n",
       "</table>\n",
       "</div>"
      ],
      "text/plain": [
       "    1        I Love Dad with The Very Hungry Caterpillar  children\n",
       "0   2                   The Wonderful Things You Will Be  children\n",
       "1   3     Dr. Seuss's I Love Pop!: A Celebration of Dads  children\n",
       "2   4                                 Dragons Love Tacos  children\n",
       "3   5                           How to Babysit a Grandpa  children\n",
       "4   6                                    I Wish You More  children\n",
       "5   7                                      Grumpy Monkey  children\n",
       "6   8                           The Day the Crayons Quit  children\n",
       "7   9                                         Dear Girl,  children\n",
       "8  10  Rosie Revere, Engineer (Questioneers Collectio...  children\n",
       "9  11              Brawl of the Wild (Dog Man Series #6)  children"
      ]
     },
     "execution_count": 76,
     "metadata": {},
     "output_type": "execute_result"
    }
   ],
   "source": [
    "df[:10]"
   ]
  },
  {
   "attachments": {},
   "cell_type": "markdown",
   "id": "9c808ad4-3b2f-40a8-8468-5d89e352c23d",
   "metadata": {},
   "source": [
    "#### Spaltennamen und Indexspalte\n",
    "In der [Dokumentation](https://pandas.pydata.org/docs/reference/api/pandas.read_csv.html) ist nachlesbar, welche Optionen es beim Einlesen gibt."
   ]
  },
  {
   "cell_type": "code",
   "execution_count": 77,
   "id": "273d8a23-7ba2-4877-a6fc-cb6272e52a9e",
   "metadata": {},
   "outputs": [
    {
     "data": {
      "text/html": [
       "<div>\n",
       "<style scoped>\n",
       "    .dataframe tbody tr th:only-of-type {\n",
       "        vertical-align: middle;\n",
       "    }\n",
       "\n",
       "    .dataframe tbody tr th {\n",
       "        vertical-align: top;\n",
       "    }\n",
       "\n",
       "    .dataframe thead th {\n",
       "        text-align: right;\n",
       "    }\n",
       "</style>\n",
       "<table border=\"1\" class=\"dataframe\">\n",
       "  <thead>\n",
       "    <tr style=\"text-align: right;\">\n",
       "      <th></th>\n",
       "      <th>title</th>\n",
       "      <th>category</th>\n",
       "    </tr>\n",
       "    <tr>\n",
       "      <th>index_number</th>\n",
       "      <th></th>\n",
       "      <th></th>\n",
       "    </tr>\n",
       "  </thead>\n",
       "  <tbody>\n",
       "    <tr>\n",
       "      <th>1</th>\n",
       "      <td>I Love Dad with The Very Hungry Caterpillar</td>\n",
       "      <td>children</td>\n",
       "    </tr>\n",
       "    <tr>\n",
       "      <th>2</th>\n",
       "      <td>The Wonderful Things You Will Be</td>\n",
       "      <td>children</td>\n",
       "    </tr>\n",
       "    <tr>\n",
       "      <th>3</th>\n",
       "      <td>Dr. Seuss's I Love Pop!: A Celebration of Dads</td>\n",
       "      <td>children</td>\n",
       "    </tr>\n",
       "    <tr>\n",
       "      <th>4</th>\n",
       "      <td>Dragons Love Tacos</td>\n",
       "      <td>children</td>\n",
       "    </tr>\n",
       "    <tr>\n",
       "      <th>5</th>\n",
       "      <td>How to Babysit a Grandpa</td>\n",
       "      <td>children</td>\n",
       "    </tr>\n",
       "    <tr>\n",
       "      <th>...</th>\n",
       "      <td>...</td>\n",
       "      <td>...</td>\n",
       "    </tr>\n",
       "    <tr>\n",
       "      <th>96</th>\n",
       "      <td>Everything Is F*cked: A Book about Hope</td>\n",
       "      <td>misc</td>\n",
       "    </tr>\n",
       "    <tr>\n",
       "      <th>97</th>\n",
       "      <td>Girl, Stop Apologizing: A Shame-Free Plan for ...</td>\n",
       "      <td>misc</td>\n",
       "    </tr>\n",
       "    <tr>\n",
       "      <th>98</th>\n",
       "      <td>You Are a Badass: How to Stop Doubting Your Gr...</td>\n",
       "      <td>misc</td>\n",
       "    </tr>\n",
       "    <tr>\n",
       "      <th>99</th>\n",
       "      <td>Dare to Lead: Brave Work. Tough Conversations....</td>\n",
       "      <td>misc</td>\n",
       "    </tr>\n",
       "    <tr>\n",
       "      <th>100</th>\n",
       "      <td>Medical Medium Celery Juice: The Most Powerful...</td>\n",
       "      <td>misc</td>\n",
       "    </tr>\n",
       "  </tbody>\n",
       "</table>\n",
       "<p>100 rows × 2 columns</p>\n",
       "</div>"
      ],
      "text/plain": [
       "                                                          title  category\n",
       "index_number                                                             \n",
       "1                   I Love Dad with The Very Hungry Caterpillar  children\n",
       "2                              The Wonderful Things You Will Be  children\n",
       "3                Dr. Seuss's I Love Pop!: A Celebration of Dads  children\n",
       "4                                            Dragons Love Tacos  children\n",
       "5                                      How to Babysit a Grandpa  children\n",
       "...                                                         ...       ...\n",
       "96                      Everything Is F*cked: A Book about Hope      misc\n",
       "97            Girl, Stop Apologizing: A Shame-Free Plan for ...      misc\n",
       "98            You Are a Badass: How to Stop Doubting Your Gr...      misc\n",
       "99            Dare to Lead: Brave Work. Tough Conversations....      misc\n",
       "100           Medical Medium Celery Juice: The Most Powerful...      misc\n",
       "\n",
       "[100 rows x 2 columns]"
      ]
     },
     "execution_count": 77,
     "metadata": {},
     "output_type": "execute_result"
    }
   ],
   "source": [
    "# names und index_col nutzen\n",
    "df = pd.read_csv(\"data/nyt_bestsellers.csv\", names = [\"index_number\", \"title\", \"category\"], index_col=0)\n",
    "df"
   ]
  },
  {
   "cell_type": "code",
   "execution_count": 78,
   "id": "93f022ba-f893-480b-beaa-1d7193c39071",
   "metadata": {},
   "outputs": [
    {
     "name": "stdout",
     "output_type": "stream",
     "text": [
      "BibliographyType,ISBN,Identifier,Author,Title,Journal,Volume,Number,Month,Pages,Year,Address,Note,URL,Booktitle,Chapter,Edition,Series,Editor,Publisher,ReportType,Howpublished,Institution,Organizations,School,Annote,Custom1,Custom2,Custom3,Custom4,Custom5\n"
     ]
    }
   ],
   "source": [
    "!head -1 data/search_Bibliothek.csv"
   ]
  },
  {
   "attachments": {},
   "cell_type": "markdown",
   "id": "52190774-4361-48ee-ac4e-f82289091f31",
   "metadata": {},
   "source": [
    "Vorsicht mit Separatoren: Pandas ist oft, vor allem wenn Kommata als Trennzeichen genutzt werden, nicht in der Lage, CSV Dateien korrekt einzulesen:"
   ]
  },
  {
   "cell_type": "code",
   "execution_count": 79,
   "id": "d6dab8c5-935a-4e21-b9a3-5e88134e18a0",
   "metadata": {},
   "outputs": [
    {
     "ename": "ParserError",
     "evalue": "Error tokenizing data. C error: Expected 31 fields in line 21, saw 34\n",
     "output_type": "error",
     "traceback": [
      "\u001b[0;31m---------------------------------------------------------------------------\u001b[0m",
      "\u001b[0;31mParserError\u001b[0m                               Traceback (most recent call last)",
      "Cell \u001b[0;32mIn[79], line 2\u001b[0m\n\u001b[1;32m      1\u001b[0m path \u001b[38;5;241m=\u001b[39m \u001b[38;5;124m'\u001b[39m\u001b[38;5;124mdata/search_Bibliothek.csv\u001b[39m\u001b[38;5;124m'\u001b[39m\n\u001b[0;32m----> 2\u001b[0m df \u001b[38;5;241m=\u001b[39m \u001b[43mpd\u001b[49m\u001b[38;5;241;43m.\u001b[39;49m\u001b[43mread_csv\u001b[49m\u001b[43m(\u001b[49m\u001b[43mpath\u001b[49m\u001b[43m)\u001b[49m\n",
      "File \u001b[0;32m~/anaconda3/lib/python3.8/site-packages/pandas/io/parsers/readers.py:912\u001b[0m, in \u001b[0;36mread_csv\u001b[0;34m(filepath_or_buffer, sep, delimiter, header, names, index_col, usecols, dtype, engine, converters, true_values, false_values, skipinitialspace, skiprows, skipfooter, nrows, na_values, keep_default_na, na_filter, verbose, skip_blank_lines, parse_dates, infer_datetime_format, keep_date_col, date_parser, date_format, dayfirst, cache_dates, iterator, chunksize, compression, thousands, decimal, lineterminator, quotechar, quoting, doublequote, escapechar, comment, encoding, encoding_errors, dialect, on_bad_lines, delim_whitespace, low_memory, memory_map, float_precision, storage_options, dtype_backend)\u001b[0m\n\u001b[1;32m    899\u001b[0m kwds_defaults \u001b[38;5;241m=\u001b[39m _refine_defaults_read(\n\u001b[1;32m    900\u001b[0m     dialect,\n\u001b[1;32m    901\u001b[0m     delimiter,\n\u001b[0;32m   (...)\u001b[0m\n\u001b[1;32m    908\u001b[0m     dtype_backend\u001b[38;5;241m=\u001b[39mdtype_backend,\n\u001b[1;32m    909\u001b[0m )\n\u001b[1;32m    910\u001b[0m kwds\u001b[38;5;241m.\u001b[39mupdate(kwds_defaults)\n\u001b[0;32m--> 912\u001b[0m \u001b[38;5;28;01mreturn\u001b[39;00m \u001b[43m_read\u001b[49m\u001b[43m(\u001b[49m\u001b[43mfilepath_or_buffer\u001b[49m\u001b[43m,\u001b[49m\u001b[43m \u001b[49m\u001b[43mkwds\u001b[49m\u001b[43m)\u001b[49m\n",
      "File \u001b[0;32m~/anaconda3/lib/python3.8/site-packages/pandas/io/parsers/readers.py:583\u001b[0m, in \u001b[0;36m_read\u001b[0;34m(filepath_or_buffer, kwds)\u001b[0m\n\u001b[1;32m    580\u001b[0m     \u001b[38;5;28;01mreturn\u001b[39;00m parser\n\u001b[1;32m    582\u001b[0m \u001b[38;5;28;01mwith\u001b[39;00m parser:\n\u001b[0;32m--> 583\u001b[0m     \u001b[38;5;28;01mreturn\u001b[39;00m \u001b[43mparser\u001b[49m\u001b[38;5;241;43m.\u001b[39;49m\u001b[43mread\u001b[49m\u001b[43m(\u001b[49m\u001b[43mnrows\u001b[49m\u001b[43m)\u001b[49m\n",
      "File \u001b[0;32m~/anaconda3/lib/python3.8/site-packages/pandas/io/parsers/readers.py:1704\u001b[0m, in \u001b[0;36mTextFileReader.read\u001b[0;34m(self, nrows)\u001b[0m\n\u001b[1;32m   1697\u001b[0m nrows \u001b[38;5;241m=\u001b[39m validate_integer(\u001b[38;5;124m\"\u001b[39m\u001b[38;5;124mnrows\u001b[39m\u001b[38;5;124m\"\u001b[39m, nrows)\n\u001b[1;32m   1698\u001b[0m \u001b[38;5;28;01mtry\u001b[39;00m:\n\u001b[1;32m   1699\u001b[0m     \u001b[38;5;66;03m# error: \"ParserBase\" has no attribute \"read\"\u001b[39;00m\n\u001b[1;32m   1700\u001b[0m     (\n\u001b[1;32m   1701\u001b[0m         index,\n\u001b[1;32m   1702\u001b[0m         columns,\n\u001b[1;32m   1703\u001b[0m         col_dict,\n\u001b[0;32m-> 1704\u001b[0m     ) \u001b[38;5;241m=\u001b[39m \u001b[38;5;28;43mself\u001b[39;49m\u001b[38;5;241;43m.\u001b[39;49m\u001b[43m_engine\u001b[49m\u001b[38;5;241;43m.\u001b[39;49m\u001b[43mread\u001b[49m\u001b[43m(\u001b[49m\u001b[43m  \u001b[49m\u001b[38;5;66;43;03m# type: ignore[attr-defined]\u001b[39;49;00m\n\u001b[1;32m   1705\u001b[0m \u001b[43m        \u001b[49m\u001b[43mnrows\u001b[49m\n\u001b[1;32m   1706\u001b[0m \u001b[43m    \u001b[49m\u001b[43m)\u001b[49m\n\u001b[1;32m   1707\u001b[0m \u001b[38;5;28;01mexcept\u001b[39;00m \u001b[38;5;167;01mException\u001b[39;00m:\n\u001b[1;32m   1708\u001b[0m     \u001b[38;5;28mself\u001b[39m\u001b[38;5;241m.\u001b[39mclose()\n",
      "File \u001b[0;32m~/anaconda3/lib/python3.8/site-packages/pandas/io/parsers/c_parser_wrapper.py:234\u001b[0m, in \u001b[0;36mCParserWrapper.read\u001b[0;34m(self, nrows)\u001b[0m\n\u001b[1;32m    232\u001b[0m \u001b[38;5;28;01mtry\u001b[39;00m:\n\u001b[1;32m    233\u001b[0m     \u001b[38;5;28;01mif\u001b[39;00m \u001b[38;5;28mself\u001b[39m\u001b[38;5;241m.\u001b[39mlow_memory:\n\u001b[0;32m--> 234\u001b[0m         chunks \u001b[38;5;241m=\u001b[39m \u001b[38;5;28;43mself\u001b[39;49m\u001b[38;5;241;43m.\u001b[39;49m\u001b[43m_reader\u001b[49m\u001b[38;5;241;43m.\u001b[39;49m\u001b[43mread_low_memory\u001b[49m\u001b[43m(\u001b[49m\u001b[43mnrows\u001b[49m\u001b[43m)\u001b[49m\n\u001b[1;32m    235\u001b[0m         \u001b[38;5;66;03m# destructive to chunks\u001b[39;00m\n\u001b[1;32m    236\u001b[0m         data \u001b[38;5;241m=\u001b[39m _concatenate_chunks(chunks)\n",
      "File \u001b[0;32m~/anaconda3/lib/python3.8/site-packages/pandas/_libs/parsers.pyx:814\u001b[0m, in \u001b[0;36mpandas._libs.parsers.TextReader.read_low_memory\u001b[0;34m()\u001b[0m\n",
      "File \u001b[0;32m~/anaconda3/lib/python3.8/site-packages/pandas/_libs/parsers.pyx:875\u001b[0m, in \u001b[0;36mpandas._libs.parsers.TextReader._read_rows\u001b[0;34m()\u001b[0m\n",
      "File \u001b[0;32m~/anaconda3/lib/python3.8/site-packages/pandas/_libs/parsers.pyx:850\u001b[0m, in \u001b[0;36mpandas._libs.parsers.TextReader._tokenize_rows\u001b[0;34m()\u001b[0m\n",
      "File \u001b[0;32m~/anaconda3/lib/python3.8/site-packages/pandas/_libs/parsers.pyx:861\u001b[0m, in \u001b[0;36mpandas._libs.parsers.TextReader._check_tokenize_status\u001b[0;34m()\u001b[0m\n",
      "File \u001b[0;32m~/anaconda3/lib/python3.8/site-packages/pandas/_libs/parsers.pyx:2029\u001b[0m, in \u001b[0;36mpandas._libs.parsers.raise_parser_error\u001b[0;34m()\u001b[0m\n",
      "\u001b[0;31mParserError\u001b[0m: Error tokenizing data. C error: Expected 31 fields in line 21, saw 34\n"
     ]
    }
   ],
   "source": [
    "path = 'data/search_Bibliothek.csv'\n",
    "df = pd.read_csv(path)"
   ]
  },
  {
   "attachments": {},
   "cell_type": "markdown",
   "id": "d10edf25-f1c2-4d65-a747-4699bb926d95",
   "metadata": {},
   "source": [
    "In Zeile 21 sind im Text Kommata enthalten, was zu einer falschen Anzal erkannter Spalten führt."
   ]
  },
  {
   "cell_type": "code",
   "execution_count": 80,
   "id": "7e70d61e-9df6-4d4e-b407-083b74f9295b",
   "metadata": {},
   "outputs": [
    {
     "name": "stdout",
     "output_type": "stream",
     "text": [
      "7,\"\",\"ernst_unwahrscheinlichkeit_2018\",\"Ernst, Wolfgang\",\"Die Unwahrscheinlichkeit von Wissenstradition und die Beharrlichkeit der Bibliothek\",\"Bibliothek Forschung und Praxis\",42,2,\"\",\"379--386\",2018,\"\",\"\",\"https://www.degruyter.com/view/j/bfup.2018.42.issue-2/bfp-2018-0038/bfp-2018-0038.xml\",\"\",\"\",\"\",\"\",\"\",\"\",\"\",\"\",\"\",\"\",\"\",\"\",\"Mit dem Wandel der Leitmedien von der Buchform zur Zeitform ändert sich der Auftrag der Bibliothek oder lässt diesen zumindest deutlicher erscheinen: Sie hat ihre Rolle im kybernetischen Denken der Wissenszirkulation zu aktualisieren als Zeitkanal zwischen materieller Entropie und ordnungsbewahrender Negentropie. Zwar ist der Hypertext eine aktuelle Alternative zum raumbezogenen Gedächtnis und eröffnet neue Optionen der Wissensnavigation, doch angesichts der Zerstreuung in Netzarchitekturen bedarf es der Bibliothek, um dem Verlust der Nachhaltigkeit von Online-Wissen katechontisch (verzögernd) entgegenzuwirken.\",\"\",\"bibliotheken\",\"\",\"\"\n"
     ]
    }
   ],
   "source": [
    "!head -20 data/search_Bibliothek.csv | tail +20"
   ]
  },
  {
   "cell_type": "code",
   "execution_count": 81,
   "id": "740a08f1-a488-452a-87dc-924ad33c4550",
   "metadata": {},
   "outputs": [
    {
     "name": "stdout",
     "output_type": "stream",
     "text": [
      "33\n"
     ]
    }
   ],
   "source": [
    "# Kommas als Seperatoren schwierig wenn Zellen Kommas enthalten\n",
    "!head -20 data/search_Bibliothek.csv | tail +20 | tr -cd ',' | wc -c"
   ]
  },
  {
   "attachments": {},
   "cell_type": "markdown",
   "id": "fe27adcf-0aba-4432-81b9-f52d6c09c6f4",
   "metadata": {},
   "source": [
    "Es gibt zwar Möglichkeiten, das Problem zu umgehen (z.B. über die Verwendung von \"quotechar\"), jedoch bietet es sich an, auf hierarchische Dateiformate wie JSON zurückzugreifen, wenn diese Verfügbar sind."
   ]
  },
  {
   "attachments": {},
   "cell_type": "markdown",
   "id": "b46dd92b-dfc9-4226-91f5-3db43977fc93",
   "metadata": {},
   "source": [
    "### JSON einlesen"
   ]
  },
  {
   "cell_type": "code",
   "execution_count": 82,
   "id": "25c6550a-9560-45d5-9ecc-5a0b9ea40f5e",
   "metadata": {},
   "outputs": [],
   "source": [
    "# Einlesen einer JSON datei:\n",
    "df_nyt = pd.read_json(\"data/nyt_bestseller.json\")"
   ]
  },
  {
   "cell_type": "code",
   "execution_count": 83,
   "id": "5e6eb41f-f360-4fa7-9cc8-fe450d342e48",
   "metadata": {},
   "outputs": [
    {
     "data": {
      "text/html": [
       "<div>\n",
       "<style scoped>\n",
       "    .dataframe tbody tr th:only-of-type {\n",
       "        vertical-align: middle;\n",
       "    }\n",
       "\n",
       "    .dataframe tbody tr th {\n",
       "        vertical-align: top;\n",
       "    }\n",
       "\n",
       "    .dataframe thead th {\n",
       "        text-align: right;\n",
       "    }\n",
       "</style>\n",
       "<table border=\"1\" class=\"dataframe\">\n",
       "  <thead>\n",
       "    <tr style=\"text-align: right;\">\n",
       "      <th></th>\n",
       "      <th>_id</th>\n",
       "      <th>bestsellers_date</th>\n",
       "      <th>published_date</th>\n",
       "      <th>amazon_product_url</th>\n",
       "      <th>author</th>\n",
       "      <th>description</th>\n",
       "      <th>price</th>\n",
       "      <th>publisher</th>\n",
       "      <th>title</th>\n",
       "      <th>rank</th>\n",
       "      <th>rank_last_week</th>\n",
       "      <th>weeks_on_list</th>\n",
       "    </tr>\n",
       "  </thead>\n",
       "  <tbody>\n",
       "    <tr>\n",
       "      <th>0</th>\n",
       "      <td>{'$oid': '5b4aa4ead3089013507db18b'}</td>\n",
       "      <td>{'$date': {'$numberLong': '1211587200000'}}</td>\n",
       "      <td>{'$date': {'$numberLong': '1212883200000'}}</td>\n",
       "      <td>http://www.amazon.com/Odd-Hours-Dean-Koontz/dp...</td>\n",
       "      <td>Dean R Koontz</td>\n",
       "      <td>Odd Thomas, who can communicate with the dead,...</td>\n",
       "      <td>{'$numberInt': '27'}</td>\n",
       "      <td>Bantam</td>\n",
       "      <td>ODD HOURS</td>\n",
       "      <td>{'$numberInt': '1'}</td>\n",
       "      <td>{'$numberInt': '0'}</td>\n",
       "      <td>{'$numberInt': '1'}</td>\n",
       "    </tr>\n",
       "    <tr>\n",
       "      <th>1</th>\n",
       "      <td>{'$oid': '5b4aa4ead3089013507db18c'}</td>\n",
       "      <td>{'$date': {'$numberLong': '1211587200000'}}</td>\n",
       "      <td>{'$date': {'$numberLong': '1212883200000'}}</td>\n",
       "      <td>http://www.amazon.com/The-Host-Novel-Stephenie...</td>\n",
       "      <td>Stephenie Meyer</td>\n",
       "      <td>Aliens have taken control of the minds and bod...</td>\n",
       "      <td>{'$numberDouble': '25.99'}</td>\n",
       "      <td>Little, Brown</td>\n",
       "      <td>THE HOST</td>\n",
       "      <td>{'$numberInt': '2'}</td>\n",
       "      <td>{'$numberInt': '1'}</td>\n",
       "      <td>{'$numberInt': '3'}</td>\n",
       "    </tr>\n",
       "    <tr>\n",
       "      <th>2</th>\n",
       "      <td>{'$oid': '5b4aa4ead3089013507db18d'}</td>\n",
       "      <td>{'$date': {'$numberLong': '1211587200000'}}</td>\n",
       "      <td>{'$date': {'$numberLong': '1212883200000'}}</td>\n",
       "      <td>http://www.amazon.com/Love-Youre-With-Emily-Gi...</td>\n",
       "      <td>Emily Giffin</td>\n",
       "      <td>A woman's happy marriage is shaken when she en...</td>\n",
       "      <td>{'$numberDouble': '24.95'}</td>\n",
       "      <td>St. Martin's</td>\n",
       "      <td>LOVE THE ONE YOU'RE WITH</td>\n",
       "      <td>{'$numberInt': '3'}</td>\n",
       "      <td>{'$numberInt': '2'}</td>\n",
       "      <td>{'$numberInt': '2'}</td>\n",
       "    </tr>\n",
       "    <tr>\n",
       "      <th>3</th>\n",
       "      <td>{'$oid': '5b4aa4ead3089013507db18e'}</td>\n",
       "      <td>{'$date': {'$numberLong': '1211587200000'}}</td>\n",
       "      <td>{'$date': {'$numberLong': '1212883200000'}}</td>\n",
       "      <td>http://www.amazon.com/The-Front-Garano-Patrici...</td>\n",
       "      <td>Patricia Cornwell</td>\n",
       "      <td>A Massachusetts state investigator and his tea...</td>\n",
       "      <td>{'$numberDouble': '22.95'}</td>\n",
       "      <td>Putnam</td>\n",
       "      <td>THE FRONT</td>\n",
       "      <td>{'$numberInt': '4'}</td>\n",
       "      <td>{'$numberInt': '0'}</td>\n",
       "      <td>{'$numberInt': '1'}</td>\n",
       "    </tr>\n",
       "    <tr>\n",
       "      <th>4</th>\n",
       "      <td>{'$oid': '5b4aa4ead3089013507db18f'}</td>\n",
       "      <td>{'$date': {'$numberLong': '1211587200000'}}</td>\n",
       "      <td>{'$date': {'$numberLong': '1212883200000'}}</td>\n",
       "      <td>http://www.amazon.com/Snuff-Chuck-Palahniuk/dp...</td>\n",
       "      <td>Chuck Palahniuk</td>\n",
       "      <td>An aging porn queens aims to cap her career by...</td>\n",
       "      <td>{'$numberDouble': '24.95'}</td>\n",
       "      <td>Doubleday</td>\n",
       "      <td>SNUFF</td>\n",
       "      <td>{'$numberInt': '5'}</td>\n",
       "      <td>{'$numberInt': '0'}</td>\n",
       "      <td>{'$numberInt': '1'}</td>\n",
       "    </tr>\n",
       "    <tr>\n",
       "      <th>...</th>\n",
       "      <td>...</td>\n",
       "      <td>...</td>\n",
       "      <td>...</td>\n",
       "      <td>...</td>\n",
       "      <td>...</td>\n",
       "      <td>...</td>\n",
       "      <td>...</td>\n",
       "      <td>...</td>\n",
       "      <td>...</td>\n",
       "      <td>...</td>\n",
       "      <td>...</td>\n",
       "      <td>...</td>\n",
       "    </tr>\n",
       "    <tr>\n",
       "      <th>95</th>\n",
       "      <td>{'$oid': '5b4aa4ead3089013507db1ea'}</td>\n",
       "      <td>{'$date': {'$numberLong': '1214006400000'}}</td>\n",
       "      <td>{'$date': {'$numberLong': '1215302400000'}}</td>\n",
       "      <td>http://www.amazon.com/Blood-Anita-Blake-Vampir...</td>\n",
       "      <td>Laurell K Hamilton</td>\n",
       "      <td>The vampire hunter Anita Blake is involved in ...</td>\n",
       "      <td>{'$numberDouble': '25.95'}</td>\n",
       "      <td>Berkley</td>\n",
       "      <td>BLOOD NOIR</td>\n",
       "      <td>{'$numberInt': '16'}</td>\n",
       "      <td>{'$numberInt': '12'}</td>\n",
       "      <td>{'$numberInt': '4'}</td>\n",
       "    </tr>\n",
       "    <tr>\n",
       "      <th>96</th>\n",
       "      <td>{'$oid': '5b4aa4ead3089013507db1eb'}</td>\n",
       "      <td>{'$date': {'$numberLong': '1214006400000'}}</td>\n",
       "      <td>{'$date': {'$numberLong': '1215302400000'}}</td>\n",
       "      <td>http://www.amazon.com/Snuff-Chuck-Palahniuk/dp...</td>\n",
       "      <td>Chuck Palahniuk</td>\n",
       "      <td>An aging porn queens aims to cap her career by...</td>\n",
       "      <td>{'$numberInt': '0'}</td>\n",
       "      <td>Doubleday</td>\n",
       "      <td>SNUFF</td>\n",
       "      <td>{'$numberInt': '17'}</td>\n",
       "      <td>{'$numberInt': '0'}</td>\n",
       "      <td>{'$numberInt': '0'}</td>\n",
       "    </tr>\n",
       "    <tr>\n",
       "      <th>97</th>\n",
       "      <td>{'$oid': '5b4aa4ead3089013507db1ec'}</td>\n",
       "      <td>{'$date': {'$numberLong': '1214006400000'}}</td>\n",
       "      <td>{'$date': {'$numberLong': '1215302400000'}}</td>\n",
       "      <td>http://www.amazon.com/Death-Honor-Bound-Book/d...</td>\n",
       "      <td>W E B Griffin and William E Butterworth IV</td>\n",
       "      <td>A Marine pilot spies in  Argentina in 1943; th...</td>\n",
       "      <td>{'$numberInt': '0'}</td>\n",
       "      <td>Putnam</td>\n",
       "      <td>DEATH AND HONOR</td>\n",
       "      <td>{'$numberInt': '18'}</td>\n",
       "      <td>{'$numberInt': '0'}</td>\n",
       "      <td>{'$numberInt': '0'}</td>\n",
       "    </tr>\n",
       "    <tr>\n",
       "      <th>98</th>\n",
       "      <td>{'$oid': '5b4aa4ead3089013507db1ed'}</td>\n",
       "      <td>{'$date': {'$numberLong': '1214006400000'}}</td>\n",
       "      <td>{'$date': {'$numberLong': '1215302400000'}}</td>\n",
       "      <td>http://www.amazon.com/The-Spies-Warsaw-A-Novel...</td>\n",
       "      <td>Alan Furst</td>\n",
       "      <td>Intrigue in Poland just before World War II.</td>\n",
       "      <td>{'$numberInt': '0'}</td>\n",
       "      <td>Random House</td>\n",
       "      <td>THE SPIES OF WARSAW</td>\n",
       "      <td>{'$numberInt': '19'}</td>\n",
       "      <td>{'$numberInt': '0'}</td>\n",
       "      <td>{'$numberInt': '0'}</td>\n",
       "    </tr>\n",
       "    <tr>\n",
       "      <th>99</th>\n",
       "      <td>{'$oid': '5b4aa4ead3089013507db1ee'}</td>\n",
       "      <td>{'$date': {'$numberLong': '1214006400000'}}</td>\n",
       "      <td>{'$date': {'$numberLong': '1215302400000'}}</td>\n",
       "      <td>http://www.amazon.com/Phantom-Prey-John-Sandfo...</td>\n",
       "      <td>John Sandford</td>\n",
       "      <td>The Minneapolis detective Lucas Davenport inve...</td>\n",
       "      <td>{'$numberInt': '0'}</td>\n",
       "      <td>Putnam</td>\n",
       "      <td>PHANTOM PREY</td>\n",
       "      <td>{'$numberInt': '20'}</td>\n",
       "      <td>{'$numberInt': '0'}</td>\n",
       "      <td>{'$numberInt': '0'}</td>\n",
       "    </tr>\n",
       "  </tbody>\n",
       "</table>\n",
       "<p>100 rows × 12 columns</p>\n",
       "</div>"
      ],
      "text/plain": [
       "                                     _id  \\\n",
       "0   {'$oid': '5b4aa4ead3089013507db18b'}   \n",
       "1   {'$oid': '5b4aa4ead3089013507db18c'}   \n",
       "2   {'$oid': '5b4aa4ead3089013507db18d'}   \n",
       "3   {'$oid': '5b4aa4ead3089013507db18e'}   \n",
       "4   {'$oid': '5b4aa4ead3089013507db18f'}   \n",
       "..                                   ...   \n",
       "95  {'$oid': '5b4aa4ead3089013507db1ea'}   \n",
       "96  {'$oid': '5b4aa4ead3089013507db1eb'}   \n",
       "97  {'$oid': '5b4aa4ead3089013507db1ec'}   \n",
       "98  {'$oid': '5b4aa4ead3089013507db1ed'}   \n",
       "99  {'$oid': '5b4aa4ead3089013507db1ee'}   \n",
       "\n",
       "                               bestsellers_date  \\\n",
       "0   {'$date': {'$numberLong': '1211587200000'}}   \n",
       "1   {'$date': {'$numberLong': '1211587200000'}}   \n",
       "2   {'$date': {'$numberLong': '1211587200000'}}   \n",
       "3   {'$date': {'$numberLong': '1211587200000'}}   \n",
       "4   {'$date': {'$numberLong': '1211587200000'}}   \n",
       "..                                          ...   \n",
       "95  {'$date': {'$numberLong': '1214006400000'}}   \n",
       "96  {'$date': {'$numberLong': '1214006400000'}}   \n",
       "97  {'$date': {'$numberLong': '1214006400000'}}   \n",
       "98  {'$date': {'$numberLong': '1214006400000'}}   \n",
       "99  {'$date': {'$numberLong': '1214006400000'}}   \n",
       "\n",
       "                                 published_date  \\\n",
       "0   {'$date': {'$numberLong': '1212883200000'}}   \n",
       "1   {'$date': {'$numberLong': '1212883200000'}}   \n",
       "2   {'$date': {'$numberLong': '1212883200000'}}   \n",
       "3   {'$date': {'$numberLong': '1212883200000'}}   \n",
       "4   {'$date': {'$numberLong': '1212883200000'}}   \n",
       "..                                          ...   \n",
       "95  {'$date': {'$numberLong': '1215302400000'}}   \n",
       "96  {'$date': {'$numberLong': '1215302400000'}}   \n",
       "97  {'$date': {'$numberLong': '1215302400000'}}   \n",
       "98  {'$date': {'$numberLong': '1215302400000'}}   \n",
       "99  {'$date': {'$numberLong': '1215302400000'}}   \n",
       "\n",
       "                                   amazon_product_url  \\\n",
       "0   http://www.amazon.com/Odd-Hours-Dean-Koontz/dp...   \n",
       "1   http://www.amazon.com/The-Host-Novel-Stephenie...   \n",
       "2   http://www.amazon.com/Love-Youre-With-Emily-Gi...   \n",
       "3   http://www.amazon.com/The-Front-Garano-Patrici...   \n",
       "4   http://www.amazon.com/Snuff-Chuck-Palahniuk/dp...   \n",
       "..                                                ...   \n",
       "95  http://www.amazon.com/Blood-Anita-Blake-Vampir...   \n",
       "96  http://www.amazon.com/Snuff-Chuck-Palahniuk/dp...   \n",
       "97  http://www.amazon.com/Death-Honor-Bound-Book/d...   \n",
       "98  http://www.amazon.com/The-Spies-Warsaw-A-Novel...   \n",
       "99  http://www.amazon.com/Phantom-Prey-John-Sandfo...   \n",
       "\n",
       "                                        author  \\\n",
       "0                                Dean R Koontz   \n",
       "1                              Stephenie Meyer   \n",
       "2                                 Emily Giffin   \n",
       "3                            Patricia Cornwell   \n",
       "4                              Chuck Palahniuk   \n",
       "..                                         ...   \n",
       "95                          Laurell K Hamilton   \n",
       "96                             Chuck Palahniuk   \n",
       "97  W E B Griffin and William E Butterworth IV   \n",
       "98                                  Alan Furst   \n",
       "99                               John Sandford   \n",
       "\n",
       "                                          description  \\\n",
       "0   Odd Thomas, who can communicate with the dead,...   \n",
       "1   Aliens have taken control of the minds and bod...   \n",
       "2   A woman's happy marriage is shaken when she en...   \n",
       "3   A Massachusetts state investigator and his tea...   \n",
       "4   An aging porn queens aims to cap her career by...   \n",
       "..                                                ...   \n",
       "95  The vampire hunter Anita Blake is involved in ...   \n",
       "96  An aging porn queens aims to cap her career by...   \n",
       "97  A Marine pilot spies in  Argentina in 1943; th...   \n",
       "98       Intrigue in Poland just before World War II.   \n",
       "99  The Minneapolis detective Lucas Davenport inve...   \n",
       "\n",
       "                         price      publisher                     title  \\\n",
       "0         {'$numberInt': '27'}         Bantam                 ODD HOURS   \n",
       "1   {'$numberDouble': '25.99'}  Little, Brown                  THE HOST   \n",
       "2   {'$numberDouble': '24.95'}   St. Martin's  LOVE THE ONE YOU'RE WITH   \n",
       "3   {'$numberDouble': '22.95'}         Putnam                 THE FRONT   \n",
       "4   {'$numberDouble': '24.95'}      Doubleday                     SNUFF   \n",
       "..                         ...            ...                       ...   \n",
       "95  {'$numberDouble': '25.95'}        Berkley                BLOOD NOIR   \n",
       "96         {'$numberInt': '0'}      Doubleday                     SNUFF   \n",
       "97         {'$numberInt': '0'}         Putnam           DEATH AND HONOR   \n",
       "98         {'$numberInt': '0'}   Random House       THE SPIES OF WARSAW   \n",
       "99         {'$numberInt': '0'}         Putnam              PHANTOM PREY   \n",
       "\n",
       "                    rank        rank_last_week        weeks_on_list  \n",
       "0    {'$numberInt': '1'}   {'$numberInt': '0'}  {'$numberInt': '1'}  \n",
       "1    {'$numberInt': '2'}   {'$numberInt': '1'}  {'$numberInt': '3'}  \n",
       "2    {'$numberInt': '3'}   {'$numberInt': '2'}  {'$numberInt': '2'}  \n",
       "3    {'$numberInt': '4'}   {'$numberInt': '0'}  {'$numberInt': '1'}  \n",
       "4    {'$numberInt': '5'}   {'$numberInt': '0'}  {'$numberInt': '1'}  \n",
       "..                   ...                   ...                  ...  \n",
       "95  {'$numberInt': '16'}  {'$numberInt': '12'}  {'$numberInt': '4'}  \n",
       "96  {'$numberInt': '17'}   {'$numberInt': '0'}  {'$numberInt': '0'}  \n",
       "97  {'$numberInt': '18'}   {'$numberInt': '0'}  {'$numberInt': '0'}  \n",
       "98  {'$numberInt': '19'}   {'$numberInt': '0'}  {'$numberInt': '0'}  \n",
       "99  {'$numberInt': '20'}   {'$numberInt': '0'}  {'$numberInt': '0'}  \n",
       "\n",
       "[100 rows x 12 columns]"
      ]
     },
     "execution_count": 83,
     "metadata": {},
     "output_type": "execute_result"
    }
   ],
   "source": [
    "df_nyt"
   ]
  },
  {
   "cell_type": "code",
   "execution_count": null,
   "id": "004b4751-f4a1-4aba-ba50-cd207ac76eda",
   "metadata": {},
   "outputs": [],
   "source": [
    "df_nyt.info()"
   ]
  },
  {
   "attachments": {},
   "cell_type": "markdown",
   "id": "ef924a13-b777-42a3-a173-a0e199b53801",
   "metadata": {},
   "source": [
    "Wir können noch keine Aussage über Datentypen treffen."
   ]
  },
  {
   "cell_type": "code",
   "execution_count": null,
   "id": "c77dbd7a-26d2-4f5b-acd8-c544ce68afbb",
   "metadata": {},
   "outputs": [],
   "source": [
    "df_nyt.bestsellers_date[3]"
   ]
  },
  {
   "cell_type": "code",
   "execution_count": null,
   "id": "67108ff5-a2f7-40b4-bb40-d59f33ecb1db",
   "metadata": {},
   "outputs": [],
   "source": [
    "type(df_nyt.bestsellers_date[3])"
   ]
  },
  {
   "attachments": {},
   "cell_type": "markdown",
   "id": "5658877e-4097-4a65-ae21-11f41b5d6356",
   "metadata": {},
   "source": [
    "#### Bibliografische Informationen von Bibsonomy \n",
    "Als nächstes betrachten wir einen typischen Fall für den Import von bibliografischen Informationen. Wir lesen das Ergebnis einer Literatursuche bei Bibsonomy über das requests Modul ein."
   ]
  },
  {
   "cell_type": "code",
   "execution_count": null,
   "id": "dbaf818e-8c3e-4ed3-b2a9-2b6bf986f0e6",
   "metadata": {},
   "outputs": [],
   "source": [
    "# einlesen von Daten aus Bibsonomy\n",
    "import requests\n",
    "url = \"https://www.bibsonomy.org/json/search/Bibliothek?items=1000\"\n",
    "result = requests.get(url) # result ist ein requests.models.Response Objekt\n",
    "data = result.json() # das Response-Objekt bietet diese nützliche Methode an"
   ]
  },
  {
   "attachments": {},
   "cell_type": "markdown",
   "id": "c15bf786-9598-4786-a738-82186b1e5a24",
   "metadata": {},
   "source": [
    "Wie zuvor haben wir hier ein Dictionary, das drei Listen von Dictionaries enthält. Wir interessieren uns für den Wert des Keys \"items\", der die Suchergebnisse enthält:"
   ]
  },
  {
   "cell_type": "code",
   "execution_count": null,
   "id": "9dc26b04-2613-4245-aa5d-fb8f440b741b",
   "metadata": {},
   "outputs": [],
   "source": [
    "data.keys()"
   ]
  },
  {
   "cell_type": "code",
   "execution_count": null,
   "id": "148ed889-538c-4fe5-8d80-c132d2847800",
   "metadata": {
    "tags": []
   },
   "outputs": [],
   "source": [
    "type(data[\"items\"])"
   ]
  },
  {
   "cell_type": "code",
   "execution_count": null,
   "id": "5af3ae96-9c21-455e-813c-9abab79876ef",
   "metadata": {},
   "outputs": [],
   "source": [
    "# Hier zum Beispiel der 6. Eintrag: \n",
    "data[\"items\"][5]"
   ]
  },
  {
   "attachments": {},
   "cell_type": "markdown",
   "id": "9824f8e3-3bf4-4eb0-acbf-61eecf57e551",
   "metadata": {},
   "source": [
    "Da es sich hier um eine Liste von Dictionaries handelt, können wir diese ganz einfach direkt mit Pandas als DataFrame einlesen."
   ]
  },
  {
   "cell_type": "code",
   "execution_count": null,
   "id": "3875eed6-e38c-45c6-9154-1d360f2a4b20",
   "metadata": {},
   "outputs": [],
   "source": [
    "df_bibsonomy = pd.DataFrame(data[\"items\"])"
   ]
  },
  {
   "cell_type": "code",
   "execution_count": null,
   "id": "e4d25ac8-a01c-4504-8874-d3e6823241c9",
   "metadata": {},
   "outputs": [],
   "source": [
    "df_bibsonomy"
   ]
  },
  {
   "attachments": {},
   "cell_type": "markdown",
   "id": "f7408edd-6787-43ea-82ea-84999515990f",
   "metadata": {
    "tags": []
   },
   "source": [
    "### Andere Dateiformate"
   ]
  },
  {
   "attachments": {},
   "cell_type": "markdown",
   "id": "fc19424a-3e01-4128-82d7-64cdf3244d1a",
   "metadata": {},
   "source": [
    "Beispielsweise mit read_excel() und read_xml() lassen sich noch andere Dateiformate als DataFrame lesen. Eine vollständige Übersicht findet sich [hier](https://pandas.pydata.org/docs/reference/io.html)."
   ]
  },
  {
   "attachments": {},
   "cell_type": "markdown",
   "id": "28645db9-1003-41f8-a1f9-cca3d60c1892",
   "metadata": {},
   "source": [
    "## Daten mit Pandas Auswählen und Bereinigen\n",
    "Im folgenden betrachten wir einige Möglichkeiten, Daten Auszuwählen und zu Filtern."
   ]
  },
  {
   "attachments": {},
   "cell_type": "markdown",
   "id": "21a5afeb-f34f-4507-a61e-467b3ce8057d",
   "metadata": {},
   "source": [
    "### Spalten auswählen"
   ]
  },
  {
   "cell_type": "code",
   "execution_count": null,
   "id": "49d61b31-c19d-4060-95c7-0d15845c38d2",
   "metadata": {},
   "outputs": [],
   "source": [
    "# Wir betrachten die Spaltennamen:\n",
    "df_bibsonomy.columns"
   ]
  },
  {
   "cell_type": "code",
   "execution_count": null,
   "id": "77b0a7d1-53d3-49a8-b715-08006da28fdd",
   "metadata": {},
   "outputs": [],
   "source": [
    "# Die Spalte \"author\" enthält anscheinend in vielen Zeilen keine Angabe:\n",
    "df_bibsonomy.author"
   ]
  },
  {
   "cell_type": "code",
   "execution_count": null,
   "id": "3c46fadd-ba8d-4acb-a8e6-9cbe7f5ad407",
   "metadata": {},
   "outputs": [],
   "source": [
    "# Ebenso die Spalte \"year\":\n",
    "df_bibsonomy.year"
   ]
  },
  {
   "cell_type": "code",
   "execution_count": null,
   "id": "e4232414-5548-4b01-a4cf-d19d2479702b",
   "metadata": {},
   "outputs": [],
   "source": [
    "# Die Spalte Label enthält die Titel der Veröffentlichungen:\n",
    "df_bibsonomy.label"
   ]
  },
  {
   "attachments": {},
   "cell_type": "markdown",
   "id": "e82ca7c4-6e2e-43c9-b8c5-65939fa708a0",
   "metadata": {},
   "source": [
    "Über das Format  \n",
    "```\n",
    "DataFrame[[\"v1\", \"v2\", \"v3\", \"v4\"]]\n",
    "```\n",
    "Lässt sich eine Ansicht, also eine art Kopie des DataFrames ausgeben, das nur die angegebenen Spalten enthält."
   ]
  },
  {
   "cell_type": "code",
   "execution_count": null,
   "id": "18f2dec7-576b-452a-a3ec-94f183040cf0",
   "metadata": {},
   "outputs": [],
   "source": [
    "df_bibsonomy[[\"label\", \"author\", \"year\", \"type\"]]"
   ]
  },
  {
   "attachments": {},
   "cell_type": "markdown",
   "id": "3a12565d-1caf-4152-a4d0-a437878c8db8",
   "metadata": {},
   "source": [
    "Dabei wird aber NICHT das ursprüngliche DataFrame überschrieben:"
   ]
  },
  {
   "cell_type": "code",
   "execution_count": null,
   "id": "6b8d3f11-abbb-4acc-b9f4-93af4b01bcec",
   "metadata": {},
   "outputs": [],
   "source": [
    "df_bibsonomy"
   ]
  },
  {
   "attachments": {},
   "cell_type": "markdown",
   "id": "4397ce69-3471-45a2-891b-658b435c1a68",
   "metadata": {},
   "source": [
    "Im folgenden überschreiben wir df_bibsonomy_selection mit der erzeugten Ansicht: "
   ]
  },
  {
   "cell_type": "code",
   "execution_count": null,
   "id": "37fe8d15-9b38-4a49-9d8a-32430da452de",
   "metadata": {},
   "outputs": [],
   "source": [
    "df_bibsonomy_selection = df_bibsonomy[[\"label\", \"author\", \"year\", \"type\"]]"
   ]
  },
  {
   "cell_type": "code",
   "execution_count": null,
   "id": "baa6e4d6-f861-405e-8231-ac2f141b3dbe",
   "metadata": {},
   "outputs": [],
   "source": [
    "df_bibsonomy_selection"
   ]
  },
  {
   "attachments": {},
   "cell_type": "markdown",
   "id": "8347e2a9-9886-47e4-a1d5-9608711eed29",
   "metadata": {},
   "source": [
    "### Daten Filtern"
   ]
  },
  {
   "attachments": {},
   "cell_type": "markdown",
   "id": "c3b8e9db-0fd2-4296-a2cb-3d260dc28d89",
   "metadata": {},
   "source": [
    "Unser DataFrame enthält noch viele Zeilen, die wir herausfiltern möchten. .loc (locate) hilft, das DataFrame nach Kriterien zu Filtern."
   ]
  },
  {
   "cell_type": "code",
   "execution_count": null,
   "id": "42c5a6d7-d5a6-494b-8530-0137b320f142",
   "metadata": {},
   "outputs": [],
   "source": [
    "# Daten auswählen, wo in Spalte \"author\" ein Wert eingetragen ist\n",
    "df_bibsonomy_selection = df_bibsonomy_selection.loc[df_bibsonomy_selection[\"author\"].isnull() == False]"
   ]
  },
  {
   "cell_type": "code",
   "execution_count": null,
   "id": "105f2f8f-5f8a-47b1-9580-8c6e670fa22d",
   "metadata": {},
   "outputs": [],
   "source": [
    "df_bibsonomy_selection"
   ]
  },
  {
   "cell_type": "code",
   "execution_count": null,
   "id": "2a1d9570-a209-4493-8c22-adcfcd8dd513",
   "metadata": {},
   "outputs": [],
   "source": [
    "# Daten auswählen, wo in Spalte \"type\" der Wert \"Publication\" ist\n",
    "df_bibsonomy_selection.loc[df_bibsonomy_selection.type == \"Publication\"]"
   ]
  },
  {
   "attachments": {},
   "cell_type": "markdown",
   "id": "382a8ed3-ff21-466b-b8ad-76a2566eb767",
   "metadata": {},
   "source": [
    "Über \".drop_duplicates\" lassen sich doppelte Einträge entfernen. [Dokumentation](https://pandas.pydata.org/docs/reference/api/pandas.DataFrame.drop_duplicates.html)"
   ]
  },
  {
   "attachments": {},
   "cell_type": "markdown",
   "id": "f1173ce3-f8b1-46f4-a09a-48f8b9c42e61",
   "metadata": {},
   "source": [
    "```\n",
    "keep = \"first\"\n",
    "```\n",
    "lässt uns jeweils die erste Zeile der Zeilen, die mehrfach vorkommen behalten."
   ]
  },
  {
   "cell_type": "code",
   "execution_count": null,
   "id": "f43b7d23-5c4f-44aa-83ee-1d9580689478",
   "metadata": {},
   "outputs": [],
   "source": [
    "# Entfernen von allen Duplikaten in der Spalte \"label\". \n",
    "df_bibsonomy_selection = df_bibsonomy_selection.drop_duplicates(subset = \"label\", keep = \"first\")"
   ]
  },
  {
   "cell_type": "code",
   "execution_count": null,
   "id": "6d277e18-8914-4479-9e28-482434d9726c",
   "metadata": {},
   "outputs": [],
   "source": [
    "df_bibsonomy_selection"
   ]
  },
  {
   "attachments": {},
   "cell_type": "markdown",
   "id": "c0b8794a-9d57-4cfa-941b-006bd66779ad",
   "metadata": {},
   "source": [
    "### Daten säubern\n",
    "\n",
    "Im Folgenden sehen wir ein Beispiel dafür, wie wir mit Problemen umgehen können, die auf unsaubere Daten zurückzuführen sind: "
   ]
  },
  {
   "cell_type": "code",
   "execution_count": null,
   "id": "c38ca633-3e68-4dbd-8e32-498ce9d55b2f",
   "metadata": {
    "tags": []
   },
   "outputs": [],
   "source": [
    "# Filtern nach einem bestimmten Wert in der Spalte \"year\"\n",
    "df_bibsonomy_selection.loc[df_bibsonomy_selection[\"year\"] > 2010]"
   ]
  },
  {
   "attachments": {},
   "cell_type": "markdown",
   "id": "eb479b72-4d38-49bc-b016-aac36022abcf",
   "metadata": {},
   "source": [
    "Problem: Der Datentyp ist nicht wie erwartet numerisch, sonder hier hier: String!"
   ]
  },
  {
   "cell_type": "code",
   "execution_count": null,
   "id": "202071f5-5f8d-43fe-9073-dfeff0b58f86",
   "metadata": {},
   "outputs": [],
   "source": [
    "# .unique() gibt alle paarweise verschiedenen Werte (alle Werte) eines Series Objektes aus\n",
    "df_bibsonomy_selection[\"year\"].unique()"
   ]
  },
  {
   "attachments": {},
   "cell_type": "markdown",
   "id": "a96d3053-e412-40b1-96d2-981dc016efcb",
   "metadata": {},
   "source": [
    "Wir sehen, dass hier nicht nur Zahlen als String enthalten sind, sondern mit z.B. '1997 (EA 1655)' oder 'March 2010' auch ganze Strings enthalten sind."
   ]
  },
  {
   "attachments": {},
   "cell_type": "markdown",
   "id": "19c867c6-d43d-4ffb-9e70-043305fd83d8",
   "metadata": {},
   "source": [
    "Über .apply kann eine Funktion auf jeden Wert einer Spalte angewendet werden. \"axis=1\" beschreibt, dass Zeilenweise vorgegangen werden soll und \"lambda row:\", dass row hier jede iteration, in diesem Fall jede Zeile beschreibt.\n",
    "\n",
    "Wir schreiben eine neue Spalte \"year_correct\", in der über row.year.isdigit() überprüft wird, ob es der eintrag in \"year\" Zahl ist bzw. in eine Ganzzahl umgewandelt werden kann."
   ]
  },
  {
   "cell_type": "code",
   "execution_count": null,
   "id": "da47b46c-7ed6-478b-82b8-8c4b0bbf7186",
   "metadata": {},
   "outputs": [],
   "source": [
    "df_bibsonomy_selection[\"year_correct\"] = df_bibsonomy_selection.apply(lambda row: row.year.isdigit(), axis=1)"
   ]
  },
  {
   "attachments": {},
   "cell_type": "markdown",
   "id": "2cf7daee-28c8-4981-9dde-4e1c20e03b75",
   "metadata": {},
   "source": [
    "Die Warnung kann an dieser stelle ignoriert werden.\n",
    "\n",
    "über \"axis=1\" sagen wir hier, dass wir über Zeilen gehen müchten und mit \"lambda row:\" sagen wir, dass wir diese als \"row\" bezeichnen.\n",
    "\n",
    "Jetzt schmeißen wir alle Zeilen aus dem Datensatz, deren \"year\" Eintrag keine Zahl ist:"
   ]
  },
  {
   "cell_type": "code",
   "execution_count": null,
   "id": "41173f21-c294-47c2-9375-a26661739a88",
   "metadata": {},
   "outputs": [],
   "source": [
    "df_bibsonomy_selection.loc[df_bibsonomy_selection.year_correct == False]"
   ]
  },
  {
   "cell_type": "code",
   "execution_count": null,
   "id": "51f97c6c-97b9-492d-b77f-a1607fe75e1a",
   "metadata": {},
   "outputs": [],
   "source": [
    "df_bibsonomy_selection = df_bibsonomy_selection.loc[df_bibsonomy_selection.year_correct == True]"
   ]
  },
  {
   "cell_type": "code",
   "execution_count": null,
   "id": "510fb4e1-d00a-4c69-b87e-8f5ef6dce452",
   "metadata": {},
   "outputs": [],
   "source": [
    "df_bibsonomy_selection"
   ]
  },
  {
   "attachments": {},
   "cell_type": "markdown",
   "id": "d6826ebf-c5d4-48f9-a742-623aa3a622db",
   "metadata": {},
   "source": [
    "Wir können jetzt auch die Zahl in in der Spalte \"year\" über \"astype\" in einen Integer, einen Ganzzahlenwertt umwandel und in \"year_number\" speichern."
   ]
  },
  {
   "cell_type": "code",
   "execution_count": null,
   "id": "f5fc642c-83cd-430e-927f-59358f9f46cc",
   "metadata": {},
   "outputs": [],
   "source": [
    "df_bibsonomy_selection[\"year_number\"] = df_bibsonomy_selection[\"year\"].astype(int)"
   ]
  },
  {
   "cell_type": "code",
   "execution_count": null,
   "id": "3b49bb4c-35b9-45e4-80ce-187544948f5e",
   "metadata": {},
   "outputs": [],
   "source": [
    "# die Neue Spalte besteht aus Integer Werten\n",
    "df_bibsonomy_selection.info()"
   ]
  },
  {
   "attachments": {},
   "cell_type": "markdown",
   "id": "38bc1bad-9f91-45d1-9068-1c913d580166",
   "metadata": {},
   "source": [
    "Jetzt können wir nach Publikationen Filtern, die nach 2010 erschienen sind:"
   ]
  },
  {
   "cell_type": "code",
   "execution_count": null,
   "id": "782f5f74-2f53-4314-9026-cd3413e2cd1c",
   "metadata": {},
   "outputs": [],
   "source": [
    "df_bibsonomy_selection_recent = df_bibsonomy_selection.loc[df_bibsonomy_selection.year_number >=2010]"
   ]
  },
  {
   "cell_type": "code",
   "execution_count": null,
   "id": "800df5aa-9df3-456b-bde8-3f6d1637f40b",
   "metadata": {},
   "outputs": [],
   "source": [
    "df_bibsonomy_selection_recent"
   ]
  },
  {
   "attachments": {},
   "cell_type": "markdown",
   "id": "0ad9109d-182e-4473-aad4-193021eaeb1c",
   "metadata": {},
   "source": [
    "BONUS:\n",
    "\n",
    "Einfache Möglichkeit, alle Zeilen mit NaN Einträgen zu löschen:"
   ]
  },
  {
   "cell_type": "code",
   "execution_count": null,
   "id": "6cb1a976-b3e0-4b66-af6f-008ab9310e2b",
   "metadata": {},
   "outputs": [],
   "source": [
    "df_bibsonomy_selection_no_nan = df_bibsonomy_selection.dropna()"
   ]
  },
  {
   "cell_type": "code",
   "execution_count": null,
   "id": "a57dc5df-2c6b-4c84-a66f-5388114d50d0",
   "metadata": {},
   "outputs": [],
   "source": [
    "df_bibsonomy_selection_no_nan"
   ]
  },
  {
   "attachments": {},
   "cell_type": "markdown",
   "id": "7dfa4149-e12c-4628-a686-4adbe43d4686",
   "metadata": {
    "tags": []
   },
   "source": [
    "### Daten Verändern und Hinzufügen\n",
    "Neben der gerade kennengelernten Methode zum schreiben einer Spalte gibt es noch andere Möglichkeiten, wie Daten in ein DataFrame geschrieben werden können."
   ]
  },
  {
   "cell_type": "code",
   "execution_count": null,
   "id": "f3451a73-bba2-44ac-9b3a-95f304a01a7e",
   "metadata": {},
   "outputs": [],
   "source": [
    "# Spalten umbenennen \n",
    "df_bibsonomy_selection = df_bibsonomy_selection.rename(columns={\"label\": \"title\", \"author\": \"authors\"})\n",
    "df_bibsonomy_selection"
   ]
  },
  {
   "cell_type": "code",
   "execution_count": null,
   "id": "765b35b1-142b-49fe-82a1-f6c2fbf8584e",
   "metadata": {},
   "outputs": [],
   "source": [
    "# Schreiben einen Wertes in alle Zeilen einer Spalte\n",
    "df_bibsonomy_selection[\"collected_by\"] = \"Fabian\"\n",
    "df_bibsonomy_selection"
   ]
  },
  {
   "cell_type": "code",
   "execution_count": null,
   "id": "21eef8c9-c6ea-449d-877f-c08c8fa48b1d",
   "metadata": {},
   "outputs": [],
   "source": [
    "# Spalten löschen\n",
    "df_bibsonomy_selection = df_bibsonomy_selection.drop(columns=['year'])\n",
    "df_bibsonomy_selection"
   ]
  },
  {
   "attachments": {},
   "cell_type": "markdown",
   "id": "528d2cb6-deee-4c62-9d96-d74c3914ec4d",
   "metadata": {},
   "source": [
    "Wir ermitteln mit apply, wie viele Autoren in \"authors\" eingetragen sind:"
   ]
  },
  {
   "cell_type": "code",
   "execution_count": null,
   "id": "4becbff9-4cf1-42a9-888c-e5c64886ea43",
   "metadata": {},
   "outputs": [],
   "source": [
    "# Benutzen von .apply() um eine Funktion auf Teile der Daten anzuwenden (und hier, um das Ergebnis in einer neuen Spalte einzutragen)\n",
    "df_bibsonomy_selection[\"number_authors\"] = df_bibsonomy_selection.apply( lambda row: len(row.authors), axis=1)\n",
    "df_bibsonomy_selection"
   ]
  },
  {
   "attachments": {},
   "cell_type": "markdown",
   "id": "a90cc1dd-b8e1-43c4-9f1c-736a42ccaad0",
   "metadata": {
    "tags": []
   },
   "source": [
    "### Daten Analysieren"
   ]
  },
  {
   "cell_type": "code",
   "execution_count": null,
   "id": "8c304b48-2ad2-4e70-aaac-86ac344cb647",
   "metadata": {},
   "outputs": [],
   "source": [
    "# groupby() nutzen, um Zeilen zu gruppieren und Methoden darauf anzuwenden\n",
    "# count zählt Anzahl der Zeilen pro gruppe\n",
    "df_bibsonomy_selection_recent.groupby(\"year_number\").count().label"
   ]
  },
  {
   "attachments": {},
   "cell_type": "markdown",
   "id": "293e8ba6-cdce-4202-a665-f8dccdeca51e",
   "metadata": {},
   "source": [
    "der Wert \"19971998\" wurde in eine Zahl umgewandelt, ist hier aber sicher falsch. Wir möchten diesen Eintrag jetzt entfernen. \n",
    "\n",
    "TIPP:\n",
    "Man könnte in etwa so vorgehen, wie wir nach Veröffentlichungen nach 2010 gefiltert haben:\n",
    "```\n",
    "df_bibsonomy_selection_recent = df_bibsonomy_selection.loc[df_bibsonomy_selection.year_number >=2010]\n",
    "```"
   ]
  },
  {
   "attachments": {},
   "cell_type": "markdown",
   "id": "4064959f-eec4-40ac-8ef7-c82033b1ff11",
   "metadata": {},
   "source": [
    "### Daten Zusammenführen\n",
    "Wir können mit Pandas auch relativ leicht mehrere Datensätze zusammenführen."
   ]
  },
  {
   "cell_type": "code",
   "execution_count": null,
   "id": "d5181ead-07fc-4711-b66e-0e8b84d8fac4",
   "metadata": {},
   "outputs": [],
   "source": [
    "import json\n",
    "# (Bibsonomy) JSON Daten einlesen\n",
    "data1 = json.load(open(\"data/search_Cologne.json\"))\n",
    "data2 = json.load(open(\"data/search_Media_Bias.json\"))"
   ]
  },
  {
   "cell_type": "code",
   "execution_count": null,
   "id": "5a432dc8-7ecf-4a07-9d69-07d755042693",
   "metadata": {},
   "outputs": [],
   "source": [
    "# Unsere Daten liegen wieder in \"items\"\n",
    "data1.keys()"
   ]
  },
  {
   "cell_type": "code",
   "execution_count": null,
   "id": "45746ba1-e007-4458-bc1b-2bbaa22d44fd",
   "metadata": {},
   "outputs": [],
   "source": [
    "# Erstellen der DataFrames aus den Listen der Dictionaries, die die Dateneinträge der Bibsonomy Suche darstellen\n",
    "df_search1 = pd.DataFrame(data1[\"items\"])\n",
    "df_search2 = pd.DataFrame(data2[\"items\"])"
   ]
  },
  {
   "cell_type": "code",
   "execution_count": null,
   "id": "8c882929-d54d-40dc-9744-7bcab035ccf0",
   "metadata": {},
   "outputs": [],
   "source": [
    "df_search1"
   ]
  },
  {
   "cell_type": "code",
   "execution_count": null,
   "id": "f5b2b295-690e-45f9-add2-f9dd7b022d9c",
   "metadata": {},
   "outputs": [],
   "source": [
    "df_search2"
   ]
  },
  {
   "attachments": {},
   "cell_type": "markdown",
   "id": "7f12ff6f-e06a-4e46-99a3-f8ef4751d290",
   "metadata": {},
   "source": [
    "Es gibt zwar verschienene Möglichkeiten, DataFrames zusammenzuführen, in diesem Fall funktioniert .concat am besten, das eine Liste von Dictionaries als Argument nimmt:"
   ]
  },
  {
   "cell_type": "code",
   "execution_count": null,
   "id": "7ad8b7e5-df25-4b60-804d-15789a82dce0",
   "metadata": {},
   "outputs": [],
   "source": [
    "# Mit .concat(Liste von DataFrames) lassen sich DataFrames miteinander kombinieren. \n",
    "df_both = pd.concat([df_search1, df_search2])"
   ]
  },
  {
   "attachments": {},
   "cell_type": "markdown",
   "id": "58260c3c-78aa-4e5b-acd2-ec234852131e",
   "metadata": {},
   "source": [
    "Das entstandene DataFrame hat alle Zeilen der beiden DataFrames:"
   ]
  },
  {
   "cell_type": "code",
   "execution_count": null,
   "id": "e6e763a1-f9b5-436b-b349-6982353a5e3c",
   "metadata": {},
   "outputs": [],
   "source": [
    "df_both"
   ]
  },
  {
   "attachments": {},
   "cell_type": "markdown",
   "id": "a696888e-d96c-4a98-9627-ae7fe0d50d31",
   "metadata": {},
   "source": [
    "BONUS INFO: Der resultierende DataFrame hat mehr Spalten als die beiden DataFrames, die wir verbunden haben, weil es exklusive Spalten gibt, die nur in jeweils einem der beiden DataFrames erscheinen. Wir können das mit List Comprehension überprüfen:"
   ]
  },
  {
   "cell_type": "code",
   "execution_count": null,
   "id": "6918e0b5-bf39-4e85-b2a6-ef5bd70d4734",
   "metadata": {},
   "outputs": [],
   "source": [
    "# Spalten, die in beiden DataFrames sind:\n",
    "[a for a in df_search1.columns.to_list() if a in df_search2.columns.to_list()]"
   ]
  },
  {
   "cell_type": "code",
   "execution_count": null,
   "id": "0071dd3c-adf2-4cd7-b0ec-fa1c4fcb6f48",
   "metadata": {},
   "outputs": [],
   "source": [
    "# Spalten, die nur im ersten DataFrame sind:\n",
    "[a for a in df_search1.columns.to_list() if a not in df_search2.columns.to_list()]"
   ]
  },
  {
   "cell_type": "code",
   "execution_count": null,
   "id": "4d082698-b0ca-4b4f-a5cd-18efd50291ea",
   "metadata": {},
   "outputs": [],
   "source": [
    "# Spalten, die nur im zweiten DataFrame sind:\n",
    "[a for a in df_search2.columns.to_list() if a not in df_search1.columns.to_list()]"
   ]
  },
  {
   "attachments": {},
   "cell_type": "markdown",
   "id": "a67cdb2a-3032-460c-adc2-3054d88b73a5",
   "metadata": {},
   "source": [
    "## Daten Exportieren\n",
    "es gibt eine Reihe von Möglichkeiten, Daten mit Pandas zu exportieren. Im folgenden zeigen wir, wie wir unseren Datensatz als CSV und JSON Datei exportieren können."
   ]
  },
  {
   "attachments": {},
   "cell_type": "markdown",
   "id": "328ecfdc-2eac-43ba-97a0-58c109924637",
   "metadata": {},
   "source": [
    "### Export als CSV\n",
    "Zum Exportieren der Daten als als CSV Datei kann die .to_csv() Methode verwendet werden. Es muss ein Name für die Ausgabedatei angegeben werden. Um Probleme mit den Kommata beim Einlesen zu vermeiden, kann über sep= ein anderer Seperator angegeben werden, der nicht oder weniger Wahrscheinlich in den Daten vorkommt (oft bietet sich hier ein Semikolon oder ein anderes, noch seltener genutzes Sonderzeichen an). Pandas nutzt aber in der Regel alle Möglichkeiten, die Seperatoren in Daten zu \"Escapen\", sodass diese beim Einlesen nicht als Seperatoren Genutzt werden."
   ]
  },
  {
   "cell_type": "code",
   "execution_count": null,
   "id": "9cc31ff9-367d-41d5-a73a-6d2e2a671c4a",
   "metadata": {},
   "outputs": [],
   "source": [
    "df_bibsonomy_selection.to_csv(\"data/output.csv\", sep=\";\")"
   ]
  },
  {
   "cell_type": "code",
   "execution_count": null,
   "id": "363e5941-5fef-4a0c-83c1-63d28ffb36ee",
   "metadata": {},
   "outputs": [],
   "source": [
    "pd.read_csv(\"data/output.csv\", sep=\";\")"
   ]
  },
  {
   "cell_type": "code",
   "execution_count": null,
   "id": "9c135e6f-78e4-4a38-acf6-d2927aa6a6f7",
   "metadata": {},
   "outputs": [],
   "source": [
    "df_bibsonomy_selection.to_csv(\"data/output.csv\")"
   ]
  },
  {
   "cell_type": "code",
   "execution_count": null,
   "id": "7aec6b91-aab2-42d8-9071-be9ab2a1017f",
   "metadata": {},
   "outputs": [],
   "source": [
    "pd.read_csv(\"data/output.csv\")"
   ]
  },
  {
   "attachments": {},
   "cell_type": "markdown",
   "id": "f40c98bb-eef0-46d9-9b96-a6d5322da748",
   "metadata": {},
   "source": [
    "### Export als JSON\n",
    "Zum Exportieren der Daten als als JSON file kann die .to_json() Methode verwendet werden. Es muss ein Name für die Ausgabedatei angegeben werden. Zusätzlich kann es sein, dass mit orient=\"records\" eine eintragsorientierte ausgabe spezifiziert werden muss.   "
   ]
  },
  {
   "cell_type": "code",
   "execution_count": null,
   "id": "0b41378f-81b4-4f61-aa6e-88bb937ed3ca",
   "metadata": {},
   "outputs": [],
   "source": [
    "df_bibsonomy_selection.to_json(\"data/output.json\", orient=\"records\")"
   ]
  },
  {
   "cell_type": "code",
   "execution_count": null,
   "id": "341779cd-5902-4d53-ba14-27112bbef6b1",
   "metadata": {
    "tags": []
   },
   "outputs": [],
   "source": [
    "# check, if it look correct\n",
    "with open(\"data/output.json\", \"r\") as f:\n",
    "    j_load = json.load(f)\n",
    "    print(json.dumps(j_load, indent=2))"
   ]
  },
  {
   "attachments": {},
   "cell_type": "markdown",
   "id": "04924ed7-054a-42e4-95f0-d81e2b5edc13",
   "metadata": {},
   "source": [
    "### Weitere Dateiformate\n",
    "Pandas ist in der Lage, noch eine Vielzahl anderer Dateiformate zu erzeugen (und einzulesen). Dazu gehören: [Excel](https://pandas.pydata.org/docs/reference/api/pandas.DataFrame.to_excel.html#pandas.DataFrame.to_excel), [XML](https://pandas.pydata.org/docs/reference/api/pandas.DataFrame.to_xml.html) und viele weitere. Eine vollständige Übersicht findet sich [hier](https://pandas.pydata.org/docs/reference/io.html)."
   ]
  },
  {
   "attachments": {},
   "cell_type": "markdown",
   "id": "9f36ae5d-30e3-4ba9-85e8-63021bc00831",
   "metadata": {},
   "source": [
    "## Ressourcen zu Pandas\n",
    "- [offizieller User Guide](https://pandas.pydata.org/docs/user_guide/index.html#user-guide)\n",
    "- [offizielle API](https://pandas.pydata.org/docs/reference/index.html#api) mit detaillierten Informationen zu allen Mothoden\n",
    "- [W3 Schools Pandas Tutorial](https://www.w3schools.com/python/pandas/default.asp) mit vielen Übungen und Quizes, sowie detaillierten Erläuterungen und Beispielen\n",
    "- [Pandas Cheat Sheet](https://pandas.pydata.org/Pandas_Cheat_Sheet.pdf) – eine kompakte Übersicht vieler oft genutzter Funktionen\n"
   ]
  }
 ],
 "metadata": {
  "kernelspec": {
   "display_name": "Python 3 (ipykernel)",
   "language": "python",
   "name": "python3"
  },
  "language_info": {
   "codemirror_mode": {
    "name": "ipython",
    "version": 3
   },
   "file_extension": ".py",
   "mimetype": "text/x-python",
   "name": "python",
   "nbconvert_exporter": "python",
   "pygments_lexer": "ipython3",
   "version": "3.8.18"
  }
 },
 "nbformat": 4,
 "nbformat_minor": 5
}
