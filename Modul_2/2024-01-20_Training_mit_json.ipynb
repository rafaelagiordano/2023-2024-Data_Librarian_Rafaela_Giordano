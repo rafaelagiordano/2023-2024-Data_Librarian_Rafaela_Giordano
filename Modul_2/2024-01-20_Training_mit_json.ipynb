{
 "cells": [
  {
   "cell_type": "code",
   "execution_count": 2,
   "id": "e2482f65",
   "metadata": {},
   "outputs": [],
   "source": [
    "import pandas as pd"
   ]
  },
  {
   "cell_type": "code",
   "execution_count": 17,
   "id": "d682add0",
   "metadata": {},
   "outputs": [
    {
     "name": "stdout",
     "output_type": "stream",
     "text": [
      "Requirement already satisfied: pandas in /home/rafaela/anaconda3/lib/python3.11/site-packages (2.0.3)\n",
      "Requirement already satisfied: python-dateutil>=2.8.2 in /home/rafaela/anaconda3/lib/python3.11/site-packages (from pandas) (2.8.2)\n",
      "Requirement already satisfied: pytz>=2020.1 in /home/rafaela/anaconda3/lib/python3.11/site-packages (from pandas) (2023.3.post1)\n",
      "Requirement already satisfied: tzdata>=2022.1 in /home/rafaela/anaconda3/lib/python3.11/site-packages (from pandas) (2023.3)\n",
      "Requirement already satisfied: numpy>=1.21.0 in /home/rafaela/anaconda3/lib/python3.11/site-packages (from pandas) (1.24.3)\n",
      "Requirement already satisfied: six>=1.5 in /home/rafaela/anaconda3/lib/python3.11/site-packages (from python-dateutil>=2.8.2->pandas) (1.16.0)\n"
     ]
    }
   ],
   "source": [
    "!pip install pandas"
   ]
  },
  {
   "cell_type": "code",
   "execution_count": 22,
   "id": "86058f80",
   "metadata": {},
   "outputs": [],
   "source": [
    "list_of_strings = [\"Value 1\", \"Value 2\", \"Value 3\", \"Value 4\"]\n",
    "list_of_integers = [1, 3, 6, 7]"
   ]
  },
  {
   "cell_type": "code",
   "execution_count": 23,
   "id": "3feb553f",
   "metadata": {},
   "outputs": [],
   "source": [
    "series_of_strings = pd.Series(list_of_strings)"
   ]
  },
  {
   "cell_type": "code",
   "execution_count": 24,
   "id": "b134a866",
   "metadata": {},
   "outputs": [
    {
     "name": "stdout",
     "output_type": "stream",
     "text": [
      "0    Value 1\n",
      "1    Value 2\n",
      "2    Value 3\n",
      "3    Value 4\n",
      "dtype: object\n"
     ]
    }
   ],
   "source": [
    "print(series_of_strings)"
   ]
  },
  {
   "cell_type": "code",
   "execution_count": 26,
   "id": "996ab71c",
   "metadata": {},
   "outputs": [],
   "source": [
    "labeled_series = pd.Series(list_of_integers, index = list_of_strings)"
   ]
  },
  {
   "cell_type": "code",
   "execution_count": 27,
   "id": "8c42c46d",
   "metadata": {},
   "outputs": [
    {
     "name": "stdout",
     "output_type": "stream",
     "text": [
      "Value 1    1\n",
      "Value 2    3\n",
      "Value 3    6\n",
      "Value 4    7\n",
      "dtype: int64\n"
     ]
    }
   ],
   "source": [
    "print(labeled_series)"
   ]
  },
  {
   "cell_type": "code",
   "execution_count": 31,
   "id": "558af713",
   "metadata": {},
   "outputs": [
    {
     "name": "stdout",
     "output_type": "stream",
     "text": [
      "Tag 1    120\n",
      "Tag 2    330\n",
      "Tag 3    250\n",
      "Tag 4    270\n",
      "dtype: int64\n"
     ]
    }
   ],
   "source": [
    "verkaeufe = {\"Tag 1\": 120, \"Tag 2\": 330, \"Tag 3\": 250, \"Tag 4\": 270}\n",
    "\n",
    "series_verkäufe = pd.Series(verkaeufe)\n",
    "\n",
    "print(series_verkäufe)"
   ]
  },
  {
   "cell_type": "code",
   "execution_count": 32,
   "id": "c5e5794c",
   "metadata": {},
   "outputs": [
    {
     "data": {
      "text/plain": [
       "330"
      ]
     },
     "execution_count": 32,
     "metadata": {},
     "output_type": "execute_result"
    }
   ],
   "source": [
    "series_verkäufe[\"Tag 2\"]"
   ]
  },
  {
   "cell_type": "code",
   "execution_count": 33,
   "id": "8156fe98",
   "metadata": {},
   "outputs": [
    {
     "name": "stdout",
     "output_type": "stream",
     "text": [
      "Eng    3567\n",
      "Por      25\n",
      "Fre    5631\n",
      "Spa    4557\n",
      "Ger    6789\n",
      "dtype: int64\n"
     ]
    }
   ],
   "source": [
    "idiomas = {\"Eng\": 3567, \"Por\": 25, \"Fre\": 5631, \"Spa\": 4557, \"Ger\": 6789}\n",
    "\n",
    "series_idiomas = pd.Series(idiomas)\n",
    "\n",
    "print(series_idiomas)"
   ]
  },
  {
   "cell_type": "code",
   "execution_count": 35,
   "id": "abd66350",
   "metadata": {},
   "outputs": [
    {
     "data": {
      "text/plain": [
       "25"
      ]
     },
     "execution_count": 35,
     "metadata": {},
     "output_type": "execute_result"
    }
   ],
   "source": [
    "idiomas[\"Por\"]"
   ]
  },
  {
   "cell_type": "code",
   "execution_count": 37,
   "id": "c2eb45eb",
   "metadata": {},
   "outputs": [
    {
     "data": {
      "text/plain": [
       "4557"
      ]
     },
     "execution_count": 37,
     "metadata": {},
     "output_type": "execute_result"
    }
   ],
   "source": [
    "series_idiomas[3]"
   ]
  },
  {
   "cell_type": "code",
   "execution_count": 38,
   "id": "93b5ad6a",
   "metadata": {},
   "outputs": [
    {
     "data": {
      "text/plain": [
       "[3567, 25, 5631, 4557, 6789]"
      ]
     },
     "execution_count": 38,
     "metadata": {},
     "output_type": "execute_result"
    }
   ],
   "source": [
    "series_idiomas.to_list()"
   ]
  },
  {
   "cell_type": "code",
   "execution_count": 39,
   "id": "c1694a61",
   "metadata": {},
   "outputs": [
    {
     "name": "stdout",
     "output_type": "stream",
     "text": [
      "3567\n",
      "25\n",
      "5631\n",
      "4557\n",
      "6789\n"
     ]
    }
   ],
   "source": [
    "for idioma in series_idiomas:\n",
    "    print(idioma)"
   ]
  },
  {
   "cell_type": "code",
   "execution_count": 41,
   "id": "c054320b",
   "metadata": {},
   "outputs": [],
   "source": [
    "df_nyt = pd.read_json(\"data/nyt_bestseller.json\")"
   ]
  },
  {
   "cell_type": "code",
   "execution_count": 42,
   "id": "3bdd8471",
   "metadata": {},
   "outputs": [
    {
     "data": {
      "text/html": [
       "<div>\n",
       "<style scoped>\n",
       "    .dataframe tbody tr th:only-of-type {\n",
       "        vertical-align: middle;\n",
       "    }\n",
       "\n",
       "    .dataframe tbody tr th {\n",
       "        vertical-align: top;\n",
       "    }\n",
       "\n",
       "    .dataframe thead th {\n",
       "        text-align: right;\n",
       "    }\n",
       "</style>\n",
       "<table border=\"1\" class=\"dataframe\">\n",
       "  <thead>\n",
       "    <tr style=\"text-align: right;\">\n",
       "      <th></th>\n",
       "      <th>_id</th>\n",
       "      <th>bestsellers_date</th>\n",
       "      <th>published_date</th>\n",
       "      <th>amazon_product_url</th>\n",
       "      <th>author</th>\n",
       "      <th>description</th>\n",
       "      <th>price</th>\n",
       "      <th>publisher</th>\n",
       "      <th>title</th>\n",
       "      <th>rank</th>\n",
       "      <th>rank_last_week</th>\n",
       "      <th>weeks_on_list</th>\n",
       "    </tr>\n",
       "  </thead>\n",
       "  <tbody>\n",
       "    <tr>\n",
       "      <th>0</th>\n",
       "      <td>{'$oid': '5b4aa4ead3089013507db18b'}</td>\n",
       "      <td>{'$date': {'$numberLong': '1211587200000'}}</td>\n",
       "      <td>{'$date': {'$numberLong': '1212883200000'}}</td>\n",
       "      <td>http://www.amazon.com/Odd-Hours-Dean-Koontz/dp...</td>\n",
       "      <td>Dean R Koontz</td>\n",
       "      <td>Odd Thomas, who can communicate with the dead,...</td>\n",
       "      <td>{'$numberInt': '27'}</td>\n",
       "      <td>Bantam</td>\n",
       "      <td>ODD HOURS</td>\n",
       "      <td>{'$numberInt': '1'}</td>\n",
       "      <td>{'$numberInt': '0'}</td>\n",
       "      <td>{'$numberInt': '1'}</td>\n",
       "    </tr>\n",
       "    <tr>\n",
       "      <th>1</th>\n",
       "      <td>{'$oid': '5b4aa4ead3089013507db18c'}</td>\n",
       "      <td>{'$date': {'$numberLong': '1211587200000'}}</td>\n",
       "      <td>{'$date': {'$numberLong': '1212883200000'}}</td>\n",
       "      <td>http://www.amazon.com/The-Host-Novel-Stephenie...</td>\n",
       "      <td>Stephenie Meyer</td>\n",
       "      <td>Aliens have taken control of the minds and bod...</td>\n",
       "      <td>{'$numberDouble': '25.99'}</td>\n",
       "      <td>Little, Brown</td>\n",
       "      <td>THE HOST</td>\n",
       "      <td>{'$numberInt': '2'}</td>\n",
       "      <td>{'$numberInt': '1'}</td>\n",
       "      <td>{'$numberInt': '3'}</td>\n",
       "    </tr>\n",
       "    <tr>\n",
       "      <th>2</th>\n",
       "      <td>{'$oid': '5b4aa4ead3089013507db18d'}</td>\n",
       "      <td>{'$date': {'$numberLong': '1211587200000'}}</td>\n",
       "      <td>{'$date': {'$numberLong': '1212883200000'}}</td>\n",
       "      <td>http://www.amazon.com/Love-Youre-With-Emily-Gi...</td>\n",
       "      <td>Emily Giffin</td>\n",
       "      <td>A woman's happy marriage is shaken when she en...</td>\n",
       "      <td>{'$numberDouble': '24.95'}</td>\n",
       "      <td>St. Martin's</td>\n",
       "      <td>LOVE THE ONE YOU'RE WITH</td>\n",
       "      <td>{'$numberInt': '3'}</td>\n",
       "      <td>{'$numberInt': '2'}</td>\n",
       "      <td>{'$numberInt': '2'}</td>\n",
       "    </tr>\n",
       "    <tr>\n",
       "      <th>3</th>\n",
       "      <td>{'$oid': '5b4aa4ead3089013507db18e'}</td>\n",
       "      <td>{'$date': {'$numberLong': '1211587200000'}}</td>\n",
       "      <td>{'$date': {'$numberLong': '1212883200000'}}</td>\n",
       "      <td>http://www.amazon.com/The-Front-Garano-Patrici...</td>\n",
       "      <td>Patricia Cornwell</td>\n",
       "      <td>A Massachusetts state investigator and his tea...</td>\n",
       "      <td>{'$numberDouble': '22.95'}</td>\n",
       "      <td>Putnam</td>\n",
       "      <td>THE FRONT</td>\n",
       "      <td>{'$numberInt': '4'}</td>\n",
       "      <td>{'$numberInt': '0'}</td>\n",
       "      <td>{'$numberInt': '1'}</td>\n",
       "    </tr>\n",
       "    <tr>\n",
       "      <th>4</th>\n",
       "      <td>{'$oid': '5b4aa4ead3089013507db18f'}</td>\n",
       "      <td>{'$date': {'$numberLong': '1211587200000'}}</td>\n",
       "      <td>{'$date': {'$numberLong': '1212883200000'}}</td>\n",
       "      <td>http://www.amazon.com/Snuff-Chuck-Palahniuk/dp...</td>\n",
       "      <td>Chuck Palahniuk</td>\n",
       "      <td>An aging porn queens aims to cap her career by...</td>\n",
       "      <td>{'$numberDouble': '24.95'}</td>\n",
       "      <td>Doubleday</td>\n",
       "      <td>SNUFF</td>\n",
       "      <td>{'$numberInt': '5'}</td>\n",
       "      <td>{'$numberInt': '0'}</td>\n",
       "      <td>{'$numberInt': '1'}</td>\n",
       "    </tr>\n",
       "    <tr>\n",
       "      <th>...</th>\n",
       "      <td>...</td>\n",
       "      <td>...</td>\n",
       "      <td>...</td>\n",
       "      <td>...</td>\n",
       "      <td>...</td>\n",
       "      <td>...</td>\n",
       "      <td>...</td>\n",
       "      <td>...</td>\n",
       "      <td>...</td>\n",
       "      <td>...</td>\n",
       "      <td>...</td>\n",
       "      <td>...</td>\n",
       "    </tr>\n",
       "    <tr>\n",
       "      <th>95</th>\n",
       "      <td>{'$oid': '5b4aa4ead3089013507db1ea'}</td>\n",
       "      <td>{'$date': {'$numberLong': '1214006400000'}}</td>\n",
       "      <td>{'$date': {'$numberLong': '1215302400000'}}</td>\n",
       "      <td>http://www.amazon.com/Blood-Anita-Blake-Vampir...</td>\n",
       "      <td>Laurell K Hamilton</td>\n",
       "      <td>The vampire hunter Anita Blake is involved in ...</td>\n",
       "      <td>{'$numberDouble': '25.95'}</td>\n",
       "      <td>Berkley</td>\n",
       "      <td>BLOOD NOIR</td>\n",
       "      <td>{'$numberInt': '16'}</td>\n",
       "      <td>{'$numberInt': '12'}</td>\n",
       "      <td>{'$numberInt': '4'}</td>\n",
       "    </tr>\n",
       "    <tr>\n",
       "      <th>96</th>\n",
       "      <td>{'$oid': '5b4aa4ead3089013507db1eb'}</td>\n",
       "      <td>{'$date': {'$numberLong': '1214006400000'}}</td>\n",
       "      <td>{'$date': {'$numberLong': '1215302400000'}}</td>\n",
       "      <td>http://www.amazon.com/Snuff-Chuck-Palahniuk/dp...</td>\n",
       "      <td>Chuck Palahniuk</td>\n",
       "      <td>An aging porn queens aims to cap her career by...</td>\n",
       "      <td>{'$numberInt': '0'}</td>\n",
       "      <td>Doubleday</td>\n",
       "      <td>SNUFF</td>\n",
       "      <td>{'$numberInt': '17'}</td>\n",
       "      <td>{'$numberInt': '0'}</td>\n",
       "      <td>{'$numberInt': '0'}</td>\n",
       "    </tr>\n",
       "    <tr>\n",
       "      <th>97</th>\n",
       "      <td>{'$oid': '5b4aa4ead3089013507db1ec'}</td>\n",
       "      <td>{'$date': {'$numberLong': '1214006400000'}}</td>\n",
       "      <td>{'$date': {'$numberLong': '1215302400000'}}</td>\n",
       "      <td>http://www.amazon.com/Death-Honor-Bound-Book/d...</td>\n",
       "      <td>W E B Griffin and William E Butterworth IV</td>\n",
       "      <td>A Marine pilot spies in  Argentina in 1943; th...</td>\n",
       "      <td>{'$numberInt': '0'}</td>\n",
       "      <td>Putnam</td>\n",
       "      <td>DEATH AND HONOR</td>\n",
       "      <td>{'$numberInt': '18'}</td>\n",
       "      <td>{'$numberInt': '0'}</td>\n",
       "      <td>{'$numberInt': '0'}</td>\n",
       "    </tr>\n",
       "    <tr>\n",
       "      <th>98</th>\n",
       "      <td>{'$oid': '5b4aa4ead3089013507db1ed'}</td>\n",
       "      <td>{'$date': {'$numberLong': '1214006400000'}}</td>\n",
       "      <td>{'$date': {'$numberLong': '1215302400000'}}</td>\n",
       "      <td>http://www.amazon.com/The-Spies-Warsaw-A-Novel...</td>\n",
       "      <td>Alan Furst</td>\n",
       "      <td>Intrigue in Poland just before World War II.</td>\n",
       "      <td>{'$numberInt': '0'}</td>\n",
       "      <td>Random House</td>\n",
       "      <td>THE SPIES OF WARSAW</td>\n",
       "      <td>{'$numberInt': '19'}</td>\n",
       "      <td>{'$numberInt': '0'}</td>\n",
       "      <td>{'$numberInt': '0'}</td>\n",
       "    </tr>\n",
       "    <tr>\n",
       "      <th>99</th>\n",
       "      <td>{'$oid': '5b4aa4ead3089013507db1ee'}</td>\n",
       "      <td>{'$date': {'$numberLong': '1214006400000'}}</td>\n",
       "      <td>{'$date': {'$numberLong': '1215302400000'}}</td>\n",
       "      <td>http://www.amazon.com/Phantom-Prey-John-Sandfo...</td>\n",
       "      <td>John Sandford</td>\n",
       "      <td>The Minneapolis detective Lucas Davenport inve...</td>\n",
       "      <td>{'$numberInt': '0'}</td>\n",
       "      <td>Putnam</td>\n",
       "      <td>PHANTOM PREY</td>\n",
       "      <td>{'$numberInt': '20'}</td>\n",
       "      <td>{'$numberInt': '0'}</td>\n",
       "      <td>{'$numberInt': '0'}</td>\n",
       "    </tr>\n",
       "  </tbody>\n",
       "</table>\n",
       "<p>100 rows × 12 columns</p>\n",
       "</div>"
      ],
      "text/plain": [
       "                                     _id  \\\n",
       "0   {'$oid': '5b4aa4ead3089013507db18b'}   \n",
       "1   {'$oid': '5b4aa4ead3089013507db18c'}   \n",
       "2   {'$oid': '5b4aa4ead3089013507db18d'}   \n",
       "3   {'$oid': '5b4aa4ead3089013507db18e'}   \n",
       "4   {'$oid': '5b4aa4ead3089013507db18f'}   \n",
       "..                                   ...   \n",
       "95  {'$oid': '5b4aa4ead3089013507db1ea'}   \n",
       "96  {'$oid': '5b4aa4ead3089013507db1eb'}   \n",
       "97  {'$oid': '5b4aa4ead3089013507db1ec'}   \n",
       "98  {'$oid': '5b4aa4ead3089013507db1ed'}   \n",
       "99  {'$oid': '5b4aa4ead3089013507db1ee'}   \n",
       "\n",
       "                               bestsellers_date  \\\n",
       "0   {'$date': {'$numberLong': '1211587200000'}}   \n",
       "1   {'$date': {'$numberLong': '1211587200000'}}   \n",
       "2   {'$date': {'$numberLong': '1211587200000'}}   \n",
       "3   {'$date': {'$numberLong': '1211587200000'}}   \n",
       "4   {'$date': {'$numberLong': '1211587200000'}}   \n",
       "..                                          ...   \n",
       "95  {'$date': {'$numberLong': '1214006400000'}}   \n",
       "96  {'$date': {'$numberLong': '1214006400000'}}   \n",
       "97  {'$date': {'$numberLong': '1214006400000'}}   \n",
       "98  {'$date': {'$numberLong': '1214006400000'}}   \n",
       "99  {'$date': {'$numberLong': '1214006400000'}}   \n",
       "\n",
       "                                 published_date  \\\n",
       "0   {'$date': {'$numberLong': '1212883200000'}}   \n",
       "1   {'$date': {'$numberLong': '1212883200000'}}   \n",
       "2   {'$date': {'$numberLong': '1212883200000'}}   \n",
       "3   {'$date': {'$numberLong': '1212883200000'}}   \n",
       "4   {'$date': {'$numberLong': '1212883200000'}}   \n",
       "..                                          ...   \n",
       "95  {'$date': {'$numberLong': '1215302400000'}}   \n",
       "96  {'$date': {'$numberLong': '1215302400000'}}   \n",
       "97  {'$date': {'$numberLong': '1215302400000'}}   \n",
       "98  {'$date': {'$numberLong': '1215302400000'}}   \n",
       "99  {'$date': {'$numberLong': '1215302400000'}}   \n",
       "\n",
       "                                   amazon_product_url  \\\n",
       "0   http://www.amazon.com/Odd-Hours-Dean-Koontz/dp...   \n",
       "1   http://www.amazon.com/The-Host-Novel-Stephenie...   \n",
       "2   http://www.amazon.com/Love-Youre-With-Emily-Gi...   \n",
       "3   http://www.amazon.com/The-Front-Garano-Patrici...   \n",
       "4   http://www.amazon.com/Snuff-Chuck-Palahniuk/dp...   \n",
       "..                                                ...   \n",
       "95  http://www.amazon.com/Blood-Anita-Blake-Vampir...   \n",
       "96  http://www.amazon.com/Snuff-Chuck-Palahniuk/dp...   \n",
       "97  http://www.amazon.com/Death-Honor-Bound-Book/d...   \n",
       "98  http://www.amazon.com/The-Spies-Warsaw-A-Novel...   \n",
       "99  http://www.amazon.com/Phantom-Prey-John-Sandfo...   \n",
       "\n",
       "                                        author  \\\n",
       "0                                Dean R Koontz   \n",
       "1                              Stephenie Meyer   \n",
       "2                                 Emily Giffin   \n",
       "3                            Patricia Cornwell   \n",
       "4                              Chuck Palahniuk   \n",
       "..                                         ...   \n",
       "95                          Laurell K Hamilton   \n",
       "96                             Chuck Palahniuk   \n",
       "97  W E B Griffin and William E Butterworth IV   \n",
       "98                                  Alan Furst   \n",
       "99                               John Sandford   \n",
       "\n",
       "                                          description  \\\n",
       "0   Odd Thomas, who can communicate with the dead,...   \n",
       "1   Aliens have taken control of the minds and bod...   \n",
       "2   A woman's happy marriage is shaken when she en...   \n",
       "3   A Massachusetts state investigator and his tea...   \n",
       "4   An aging porn queens aims to cap her career by...   \n",
       "..                                                ...   \n",
       "95  The vampire hunter Anita Blake is involved in ...   \n",
       "96  An aging porn queens aims to cap her career by...   \n",
       "97  A Marine pilot spies in  Argentina in 1943; th...   \n",
       "98       Intrigue in Poland just before World War II.   \n",
       "99  The Minneapolis detective Lucas Davenport inve...   \n",
       "\n",
       "                         price      publisher                     title  \\\n",
       "0         {'$numberInt': '27'}         Bantam                 ODD HOURS   \n",
       "1   {'$numberDouble': '25.99'}  Little, Brown                  THE HOST   \n",
       "2   {'$numberDouble': '24.95'}   St. Martin's  LOVE THE ONE YOU'RE WITH   \n",
       "3   {'$numberDouble': '22.95'}         Putnam                 THE FRONT   \n",
       "4   {'$numberDouble': '24.95'}      Doubleday                     SNUFF   \n",
       "..                         ...            ...                       ...   \n",
       "95  {'$numberDouble': '25.95'}        Berkley                BLOOD NOIR   \n",
       "96         {'$numberInt': '0'}      Doubleday                     SNUFF   \n",
       "97         {'$numberInt': '0'}         Putnam           DEATH AND HONOR   \n",
       "98         {'$numberInt': '0'}   Random House       THE SPIES OF WARSAW   \n",
       "99         {'$numberInt': '0'}         Putnam              PHANTOM PREY   \n",
       "\n",
       "                    rank        rank_last_week        weeks_on_list  \n",
       "0    {'$numberInt': '1'}   {'$numberInt': '0'}  {'$numberInt': '1'}  \n",
       "1    {'$numberInt': '2'}   {'$numberInt': '1'}  {'$numberInt': '3'}  \n",
       "2    {'$numberInt': '3'}   {'$numberInt': '2'}  {'$numberInt': '2'}  \n",
       "3    {'$numberInt': '4'}   {'$numberInt': '0'}  {'$numberInt': '1'}  \n",
       "4    {'$numberInt': '5'}   {'$numberInt': '0'}  {'$numberInt': '1'}  \n",
       "..                   ...                   ...                  ...  \n",
       "95  {'$numberInt': '16'}  {'$numberInt': '12'}  {'$numberInt': '4'}  \n",
       "96  {'$numberInt': '17'}   {'$numberInt': '0'}  {'$numberInt': '0'}  \n",
       "97  {'$numberInt': '18'}   {'$numberInt': '0'}  {'$numberInt': '0'}  \n",
       "98  {'$numberInt': '19'}   {'$numberInt': '0'}  {'$numberInt': '0'}  \n",
       "99  {'$numberInt': '20'}   {'$numberInt': '0'}  {'$numberInt': '0'}  \n",
       "\n",
       "[100 rows x 12 columns]"
      ]
     },
     "execution_count": 42,
     "metadata": {},
     "output_type": "execute_result"
    }
   ],
   "source": [
    "df_nyt"
   ]
  },
  {
   "cell_type": "code",
   "execution_count": 3,
   "id": "eae1ace5",
   "metadata": {},
   "outputs": [
    {
     "ename": "ValueError",
     "evalue": "Mixing dicts with non-Series may lead to ambiguous ordering.",
     "output_type": "error",
     "traceback": [
      "\u001b[0;31m---------------------------------------------------------------------------\u001b[0m",
      "\u001b[0;31mValueError\u001b[0m                                Traceback (most recent call last)",
      "Cell \u001b[0;32mIn[3], line 1\u001b[0m\n\u001b[0;32m----> 1\u001b[0m df_koeln \u001b[38;5;241m=\u001b[39m \u001b[43mpd\u001b[49m\u001b[38;5;241;43m.\u001b[39;49m\u001b[43mread_json\u001b[49m\u001b[43m(\u001b[49m\u001b[38;5;124;43m\"\u001b[39;49m\u001b[38;5;124;43mdata/search_Media_Bias.json\u001b[39;49m\u001b[38;5;124;43m\"\u001b[39;49m\u001b[43m)\u001b[49m\n",
      "File \u001b[0;32m~/anaconda3/lib/python3.8/site-packages/pandas/io/json/_json.py:784\u001b[0m, in \u001b[0;36mread_json\u001b[0;34m(path_or_buf, orient, typ, dtype, convert_axes, convert_dates, keep_default_dates, precise_float, date_unit, encoding, encoding_errors, lines, chunksize, compression, nrows, storage_options, dtype_backend, engine)\u001b[0m\n\u001b[1;32m    782\u001b[0m     \u001b[38;5;28;01mreturn\u001b[39;00m json_reader\n\u001b[1;32m    783\u001b[0m \u001b[38;5;28;01melse\u001b[39;00m:\n\u001b[0;32m--> 784\u001b[0m     \u001b[38;5;28;01mreturn\u001b[39;00m \u001b[43mjson_reader\u001b[49m\u001b[38;5;241;43m.\u001b[39;49m\u001b[43mread\u001b[49m\u001b[43m(\u001b[49m\u001b[43m)\u001b[49m\n",
      "File \u001b[0;32m~/anaconda3/lib/python3.8/site-packages/pandas/io/json/_json.py:975\u001b[0m, in \u001b[0;36mJsonReader.read\u001b[0;34m(self)\u001b[0m\n\u001b[1;32m    973\u001b[0m         obj \u001b[38;5;241m=\u001b[39m \u001b[38;5;28mself\u001b[39m\u001b[38;5;241m.\u001b[39m_get_object_parser(\u001b[38;5;28mself\u001b[39m\u001b[38;5;241m.\u001b[39m_combine_lines(data_lines))\n\u001b[1;32m    974\u001b[0m \u001b[38;5;28;01melse\u001b[39;00m:\n\u001b[0;32m--> 975\u001b[0m     obj \u001b[38;5;241m=\u001b[39m \u001b[38;5;28;43mself\u001b[39;49m\u001b[38;5;241;43m.\u001b[39;49m\u001b[43m_get_object_parser\u001b[49m\u001b[43m(\u001b[49m\u001b[38;5;28;43mself\u001b[39;49m\u001b[38;5;241;43m.\u001b[39;49m\u001b[43mdata\u001b[49m\u001b[43m)\u001b[49m\n\u001b[1;32m    976\u001b[0m \u001b[38;5;28;01mif\u001b[39;00m \u001b[38;5;28mself\u001b[39m\u001b[38;5;241m.\u001b[39mdtype_backend \u001b[38;5;129;01mis\u001b[39;00m \u001b[38;5;129;01mnot\u001b[39;00m lib\u001b[38;5;241m.\u001b[39mno_default:\n\u001b[1;32m    977\u001b[0m     \u001b[38;5;28;01mreturn\u001b[39;00m obj\u001b[38;5;241m.\u001b[39mconvert_dtypes(\n\u001b[1;32m    978\u001b[0m         infer_objects\u001b[38;5;241m=\u001b[39m\u001b[38;5;28;01mFalse\u001b[39;00m, dtype_backend\u001b[38;5;241m=\u001b[39m\u001b[38;5;28mself\u001b[39m\u001b[38;5;241m.\u001b[39mdtype_backend\n\u001b[1;32m    979\u001b[0m     )\n",
      "File \u001b[0;32m~/anaconda3/lib/python3.8/site-packages/pandas/io/json/_json.py:1001\u001b[0m, in \u001b[0;36mJsonReader._get_object_parser\u001b[0;34m(self, json)\u001b[0m\n\u001b[1;32m    999\u001b[0m obj \u001b[38;5;241m=\u001b[39m \u001b[38;5;28;01mNone\u001b[39;00m\n\u001b[1;32m   1000\u001b[0m \u001b[38;5;28;01mif\u001b[39;00m typ \u001b[38;5;241m==\u001b[39m \u001b[38;5;124m\"\u001b[39m\u001b[38;5;124mframe\u001b[39m\u001b[38;5;124m\"\u001b[39m:\n\u001b[0;32m-> 1001\u001b[0m     obj \u001b[38;5;241m=\u001b[39m \u001b[43mFrameParser\u001b[49m\u001b[43m(\u001b[49m\u001b[43mjson\u001b[49m\u001b[43m,\u001b[49m\u001b[43m \u001b[49m\u001b[38;5;241;43m*\u001b[39;49m\u001b[38;5;241;43m*\u001b[39;49m\u001b[43mkwargs\u001b[49m\u001b[43m)\u001b[49m\u001b[38;5;241;43m.\u001b[39;49m\u001b[43mparse\u001b[49m\u001b[43m(\u001b[49m\u001b[43m)\u001b[49m\n\u001b[1;32m   1003\u001b[0m \u001b[38;5;28;01mif\u001b[39;00m typ \u001b[38;5;241m==\u001b[39m \u001b[38;5;124m\"\u001b[39m\u001b[38;5;124mseries\u001b[39m\u001b[38;5;124m\"\u001b[39m \u001b[38;5;129;01mor\u001b[39;00m obj \u001b[38;5;129;01mis\u001b[39;00m \u001b[38;5;28;01mNone\u001b[39;00m:\n\u001b[1;32m   1004\u001b[0m     \u001b[38;5;28;01mif\u001b[39;00m \u001b[38;5;129;01mnot\u001b[39;00m \u001b[38;5;28misinstance\u001b[39m(dtype, \u001b[38;5;28mbool\u001b[39m):\n",
      "File \u001b[0;32m~/anaconda3/lib/python3.8/site-packages/pandas/io/json/_json.py:1134\u001b[0m, in \u001b[0;36mParser.parse\u001b[0;34m(self)\u001b[0m\n\u001b[1;32m   1133\u001b[0m \u001b[38;5;28;01mdef\u001b[39;00m \u001b[38;5;21mparse\u001b[39m(\u001b[38;5;28mself\u001b[39m):\n\u001b[0;32m-> 1134\u001b[0m     \u001b[38;5;28;43mself\u001b[39;49m\u001b[38;5;241;43m.\u001b[39;49m\u001b[43m_parse\u001b[49m\u001b[43m(\u001b[49m\u001b[43m)\u001b[49m\n\u001b[1;32m   1136\u001b[0m     \u001b[38;5;28;01mif\u001b[39;00m \u001b[38;5;28mself\u001b[39m\u001b[38;5;241m.\u001b[39mobj \u001b[38;5;129;01mis\u001b[39;00m \u001b[38;5;28;01mNone\u001b[39;00m:\n\u001b[1;32m   1137\u001b[0m         \u001b[38;5;28;01mreturn\u001b[39;00m \u001b[38;5;28;01mNone\u001b[39;00m\n",
      "File \u001b[0;32m~/anaconda3/lib/python3.8/site-packages/pandas/io/json/_json.py:1319\u001b[0m, in \u001b[0;36mFrameParser._parse\u001b[0;34m(self)\u001b[0m\n\u001b[1;32m   1316\u001b[0m orient \u001b[38;5;241m=\u001b[39m \u001b[38;5;28mself\u001b[39m\u001b[38;5;241m.\u001b[39morient\n\u001b[1;32m   1318\u001b[0m \u001b[38;5;28;01mif\u001b[39;00m orient \u001b[38;5;241m==\u001b[39m \u001b[38;5;124m\"\u001b[39m\u001b[38;5;124mcolumns\u001b[39m\u001b[38;5;124m\"\u001b[39m:\n\u001b[0;32m-> 1319\u001b[0m     \u001b[38;5;28mself\u001b[39m\u001b[38;5;241m.\u001b[39mobj \u001b[38;5;241m=\u001b[39m \u001b[43mDataFrame\u001b[49m\u001b[43m(\u001b[49m\n\u001b[1;32m   1320\u001b[0m \u001b[43m        \u001b[49m\u001b[43mloads\u001b[49m\u001b[43m(\u001b[49m\u001b[43mjson\u001b[49m\u001b[43m,\u001b[49m\u001b[43m \u001b[49m\u001b[43mprecise_float\u001b[49m\u001b[38;5;241;43m=\u001b[39;49m\u001b[38;5;28;43mself\u001b[39;49m\u001b[38;5;241;43m.\u001b[39;49m\u001b[43mprecise_float\u001b[49m\u001b[43m)\u001b[49m\u001b[43m,\u001b[49m\u001b[43m \u001b[49m\u001b[43mdtype\u001b[49m\u001b[38;5;241;43m=\u001b[39;49m\u001b[38;5;28;43;01mNone\u001b[39;49;00m\n\u001b[1;32m   1321\u001b[0m \u001b[43m    \u001b[49m\u001b[43m)\u001b[49m\n\u001b[1;32m   1322\u001b[0m \u001b[38;5;28;01melif\u001b[39;00m orient \u001b[38;5;241m==\u001b[39m \u001b[38;5;124m\"\u001b[39m\u001b[38;5;124msplit\u001b[39m\u001b[38;5;124m\"\u001b[39m:\n\u001b[1;32m   1323\u001b[0m     decoded \u001b[38;5;241m=\u001b[39m {\n\u001b[1;32m   1324\u001b[0m         \u001b[38;5;28mstr\u001b[39m(k): v\n\u001b[1;32m   1325\u001b[0m         \u001b[38;5;28;01mfor\u001b[39;00m k, v \u001b[38;5;129;01min\u001b[39;00m loads(json, precise_float\u001b[38;5;241m=\u001b[39m\u001b[38;5;28mself\u001b[39m\u001b[38;5;241m.\u001b[39mprecise_float)\u001b[38;5;241m.\u001b[39mitems()\n\u001b[1;32m   1326\u001b[0m     }\n",
      "File \u001b[0;32m~/anaconda3/lib/python3.8/site-packages/pandas/core/frame.py:709\u001b[0m, in \u001b[0;36mDataFrame.__init__\u001b[0;34m(self, data, index, columns, dtype, copy)\u001b[0m\n\u001b[1;32m    703\u001b[0m     mgr \u001b[38;5;241m=\u001b[39m \u001b[38;5;28mself\u001b[39m\u001b[38;5;241m.\u001b[39m_init_mgr(\n\u001b[1;32m    704\u001b[0m         data, axes\u001b[38;5;241m=\u001b[39m{\u001b[38;5;124m\"\u001b[39m\u001b[38;5;124mindex\u001b[39m\u001b[38;5;124m\"\u001b[39m: index, \u001b[38;5;124m\"\u001b[39m\u001b[38;5;124mcolumns\u001b[39m\u001b[38;5;124m\"\u001b[39m: columns}, dtype\u001b[38;5;241m=\u001b[39mdtype, copy\u001b[38;5;241m=\u001b[39mcopy\n\u001b[1;32m    705\u001b[0m     )\n\u001b[1;32m    707\u001b[0m \u001b[38;5;28;01melif\u001b[39;00m \u001b[38;5;28misinstance\u001b[39m(data, \u001b[38;5;28mdict\u001b[39m):\n\u001b[1;32m    708\u001b[0m     \u001b[38;5;66;03m# GH#38939 de facto copy defaults to False only in non-dict cases\u001b[39;00m\n\u001b[0;32m--> 709\u001b[0m     mgr \u001b[38;5;241m=\u001b[39m \u001b[43mdict_to_mgr\u001b[49m\u001b[43m(\u001b[49m\u001b[43mdata\u001b[49m\u001b[43m,\u001b[49m\u001b[43m \u001b[49m\u001b[43mindex\u001b[49m\u001b[43m,\u001b[49m\u001b[43m \u001b[49m\u001b[43mcolumns\u001b[49m\u001b[43m,\u001b[49m\u001b[43m \u001b[49m\u001b[43mdtype\u001b[49m\u001b[38;5;241;43m=\u001b[39;49m\u001b[43mdtype\u001b[49m\u001b[43m,\u001b[49m\u001b[43m \u001b[49m\u001b[43mcopy\u001b[49m\u001b[38;5;241;43m=\u001b[39;49m\u001b[43mcopy\u001b[49m\u001b[43m,\u001b[49m\u001b[43m \u001b[49m\u001b[43mtyp\u001b[49m\u001b[38;5;241;43m=\u001b[39;49m\u001b[43mmanager\u001b[49m\u001b[43m)\u001b[49m\n\u001b[1;32m    710\u001b[0m \u001b[38;5;28;01melif\u001b[39;00m \u001b[38;5;28misinstance\u001b[39m(data, ma\u001b[38;5;241m.\u001b[39mMaskedArray):\n\u001b[1;32m    711\u001b[0m     \u001b[38;5;28;01mfrom\u001b[39;00m \u001b[38;5;21;01mnumpy\u001b[39;00m\u001b[38;5;21;01m.\u001b[39;00m\u001b[38;5;21;01mma\u001b[39;00m \u001b[38;5;28;01mimport\u001b[39;00m mrecords\n",
      "File \u001b[0;32m~/anaconda3/lib/python3.8/site-packages/pandas/core/internals/construction.py:481\u001b[0m, in \u001b[0;36mdict_to_mgr\u001b[0;34m(data, index, columns, dtype, typ, copy)\u001b[0m\n\u001b[1;32m    477\u001b[0m     \u001b[38;5;28;01melse\u001b[39;00m:\n\u001b[1;32m    478\u001b[0m         \u001b[38;5;66;03m# dtype check to exclude e.g. range objects, scalars\u001b[39;00m\n\u001b[1;32m    479\u001b[0m         arrays \u001b[38;5;241m=\u001b[39m [x\u001b[38;5;241m.\u001b[39mcopy() \u001b[38;5;28;01mif\u001b[39;00m \u001b[38;5;28mhasattr\u001b[39m(x, \u001b[38;5;124m\"\u001b[39m\u001b[38;5;124mdtype\u001b[39m\u001b[38;5;124m\"\u001b[39m) \u001b[38;5;28;01melse\u001b[39;00m x \u001b[38;5;28;01mfor\u001b[39;00m x \u001b[38;5;129;01min\u001b[39;00m arrays]\n\u001b[0;32m--> 481\u001b[0m \u001b[38;5;28;01mreturn\u001b[39;00m \u001b[43marrays_to_mgr\u001b[49m\u001b[43m(\u001b[49m\u001b[43marrays\u001b[49m\u001b[43m,\u001b[49m\u001b[43m \u001b[49m\u001b[43mcolumns\u001b[49m\u001b[43m,\u001b[49m\u001b[43m \u001b[49m\u001b[43mindex\u001b[49m\u001b[43m,\u001b[49m\u001b[43m \u001b[49m\u001b[43mdtype\u001b[49m\u001b[38;5;241;43m=\u001b[39;49m\u001b[43mdtype\u001b[49m\u001b[43m,\u001b[49m\u001b[43m \u001b[49m\u001b[43mtyp\u001b[49m\u001b[38;5;241;43m=\u001b[39;49m\u001b[43mtyp\u001b[49m\u001b[43m,\u001b[49m\u001b[43m \u001b[49m\u001b[43mconsolidate\u001b[49m\u001b[38;5;241;43m=\u001b[39;49m\u001b[43mcopy\u001b[49m\u001b[43m)\u001b[49m\n",
      "File \u001b[0;32m~/anaconda3/lib/python3.8/site-packages/pandas/core/internals/construction.py:115\u001b[0m, in \u001b[0;36marrays_to_mgr\u001b[0;34m(arrays, columns, index, dtype, verify_integrity, typ, consolidate)\u001b[0m\n\u001b[1;32m    112\u001b[0m \u001b[38;5;28;01mif\u001b[39;00m verify_integrity:\n\u001b[1;32m    113\u001b[0m     \u001b[38;5;66;03m# figure out the index, if necessary\u001b[39;00m\n\u001b[1;32m    114\u001b[0m     \u001b[38;5;28;01mif\u001b[39;00m index \u001b[38;5;129;01mis\u001b[39;00m \u001b[38;5;28;01mNone\u001b[39;00m:\n\u001b[0;32m--> 115\u001b[0m         index \u001b[38;5;241m=\u001b[39m \u001b[43m_extract_index\u001b[49m\u001b[43m(\u001b[49m\u001b[43marrays\u001b[49m\u001b[43m)\u001b[49m\n\u001b[1;32m    116\u001b[0m     \u001b[38;5;28;01melse\u001b[39;00m:\n\u001b[1;32m    117\u001b[0m         index \u001b[38;5;241m=\u001b[39m ensure_index(index)\n",
      "File \u001b[0;32m~/anaconda3/lib/python3.8/site-packages/pandas/core/internals/construction.py:658\u001b[0m, in \u001b[0;36m_extract_index\u001b[0;34m(data)\u001b[0m\n\u001b[1;32m    655\u001b[0m     \u001b[38;5;28;01mraise\u001b[39;00m \u001b[38;5;167;01mValueError\u001b[39;00m(\u001b[38;5;124m\"\u001b[39m\u001b[38;5;124mAll arrays must be of the same length\u001b[39m\u001b[38;5;124m\"\u001b[39m)\n\u001b[1;32m    657\u001b[0m \u001b[38;5;28;01mif\u001b[39;00m have_dicts:\n\u001b[0;32m--> 658\u001b[0m     \u001b[38;5;28;01mraise\u001b[39;00m \u001b[38;5;167;01mValueError\u001b[39;00m(\n\u001b[1;32m    659\u001b[0m         \u001b[38;5;124m\"\u001b[39m\u001b[38;5;124mMixing dicts with non-Series may lead to ambiguous ordering.\u001b[39m\u001b[38;5;124m\"\u001b[39m\n\u001b[1;32m    660\u001b[0m     )\n\u001b[1;32m    662\u001b[0m \u001b[38;5;28;01mif\u001b[39;00m have_series:\n\u001b[1;32m    663\u001b[0m     \u001b[38;5;28;01mif\u001b[39;00m lengths[\u001b[38;5;241m0\u001b[39m] \u001b[38;5;241m!=\u001b[39m \u001b[38;5;28mlen\u001b[39m(index):\n",
      "\u001b[0;31mValueError\u001b[0m: Mixing dicts with non-Series may lead to ambiguous ordering."
     ]
    }
   ],
   "source": [
    "df_koeln = pd.read_json(\"data/search_Media_Bias.json\")"
   ]
  },
  {
   "cell_type": "code",
   "execution_count": 50,
   "id": "9dab53bf",
   "metadata": {},
   "outputs": [
    {
     "ename": "NameError",
     "evalue": "name 'df_koeln' is not defined",
     "output_type": "error",
     "traceback": [
      "\u001b[0;31m---------------------------------------------------------------------------\u001b[0m",
      "\u001b[0;31mNameError\u001b[0m                                 Traceback (most recent call last)",
      "Cell \u001b[0;32mIn[50], line 1\u001b[0m\n\u001b[0;32m----> 1\u001b[0m df_koeln\n",
      "\u001b[0;31mNameError\u001b[0m: name 'df_koeln' is not defined"
     ]
    }
   ],
   "source": [
    "df_koeln"
   ]
  },
  {
   "cell_type": "code",
   "execution_count": null,
   "id": "9551c13b",
   "metadata": {},
   "outputs": [],
   "source": []
  }
 ],
 "metadata": {
  "kernelspec": {
   "display_name": "Python 3 (ipykernel)",
   "language": "python",
   "name": "python3"
  },
  "language_info": {
   "codemirror_mode": {
    "name": "ipython",
    "version": 3
   },
   "file_extension": ".py",
   "mimetype": "text/x-python",
   "name": "python",
   "nbconvert_exporter": "python",
   "pygments_lexer": "ipython3",
   "version": "3.8.18"
  }
 },
 "nbformat": 4,
 "nbformat_minor": 5
}
