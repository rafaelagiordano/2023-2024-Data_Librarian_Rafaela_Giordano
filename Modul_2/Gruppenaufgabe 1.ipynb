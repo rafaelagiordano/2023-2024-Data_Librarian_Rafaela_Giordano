{
 "cells": [
  {
   "cell_type": "markdown",
   "id": "546a3d12-e565-46ca-b3ca-f46c72f6537f",
   "metadata": {},
   "source": [
    "# Gruppenaufgabe 1\n",
    "Aufgabenbeschreibung\n",
    "\n",
    "Wir möchten nun zusätzlich zu den Bibsonomy Daten auch noch Daten aus einer weiteren Quelle zusammenführen, in diesem Fall Semantic Scholar.\n",
    "\n",
    "    Lade \"bibsonomy.json\" und \"semantic_scholar.json\" in Pandas als ein Dataframe, füge eine Spalte \"source\" hinzu, in der du festhälst, woher die Suchergebnisse kommen.\n",
    "    Selektiere und benenne die Spalten so um dass aus beiden Quellen Titel, Autoren, URL, Abstract, Keywords, Query ( Suchanfrage) und das Jahr enthalten und gleich benannt sind.\n",
    "    Führe die Datensätze zusammen.\n",
    "    Stelle sicher, dass alle Einträge für \"Jahr\" eine 4-stellige Zahl (int) ist.\n",
    "    Stelle sicher, dass die Autoren gleich als Liste formatiert sind (also z. B. [Max Mustermann, Lieschen Müller] oder [Mustermann M., Müller L.]).\n",
    "    Entferne Duplikate (anhand der Spalte Title).\n",
    "    Sorge dafür, dass es einen durchgängigen Index gibt.\n"
   ]
  },
  {
   "cell_type": "code",
   "execution_count": null,
   "id": "5867b719-c37f-42a0-83b8-af1585bcd82d",
   "metadata": {},
   "outputs": [],
   "source": []
  }
 ],
 "metadata": {
  "kernelspec": {
   "display_name": "Python 3 (ipykernel)",
   "language": "python",
   "name": "python3"
  },
  "language_info": {
   "codemirror_mode": {
    "name": "ipython",
    "version": 3
   },
   "file_extension": ".py",
   "mimetype": "text/x-python",
   "name": "python",
   "nbconvert_exporter": "python",
   "pygments_lexer": "ipython3",
   "version": "3.8.18"
  }
 },
 "nbformat": 4,
 "nbformat_minor": 5
}
