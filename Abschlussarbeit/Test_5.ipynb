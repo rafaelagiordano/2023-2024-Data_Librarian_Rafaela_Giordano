{
 "cells": [
  {
   "cell_type": "code",
   "execution_count": 2,
   "id": "1982df06-3504-4249-acef-dd345b469e14",
   "metadata": {},
   "outputs": [
    {
     "name": "stdout",
     "output_type": "stream",
     "text": [
      "     Root     Branch      Sub-Branch      Leaf                  URL\n",
      "0  Root 1  Branch 1A  Sub-Branch 1A1  Leaf 1A1  https://link1a1.com\n",
      "1  Root 1  Branch 1A  Sub-Branch 1A2  Leaf 1A2  https://link1a2.com\n",
      "2  Root 1  Branch 1B  Sub-Branch 1B1  Leaf 1B1  https://link1b1.com\n",
      "3  Root 2  Branch 2A  Sub-Branch 2A1  Leaf 2A1  https://link2a1.com\n",
      "4  Root 3  Branch 3A  Sub-Branch 3A1  Leaf 3A1  https://link3a1.com\n"
     ]
    }
   ],
   "source": [
    "import pandas as pd\n",
    "\n",
    "# Ler o arquivo Excel\n",
    "df = pd.read_excel('test_5.xlsx')\n",
    "\n",
    "# Exibir os dados para verificar\n",
    "print(df.head())"
   ]
  },
  {
   "cell_type": "code",
   "execution_count": 3,
   "id": "cf9a64c6-7283-4c28-9c7f-51762da917e9",
   "metadata": {},
   "outputs": [],
   "source": [
    "class Node:\n",
    "    def __init__(self, name, url=None):\n",
    "        self.name = name\n",
    "        self.url = url\n",
    "        self.children = []\n",
    "\n",
    "    def add_child(self, child_node):\n",
    "        self.children.append(child_node)\n",
    "\n",
    "    def __repr__(self, level=0):\n",
    "        ret = \"\\t\" * level + repr(self.name) + \"\\n\"\n",
    "        for child in self.children:\n",
    "            ret += child.__repr__(level + 1)\n",
    "        return ret"
   ]
  },
  {
   "cell_type": "code",
   "execution_count": 4,
   "id": "370dfa2b-07c7-42ba-9e34-252bf1ac1540",
   "metadata": {},
   "outputs": [],
   "source": [
    "class Forest:\n",
    "    def __init__(self):\n",
    "        self.roots = []\n",
    "\n",
    "    def add_tree(self, root_node):\n",
    "        self.roots.append(root_node)\n",
    "\n",
    "    def __repr__(self):\n",
    "        ret = \"\"\n",
    "        for root in self.roots:\n",
    "            ret += repr(root) + \"\\n\"\n",
    "        return ret\n",
    "\n",
    "def build_forest_from_df(df):\n",
    "    forest = Forest()\n",
    "    root_map = {}\n",
    "    \n",
    "    for _, row in df.iterrows():\n",
    "        root_name = row['Root']\n",
    "        branch_name = row['Branch']\n",
    "        sub_branch_name = row['Sub-Branch']\n",
    "        leaf_name = row['Leaf']\n",
    "        url = row['URL']\n",
    "\n",
    "        if root_name not in root_map:\n",
    "            root_node = Node(root_name)\n",
    "            forest.add_tree(root_node)\n",
    "            root_map[root_name] = root_node\n",
    "        else:\n",
    "            root_node = root_map[root_name]\n",
    "        \n",
    "        branch_node = next((child for child in root_node.children if child.name == branch_name), None)\n",
    "        if not branch_node:\n",
    "            branch_node = Node(branch_name)\n",
    "            root_node.add_child(branch_node)\n",
    "\n",
    "        sub_branch_node = next((child for child in branch_node.children if child.name == sub_branch_name), None)\n",
    "        if not sub_branch_node:\n",
    "            sub_branch_node = Node(sub_branch_name)\n",
    "            branch_node.add_child(sub_branch_node)\n",
    "\n",
    "        leaf_node = next((child for child in sub_branch_node.children if child.name == leaf_name), None)\n",
    "        if not leaf_node:\n",
    "            leaf_node = Node(leaf_name, url)\n",
    "            sub_branch_node.add_child(leaf_node)\n",
    "\n",
    "    return forest\n"
   ]
  },
  {
   "cell_type": "code",
   "execution_count": 5,
   "id": "9cfc1548-febc-4d22-a707-b2a8349b5f7f",
   "metadata": {},
   "outputs": [],
   "source": [
    "def generate_html(node):\n",
    "    if not node.children:\n",
    "        return f'<li>{node.name}</li>'\n",
    "    children_html = ''.join(generate_html(child) for child in node.children)\n",
    "    return f'''\n",
    "    <li>\n",
    "        <span class=\"caret\">{node.name}</span>\n",
    "        <ul class=\"nested\">\n",
    "            {children_html}\n",
    "        </ul>\n",
    "    </li>\n",
    "    '''\n",
    "\n",
    "def generate_forest_html(forest):\n",
    "    forest_html = ''.join(generate_html(root) for root in forest.roots)\n",
    "    return f'''\n",
    "<!DOCTYPE html>\n",
    "<html lang=\"en\">\n",
    "<head>\n",
    "    <meta charset=\"UTF-8\">\n",
    "    <meta name=\"viewport\" content=\"width=device-width, initial-scale=1.0\">\n",
    "    <title>Collapsible Tree Menu</title>\n",
    "    <style>\n",
    "        ul {{\n",
    "            list-style-type: none; /* Remove bullet points */\n",
    "        }}\n",
    "        .nested {{\n",
    "            display: none;\n",
    "        }}\n",
    "        .active {{\n",
    "            display: block;\n",
    "        }}\n",
    "        .caret {{\n",
    "            cursor: pointer;\n",
    "            user-select: none;\n",
    "            font-weight: bold; /* Highlight caret items */\n",
    "            color: #006c66; /* Replace with the color of MPIL logo */\n",
    "        }}\n",
    "    </style>\n",
    "</head>\n",
    "<body>\n",
    "    <h2>Collapsible Tree Menu</h2>\n",
    "    <ul id=\"myMenu\">\n",
    "        {forest_html}\n",
    "    </ul>\n",
    "    <script>\n",
    "        document.addEventListener('DOMContentLoaded', function() {{\n",
    "            var toggler = document.getElementsByClassName(\"caret\");\n",
    "            for (var i = 0; i < toggler.length; i++) {{\n",
    "                toggler[i].addEventListener(\"click\", function() {{\n",
    "                    this.parentElement.querySelector(\".nested\").classList.toggle(\"active\");\n",
    "                }});\n",
    "            }}\n",
    "        }});\n",
    "    </script>\n",
    "</body>\n",
    "</html>\n",
    "    '''\n"
   ]
  },
  {
   "cell_type": "code",
   "execution_count": 6,
   "id": "7ad6b8e2-76db-4cb0-9b33-c88d1ecf94fd",
   "metadata": {},
   "outputs": [
    {
     "name": "stdout",
     "output_type": "stream",
     "text": [
      "HTML file 'Test_5.html' has been generated.\n"
     ]
    }
   ],
   "source": [
    "# Ler o arquivo Excel\n",
    "df = pd.read_excel('test_5.xlsx')\n",
    "\n",
    "# Construir a floresta a partir do DataFrame\n",
    "forest = build_forest_from_df(df)\n",
    "\n",
    "# Gerar HTML\n",
    "html_content = generate_forest_html(forest)\n",
    "\n",
    "# Salvar o HTML em um arquivo\n",
    "with open('Test_5.html', 'w') as file:\n",
    "    file.write(html_content)\n",
    "\n",
    "print(\"HTML file 'Test_5.html' has been generated.\")\n"
   ]
  },
  {
   "cell_type": "code",
   "execution_count": null,
   "id": "371b6aaf-1500-4ec1-b570-3006dcbb1617",
   "metadata": {},
   "outputs": [],
   "source": []
  }
 ],
 "metadata": {
  "kernelspec": {
   "display_name": "Python 3 (ipykernel)",
   "language": "python",
   "name": "python3"
  },
  "language_info": {
   "codemirror_mode": {
    "name": "ipython",
    "version": 3
   },
   "file_extension": ".py",
   "mimetype": "text/x-python",
   "name": "python",
   "nbconvert_exporter": "python",
   "pygments_lexer": "ipython3",
   "version": "3.11.5"
  }
 },
 "nbformat": 4,
 "nbformat_minor": 5
}
