{
 "cells": [
  {
   "cell_type": "code",
   "execution_count": null,
   "id": "09b7cb2e",
   "metadata": {},
   "outputs": [],
   "source": []
  },
  {
   "cell_type": "code",
   "execution_count": 23,
   "id": "6cac39dd",
   "metadata": {},
   "outputs": [],
   "source": [
    "import urllib.request\n",
    "import json"
   ]
  },
  {
   "cell_type": "code",
   "execution_count": 24,
   "id": "fc0caa14",
   "metadata": {},
   "outputs": [],
   "source": [
    "base_url = \"https://api.crossref.org/works/\"\n",
    "doi = \"10.1371/journal.pcbi.1004668\"\n",
    "full_url = base_url + doi"
   ]
  },
  {
   "cell_type": "code",
   "execution_count": 25,
   "id": "3d90125e",
   "metadata": {},
   "outputs": [],
   "source": [
    "doi_json_crossref = urllib.request.urlopen(full_url).read()"
   ]
  },
  {
   "cell_type": "code",
   "execution_count": 26,
   "id": "69f96a02",
   "metadata": {},
   "outputs": [],
   "source": [
    "doi_crossref = json.loads(doi_json_crossref)"
   ]
  },
  {
   "cell_type": "code",
   "execution_count": 27,
   "id": "7e510543",
   "metadata": {},
   "outputs": [
    {
     "data": {
      "text/plain": [
       "{'status': 'ok',\n",
       " 'message-type': 'work',\n",
       " 'message-version': '1.0.0',\n",
       " 'message': {'indexed': {'date-parts': [[2023, 10, 23]],\n",
       "   'date-time': '2023-10-23T12:05:12Z',\n",
       "   'timestamp': 1698062712511},\n",
       "  'reference-count': 6,\n",
       "  'publisher': 'Public Library of Science (PLoS)',\n",
       "  'issue': '1',\n",
       "  'license': [{'start': {'date-parts': [[2016, 1, 19]],\n",
       "     'date-time': '2016-01-19T00:00:00Z',\n",
       "     'timestamp': 1453161600000},\n",
       "    'content-version': 'vor',\n",
       "    'delay-in-days': 0,\n",
       "    'URL': 'http://creativecommons.org/licenses/by/4.0/'}],\n",
       "  'content-domain': {'domain': ['www.ploscompbiol.org'],\n",
       "   'crossmark-restriction': False},\n",
       "  'short-container-title': ['PLoS Comput Biol'],\n",
       "  'DOI': '10.1371/journal.pcbi.1004668',\n",
       "  'type': 'journal-article',\n",
       "  'created': {'date-parts': [[2016, 1, 19]],\n",
       "   'date-time': '2016-01-19T21:35:29Z',\n",
       "   'timestamp': 1453239329000},\n",
       "  'page': 'e1004668',\n",
       "  'update-policy': 'http://dx.doi.org/10.1371/journal.pcbi.corrections_policy',\n",
       "  'source': 'Crossref',\n",
       "  'is-referenced-by-count': 86,\n",
       "  'title': ['A Quick Introduction to Version Control with Git and GitHub'],\n",
       "  'prefix': '10.1371',\n",
       "  'volume': '12',\n",
       "  'author': [{'given': 'John D.',\n",
       "    'family': 'Blischak',\n",
       "    'sequence': 'first',\n",
       "    'affiliation': []},\n",
       "   {'given': 'Emily R.',\n",
       "    'family': 'Davenport',\n",
       "    'sequence': 'additional',\n",
       "    'affiliation': []},\n",
       "   {'given': 'Greg',\n",
       "    'family': 'Wilson',\n",
       "    'sequence': 'additional',\n",
       "    'affiliation': []}],\n",
       "  'member': '340',\n",
       "  'published-online': {'date-parts': [[2016, 1, 19]]},\n",
       "  'reference': [{'key': 'ref1',\n",
       "    'doi-asserted-by': 'crossref',\n",
       "    'first-page': '7',\n",
       "    'DOI': '10.1186/1751-0473-8-7',\n",
       "    'article-title': 'Git can facilitate greater reproducibility and increased transparency in science',\n",
       "    'volume': '8',\n",
       "    'author': 'K Ram',\n",
       "    'year': '2013',\n",
       "    'journal-title': 'Source Code Biol Med'},\n",
       "   {'key': 'ref2',\n",
       "    'doi-asserted-by': 'crossref',\n",
       "    'first-page': 'e1001745',\n",
       "    'DOI': '10.1371/journal.pbio.1001745',\n",
       "    'article-title': 'Best practices for scientific computing',\n",
       "    'volume': '12',\n",
       "    'author': 'G Wilson',\n",
       "    'year': '2014',\n",
       "    'journal-title': 'PLoS Biol'},\n",
       "   {'key': 'ref3',\n",
       "    'doi-asserted-by': 'crossref',\n",
       "    'first-page': '57',\n",
       "    'DOI': '10.1038/nature11247',\n",
       "    'article-title': 'An integrated encyclopedia of DNA elements in the human genome',\n",
       "    'volume': '489',\n",
       "    'author': 'B Bernstein',\n",
       "    'year': '2012',\n",
       "    'journal-title': 'Nature'},\n",
       "   {'key': 'ref4',\n",
       "    'doi-asserted-by': 'crossref',\n",
       "    'first-page': 'e1003326',\n",
       "    'DOI': '10.1371/journal.pcbi.1003326',\n",
       "    'article-title': 'Practical guidelines for the comprehensive analysis of ChIP-seq data',\n",
       "    'volume': '9',\n",
       "    'author': 'T Bailey',\n",
       "    'year': '2013',\n",
       "    'journal-title': 'PLoS Comput Biol'},\n",
       "   {'key': 'ref5',\n",
       "    'doi-asserted-by': 'crossref',\n",
       "    'first-page': 'e1000424',\n",
       "    'DOI': '10.1371/journal.pcbi.1000424',\n",
       "    'article-title': 'A quick guide to organizing computational biology projects',\n",
       "    'volume': '5',\n",
       "    'author': 'W Noble',\n",
       "    'year': '2009',\n",
       "    'journal-title': 'PLoS Comput Biol'},\n",
       "   {'key': 'ref6',\n",
       "    'doi-asserted-by': 'crossref',\n",
       "    'first-page': 'e1002598',\n",
       "    'DOI': '10.1371/journal.pcbi.1002598',\n",
       "    'article-title': 'A quick guide to software licensing for the scientist-programmer',\n",
       "    'volume': '8',\n",
       "    'author': 'A Morin',\n",
       "    'year': '2012',\n",
       "    'journal-title': 'PLoS Comput Biol'}],\n",
       "  'container-title': ['PLOS Computational Biology'],\n",
       "  'original-title': [],\n",
       "  'language': 'en',\n",
       "  'link': [{'URL': 'http://dx.plos.org/10.1371/journal.pcbi.1004668',\n",
       "    'content-type': 'unspecified',\n",
       "    'content-version': 'vor',\n",
       "    'intended-application': 'similarity-checking'}],\n",
       "  'deposited': {'date-parts': [[2020, 5, 8]],\n",
       "   'date-time': '2020-05-08T21:36:54Z',\n",
       "   'timestamp': 1588973814000},\n",
       "  'score': 1,\n",
       "  'resource': {'primary': {'URL': 'https://dx.plos.org/10.1371/journal.pcbi.1004668'}},\n",
       "  'subtitle': [],\n",
       "  'editor': [{'given': 'Francis',\n",
       "    'family': 'Ouellette',\n",
       "    'sequence': 'first',\n",
       "    'affiliation': []}],\n",
       "  'short-title': [],\n",
       "  'issued': {'date-parts': [[2016, 1, 19]]},\n",
       "  'references-count': 6,\n",
       "  'journal-issue': {'issue': '1',\n",
       "   'published-online': {'date-parts': [[2016, 1, 19]]}},\n",
       "  'URL': 'http://dx.doi.org/10.1371/journal.pcbi.1004668',\n",
       "  'relation': {},\n",
       "  'ISSN': ['1553-7358'],\n",
       "  'issn-type': [{'value': '1553-7358', 'type': 'electronic'}],\n",
       "  'subject': ['Computational Theory and Mathematics',\n",
       "   'Cellular and Molecular Neuroscience',\n",
       "   'Genetics',\n",
       "   'Molecular Biology',\n",
       "   'Ecology',\n",
       "   'Modeling and Simulation',\n",
       "   'Ecology, Evolution, Behavior and Systematics'],\n",
       "  'published': {'date-parts': [[2016, 1, 19]]}}}"
      ]
     },
     "execution_count": 27,
     "metadata": {},
     "output_type": "execute_result"
    }
   ],
   "source": [
    "doi_crossref"
   ]
  },
  {
   "cell_type": "code",
   "execution_count": 28,
   "id": "f5c475e1",
   "metadata": {},
   "outputs": [
    {
     "data": {
      "text/plain": [
       "['A Quick Introduction to Version Control with Git and GitHub']"
      ]
     },
     "execution_count": 28,
     "metadata": {},
     "output_type": "execute_result"
    }
   ],
   "source": [
    "doi_crossref[\"message\"][\"title\"]"
   ]
  },
  {
   "cell_type": "code",
   "execution_count": 29,
   "id": "b1cbaec8",
   "metadata": {},
   "outputs": [
    {
     "data": {
      "text/plain": [
       "'A Quick Introduction to Version Control with Git and GitHub'"
      ]
     },
     "execution_count": 29,
     "metadata": {},
     "output_type": "execute_result"
    }
   ],
   "source": [
    "doi_crossref[\"message\"][\"title\"][0]"
   ]
  },
  {
   "cell_type": "code",
   "execution_count": 37,
   "id": "758428ec",
   "metadata": {},
   "outputs": [
    {
     "data": {
      "text/plain": [
       "'Public Library of Science (PLoS)'"
      ]
     },
     "execution_count": 37,
     "metadata": {},
     "output_type": "execute_result"
    }
   ],
   "source": [
    "doi_crossref[\"message\"][\"publisher\"]"
   ]
  },
  {
   "cell_type": "code",
   "execution_count": 41,
   "id": "963f74e0",
   "metadata": {},
   "outputs": [
    {
     "name": "stdout",
     "output_type": "stream",
     "text": [
      "Title: A Quick Introduction to Version Control with Git and GitHub\n",
      "\n",
      "Publication: Public Library of Science (PLoS)\n"
     ]
    }
   ],
   "source": [
    "print(\"Title:\", doi_crossref[\"message\"][\"title\"][0])\n",
    "print()\n",
    "print(\"Publication:\", doi_crossref[\"message\"][\"publisher\"])"
   ]
  },
  {
   "cell_type": "code",
   "execution_count": null,
   "id": "1d4e5a3c",
   "metadata": {},
   "outputs": [],
   "source": []
  }
 ],
 "metadata": {
  "kernelspec": {
   "display_name": "Python 3 (ipykernel)",
   "language": "python",
   "name": "python3"
  },
  "language_info": {
   "codemirror_mode": {
    "name": "ipython",
    "version": 3
   },
   "file_extension": ".py",
   "mimetype": "text/x-python",
   "name": "python",
   "nbconvert_exporter": "python",
   "pygments_lexer": "ipython3",
   "version": "3.11.5"
  }
 },
 "nbformat": 4,
 "nbformat_minor": 5
}
