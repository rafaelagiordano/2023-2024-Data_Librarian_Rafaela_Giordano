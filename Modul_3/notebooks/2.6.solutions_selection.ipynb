{
 "cells": [
  {
   "cell_type": "code",
   "execution_count": 2,
   "metadata": {},
   "outputs": [
    {
     "data": {
      "text/plain": [
       "Index(['Patron Type Code', 'Patron Type Definition', 'Total Checkouts',\n",
       "       'Total Renewals', 'Age Range', 'Home Library Code',\n",
       "       'Home Library Definition', 'Circulation Active Month',\n",
       "       'Circulation Active Year', 'Notice Preference Code',\n",
       "       'Notice Preference Definition', 'Provided Email Address',\n",
       "       'Year Patron Registered', 'Within San Francisco County'],\n",
       "      dtype='object')"
      ]
     },
     "execution_count": 2,
     "metadata": {},
     "output_type": "execute_result"
    }
   ],
   "source": [
    "import pandas as pd\n",
    "df = pd.read_csv(\"../data/Library_Usage.csv\",\n",
    "                low_memory=False\n",
    "                )\n",
    "df.columns"
   ]
  },
  {
   "cell_type": "code",
   "execution_count": 3,
   "metadata": {},
   "outputs": [
    {
     "name": "stdout",
     "output_type": "stream",
     "text": [
      "32692\n",
      "9\n",
      "20656\n"
     ]
    }
   ],
   "source": [
    "# Filtere den Datensatz nach Kindern unter 10 Jahren. Wie viele Einträge erhältst Du?\n",
    "\n",
    "print(len(df[df['Age Range'] == '0 to 9 years']))\n",
    "\n",
    "# Alternative\n",
    "#(df['Age Range'] == '0 to 9 years').sum()\n",
    "\n",
    "# Gibt es Personen mit mehr als 20000 Ausleihen?\n",
    "\n",
    "print(len(df[df['Total Checkouts'] > 20000]))\n",
    "\n",
    "# alternative\n",
    "(df['Total Checkouts'] > 20000).sum()\n",
    "\n",
    "# Wie viele Personen stammen aus dem Stadtteil Richmond?\n",
    "\n",
    "print(len(df[df['Home Library Definition']== 'Richmond']))\n",
    "\n",
    "# alternative\n",
    "#(df['Home Library Definition'] == 'Richmond').sum()"
   ]
  },
  {
   "cell_type": "code",
   "execution_count": 5,
   "metadata": {},
   "outputs": [
    {
     "name": "stdout",
     "output_type": "stream",
     "text": [
      "0.09056590799697449\n"
     ]
    },
    {
     "data": {
      "text/plain": [
       "0.09056590799697449"
      ]
     },
     "execution_count": 5,
     "metadata": {},
     "output_type": "execute_result"
    }
   ],
   "source": [
    "# Wie viele Prozent der Beobachtungen haben eine Membership Duration von Null Monaten?\n",
    "\n",
    "# Hierfür wird die in Aufgabe 2.5 neu definierte Variable 'Membership Duration' benötigt. \n",
    "# Entweder rechnest Du mit der gleichen Datei wie aus Aufgabe 2.5 weiter, oder führst die dortigen Schritte\n",
    "# noch einmal durch\n",
    "\n",
    "### erneute Berechnung von 'Membership Duration' ###\n",
    "#df['Circulation Active Year'] = pd.to_numeric(\n",
    "#    df['Circulation Active Year'], errors='coerce'\n",
    "#)\n",
    "#\n",
    "#df['Circulation Active Month'] = pd.to_datetime(\n",
    "#    df['Circulation Active Month'],\n",
    "#    errors='coerce',\n",
    "#    format=\"%b\"\n",
    "#)\n",
    "#\n",
    "#df['Circulation Active Month'] = df['Circulation Active Month'].dt.month\n",
    "\n",
    "#df['Membership Duration'] = (\n",
    "#   df['Circulation Active Year'] - df['Year Patron Registered']\n",
    "#)*12 + df['Circulation Active Month']\n",
    "#df['Membership Duration'] = df['Membership Duration'].fillna(0)\n",
    "####                                             ###\n",
    "\n",
    "print(len(df[df['Membership Duration'] == 0])/len(df))\n",
    "\n",
    "# alternative\n",
    "(df['Membership Duration'] == 0).mean()\n"
   ]
  },
  {
   "cell_type": "code",
   "execution_count": null,
   "metadata": {},
   "outputs": [],
   "source": []
  }
 ],
 "metadata": {
  "kernelspec": {
   "display_name": "Python 3 (ipykernel)",
   "language": "python",
   "name": "python3"
  },
  "language_info": {
   "codemirror_mode": {
    "name": "ipython",
    "version": 3
   },
   "file_extension": ".py",
   "mimetype": "text/x-python",
   "name": "python",
   "nbconvert_exporter": "python",
   "pygments_lexer": "ipython3",
   "version": "3.9.13"
  }
 },
 "nbformat": 4,
 "nbformat_minor": 4
}
