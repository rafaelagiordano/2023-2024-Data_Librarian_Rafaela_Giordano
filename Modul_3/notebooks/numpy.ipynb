{
 "cells": [
  {
   "cell_type": "markdown",
   "id": "b3d88c00-54f0-4569-bca9-0aa217147df7",
   "metadata": {},
   "source": [
    "## numpy\n",
    "\n",
    "numpy bietet den array als zentrale Datenstruktur. Mit ihm lassen sich numerische Daten effizient im Arbeitsspeicher (RAM) erstellen, ein- und auslesen, bearbeiten und aggregieren.\n",
    "Numpy bietet neben dem array viele Funktionen an, mit denen sich effizient Berechnungen auf diesen durchführen lassen können. Außerdem wird die klassische Matrizenrechnung unterstützt (s. nachfolgendes Beispiel).\n",
    "\n",
    "numpy oferece o array (uma matriz) como uma estrutura de dados central. Ele permite que dados numéricos sejam criados, lidos, editados e agregados de forma eficiente na memória principal (RAM).\n",
    "Além do array, Numpy oferece muitas funções com as quais os cálculos podem ser realizados de forma eficiente. O cálculo matricial clássico também é suportado (veja o exemplo abaixo)."
   ]
  },
  {
   "cell_type": "code",
   "execution_count": 2,
   "id": "6f0affb0-7abf-465e-84da-3b05ac1a64df",
   "metadata": {},
   "outputs": [
    {
     "data": {
      "text/plain": [
       "127.25623247046485"
      ]
     },
     "execution_count": 2,
     "metadata": {},
     "output_type": "execute_result"
    }
   ],
   "source": [
    "# import the library and give it a shorter name 'np'\n",
    "import numpy as np\n",
    "\n",
    "# create 100 randomly distributed numbers\n",
    "X = np.random.normal(size=100)\n",
    "\n",
    "# transform X into a 2-dimensional array of size 20x5\n",
    "X.reshape((20, 5))\n",
    "\n",
    "# calculate the matrix dot product: X*X', where X' is the transpose of X\n",
    "X.dot(X.T)"
   ]
  },
  {
   "cell_type": "markdown",
   "id": "4accb50d-e3a1-4932-8925-edb83336c562",
   "metadata": {},
   "source": [
    "Mit numpy kann beispielsweise ein Bild als dreidimensionales numpy array dargestellt werden: Die ersten zwei Dimensionen beschreiben die Farbintensität der Pixel auf einer zweidimensionalen Fläche. Die dritte Dimension speichert die jeweiligen Pixelwerte für die Farbkanäle rot, grün und blau.\n",
    "\n",
    "Com numpy, por exemplo, uma imagem pode ser exibida como uma matriz numpy tridimensional: as duas primeiras dimensões descrevem a intensidade da cor dos pixels em uma superfície bidimensional. A terceira dimensão armazena os respectivos valores de pixel para os canais de cores vermelho, verde e azul."
   ]
  },
  {
   "cell_type": "code",
   "execution_count": 6,
   "id": "e0169bb2-ef77-4781-b701-e06cf4f392ff",
   "metadata": {},
   "outputs": [
    {
     "data": {
      "text/plain": [
       "5.453961327890514"
      ]
     },
     "execution_count": 6,
     "metadata": {},
     "output_type": "execute_result"
    }
   ],
   "source": [
    "# import the library and give it a shorter name 'np'\n",
    "import numpy as np\n",
    "\n",
    "# create 100 randomly distributed numbers\n",
    "X = np.random.normal(size=10)\n",
    "\n",
    "# transform X into a 2-dimensional array of size 20x5\n",
    "X.reshape((2, 5))\n",
    "\n",
    "# calculate the matrix dot product: X*X', where X' is the transpose of X\n",
    "X.dot(X.T)"
   ]
  },
  {
   "cell_type": "code",
   "execution_count": null,
   "id": "c43115fa-4fd4-4149-9488-a8715dc47df7",
   "metadata": {},
   "outputs": [],
   "source": []
  }
 ],
 "metadata": {
  "kernelspec": {
   "display_name": "Python 3 (ipykernel)",
   "language": "python",
   "name": "python3"
  },
  "language_info": {
   "codemirror_mode": {
    "name": "ipython",
    "version": 3
   },
   "file_extension": ".py",
   "mimetype": "text/x-python",
   "name": "python",
   "nbconvert_exporter": "python",
   "pygments_lexer": "ipython3",
   "version": "3.8.18"
  }
 },
 "nbformat": 4,
 "nbformat_minor": 5
}
