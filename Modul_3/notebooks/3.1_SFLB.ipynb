{
 "cells": [
  {
   "cell_type": "code",
   "execution_count": 46,
   "id": "aea0dc83-2bb0-402f-9e94-c5d9f17f3b8b",
   "metadata": {},
   "outputs": [],
   "source": [
    "import pandas as pd"
   ]
  },
  {
   "cell_type": "code",
   "execution_count": 47,
   "id": "906bc5f9-1359-4ecd-9d2b-f37fc79a8a0f",
   "metadata": {},
   "outputs": [
    {
     "name": "stderr",
     "output_type": "stream",
     "text": [
      "/tmp/ipykernel_6058/2005138213.py:1: DtypeWarning: Columns (13) have mixed types. Specify dtype option on import or set low_memory=False.\n",
      "  df = pd.read_csv(\"../data/Library_Usage.csv\")\n"
     ]
    }
   ],
   "source": [
    "df = pd.read_csv(\"../data/Library_Usage.csv\")"
   ]
  },
  {
   "cell_type": "code",
   "execution_count": 48,
   "id": "e7a8b61a-39cb-43d1-88e0-66112ad45e31",
   "metadata": {},
   "outputs": [
    {
     "data": {
      "text/html": [
       "<div>\n",
       "<style scoped>\n",
       "    .dataframe tbody tr th:only-of-type {\n",
       "        vertical-align: middle;\n",
       "    }\n",
       "\n",
       "    .dataframe tbody tr th {\n",
       "        vertical-align: top;\n",
       "    }\n",
       "\n",
       "    .dataframe thead th {\n",
       "        text-align: right;\n",
       "    }\n",
       "</style>\n",
       "<table border=\"1\" class=\"dataframe\">\n",
       "  <thead>\n",
       "    <tr style=\"text-align: right;\">\n",
       "      <th></th>\n",
       "      <th>Patron Type Code</th>\n",
       "      <th>Patron Type Definition</th>\n",
       "      <th>Total Checkouts</th>\n",
       "      <th>Total Renewals</th>\n",
       "      <th>Age Range</th>\n",
       "      <th>Home Library Code</th>\n",
       "      <th>Home Library Definition</th>\n",
       "      <th>Circulation Active Month</th>\n",
       "      <th>Circulation Active Year</th>\n",
       "      <th>Notice Preference Code</th>\n",
       "      <th>Notice Preference Definition</th>\n",
       "      <th>Provided Email Address</th>\n",
       "      <th>Year Patron Registered</th>\n",
       "      <th>Within San Francisco County</th>\n",
       "    </tr>\n",
       "  </thead>\n",
       "  <tbody>\n",
       "    <tr>\n",
       "      <th>0</th>\n",
       "      <td>5</td>\n",
       "      <td>Staff</td>\n",
       "      <td>53</td>\n",
       "      <td>15</td>\n",
       "      <td>NaN</td>\n",
       "      <td>b2</td>\n",
       "      <td>Bayview</td>\n",
       "      <td>Mar</td>\n",
       "      <td>2023.0</td>\n",
       "      <td>z</td>\n",
       "      <td>Email</td>\n",
       "      <td>True</td>\n",
       "      <td>2003</td>\n",
       "      <td>False</td>\n",
       "    </tr>\n",
       "    <tr>\n",
       "      <th>1</th>\n",
       "      <td>5</td>\n",
       "      <td>Staff</td>\n",
       "      <td>480</td>\n",
       "      <td>378</td>\n",
       "      <td>NaN</td>\n",
       "      <td>e9</td>\n",
       "      <td>Excelsior</td>\n",
       "      <td>Jun</td>\n",
       "      <td>2023.0</td>\n",
       "      <td>z</td>\n",
       "      <td>Email</td>\n",
       "      <td>True</td>\n",
       "      <td>2003</td>\n",
       "      <td>False</td>\n",
       "    </tr>\n",
       "    <tr>\n",
       "      <th>2</th>\n",
       "      <td>5</td>\n",
       "      <td>Staff</td>\n",
       "      <td>70</td>\n",
       "      <td>33</td>\n",
       "      <td>45 to 54 years</td>\n",
       "      <td>n4</td>\n",
       "      <td>Noe Valley</td>\n",
       "      <td>Jan</td>\n",
       "      <td>2023.0</td>\n",
       "      <td>z</td>\n",
       "      <td>Email</td>\n",
       "      <td>True</td>\n",
       "      <td>2011</td>\n",
       "      <td>False</td>\n",
       "    </tr>\n",
       "    <tr>\n",
       "      <th>3</th>\n",
       "      <td>5</td>\n",
       "      <td>Staff</td>\n",
       "      <td>3934</td>\n",
       "      <td>2140</td>\n",
       "      <td>NaN</td>\n",
       "      <td>o2</td>\n",
       "      <td>Ocean View</td>\n",
       "      <td>Jul</td>\n",
       "      <td>2023.0</td>\n",
       "      <td>z</td>\n",
       "      <td>Email</td>\n",
       "      <td>True</td>\n",
       "      <td>2003</td>\n",
       "      <td>False</td>\n",
       "    </tr>\n",
       "    <tr>\n",
       "      <th>4</th>\n",
       "      <td>5</td>\n",
       "      <td>Staff</td>\n",
       "      <td>1118</td>\n",
       "      <td>1035</td>\n",
       "      <td>NaN</td>\n",
       "      <td>o7</td>\n",
       "      <td>Ortega</td>\n",
       "      <td>Jul</td>\n",
       "      <td>2023.0</td>\n",
       "      <td>z</td>\n",
       "      <td>Email</td>\n",
       "      <td>True</td>\n",
       "      <td>2003</td>\n",
       "      <td>False</td>\n",
       "    </tr>\n",
       "    <tr>\n",
       "      <th>...</th>\n",
       "      <td>...</td>\n",
       "      <td>...</td>\n",
       "      <td>...</td>\n",
       "      <td>...</td>\n",
       "      <td>...</td>\n",
       "      <td>...</td>\n",
       "      <td>...</td>\n",
       "      <td>...</td>\n",
       "      <td>...</td>\n",
       "      <td>...</td>\n",
       "      <td>...</td>\n",
       "      <td>...</td>\n",
       "      <td>...</td>\n",
       "      <td>...</td>\n",
       "    </tr>\n",
       "    <tr>\n",
       "      <th>436285</th>\n",
       "      <td>0</td>\n",
       "      <td>Adult</td>\n",
       "      <td>2</td>\n",
       "      <td>6</td>\n",
       "      <td>35 to 44 years</td>\n",
       "      <td>yjj</td>\n",
       "      <td>Bookmobile</td>\n",
       "      <td>Oct</td>\n",
       "      <td>2022.0</td>\n",
       "      <td>z</td>\n",
       "      <td>Email</td>\n",
       "      <td>True</td>\n",
       "      <td>2020</td>\n",
       "      <td>NaN</td>\n",
       "    </tr>\n",
       "    <tr>\n",
       "      <th>436286</th>\n",
       "      <td>2</td>\n",
       "      <td>Teen</td>\n",
       "      <td>3</td>\n",
       "      <td>0</td>\n",
       "      <td>10 to 19 years</td>\n",
       "      <td>yjj</td>\n",
       "      <td>Bookmobile</td>\n",
       "      <td>Nov</td>\n",
       "      <td>2015.0</td>\n",
       "      <td>z</td>\n",
       "      <td>Email</td>\n",
       "      <td>True</td>\n",
       "      <td>2011</td>\n",
       "      <td>NaN</td>\n",
       "    </tr>\n",
       "    <tr>\n",
       "      <th>436287</th>\n",
       "      <td>0</td>\n",
       "      <td>Adult</td>\n",
       "      <td>6</td>\n",
       "      <td>0</td>\n",
       "      <td>60 to 64 years</td>\n",
       "      <td>ylw</td>\n",
       "      <td>Bookmobile</td>\n",
       "      <td>Mar</td>\n",
       "      <td>2022.0</td>\n",
       "      <td>z</td>\n",
       "      <td>Email</td>\n",
       "      <td>True</td>\n",
       "      <td>2022</td>\n",
       "      <td>NaN</td>\n",
       "    </tr>\n",
       "    <tr>\n",
       "      <th>436288</th>\n",
       "      <td>15</td>\n",
       "      <td>Teacher Card</td>\n",
       "      <td>4</td>\n",
       "      <td>0</td>\n",
       "      <td>35 to 44 years</td>\n",
       "      <td>ylw</td>\n",
       "      <td>Bookmobile</td>\n",
       "      <td>Sep</td>\n",
       "      <td>2020.0</td>\n",
       "      <td>z</td>\n",
       "      <td>Email</td>\n",
       "      <td>True</td>\n",
       "      <td>2019</td>\n",
       "      <td>NaN</td>\n",
       "    </tr>\n",
       "    <tr>\n",
       "      <th>436289</th>\n",
       "      <td>55</td>\n",
       "      <td>Retired Staff</td>\n",
       "      <td>309</td>\n",
       "      <td>101</td>\n",
       "      <td>75 years and over</td>\n",
       "      <td>ylw</td>\n",
       "      <td>Bookmobile</td>\n",
       "      <td>Jul</td>\n",
       "      <td>2023.0</td>\n",
       "      <td>z</td>\n",
       "      <td>Email</td>\n",
       "      <td>True</td>\n",
       "      <td>2003</td>\n",
       "      <td>NaN</td>\n",
       "    </tr>\n",
       "  </tbody>\n",
       "</table>\n",
       "<p>436290 rows × 14 columns</p>\n",
       "</div>"
      ],
      "text/plain": [
       "        Patron Type Code Patron Type Definition  Total Checkouts  \\\n",
       "0                      5                  Staff               53   \n",
       "1                      5                  Staff              480   \n",
       "2                      5                  Staff               70   \n",
       "3                      5                  Staff             3934   \n",
       "4                      5                  Staff             1118   \n",
       "...                  ...                    ...              ...   \n",
       "436285                 0                  Adult                2   \n",
       "436286                 2                   Teen                3   \n",
       "436287                 0                  Adult                6   \n",
       "436288                15           Teacher Card                4   \n",
       "436289                55          Retired Staff              309   \n",
       "\n",
       "        Total Renewals          Age Range Home Library Code  \\\n",
       "0                   15                NaN                b2   \n",
       "1                  378                NaN                e9   \n",
       "2                   33     45 to 54 years                n4   \n",
       "3                 2140                NaN                o2   \n",
       "4                 1035                NaN                o7   \n",
       "...                ...                ...               ...   \n",
       "436285               6     35 to 44 years               yjj   \n",
       "436286               0     10 to 19 years               yjj   \n",
       "436287               0     60 to 64 years               ylw   \n",
       "436288               0     35 to 44 years               ylw   \n",
       "436289             101  75 years and over               ylw   \n",
       "\n",
       "       Home Library Definition Circulation Active Month  \\\n",
       "0                      Bayview                      Mar   \n",
       "1                    Excelsior                      Jun   \n",
       "2                   Noe Valley                      Jan   \n",
       "3                   Ocean View                      Jul   \n",
       "4                       Ortega                      Jul   \n",
       "...                        ...                      ...   \n",
       "436285              Bookmobile                      Oct   \n",
       "436286              Bookmobile                      Nov   \n",
       "436287              Bookmobile                      Mar   \n",
       "436288              Bookmobile                      Sep   \n",
       "436289              Bookmobile                      Jul   \n",
       "\n",
       "        Circulation Active Year Notice Preference Code  \\\n",
       "0                        2023.0                      z   \n",
       "1                        2023.0                      z   \n",
       "2                        2023.0                      z   \n",
       "3                        2023.0                      z   \n",
       "4                        2023.0                      z   \n",
       "...                         ...                    ...   \n",
       "436285                   2022.0                      z   \n",
       "436286                   2015.0                      z   \n",
       "436287                   2022.0                      z   \n",
       "436288                   2020.0                      z   \n",
       "436289                   2023.0                      z   \n",
       "\n",
       "       Notice Preference Definition  Provided Email Address  \\\n",
       "0                             Email                    True   \n",
       "1                             Email                    True   \n",
       "2                             Email                    True   \n",
       "3                             Email                    True   \n",
       "4                             Email                    True   \n",
       "...                             ...                     ...   \n",
       "436285                        Email                    True   \n",
       "436286                        Email                    True   \n",
       "436287                        Email                    True   \n",
       "436288                        Email                    True   \n",
       "436289                        Email                    True   \n",
       "\n",
       "        Year Patron Registered Within San Francisco County  \n",
       "0                         2003                       False  \n",
       "1                         2003                       False  \n",
       "2                         2011                       False  \n",
       "3                         2003                       False  \n",
       "4                         2003                       False  \n",
       "...                        ...                         ...  \n",
       "436285                    2020                         NaN  \n",
       "436286                    2011                         NaN  \n",
       "436287                    2022                         NaN  \n",
       "436288                    2019                         NaN  \n",
       "436289                    2003                         NaN  \n",
       "\n",
       "[436290 rows x 14 columns]"
      ]
     },
     "execution_count": 48,
     "metadata": {},
     "output_type": "execute_result"
    }
   ],
   "source": [
    "df"
   ]
  },
  {
   "cell_type": "code",
   "execution_count": 49,
   "id": "cb87e1c2-6834-432e-b899-0d3ebc8c2419",
   "metadata": {},
   "outputs": [
    {
     "data": {
      "text/plain": [
       "14"
      ]
     },
     "execution_count": 49,
     "metadata": {},
     "output_type": "execute_result"
    }
   ],
   "source": [
    "len(df.columns)"
   ]
  },
  {
   "cell_type": "code",
   "execution_count": 50,
   "id": "37724ee4-1044-486e-85c9-332661131d8d",
   "metadata": {},
   "outputs": [
    {
     "data": {
      "text/plain": [
       "0                 Staff\n",
       "1                 Staff\n",
       "2                 Staff\n",
       "3                 Staff\n",
       "4                 Staff\n",
       "              ...      \n",
       "436285            Adult\n",
       "436286             Teen\n",
       "436287            Adult\n",
       "436288     Teacher Card\n",
       "436289    Retired Staff\n",
       "Name: Patron Type Definition, Length: 436290, dtype: object"
      ]
     },
     "execution_count": 50,
     "metadata": {},
     "output_type": "execute_result"
    }
   ],
   "source": [
    "df['Patron Type Definition']"
   ]
  },
  {
   "cell_type": "code",
   "execution_count": 51,
   "id": "fe04b7c9-63aa-4531-825b-6c78fb5a7b2c",
   "metadata": {},
   "outputs": [
    {
     "name": "stdout",
     "output_type": "stream",
     "text": [
      "<class 'pandas.core.frame.DataFrame'>\n",
      "RangeIndex: 436290 entries, 0 to 436289\n",
      "Data columns (total 14 columns):\n",
      " #   Column                        Non-Null Count   Dtype  \n",
      "---  ------                        --------------   -----  \n",
      " 0   Patron Type Code              436290 non-null  int64  \n",
      " 1   Patron Type Definition        436290 non-null  object \n",
      " 2   Total Checkouts               436290 non-null  int64  \n",
      " 3   Total Renewals                436290 non-null  int64  \n",
      " 4   Age Range                     435378 non-null  object \n",
      " 5   Home Library Code             436288 non-null  object \n",
      " 6   Home Library Definition       436260 non-null  object \n",
      " 7   Circulation Active Month      396777 non-null  object \n",
      " 8   Circulation Active Year       396777 non-null  float64\n",
      " 9   Notice Preference Code        393301 non-null  object \n",
      " 10  Notice Preference Definition  393301 non-null  object \n",
      " 11  Provided Email Address        436290 non-null  bool   \n",
      " 12  Year Patron Registered        436290 non-null  int64  \n",
      " 13  Within San Francisco County   435083 non-null  object \n",
      "dtypes: bool(1), float64(1), int64(4), object(8)\n",
      "memory usage: 43.7+ MB\n"
     ]
    }
   ],
   "source": [
    "df.info()"
   ]
  },
  {
   "cell_type": "code",
   "execution_count": 52,
   "id": "607b22c2-51e4-4e8a-af1a-a420875c3b76",
   "metadata": {},
   "outputs": [
    {
     "data": {
      "text/plain": [
       "array(['Staff', 'Welcome', 'Visitor', 'Digital Access Card', 'Juvenile',\n",
       "       'Senior', 'Adult', 'Teen', 'Retired Staff', 'Teacher Card',\n",
       "       'At User Adult', 'At User Senior', 'At User Welcome',\n",
       "       'At User Teen', 'Business', 'Library By Mail', 'At User Juvenile'],\n",
       "      dtype=object)"
      ]
     },
     "execution_count": 52,
     "metadata": {},
     "output_type": "execute_result"
    }
   ],
   "source": [
    "df['Patron Type Definition'].unique()"
   ]
  },
  {
   "cell_type": "code",
   "execution_count": 53,
   "id": "31a2ae73-24e9-4548-92b4-46e97791811b",
   "metadata": {},
   "outputs": [
    {
     "data": {
      "text/plain": [
       "Patron Type Definition\n",
       "Adult                  274682\n",
       "Juvenile                53281\n",
       "Senior                  49332\n",
       "Teen                    40561\n",
       "Welcome                  9966\n",
       "Digital Access Card      3714\n",
       "Teacher Card             3234\n",
       "Staff                     806\n",
       "Retired Staff             215\n",
       "Visitor                   148\n",
       "Library By Mail           120\n",
       "At User Adult             118\n",
       "At User Senior             78\n",
       "At User Welcome            13\n",
       "At User Teen                8\n",
       "Business                    7\n",
       "At User Juvenile            7\n",
       "Name: count, dtype: int64"
      ]
     },
     "execution_count": 53,
     "metadata": {},
     "output_type": "execute_result"
    }
   ],
   "source": [
    "df['Patron Type Definition'].value_counts()"
   ]
  },
  {
   "cell_type": "markdown",
   "id": "53751d85-f318-4bea-9219-df8f1e2d9a08",
   "metadata": {},
   "source": [
    "Wie viele Senioren und Kinder sind Kunden der San Francisco Public Library?\n",
    "Senioren: 49.332\n",
    "Juvenile: 53.281\n",
    "Teen: 40.561\n",
    "Kinder 0 bis 9: 32.692"
   ]
  },
  {
   "cell_type": "markdown",
   "id": "b8b2be9e-f980-419f-a7be-cd9800478c82",
   "metadata": {},
   "source": [
    "### Kategoriale Variablen werden in Häufigkeitstabellen zusammengefasst. Dabei wird für jede Ausprägung die Anzahl der Beobachtungen gezählt:"
   ]
  },
  {
   "cell_type": "code",
   "execution_count": 54,
   "id": "14e4ad4d-ed21-44e2-950b-3104bab4cbcc",
   "metadata": {},
   "outputs": [
    {
     "data": {
      "text/plain": [
       "Age Range\n",
       "25 to 34 years       92669\n",
       "35 to 44 years       81719\n",
       "10 to 19 years       66857\n",
       "45 to 54 years       48319\n",
       "0 to 9 years         32692\n",
       "65 to 74 years       31714\n",
       "20 to 24 years       25381\n",
       "75 years and over    19297\n",
       "55 to 59 years       19076\n",
       "60 to 64 years       17654\n",
       "Name: count, dtype: int64"
      ]
     },
     "execution_count": 54,
     "metadata": {},
     "output_type": "execute_result"
    }
   ],
   "source": [
    "df['Age Range'].value_counts()"
   ]
  },
  {
   "cell_type": "markdown",
   "id": "6e15b831-165d-43ea-9968-bf7a63d0bf8d",
   "metadata": {},
   "source": [
    "### Mit der Funktion value_counts() kann man sich absolute Häufigkeitstabellen ausgeben lassen. Mit dem zusätzlichen Argumentaufruf normalize=True werden relative Häufigkeiten berechnet:"
   ]
  },
  {
   "cell_type": "code",
   "execution_count": 60,
   "id": "22a4cbba-bbae-455b-9d05-f6b3d0131649",
   "metadata": {},
   "outputs": [
    {
     "data": {
      "text/plain": [
       "Age Range\n",
       "25 to 34 years       0.212847\n",
       "35 to 44 years       0.187697\n",
       "10 to 19 years       0.153561\n",
       "45 to 54 years       0.110982\n",
       "0 to 9 years         0.075089\n",
       "65 to 74 years       0.072842\n",
       "20 to 24 years       0.058296\n",
       "75 years and over    0.044322\n",
       "55 to 59 years       0.043815\n",
       "60 to 64 years       0.040549\n",
       "Name: proportion, dtype: float64"
      ]
     },
     "execution_count": 60,
     "metadata": {},
     "output_type": "execute_result"
    }
   ],
   "source": [
    "df['Age Range'].value_counts(normalize=True)"
   ]
  },
  {
   "cell_type": "code",
   "execution_count": 61,
   "id": "9af91d0f-c260-46bb-a5ec-c7075087bc42",
   "metadata": {},
   "outputs": [
    {
     "data": {
      "text/plain": [
       "'25 to 34 years'"
      ]
     },
     "execution_count": 61,
     "metadata": {},
     "output_type": "execute_result"
    }
   ],
   "source": [
    "age_mode = df['Age Range'].mode()\n",
    "age_mode[0]"
   ]
  },
  {
   "cell_type": "code",
   "execution_count": 63,
   "id": "7d414078-2ab7-45c8-89b7-fddbf3a747a5",
   "metadata": {},
   "outputs": [
    {
     "data": {
      "text/plain": [
       "Year Patron Registered\n",
       "2022    52173\n",
       "2019    44290\n",
       "2003    41034\n",
       "2021    32634\n",
       "2020    32010\n",
       "2017    29320\n",
       "2018    28622\n",
       "2023    26286\n",
       "2016    21719\n",
       "2015    20157\n",
       "2014    15965\n",
       "2013    13330\n",
       "2012    12681\n",
       "2011    12368\n",
       "2009    11391\n",
       "2010    11247\n",
       "2008    10102\n",
       "2007     6484\n",
       "2006     5254\n",
       "2005     4760\n",
       "2004     4463\n",
       "Name: count, dtype: int64"
      ]
     },
     "execution_count": 63,
     "metadata": {},
     "output_type": "execute_result"
    }
   ],
   "source": [
    "df['Year Patron Registered'].value_counts()"
   ]
  },
  {
   "cell_type": "code",
   "execution_count": 65,
   "id": "9306f54c-65c3-4c42-b04c-be8402b727aa",
   "metadata": {},
   "outputs": [
    {
     "data": {
      "text/plain": [
       "Year Patron Registered\n",
       "2022    0.119583\n",
       "2019    0.101515\n",
       "2003    0.094052\n",
       "2021    0.074799\n",
       "2020    0.073369\n",
       "2017    0.067203\n",
       "2018    0.065603\n",
       "2023    0.060249\n",
       "2016    0.049781\n",
       "2015    0.046201\n",
       "2014    0.036593\n",
       "2013    0.030553\n",
       "2012    0.029066\n",
       "2011    0.028348\n",
       "2009    0.026109\n",
       "2010    0.025779\n",
       "2008    0.023154\n",
       "2007    0.014862\n",
       "2006    0.012042\n",
       "2005    0.010910\n",
       "2004    0.010229\n",
       "Name: proportion, dtype: float64"
      ]
     },
     "execution_count": 65,
     "metadata": {},
     "output_type": "execute_result"
    }
   ],
   "source": [
    "df['Year Patron Registered'].value_counts(normalize=True)"
   ]
  },
  {
   "cell_type": "code",
   "execution_count": 71,
   "id": "7fc42684-2165-4bef-a3a3-c876cdb875d2",
   "metadata": {},
   "outputs": [
    {
     "data": {
      "text/plain": [
       "0              keine Angabe\n",
       "1              keine Angabe\n",
       "2            45 to 54 years\n",
       "3              keine Angabe\n",
       "4              keine Angabe\n",
       "                ...        \n",
       "436285       35 to 44 years\n",
       "436286       10 to 19 years\n",
       "436287       60 to 64 years\n",
       "436288       35 to 44 years\n",
       "436289    75 years and over\n",
       "Name: Age Range, Length: 436290, dtype: object"
      ]
     },
     "execution_count": 71,
     "metadata": {},
     "output_type": "execute_result"
    }
   ],
   "source": [
    "df['Age Range'].fillna(\"keine Angabe\")"
   ]
  },
  {
   "cell_type": "code",
   "execution_count": 73,
   "id": "1ddecae5-4e34-415e-b2f4-7581ee4c3485",
   "metadata": {},
   "outputs": [
    {
     "data": {
      "text/plain": [
       "0                   NaN\n",
       "1                   NaN\n",
       "2        45 to 54 years\n",
       "3                   NaN\n",
       "4                   NaN\n",
       "5        45 to 54 years\n",
       "6        55 to 59 years\n",
       "7        45 to 54 years\n",
       "8                   NaN\n",
       "9        45 to 54 years\n",
       "10                  NaN\n",
       "11       60 to 64 years\n",
       "12                  NaN\n",
       "13                  NaN\n",
       "14       55 to 59 years\n",
       "15                  NaN\n",
       "16                  NaN\n",
       "17                  NaN\n",
       "18                  NaN\n",
       "19       55 to 59 years\n",
       "20                  NaN\n",
       "21       45 to 54 years\n",
       "22                  NaN\n",
       "23                  NaN\n",
       "24                  NaN\n",
       "25                  NaN\n",
       "26       60 to 64 years\n",
       "27       55 to 59 years\n",
       "28                  NaN\n",
       "29       25 to 34 years\n",
       "30       35 to 44 years\n",
       "31       20 to 24 years\n",
       "32       25 to 34 years\n",
       "33    75 years and over\n",
       "34       45 to 54 years\n",
       "35       10 to 19 years\n",
       "36       25 to 34 years\n",
       "37       20 to 24 years\n",
       "38       25 to 34 years\n",
       "39         0 to 9 years\n",
       "40       35 to 44 years\n",
       "41       20 to 24 years\n",
       "42       45 to 54 years\n",
       "43    75 years and over\n",
       "44       25 to 34 years\n",
       "45         0 to 9 years\n",
       "46       10 to 19 years\n",
       "47         0 to 9 years\n",
       "48       60 to 64 years\n",
       "49       25 to 34 years\n",
       "Name: Age Range, dtype: object"
      ]
     },
     "execution_count": 73,
     "metadata": {},
     "output_type": "execute_result"
    }
   ],
   "source": [
    "df['Age Range'][0:50]"
   ]
  },
  {
   "cell_type": "code",
   "execution_count": 78,
   "id": "4336fce1-6e7e-40c4-b64b-ef45dbb2189b",
   "metadata": {},
   "outputs": [],
   "source": [
    "df_selection= df['Age Range'].dropna()"
   ]
  },
  {
   "cell_type": "code",
   "execution_count": 79,
   "id": "b7887fd5-0750-4896-ac4a-b1719289a86a",
   "metadata": {},
   "outputs": [
    {
     "data": {
      "text/plain": [
       "2            45 to 54 years\n",
       "5            45 to 54 years\n",
       "6            55 to 59 years\n",
       "7            45 to 54 years\n",
       "9            45 to 54 years\n",
       "                ...        \n",
       "436285       35 to 44 years\n",
       "436286       10 to 19 years\n",
       "436287       60 to 64 years\n",
       "436288       35 to 44 years\n",
       "436289    75 years and over\n",
       "Name: Age Range, Length: 435378, dtype: object"
      ]
     },
     "execution_count": 79,
     "metadata": {},
     "output_type": "execute_result"
    }
   ],
   "source": [
    "df_selection"
   ]
  },
  {
   "cell_type": "code",
   "execution_count": 81,
   "id": "2f8fce2e-fa74-4df2-a876-c17c60704320",
   "metadata": {},
   "outputs": [
    {
     "data": {
      "text/plain": [
       "2        45 to 54 years\n",
       "5        45 to 54 years\n",
       "6        55 to 59 years\n",
       "7        45 to 54 years\n",
       "9        45 to 54 years\n",
       "11       60 to 64 years\n",
       "14       55 to 59 years\n",
       "19       55 to 59 years\n",
       "21       45 to 54 years\n",
       "26       60 to 64 years\n",
       "27       55 to 59 years\n",
       "29       25 to 34 years\n",
       "30       35 to 44 years\n",
       "31       20 to 24 years\n",
       "32       25 to 34 years\n",
       "33    75 years and over\n",
       "34       45 to 54 years\n",
       "35       10 to 19 years\n",
       "36       25 to 34 years\n",
       "37       20 to 24 years\n",
       "38       25 to 34 years\n",
       "39         0 to 9 years\n",
       "40       35 to 44 years\n",
       "41       20 to 24 years\n",
       "42       45 to 54 years\n",
       "43    75 years and over\n",
       "44       25 to 34 years\n",
       "45         0 to 9 years\n",
       "46       10 to 19 years\n",
       "47         0 to 9 years\n",
       "48       60 to 64 years\n",
       "49       25 to 34 years\n",
       "50    75 years and over\n",
       "51       65 to 74 years\n",
       "52       45 to 54 years\n",
       "53       55 to 59 years\n",
       "54       65 to 74 years\n",
       "55       10 to 19 years\n",
       "56       20 to 24 years\n",
       "57       20 to 24 years\n",
       "58       20 to 24 years\n",
       "59    75 years and over\n",
       "60         0 to 9 years\n",
       "61       45 to 54 years\n",
       "62       25 to 34 years\n",
       "63       45 to 54 years\n",
       "64       10 to 19 years\n",
       "65    75 years and over\n",
       "66       45 to 54 years\n",
       "67       25 to 34 years\n",
       "Name: Age Range, dtype: object"
      ]
     },
     "execution_count": 81,
     "metadata": {},
     "output_type": "execute_result"
    }
   ],
   "source": [
    "df_selection[0:50]"
   ]
  },
  {
   "cell_type": "code",
   "execution_count": 82,
   "id": "7545c4ca-6693-483f-84ed-aab52208ab35",
   "metadata": {},
   "outputs": [
    {
     "data": {
      "text/plain": [
       "<bound method Series.info of 2            45 to 54 years\n",
       "5            45 to 54 years\n",
       "6            55 to 59 years\n",
       "7            45 to 54 years\n",
       "9            45 to 54 years\n",
       "                ...        \n",
       "436285       35 to 44 years\n",
       "436286       10 to 19 years\n",
       "436287       60 to 64 years\n",
       "436288       35 to 44 years\n",
       "436289    75 years and over\n",
       "Name: Age Range, Length: 435378, dtype: object>"
      ]
     },
     "execution_count": 82,
     "metadata": {},
     "output_type": "execute_result"
    }
   ],
   "source": [
    "df_selection.info"
   ]
  },
  {
   "cell_type": "code",
   "execution_count": 83,
   "id": "f64dbf4a-b764-4c28-9470-2a5705232e1b",
   "metadata": {},
   "outputs": [
    {
     "data": {
      "text/plain": [
       "Age Range\n",
       "25 to 34 years       92669\n",
       "35 to 44 years       81719\n",
       "10 to 19 years       66857\n",
       "45 to 54 years       48319\n",
       "0 to 9 years         32692\n",
       "65 to 74 years       31714\n",
       "20 to 24 years       25381\n",
       "75 years and over    19297\n",
       "55 to 59 years       19076\n",
       "60 to 64 years       17654\n",
       "Name: count, dtype: int64"
      ]
     },
     "execution_count": 83,
     "metadata": {},
     "output_type": "execute_result"
    }
   ],
   "source": [
    "df_selection.value_counts()"
   ]
  },
  {
   "cell_type": "code",
   "execution_count": 84,
   "id": "1635251d-40bc-4bdb-8a40-0a3f22c343da",
   "metadata": {},
   "outputs": [
    {
     "data": {
      "text/plain": [
       "Age Range\n",
       "25 to 34 years       0.212847\n",
       "35 to 44 years       0.187697\n",
       "10 to 19 years       0.153561\n",
       "45 to 54 years       0.110982\n",
       "0 to 9 years         0.075089\n",
       "65 to 74 years       0.072842\n",
       "20 to 24 years       0.058296\n",
       "75 years and over    0.044322\n",
       "55 to 59 years       0.043815\n",
       "60 to 64 years       0.040549\n",
       "Name: proportion, dtype: float64"
      ]
     },
     "execution_count": 84,
     "metadata": {},
     "output_type": "execute_result"
    }
   ],
   "source": [
    "df_selection.value_counts(normalize=True)"
   ]
  },
  {
   "cell_type": "code",
   "execution_count": 85,
   "id": "32cd5f09-b4cd-45d0-8cb4-c5f949078a15",
   "metadata": {},
   "outputs": [
    {
     "name": "stderr",
     "output_type": "stream",
     "text": [
      "/tmp/ipykernel_6058/204745613.py:2: DtypeWarning: Columns (13) have mixed types. Specify dtype option on import or set low_memory=False.\n",
      "  df = pd.read_csv(\"../data/Library_Usage.csv\")\n"
     ]
    },
    {
     "data": {
      "text/plain": [
       "160.29484287973597"
      ]
     },
     "execution_count": 85,
     "metadata": {},
     "output_type": "execute_result"
    }
   ],
   "source": [
    "import pandas as pd\n",
    "df = pd.read_csv(\"../data/Library_Usage.csv\")\n",
    "df['Total Checkouts'].mean()"
   ]
  },
  {
   "cell_type": "code",
   "execution_count": 86,
   "id": "88d5476c-8171-4562-afcf-0259d8541a73",
   "metadata": {},
   "outputs": [
    {
     "data": {
      "text/plain": [
       "7.0"
      ]
     },
     "execution_count": 86,
     "metadata": {},
     "output_type": "execute_result"
    }
   ],
   "source": [
    "df['Total Checkouts'].median()"
   ]
  },
  {
   "cell_type": "code",
   "execution_count": 87,
   "id": "529e1198-0a40-4bfd-b88c-ca64c02b735d",
   "metadata": {},
   "outputs": [
    {
     "data": {
      "text/plain": [
       "0.25     0.0\n",
       "0.50     7.0\n",
       "0.75    78.0\n",
       "Name: Total Checkouts, dtype: float64"
      ]
     },
     "execution_count": 87,
     "metadata": {},
     "output_type": "execute_result"
    }
   ],
   "source": [
    "df['Total Checkouts'].quantile(q=[0.25, 0.5, 0.75])"
   ]
  },
  {
   "cell_type": "code",
   "execution_count": 88,
   "id": "09bb4ec2-a650-4680-9391-a835246ae051",
   "metadata": {},
   "outputs": [
    {
     "data": {
      "text/plain": [
       "0.005       0.000\n",
       "0.995    3321.555\n",
       "Name: Total Checkouts, dtype: float64"
      ]
     },
     "execution_count": 88,
     "metadata": {},
     "output_type": "execute_result"
    }
   ],
   "source": [
    "# identifies 0.5% of the data at both ends of the distribution\n",
    "alpha = 0.005\n",
    "df['Total Checkouts'].quantile([alpha, 1-alpha])"
   ]
  },
  {
   "cell_type": "code",
   "execution_count": 89,
   "id": "9b28b9f2-40e9-4fad-ac23-98f42ee7b47f",
   "metadata": {},
   "outputs": [
    {
     "data": {
      "text/plain": [
       "289361.88526816876"
      ]
     },
     "execution_count": 89,
     "metadata": {},
     "output_type": "execute_result"
    }
   ],
   "source": [
    "df['Total Checkouts'].var()"
   ]
  },
  {
   "cell_type": "code",
   "execution_count": 90,
   "id": "5cba2486-0b2a-49bf-938e-7057340df892",
   "metadata": {},
   "outputs": [
    {
     "data": {
      "text/plain": [
       "537.9236797801049"
      ]
     },
     "execution_count": 90,
     "metadata": {},
     "output_type": "execute_result"
    }
   ],
   "source": [
    "df['Total Checkouts'].std()"
   ]
  },
  {
   "cell_type": "code",
   "execution_count": 91,
   "id": "5a2d96f0-927b-4840-941f-25ecddcde640",
   "metadata": {},
   "outputs": [
    {
     "data": {
      "text/plain": [
       "45380"
      ]
     },
     "execution_count": 91,
     "metadata": {},
     "output_type": "execute_result"
    }
   ],
   "source": [
    "df['Total Checkouts'].max() - df['Total Checkouts'].min()"
   ]
  },
  {
   "cell_type": "code",
   "execution_count": 92,
   "id": "0633526d-6db8-4e0d-9501-f4aec4107792",
   "metadata": {},
   "outputs": [
    {
     "data": {
      "text/plain": [
       "78.0"
      ]
     },
     "execution_count": 92,
     "metadata": {},
     "output_type": "execute_result"
    }
   ],
   "source": [
    "df['Total Checkouts'].quantile(q=0.75) - df['Total Checkouts'].quantile(q=0.25)"
   ]
  },
  {
   "cell_type": "code",
   "execution_count": 95,
   "id": "56665c54-e1da-4d2e-b2da-b181f4a712d9",
   "metadata": {},
   "outputs": [
    {
     "name": "stderr",
     "output_type": "stream",
     "text": [
      "/tmp/ipykernel_6058/117141799.py:6: DtypeWarning: Columns (13) have mixed types. Specify dtype option on import or set low_memory=False.\n",
      "  df = pd.read_csv(\"../data/Library_Usage.csv\")\n",
      "/tmp/ipykernel_6058/117141799.py:7: UserWarning: \n",
      "\n",
      "`distplot` is a deprecated function and will be removed in seaborn v0.14.0.\n",
      "\n",
      "Please adapt your code to use either `displot` (a figure-level function with\n",
      "similar flexibility) or `histplot` (an axes-level function for histograms).\n",
      "\n",
      "For a guide to updating your code to use the new functions, please see\n",
      "https://gist.github.com/mwaskom/de44147ed2974457ad6372750bbe5751\n",
      "\n",
      "  sns.distplot(df['Total Checkouts'], kde=False)\n"
     ]
    },
    {
     "data": {
      "text/plain": [
       "<Axes: xlabel='Total Checkouts'>"
      ]
     },
     "execution_count": 95,
     "metadata": {},
     "output_type": "execute_result"
    },
    {
     "data": {
      "image/png": "[encoded data removed]",
      "text/plain": [
       "<Figure size 640x480 with 1 Axes>"
      ]
     },
     "metadata": {},
     "output_type": "display_data"
    }
   ],
   "source": [
    "import pandas as pd\n",
    "import seaborn as sns\n",
    "%matplotlib inline\n",
    "sns.set_theme()\n",
    "\n",
    "df = pd.read_csv(\"../data/Library_Usage.csv\")\n",
    "sns.distplot(df['Total Checkouts'], kde=False)"
   ]
  },
  {
   "cell_type": "code",
   "execution_count": 96,
   "id": "9076d1af-cd55-4288-b0e8-44c5cb63eaaf",
   "metadata": {},
   "outputs": [
    {
     "name": "stderr",
     "output_type": "stream",
     "text": [
      "/tmp/ipykernel_6058/423181156.py:3: DtypeWarning: Columns (13) have mixed types. Specify dtype option on import or set low_memory=False.\n",
      "  df = pd.read_csv(\n"
     ]
    },
    {
     "data": {
      "text/html": [
       "<div>\n",
       "<style scoped>\n",
       "    .dataframe tbody tr th:only-of-type {\n",
       "        vertical-align: middle;\n",
       "    }\n",
       "\n",
       "    .dataframe tbody tr th {\n",
       "        vertical-align: top;\n",
       "    }\n",
       "\n",
       "    .dataframe thead th {\n",
       "        text-align: right;\n",
       "    }\n",
       "</style>\n",
       "<table border=\"1\" class=\"dataframe\">\n",
       "  <thead>\n",
       "    <tr style=\"text-align: right;\">\n",
       "      <th>Age Range</th>\n",
       "      <th>0 to 9 years</th>\n",
       "      <th>10 to 19 years</th>\n",
       "      <th>20 to 24 years</th>\n",
       "      <th>25 to 34 years</th>\n",
       "      <th>35 to 44 years</th>\n",
       "      <th>45 to 54 years</th>\n",
       "      <th>55 to 59 years</th>\n",
       "      <th>60 to 64 years</th>\n",
       "      <th>65 to 74 years</th>\n",
       "      <th>75 years and over</th>\n",
       "      <th>All</th>\n",
       "    </tr>\n",
       "    <tr>\n",
       "      <th>Notice Preference Definition</th>\n",
       "      <th></th>\n",
       "      <th></th>\n",
       "      <th></th>\n",
       "      <th></th>\n",
       "      <th></th>\n",
       "      <th></th>\n",
       "      <th></th>\n",
       "      <th></th>\n",
       "      <th></th>\n",
       "      <th></th>\n",
       "      <th></th>\n",
       "    </tr>\n",
       "  </thead>\n",
       "  <tbody>\n",
       "    <tr>\n",
       "      <th>Email</th>\n",
       "      <td>28740</td>\n",
       "      <td>54936</td>\n",
       "      <td>22701</td>\n",
       "      <td>88200</td>\n",
       "      <td>77618</td>\n",
       "      <td>45165</td>\n",
       "      <td>17336</td>\n",
       "      <td>15539</td>\n",
       "      <td>27170</td>\n",
       "      <td>15069</td>\n",
       "      <td>392474</td>\n",
       "    </tr>\n",
       "    <tr>\n",
       "      <th>All</th>\n",
       "      <td>28740</td>\n",
       "      <td>54936</td>\n",
       "      <td>22701</td>\n",
       "      <td>88200</td>\n",
       "      <td>77618</td>\n",
       "      <td>45165</td>\n",
       "      <td>17336</td>\n",
       "      <td>15539</td>\n",
       "      <td>27170</td>\n",
       "      <td>15069</td>\n",
       "      <td>392474</td>\n",
       "    </tr>\n",
       "  </tbody>\n",
       "</table>\n",
       "</div>"
      ],
      "text/plain": [
       "Age Range                     0 to 9 years  10 to 19 years  20 to 24 years  \\\n",
       "Notice Preference Definition                                                 \n",
       "Email                                28740           54936           22701   \n",
       "All                                  28740           54936           22701   \n",
       "\n",
       "Age Range                     25 to 34 years  35 to 44 years  45 to 54 years  \\\n",
       "Notice Preference Definition                                                   \n",
       "Email                                  88200           77618           45165   \n",
       "All                                    88200           77618           45165   \n",
       "\n",
       "Age Range                     55 to 59 years  60 to 64 years  65 to 74 years  \\\n",
       "Notice Preference Definition                                                   \n",
       "Email                                  17336           15539           27170   \n",
       "All                                    17336           15539           27170   \n",
       "\n",
       "Age Range                     75 years and over     All  \n",
       "Notice Preference Definition                             \n",
       "Email                                     15069  392474  \n",
       "All                                       15069  392474  "
      ]
     },
     "execution_count": 96,
     "metadata": {},
     "output_type": "execute_result"
    }
   ],
   "source": [
    "import pandas as pd\n",
    "\n",
    "df = pd.read_csv(\n",
    "    \"../data/Library_Usage.csv\", \n",
    "    na_values=\"none\"\n",
    ")\n",
    "pd.crosstab(\n",
    "    df['Notice Preference Definition'],\n",
    "    df['Age Range'],\n",
    "    margins=True\n",
    ")\n"
   ]
  },
  {
   "cell_type": "code",
   "execution_count": 97,
   "id": "078d1f11-d830-46d8-b4a2-9061e3e05426",
   "metadata": {},
   "outputs": [
    {
     "data": {
      "text/html": [
       "<div>\n",
       "<style scoped>\n",
       "    .dataframe tbody tr th:only-of-type {\n",
       "        vertical-align: middle;\n",
       "    }\n",
       "\n",
       "    .dataframe tbody tr th {\n",
       "        vertical-align: top;\n",
       "    }\n",
       "\n",
       "    .dataframe thead th {\n",
       "        text-align: right;\n",
       "    }\n",
       "</style>\n",
       "<table border=\"1\" class=\"dataframe\">\n",
       "  <thead>\n",
       "    <tr style=\"text-align: right;\">\n",
       "      <th>Age Range</th>\n",
       "      <th>0 to 9 years</th>\n",
       "      <th>10 to 19 years</th>\n",
       "      <th>20 to 24 years</th>\n",
       "      <th>25 to 34 years</th>\n",
       "      <th>35 to 44 years</th>\n",
       "      <th>45 to 54 years</th>\n",
       "      <th>55 to 59 years</th>\n",
       "      <th>60 to 64 years</th>\n",
       "      <th>65 to 74 years</th>\n",
       "      <th>75 years and over</th>\n",
       "      <th>All</th>\n",
       "    </tr>\n",
       "    <tr>\n",
       "      <th>Notice Preference Definition</th>\n",
       "      <th></th>\n",
       "      <th></th>\n",
       "      <th></th>\n",
       "      <th></th>\n",
       "      <th></th>\n",
       "      <th></th>\n",
       "      <th></th>\n",
       "      <th></th>\n",
       "      <th></th>\n",
       "      <th></th>\n",
       "      <th></th>\n",
       "    </tr>\n",
       "  </thead>\n",
       "  <tbody>\n",
       "    <tr>\n",
       "      <th>Email</th>\n",
       "      <td>1.0</td>\n",
       "      <td>1.0</td>\n",
       "      <td>1.0</td>\n",
       "      <td>1.0</td>\n",
       "      <td>1.0</td>\n",
       "      <td>1.0</td>\n",
       "      <td>1.0</td>\n",
       "      <td>1.0</td>\n",
       "      <td>1.0</td>\n",
       "      <td>1.0</td>\n",
       "      <td>1.0</td>\n",
       "    </tr>\n",
       "  </tbody>\n",
       "</table>\n",
       "</div>"
      ],
      "text/plain": [
       "Age Range                     0 to 9 years  10 to 19 years  20 to 24 years  \\\n",
       "Notice Preference Definition                                                 \n",
       "Email                                  1.0             1.0             1.0   \n",
       "\n",
       "Age Range                     25 to 34 years  35 to 44 years  45 to 54 years  \\\n",
       "Notice Preference Definition                                                   \n",
       "Email                                    1.0             1.0             1.0   \n",
       "\n",
       "Age Range                     55 to 59 years  60 to 64 years  65 to 74 years  \\\n",
       "Notice Preference Definition                                                   \n",
       "Email                                    1.0             1.0             1.0   \n",
       "\n",
       "Age Range                     75 years and over  All  \n",
       "Notice Preference Definition                          \n",
       "Email                                       1.0  1.0  "
      ]
     },
     "execution_count": 97,
     "metadata": {},
     "output_type": "execute_result"
    }
   ],
   "source": [
    "pd.crosstab(\n",
    "    df['Notice Preference Definition'],\n",
    "    df['Age Range'],\n",
    "    margins=True, normalize=1\n",
    ")"
   ]
  },
  {
   "cell_type": "code",
   "execution_count": 98,
   "id": "91f2eb80-f693-420e-9cf3-08a0534cb624",
   "metadata": {},
   "outputs": [
    {
     "name": "stderr",
     "output_type": "stream",
     "text": [
      "/tmp/ipykernel_6058/2184327202.py:3: DtypeWarning: Columns (13) have mixed types. Specify dtype option on import or set low_memory=False.\n",
      "  df = pd.read_csv(\"../data/Library_Usage.csv\")\n"
     ]
    },
    {
     "data": {
      "text/plain": [
       "0.6368680323384938"
      ]
     },
     "execution_count": 98,
     "metadata": {},
     "output_type": "execute_result"
    }
   ],
   "source": [
    "import pandas as pd\n",
    "\n",
    "df = pd.read_csv(\"../data/Library_Usage.csv\")\n",
    "df['Total Checkouts'].corr(df['Total Renewals'])"
   ]
  },
  {
   "cell_type": "code",
   "execution_count": null,
   "id": "d747b09a-ba25-4b40-b6cc-f4cefa03ab1e",
   "metadata": {},
   "outputs": [],
   "source": []
  }
 ],
 "metadata": {
  "kernelspec": {
   "display_name": "Python 3 (ipykernel)",
   "language": "python",
   "name": "python3"
  },
  "language_info": {
   "codemirror_mode": {
    "name": "ipython",
    "version": 3
   },
   "file_extension": ".py",
   "mimetype": "text/x-python",
   "name": "python",
   "nbconvert_exporter": "python",
   "pygments_lexer": "ipython3",
   "version": "3.8.18"
  }
 },
 "nbformat": 4,
 "nbformat_minor": 5
}
