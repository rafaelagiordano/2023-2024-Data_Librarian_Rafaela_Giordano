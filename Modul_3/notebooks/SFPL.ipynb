{
 "cells": [
  {
   "cell_type": "code",
   "execution_count": 2,
   "id": "bbf76d5e-5007-4ac0-9b2d-c9089456dd36",
   "metadata": {},
   "outputs": [],
   "source": [
    "import csv"
   ]
  },
  {
   "cell_type": "code",
   "execution_count": 3,
   "id": "eac6e350-1fa1-48b0-afaa-d4938da45772",
   "metadata": {},
   "outputs": [
    {
     "name": "stdout",
     "output_type": "stream",
     "text": [
      "Patron Type Code,Patron Type Definition,Total Checkouts,Total Renewals,Age Range,Home Library Code,Home Library Definition,Circulation Active Month,Circulation Active Year,Notice Preference Code,Notice Preference Definition,Provided Email Address,Year Patron Registered,Within San Francisco County\n",
      "5,Staff,53,15,,b2,Bayview,Mar,2023,z,Email,true,2003,false\n",
      "5,Staff,480,378,,e9,Excelsior,Jun,2023,z,Email,true,2003,false\n",
      "5,Staff,70,33,45 to 54 years,n4,Noe Valley,Jan,2023,z,Email,true,2011,false\n",
      "5,Staff,3934,2140,,o2,Ocean View,Jul,2023,z,Email,true,2003,false\n",
      "5,Staff,1118,1035,,o7,Ortega,Jul,2023,z,Email,true,2003,false\n",
      "5,Staff,2635,4075,45 to 54 years,w2,West Portal,Jul,2023,z,Email,true,2003,false\n",
      "5,Staff,774,218,55 to 59 years,x,Main,Jul,2023,z,Email,true,2003,false\n",
      "5,Staff,508,330,45 to 54 years,x,Main,Jul,2023,z,Email,true,2005,false\n",
      "5,Staff,178,27,,x,Main,Apr,2020,z,Email,true,2003,false\n"
     ]
    }
   ],
   "source": [
    "!head \"../data/Library_Usage.csv\""
   ]
  },
  {
   "cell_type": "code",
   "execution_count": 4,
   "id": "30080f3c-f6e9-4146-b249-13ed9fb8f602",
   "metadata": {},
   "outputs": [
    {
     "name": "stdout",
     "output_type": "stream",
     "text": [
      "Patron Type Code,Patron Type Definition,Total Checkouts,Total Renewals,Age Range,Home Library Code,Home Library Definition,Circulation Active Month,Circulation Active Year,Notice Preference Code,Notice Preference Definition,Provided Email Address,Year Patron Registered,Within San Francisco County\n"
     ]
    }
   ],
   "source": [
    "!head -n 1 \"../data/Library_Usage.csv\""
   ]
  },
  {
   "cell_type": "code",
   "execution_count": 7,
   "id": "e2b565e2-f88d-471e-a9af-cc799f125538",
   "metadata": {},
   "outputs": [],
   "source": [
    "path = \"../data/Library_Usage.csv\""
   ]
  },
  {
   "cell_type": "code",
   "execution_count": 8,
   "id": "64ce2099-771d-4790-9e1a-0d89b9a8c905",
   "metadata": {},
   "outputs": [
    {
     "data": {
      "text/plain": [
       "'../data/Library_Usage.csv'"
      ]
     },
     "execution_count": 8,
     "metadata": {},
     "output_type": "execute_result"
    }
   ],
   "source": [
    "path"
   ]
  },
  {
   "cell_type": "code",
   "execution_count": null,
   "id": "9a008dc0-5b8a-4f3f-a461-072244a746f4",
   "metadata": {},
   "outputs": [],
   "source": [
    "for line in open(\"./data/Library_Usage.csv\", \"r\"):\n",
    "    row = line.split(\",\") #Zeile a, Trennzeichen splitten\n",
    "    PatronTypeDefinition = row[1] #Zuordnung der Felder\n",
    "    AgeRange = row[4]\n",
    "    HomeLibraryCode = row[5]\n",
    "    CirculationActiveYear = row [7]\n",
    "    print(\"PatronTypeDefinition: {}\\nAgeRange: {}\\nHomeLibraryCode: {}\\nCirculationActiveYear: {}\\n\".format(PatronTypeDefinition, AgeRange, HomeLibraryCode, CirculationActiveYear))"
   ]
  },
  {
   "cell_type": "code",
   "execution_count": null,
   "id": "7d33e904-02b7-4f3e-84a5-d58870e2739d",
   "metadata": {},
   "outputs": [],
   "source": [
    "with open(path) as csvfile:\n",
    "    lines = csvfile.readlines()\n",
    "\n",
    "header = lines[0].strip().split(\",\") #header é a primeira linha do aquivo\n",
    "print(header)"
   ]
  },
  {
   "cell_type": "code",
   "execution_count": null,
   "id": "b9f50f2a-8c6d-48c3-a034-d81f85b80b41",
   "metadata": {},
   "outputs": [],
   "source": [
    "data = []\n",
    "with open(path, \"r\") as csvfile:\n",
    "    reader = csv.reader(csvfile, delimiter=\",\")\n",
    "    for row in reader:\n",
    "        data.append(row)"
   ]
  },
  {
   "cell_type": "code",
   "execution_count": null,
   "id": "332adec0-ba5d-4ab0-bcb6-1ca184718c2d",
   "metadata": {},
   "outputs": [],
   "source": [
    "header = data[0]\n",
    "print(header)"
   ]
  },
  {
   "cell_type": "code",
   "execution_count": null,
   "id": "f7dbc234-e243-49e6-9d2e-45da87a9b9d2",
   "metadata": {},
   "outputs": [],
   "source": [
    "first_line = data[4200]\n",
    "for i in range(len(first_line)):\n",
    "    print(header[i], \":\", first_line[i])"
   ]
  },
  {
   "cell_type": "code",
   "execution_count": null,
   "id": "31c92998-9e9d-4d17-be29-3a5facf87660",
   "metadata": {},
   "outputs": [],
   "source": [
    "!tail Library_Usage.csv"
   ]
  },
  {
   "cell_type": "code",
   "execution_count": null,
   "id": "97809eff-7ef9-496f-9f58-8285cbdadc81",
   "metadata": {},
   "outputs": [],
   "source": [
    "len(data)"
   ]
  },
  {
   "cell_type": "code",
   "execution_count": null,
   "id": "0a54c6f8-e137-453f-9214-550c956af728",
   "metadata": {},
   "outputs": [],
   "source": [
    "import pandas as pd"
   ]
  },
  {
   "cell_type": "code",
   "execution_count": null,
   "id": "c05d7ab9-870f-4a98-89c2-dbb98f98c4c3",
   "metadata": {},
   "outputs": [],
   "source": [
    "df = pd.read_csv(\"../data/Library_Usage.csv\")\n",
    "df.head()"
   ]
  },
  {
   "cell_type": "code",
   "execution_count": null,
   "id": "4e51e481-6f91-4b67-9ff2-27172b42ed3a",
   "metadata": {},
   "outputs": [],
   "source": [
    "df"
   ]
  },
  {
   "cell_type": "code",
   "execution_count": null,
   "id": "84186cfc-d0bf-488b-9a9b-9814c8f11250",
   "metadata": {},
   "outputs": [],
   "source": [
    "df.to_json(\"../data/Library_Usage.csv\")"
   ]
  },
  {
   "cell_type": "code",
   "execution_count": null,
   "id": "1599bf9a-404e-41c9-b6e2-154356999bc0",
   "metadata": {},
   "outputs": [],
   "source": [
    "df = pd.read_json(\"../data/Library_Usage.csv\")\n",
    "df"
   ]
  },
  {
   "cell_type": "code",
   "execution_count": null,
   "id": "8eeacaaa-4033-42ac-8d7a-143da515c80d",
   "metadata": {},
   "outputs": [],
   "source": [
    "df.info()"
   ]
  },
  {
   "cell_type": "code",
   "execution_count": null,
   "id": "57661f53-35c4-46fc-b875-5090fd8dcda1",
   "metadata": {},
   "outputs": [],
   "source": [
    "len(df)"
   ]
  },
  {
   "cell_type": "code",
   "execution_count": null,
   "id": "3341c829-f0b9-4a65-96a0-e806493bec39",
   "metadata": {},
   "outputs": [],
   "source": [
    "type(df)"
   ]
  },
  {
   "cell_type": "code",
   "execution_count": null,
   "id": "ea1bca15-858f-43be-94d3-02fd39c899cc",
   "metadata": {},
   "outputs": [],
   "source": [
    "df.columns"
   ]
  },
  {
   "cell_type": "code",
   "execution_count": null,
   "id": "1a2980d4-031f-412e-afb4-6c5add65d8f9",
   "metadata": {},
   "outputs": [],
   "source": [
    "df = df.rename(columns={'Patron Type Code': 'Patron_Type_Code', 'Patron Type Definition': 'Patron_Type_Definition', 'Total Checkouts': 'Total_Checkouts', 'Total Renewals': 'Total_Renewals', 'Age Range': 'Age_Range', 'Home Library Code': 'Home_Library_Code', 'Home Library Definition': 'Home_Library_Definition', 'Circulation Active Month': 'Circulation_Active_Month','Circulation Active Year': 'Circulation_Active_Year', 'Notice Preference Code': 'Notice_Preference_Code', 'Notice Preference Definition': 'Notice_Preference_Definition', 'Provided Email Address': 'Provided_Email_Address', 'Year Patron Registered':  'Year_Patron_Registered', 'Within San Francisco County': 'Within_San_Francisco_County'\n",
    "       })"
   ]
  },
  {
   "cell_type": "code",
   "execution_count": null,
   "id": "78c5c60a-a442-470a-b2e3-95c88963f6f3",
   "metadata": {},
   "outputs": [],
   "source": [
    "df.columns"
   ]
  },
  {
   "cell_type": "code",
   "execution_count": null,
   "id": "af3458e3-b716-4340-b645-ffe8ffe29433",
   "metadata": {},
   "outputs": [],
   "source": [
    "df.Patron_Type_Code"
   ]
  },
  {
   "cell_type": "code",
   "execution_count": null,
   "id": "36e997b7-980c-438e-a438-d7fb398a0ddf",
   "metadata": {},
   "outputs": [],
   "source": [
    "df.info()"
   ]
  },
  {
   "cell_type": "code",
   "execution_count": null,
   "id": "c2d3b815-5ba6-4104-8cbf-68179ac5bbcf",
   "metadata": {},
   "outputs": [],
   "source": [
    "df.Patron_Type_Definition"
   ]
  },
  {
   "cell_type": "code",
   "execution_count": null,
   "id": "410bc871-465d-454a-9a99-a29bb85a6a40",
   "metadata": {},
   "outputs": [],
   "source": [
    "df.Year_Patron_Registered"
   ]
  },
  {
   "cell_type": "code",
   "execution_count": null,
   "id": "bdf755be-e0d7-409c-b595-ffb5f4280a52",
   "metadata": {
    "scrolled": true
   },
   "outputs": [],
   "source": [
    "df['Year_Patron_Registered'].to_list()"
   ]
  },
  {
   "cell_type": "code",
   "execution_count": null,
   "id": "675a58e9-fc95-44b7-85c1-90f3d91b5a31",
   "metadata": {},
   "outputs": [],
   "source": [
    "df['Year_Patron_Registered'].unique()"
   ]
  },
  {
   "cell_type": "code",
   "execution_count": null,
   "id": "41f40b2f-5603-4e10-b4ee-1a9df3ea2a38",
   "metadata": {},
   "outputs": [],
   "source": [
    "df['Patron_Type_Definition'].unique()"
   ]
  },
  {
   "cell_type": "code",
   "execution_count": null,
   "id": "69622de2-b264-4be3-b929-16b87bdc21c7",
   "metadata": {},
   "outputs": [],
   "source": [
    "df['Patron_Type_Code'].unique()"
   ]
  },
  {
   "cell_type": "code",
   "execution_count": null,
   "id": "f5e9512a-7e30-49c8-b908-926d879ca483",
   "metadata": {},
   "outputs": [],
   "source": [
    "df['Age_Range'].unique()"
   ]
  },
  {
   "cell_type": "code",
   "execution_count": null,
   "id": "bea80aae-2e2d-4015-b328-a317b96d23fa",
   "metadata": {},
   "outputs": [],
   "source": [
    "df['Home_Library_Definition'].unique()"
   ]
  },
  {
   "cell_type": "code",
   "execution_count": null,
   "id": "b8770d4c-aeba-4795-a374-810cae1ac49d",
   "metadata": {},
   "outputs": [],
   "source": [
    "df['Circulation_Active_Year'].unique()"
   ]
  },
  {
   "cell_type": "code",
   "execution_count": null,
   "id": "a24fbe4b-3c7c-4190-b96b-377445652944",
   "metadata": {},
   "outputs": [],
   "source": [
    "df['Circulation_Active_Month'].unique()"
   ]
  },
  {
   "cell_type": "code",
   "execution_count": null,
   "id": "a779ef87-f4be-4f2d-867c-d084e7a2cab3",
   "metadata": {},
   "outputs": [],
   "source": [
    "df = df.dropna(subset = \"Circulation_Active_Year\")"
   ]
  },
  {
   "cell_type": "code",
   "execution_count": null,
   "id": "8c6e1fd9-a81f-4a5a-b1be-219bcaf4a445",
   "metadata": {},
   "outputs": [],
   "source": [
    "df['Circulation_Active_Year'].unique()"
   ]
  },
  {
   "cell_type": "code",
   "execution_count": null,
   "id": "d5e957e9-0376-4ed3-8e19-d1483002a0bd",
   "metadata": {},
   "outputs": [],
   "source": [
    "df.info()"
   ]
  },
  {
   "cell_type": "code",
   "execution_count": null,
   "id": "42f614b5-18d6-41a5-9e3b-8959105bd999",
   "metadata": {},
   "outputs": [],
   "source": [
    "df = df.loc[df[\"Age_Range\"].isnull() == False]"
   ]
  },
  {
   "cell_type": "code",
   "execution_count": null,
   "id": "cbe5bef4-2a2b-4a0e-9f34-8e41724119e4",
   "metadata": {},
   "outputs": [],
   "source": [
    "df = df.loc[df[\"Notice_Preference_Definition\"].isnull() == False]"
   ]
  },
  {
   "cell_type": "code",
   "execution_count": null,
   "id": "91774c10-e6c2-41b5-b626-341a8d3cd295",
   "metadata": {},
   "outputs": [],
   "source": [
    "df.info()"
   ]
  },
  {
   "cell_type": "code",
   "execution_count": null,
   "id": "118aa962-2621-41b8-aba3-cacf2c4f8647",
   "metadata": {},
   "outputs": [],
   "source": [
    "df = df.loc[df[\"Patron_Type_Code\"].isnull() == False]"
   ]
  },
  {
   "cell_type": "code",
   "execution_count": null,
   "id": "8e7379df-9a1d-4648-8269-8d3c61a4aef1",
   "metadata": {},
   "outputs": [],
   "source": [
    "df.info()"
   ]
  },
  {
   "cell_type": "code",
   "execution_count": null,
   "id": "1a865824-6675-4941-a69f-30dcbc1dea6f",
   "metadata": {},
   "outputs": [],
   "source": [
    "df[\"Age_Range\"].to_list()[0]"
   ]
  },
  {
   "cell_type": "code",
   "execution_count": null,
   "id": "ac7c1c8a-d1ca-4372-be76-fb301e384f27",
   "metadata": {},
   "outputs": [],
   "source": [
    "df.describe()"
   ]
  },
  {
   "cell_type": "code",
   "execution_count": null,
   "id": "c6d022bc-8b58-4f23-9af1-c16d1b51a5da",
   "metadata": {},
   "outputs": [],
   "source": []
  }
 ],
 "metadata": {
  "kernelspec": {
   "display_name": "Python 3 (ipykernel)",
   "language": "python",
   "name": "python3"
  },
  "language_info": {
   "codemirror_mode": {
    "name": "ipython",
    "version": 3
   },
   "file_extension": ".py",
   "mimetype": "text/x-python",
   "name": "python",
   "nbconvert_exporter": "python",
   "pygments_lexer": "ipython3",
   "version": "3.8.18"
  }
 },
 "nbformat": 4,
 "nbformat_minor": 5
}
