{
 "cells": [
  {
   "cell_type": "markdown",
   "metadata": {},
   "source": [
    "## Musterlösung zu Projektaufgabe Deskriptive Statistik und offene Fragen\n",
    "\n"
   ]
  },
  {
   "cell_type": "markdown",
   "metadata": {},
   "source": [
    "#### Grundlage: Datensatz der San Francisco Public Library, s.a. https://zbmed.github.io/2023-2024-ZK_Data_Librarian_Modul_3/organisation/dataset/"
   ]
  },
  {
   "cell_type": "markdown",
   "metadata": {},
   "source": [
    "##### Frage 1: Wie viele Senioren und Kinder sind Kunden der San Francisco Public Library?"
   ]
  },
  {
   "cell_type": "markdown",
   "metadata": {},
   "source": [
    "##### Frage 2: Wie viele Nutzer möchten per Mail informiert werden?"
   ]
  },
  {
   "cell_type": "markdown",
   "metadata": {},
   "source": [
    "##### Frage 3: Wie alt sind diese Nutzer durchschnittlich im Vergleich zu Nutzern, die per Post informiert werden möchten?"
   ]
  },
  {
   "cell_type": "markdown",
   "metadata": {
    "jp-MarkdownHeadingCollapsed": true,
    "tags": []
   },
   "source": [
    "##### Frage 4: Wie viele Ausleihen werden im Mittel pro Altersgruppe und pro Jahr getätigt? Ist die Streuung zwischen den Gruppen gleich?"
   ]
  },
  {
   "cell_type": "markdown",
   "metadata": {},
   "source": [
    "##### Frage 5: Welche Altersgruppe verlängert im Mittel wie oft?"
   ]
  },
  {
   "cell_type": "markdown",
   "metadata": {},
   "source": [
    "##### Frage 6: Wie ist die Verteilung der Altersgruppen im Mission District"
   ]
  },
  {
   "cell_type": "markdown",
   "metadata": {},
   "source": [
    "##### Frage 7: Erklärung von Normalisierung von Kreuztabellen (Kapitel 3 im Skript)"
   ]
  },
  {
   "cell_type": "code",
   "execution_count": 1,
   "metadata": {},
   "outputs": [],
   "source": [
    "import pandas as pd\n",
    "import matplotlib.pyplot as plt\n",
    "import seaborn as sns\n",
    "import numpy as np\n",
    "%matplotlib inline\n",
    "sns.set_theme()\n",
    "# das was wir brauchen in abgekürzter Form"
   ]
  },
  {
   "cell_type": "code",
   "execution_count": 2,
   "metadata": {},
   "outputs": [],
   "source": [
    "df = pd.read_csv(\n",
    "    \"../data/Library_Usage.csv\",\n",
    "    na_values=\"none\",\n",
    "     low_memory=False\n",
    ")\n",
    "# Einlesen des Datensatzes in das neu definierte DataFrame df mit Überschreibung \n",
    "#fehlender Werte"
   ]
  },
  {
   "cell_type": "code",
   "execution_count": 3,
   "metadata": {},
   "outputs": [
    {
     "data": {
      "text/html": [
       "<div>\n",
       "<style scoped>\n",
       "    .dataframe tbody tr th:only-of-type {\n",
       "        vertical-align: middle;\n",
       "    }\n",
       "\n",
       "    .dataframe tbody tr th {\n",
       "        vertical-align: top;\n",
       "    }\n",
       "\n",
       "    .dataframe thead th {\n",
       "        text-align: right;\n",
       "    }\n",
       "</style>\n",
       "<table border=\"1\" class=\"dataframe\">\n",
       "  <thead>\n",
       "    <tr style=\"text-align: right;\">\n",
       "      <th></th>\n",
       "      <th>Patron Type Code</th>\n",
       "      <th>Patron Type Definition</th>\n",
       "      <th>Total Checkouts</th>\n",
       "      <th>Total Renewals</th>\n",
       "      <th>Age Range</th>\n",
       "      <th>Home Library Code</th>\n",
       "      <th>Home Library Definition</th>\n",
       "      <th>Circulation Active Month</th>\n",
       "      <th>Circulation Active Year</th>\n",
       "      <th>Notice Preference Code</th>\n",
       "      <th>Notice Preference Definition</th>\n",
       "      <th>Provided Email Address</th>\n",
       "      <th>Year Patron Registered</th>\n",
       "      <th>Within San Francisco County</th>\n",
       "    </tr>\n",
       "  </thead>\n",
       "  <tbody>\n",
       "    <tr>\n",
       "      <th>0</th>\n",
       "      <td>5</td>\n",
       "      <td>Staff</td>\n",
       "      <td>53</td>\n",
       "      <td>15</td>\n",
       "      <td>NaN</td>\n",
       "      <td>b2</td>\n",
       "      <td>Bayview</td>\n",
       "      <td>Mar</td>\n",
       "      <td>2023.0</td>\n",
       "      <td>z</td>\n",
       "      <td>Email</td>\n",
       "      <td>True</td>\n",
       "      <td>2003</td>\n",
       "      <td>False</td>\n",
       "    </tr>\n",
       "    <tr>\n",
       "      <th>1</th>\n",
       "      <td>5</td>\n",
       "      <td>Staff</td>\n",
       "      <td>480</td>\n",
       "      <td>378</td>\n",
       "      <td>NaN</td>\n",
       "      <td>e9</td>\n",
       "      <td>Excelsior</td>\n",
       "      <td>Jun</td>\n",
       "      <td>2023.0</td>\n",
       "      <td>z</td>\n",
       "      <td>Email</td>\n",
       "      <td>True</td>\n",
       "      <td>2003</td>\n",
       "      <td>False</td>\n",
       "    </tr>\n",
       "    <tr>\n",
       "      <th>2</th>\n",
       "      <td>5</td>\n",
       "      <td>Staff</td>\n",
       "      <td>70</td>\n",
       "      <td>33</td>\n",
       "      <td>45 to 54 years</td>\n",
       "      <td>n4</td>\n",
       "      <td>Noe Valley</td>\n",
       "      <td>Jan</td>\n",
       "      <td>2023.0</td>\n",
       "      <td>z</td>\n",
       "      <td>Email</td>\n",
       "      <td>True</td>\n",
       "      <td>2011</td>\n",
       "      <td>False</td>\n",
       "    </tr>\n",
       "    <tr>\n",
       "      <th>3</th>\n",
       "      <td>5</td>\n",
       "      <td>Staff</td>\n",
       "      <td>3934</td>\n",
       "      <td>2140</td>\n",
       "      <td>NaN</td>\n",
       "      <td>o2</td>\n",
       "      <td>Ocean View</td>\n",
       "      <td>Jul</td>\n",
       "      <td>2023.0</td>\n",
       "      <td>z</td>\n",
       "      <td>Email</td>\n",
       "      <td>True</td>\n",
       "      <td>2003</td>\n",
       "      <td>False</td>\n",
       "    </tr>\n",
       "    <tr>\n",
       "      <th>4</th>\n",
       "      <td>5</td>\n",
       "      <td>Staff</td>\n",
       "      <td>1118</td>\n",
       "      <td>1035</td>\n",
       "      <td>NaN</td>\n",
       "      <td>o7</td>\n",
       "      <td>Ortega</td>\n",
       "      <td>Jul</td>\n",
       "      <td>2023.0</td>\n",
       "      <td>z</td>\n",
       "      <td>Email</td>\n",
       "      <td>True</td>\n",
       "      <td>2003</td>\n",
       "      <td>False</td>\n",
       "    </tr>\n",
       "  </tbody>\n",
       "</table>\n",
       "</div>"
      ],
      "text/plain": [
       "   Patron Type Code Patron Type Definition  Total Checkouts  Total Renewals  \\\n",
       "0                 5                  Staff               53              15   \n",
       "1                 5                  Staff              480             378   \n",
       "2                 5                  Staff               70              33   \n",
       "3                 5                  Staff             3934            2140   \n",
       "4                 5                  Staff             1118            1035   \n",
       "\n",
       "        Age Range Home Library Code Home Library Definition  \\\n",
       "0             NaN                b2                 Bayview   \n",
       "1             NaN                e9               Excelsior   \n",
       "2  45 to 54 years                n4              Noe Valley   \n",
       "3             NaN                o2              Ocean View   \n",
       "4             NaN                o7                  Ortega   \n",
       "\n",
       "  Circulation Active Month  Circulation Active Year Notice Preference Code  \\\n",
       "0                      Mar                   2023.0                      z   \n",
       "1                      Jun                   2023.0                      z   \n",
       "2                      Jan                   2023.0                      z   \n",
       "3                      Jul                   2023.0                      z   \n",
       "4                      Jul                   2023.0                      z   \n",
       "\n",
       "  Notice Preference Definition  Provided Email Address  \\\n",
       "0                        Email                    True   \n",
       "1                        Email                    True   \n",
       "2                        Email                    True   \n",
       "3                        Email                    True   \n",
       "4                        Email                    True   \n",
       "\n",
       "   Year Patron Registered Within San Francisco County  \n",
       "0                    2003                       False  \n",
       "1                    2003                       False  \n",
       "2                    2011                       False  \n",
       "3                    2003                       False  \n",
       "4                    2003                       False  "
      ]
     },
     "execution_count": 3,
     "metadata": {},
     "output_type": "execute_result"
    }
   ],
   "source": [
    "#df\n",
    "df.head()\n",
    "#Überblick über das DataFrame"
   ]
  },
  {
   "cell_type": "markdown",
   "metadata": {},
   "source": [
    "# Frage 1: Wie viele Senioren und Kinder sind Kunden der San Francisco Public Library?"
   ]
  },
  {
   "cell_type": "markdown",
   "metadata": {},
   "source": [
    "Um diese Frage zu beantworten, kommen die Spalten \"Patron Type Definition\" oder \"Age Range\" in Frage, also schauen wir uns die Einträge (Merkmalsausprägungen) an: "
   ]
  },
  {
   "cell_type": "code",
   "execution_count": 4,
   "metadata": {},
   "outputs": [
    {
     "data": {
      "text/plain": [
       "Patron Type Definition\n",
       "Adult                  274682\n",
       "Juvenile                53281\n",
       "Senior                  49332\n",
       "Teen                    40561\n",
       "Welcome                  9966\n",
       "Digital Access Card      3714\n",
       "Teacher Card             3234\n",
       "Staff                     806\n",
       "Retired Staff             215\n",
       "Visitor                   148\n",
       "Library By Mail           120\n",
       "At User Adult             118\n",
       "At User Senior             78\n",
       "At User Welcome            13\n",
       "At User Teen                8\n",
       "Business                    7\n",
       "At User Juvenile            7\n",
       "Name: count, dtype: int64"
      ]
     },
     "execution_count": 4,
     "metadata": {},
     "output_type": "execute_result"
    }
   ],
   "source": [
    "df['Patron Type Definition'].value_counts()"
   ]
  },
  {
   "cell_type": "markdown",
   "metadata": {},
   "source": [
    "Man sieht, dass es sich um nominale Werte handelt."
   ]
  },
  {
   "cell_type": "code",
   "execution_count": 5,
   "metadata": {},
   "outputs": [
    {
     "data": {
      "text/plain": [
       "Age Range\n",
       "25 to 34 years       92669\n",
       "35 to 44 years       81719\n",
       "10 to 19 years       66857\n",
       "45 to 54 years       48319\n",
       "0 to 9 years         32692\n",
       "65 to 74 years       31714\n",
       "20 to 24 years       25381\n",
       "75 years and over    19297\n",
       "55 to 59 years       19076\n",
       "60 to 64 years       17654\n",
       "Name: count, dtype: int64"
      ]
     },
     "execution_count": 5,
     "metadata": {},
     "output_type": "execute_result"
    }
   ],
   "source": [
    "df['Age Range'].value_counts()"
   ]
  },
  {
   "cell_type": "markdown",
   "metadata": {},
   "source": [
    "Man sieht, dass es sich um ordinale Werte handelt."
   ]
  },
  {
   "cell_type": "markdown",
   "metadata": {},
   "source": [
    "In der Beschreibung des Datensatzes steht, dass sich die Spalte 'Age Range' nach dem Geburtsdatum richtet. D.h. es ist davon auszugehen, dass die Nutzer der Bibliothek zum Zeitpunkt der Bereitstellung des Datensatzes (2023) in die Kategorien von 'Age Range' einsortiert werden. In der Spalte 'Patron Type Definition' sind verschiedene Merkmalsausprägungen zu finden, die nicht unbedingt etwas mit dem Alter zu tun haben (z.B. VISITOR oder SPECIAL). Daher ist davon auszugehen, dass wir mit 'Age Range' am nähesten Fragestellungen zu Alter beantworten zu können. Richtige Angaben zu tatsächlichem Alter der Nutzer liegen bei diesem Datensatz nicht vor."
   ]
  },
  {
   "cell_type": "markdown",
   "metadata": {},
   "source": [
    "An dieser Stelle ist also zu definieren, was Senioren und Kinder sind. Eine Möglichkeit ist, Senioren als Age Range = 65 to 74 years und Age Range = 75 years and over zu definieren, man könnte aber auch Age Range = 60 to 64 years dazunehmen. Für das weitere Vorgehen, definieren wir Senioren als über 65-jährige und Kinder als bis 19-jährige. Um die Frage 1 zu beantworten, reicht es also, die entsprechenden Einträge zu summieren."
   ]
  },
  {
   "cell_type": "code",
   "execution_count": 6,
   "metadata": {},
   "outputs": [],
   "source": [
    "kinder=df.loc[df['Age Range'] == \"0 to 9 years\"] \n",
    "kinder=df.loc[\n",
    "    (df['Age Range'] == \"0 to 9 years\") | \n",
    "    (df['Age Range'] == \"10 to 19 years\")\n",
    "] \n",
    "#Hilfsvariable"
   ]
  },
  {
   "cell_type": "code",
   "execution_count": 7,
   "metadata": {},
   "outputs": [
    {
     "data": {
      "text/plain": [
       "99549"
      ]
     },
     "execution_count": 7,
     "metadata": {},
     "output_type": "execute_result"
    }
   ],
   "source": [
    "len(kinder) "
   ]
  },
  {
   "cell_type": "code",
   "execution_count": 8,
   "metadata": {},
   "outputs": [],
   "source": [
    "senioren=df.loc[\n",
    "    (df['Age Range'] == \"65 to 74 years\") | \n",
    "    (df['Age Range'] == \"75 years and over\")\n",
    "] \n",
    "#Hilfsvariable\n"
   ]
  },
  {
   "cell_type": "code",
   "execution_count": 9,
   "metadata": {},
   "outputs": [
    {
     "data": {
      "text/plain": [
       "51011"
      ]
     },
     "execution_count": 9,
     "metadata": {},
     "output_type": "execute_result"
    }
   ],
   "source": [
    "len(senioren)"
   ]
  },
  {
   "cell_type": "markdown",
   "metadata": {},
   "source": [
    "# Antwort auf Frage 1:"
   ]
  },
  {
   "cell_type": "code",
   "execution_count": 10,
   "metadata": {},
   "outputs": [
    {
     "name": "stdout",
     "output_type": "stream",
     "text": [
      "Es sind 99549 Kinder (bis 19 Jahre) und 51011 Senioren (ab 65 Jahren) registriert.\n"
     ]
    }
   ],
   "source": [
    "print('Es sind ' + str(len(kinder)) + ' Kinder (bis 19 Jahre) und ' + str(len(senioren)) + ' Senioren (ab 65 Jahren) registriert.' )\n"
   ]
  },
  {
   "cell_type": "markdown",
   "metadata": {},
   "source": [
    "-----"
   ]
  },
  {
   "cell_type": "markdown",
   "metadata": {},
   "source": [
    "# Frage 2: Wie viele Nutzer möchten per Mail informiert werden?"
   ]
  },
  {
   "cell_type": "code",
   "execution_count": 11,
   "metadata": {},
   "outputs": [
    {
     "data": {
      "text/plain": [
       "393301"
      ]
     },
     "execution_count": 11,
     "metadata": {},
     "output_type": "execute_result"
    }
   ],
   "source": [
    "len(df.loc[(df['Notice Preference Definition'] == \"Email\")])"
   ]
  },
  {
   "cell_type": "markdown",
   "metadata": {},
   "source": [
    "# Antwort auf Frage 2:"
   ]
  },
  {
   "cell_type": "code",
   "execution_count": 12,
   "metadata": {},
   "outputs": [
    {
     "name": "stdout",
     "output_type": "stream",
     "text": [
      "393301 Nutzer möchten per Mail informiert werden.\n"
     ]
    }
   ],
   "source": [
    "print(str(len(df.loc[(df['Notice Preference Definition'] == \"Email\")])) + ' Nutzer möchten per Mail informiert werden.')"
   ]
  },
  {
   "cell_type": "markdown",
   "metadata": {},
   "source": [
    "# Frage 3: Wie alt sind diese Nutzer durchschnittlich im Vergleich zu Nutzern, die per Post informiert werden möchten?"
   ]
  },
  {
   "cell_type": "markdown",
   "metadata": {},
   "source": [
    "Die relevante Spalte über die gewünschte Benachrichtigungsart schauen wir uns genauer an:"
   ]
  },
  {
   "cell_type": "code",
   "execution_count": 13,
   "metadata": {},
   "outputs": [
    {
     "data": {
      "text/plain": [
       "Notice Preference Definition\n",
       "Email    393301\n",
       "Name: count, dtype: int64"
      ]
     },
     "execution_count": 13,
     "metadata": {},
     "output_type": "execute_result"
    }
   ],
   "source": [
    "df['Notice Preference Definition'].value_counts()"
   ]
  },
  {
   "cell_type": "markdown",
   "metadata": {},
   "source": [
    "Es handelt sich um ein nominales Merkmal."
   ]
  },
  {
   "cell_type": "markdown",
   "metadata": {},
   "source": [
    "Auch hier stoßen wir auf eine Interpretationsfrage. Da der Datensatz kein Alter ausgibt, sondern nur Altersstufen (Age Range) bzw. Kategorien, die nicht immer etwas mit dem Alter zu tun haben sondern eher mit dem Nutzerstatus (Patron Type Definition), müssen wir überlegen, was ein Durchschnitt bedeuten kann. Age Range ist ein ordinales Merkmal, d.h. wir können keinen Erwartungswert berechnen, aber uns dennoch Häufigkeitstabellen anschauen."
   ]
  },
  {
   "cell_type": "markdown",
   "metadata": {},
   "source": [
    "Um diese beiden Merkmale (nominal und ordinal) zu verbinden, können wir uns einen Plot angucken, dafür definieren wir eine neue Variable indem wir nach den Merkmalen filtern, die uns interessieren:"
   ]
  },
  {
   "cell_type": "code",
   "execution_count": 14,
   "metadata": {},
   "outputs": [],
   "source": [
    "benachrichtigung=df.loc[\n",
    "    (df['Notice Preference Definition'] == \"Email\") | \n",
    "    (df['Notice Preference Definition'] == \"None\")\n",
    "] #Hilfsvariable für den Plot, damit nur die Merkmale 'email' und 'print' angezeigt werden"
   ]
  },
  {
   "cell_type": "code",
   "execution_count": 29,
   "metadata": {},
   "outputs": [
    {
     "data": {
      "text/html": [
       "<div>\n",
       "<style scoped>\n",
       "    .dataframe tbody tr th:only-of-type {\n",
       "        vertical-align: middle;\n",
       "    }\n",
       "\n",
       "    .dataframe tbody tr th {\n",
       "        vertical-align: top;\n",
       "    }\n",
       "\n",
       "    .dataframe thead th {\n",
       "        text-align: right;\n",
       "    }\n",
       "</style>\n",
       "<table border=\"1\" class=\"dataframe\">\n",
       "  <thead>\n",
       "    <tr style=\"text-align: right;\">\n",
       "      <th></th>\n",
       "      <th>Patron Type Code</th>\n",
       "      <th>Patron Type Definition</th>\n",
       "      <th>Total Checkouts</th>\n",
       "      <th>Total Renewals</th>\n",
       "      <th>Age Range</th>\n",
       "      <th>Home Library Code</th>\n",
       "      <th>Home Library Definition</th>\n",
       "      <th>Circulation Active Month</th>\n",
       "      <th>Circulation Active Year</th>\n",
       "      <th>Notice Preference Code</th>\n",
       "      <th>Notice Preference Definition</th>\n",
       "      <th>Provided Email Address</th>\n",
       "      <th>Year Patron Registered</th>\n",
       "      <th>Within San Francisco County</th>\n",
       "    </tr>\n",
       "  </thead>\n",
       "  <tbody>\n",
       "    <tr>\n",
       "      <th>0</th>\n",
       "      <td>5</td>\n",
       "      <td>Staff</td>\n",
       "      <td>53</td>\n",
       "      <td>15</td>\n",
       "      <td>NaN</td>\n",
       "      <td>b2</td>\n",
       "      <td>Bayview</td>\n",
       "      <td>Mar</td>\n",
       "      <td>2023.0</td>\n",
       "      <td>z</td>\n",
       "      <td>Email</td>\n",
       "      <td>True</td>\n",
       "      <td>2003</td>\n",
       "      <td>False</td>\n",
       "    </tr>\n",
       "    <tr>\n",
       "      <th>1</th>\n",
       "      <td>5</td>\n",
       "      <td>Staff</td>\n",
       "      <td>480</td>\n",
       "      <td>378</td>\n",
       "      <td>NaN</td>\n",
       "      <td>e9</td>\n",
       "      <td>Excelsior</td>\n",
       "      <td>Jun</td>\n",
       "      <td>2023.0</td>\n",
       "      <td>z</td>\n",
       "      <td>Email</td>\n",
       "      <td>True</td>\n",
       "      <td>2003</td>\n",
       "      <td>False</td>\n",
       "    </tr>\n",
       "    <tr>\n",
       "      <th>2</th>\n",
       "      <td>5</td>\n",
       "      <td>Staff</td>\n",
       "      <td>70</td>\n",
       "      <td>33</td>\n",
       "      <td>45 to 54 years</td>\n",
       "      <td>n4</td>\n",
       "      <td>Noe Valley</td>\n",
       "      <td>Jan</td>\n",
       "      <td>2023.0</td>\n",
       "      <td>z</td>\n",
       "      <td>Email</td>\n",
       "      <td>True</td>\n",
       "      <td>2011</td>\n",
       "      <td>False</td>\n",
       "    </tr>\n",
       "    <tr>\n",
       "      <th>3</th>\n",
       "      <td>5</td>\n",
       "      <td>Staff</td>\n",
       "      <td>3934</td>\n",
       "      <td>2140</td>\n",
       "      <td>NaN</td>\n",
       "      <td>o2</td>\n",
       "      <td>Ocean View</td>\n",
       "      <td>Jul</td>\n",
       "      <td>2023.0</td>\n",
       "      <td>z</td>\n",
       "      <td>Email</td>\n",
       "      <td>True</td>\n",
       "      <td>2003</td>\n",
       "      <td>False</td>\n",
       "    </tr>\n",
       "    <tr>\n",
       "      <th>4</th>\n",
       "      <td>5</td>\n",
       "      <td>Staff</td>\n",
       "      <td>1118</td>\n",
       "      <td>1035</td>\n",
       "      <td>NaN</td>\n",
       "      <td>o7</td>\n",
       "      <td>Ortega</td>\n",
       "      <td>Jul</td>\n",
       "      <td>2023.0</td>\n",
       "      <td>z</td>\n",
       "      <td>Email</td>\n",
       "      <td>True</td>\n",
       "      <td>2003</td>\n",
       "      <td>False</td>\n",
       "    </tr>\n",
       "    <tr>\n",
       "      <th>...</th>\n",
       "      <td>...</td>\n",
       "      <td>...</td>\n",
       "      <td>...</td>\n",
       "      <td>...</td>\n",
       "      <td>...</td>\n",
       "      <td>...</td>\n",
       "      <td>...</td>\n",
       "      <td>...</td>\n",
       "      <td>...</td>\n",
       "      <td>...</td>\n",
       "      <td>...</td>\n",
       "      <td>...</td>\n",
       "      <td>...</td>\n",
       "      <td>...</td>\n",
       "    </tr>\n",
       "    <tr>\n",
       "      <th>436285</th>\n",
       "      <td>0</td>\n",
       "      <td>Adult</td>\n",
       "      <td>2</td>\n",
       "      <td>6</td>\n",
       "      <td>35 to 44 years</td>\n",
       "      <td>yjj</td>\n",
       "      <td>Bookmobile</td>\n",
       "      <td>Oct</td>\n",
       "      <td>2022.0</td>\n",
       "      <td>z</td>\n",
       "      <td>Email</td>\n",
       "      <td>True</td>\n",
       "      <td>2020</td>\n",
       "      <td>NaN</td>\n",
       "    </tr>\n",
       "    <tr>\n",
       "      <th>436286</th>\n",
       "      <td>2</td>\n",
       "      <td>Teen</td>\n",
       "      <td>3</td>\n",
       "      <td>0</td>\n",
       "      <td>10 to 19 years</td>\n",
       "      <td>yjj</td>\n",
       "      <td>Bookmobile</td>\n",
       "      <td>Nov</td>\n",
       "      <td>2015.0</td>\n",
       "      <td>z</td>\n",
       "      <td>Email</td>\n",
       "      <td>True</td>\n",
       "      <td>2011</td>\n",
       "      <td>NaN</td>\n",
       "    </tr>\n",
       "    <tr>\n",
       "      <th>436287</th>\n",
       "      <td>0</td>\n",
       "      <td>Adult</td>\n",
       "      <td>6</td>\n",
       "      <td>0</td>\n",
       "      <td>60 to 64 years</td>\n",
       "      <td>ylw</td>\n",
       "      <td>Bookmobile</td>\n",
       "      <td>Mar</td>\n",
       "      <td>2022.0</td>\n",
       "      <td>z</td>\n",
       "      <td>Email</td>\n",
       "      <td>True</td>\n",
       "      <td>2022</td>\n",
       "      <td>NaN</td>\n",
       "    </tr>\n",
       "    <tr>\n",
       "      <th>436288</th>\n",
       "      <td>15</td>\n",
       "      <td>Teacher Card</td>\n",
       "      <td>4</td>\n",
       "      <td>0</td>\n",
       "      <td>35 to 44 years</td>\n",
       "      <td>ylw</td>\n",
       "      <td>Bookmobile</td>\n",
       "      <td>Sep</td>\n",
       "      <td>2020.0</td>\n",
       "      <td>z</td>\n",
       "      <td>Email</td>\n",
       "      <td>True</td>\n",
       "      <td>2019</td>\n",
       "      <td>NaN</td>\n",
       "    </tr>\n",
       "    <tr>\n",
       "      <th>436289</th>\n",
       "      <td>55</td>\n",
       "      <td>Retired Staff</td>\n",
       "      <td>309</td>\n",
       "      <td>101</td>\n",
       "      <td>75 years and over</td>\n",
       "      <td>ylw</td>\n",
       "      <td>Bookmobile</td>\n",
       "      <td>Jul</td>\n",
       "      <td>2023.0</td>\n",
       "      <td>z</td>\n",
       "      <td>Email</td>\n",
       "      <td>True</td>\n",
       "      <td>2003</td>\n",
       "      <td>NaN</td>\n",
       "    </tr>\n",
       "  </tbody>\n",
       "</table>\n",
       "<p>393301 rows × 14 columns</p>\n",
       "</div>"
      ],
      "text/plain": [
       "        Patron Type Code Patron Type Definition  Total Checkouts  \\\n",
       "0                      5                  Staff               53   \n",
       "1                      5                  Staff              480   \n",
       "2                      5                  Staff               70   \n",
       "3                      5                  Staff             3934   \n",
       "4                      5                  Staff             1118   \n",
       "...                  ...                    ...              ...   \n",
       "436285                 0                  Adult                2   \n",
       "436286                 2                   Teen                3   \n",
       "436287                 0                  Adult                6   \n",
       "436288                15           Teacher Card                4   \n",
       "436289                55          Retired Staff              309   \n",
       "\n",
       "        Total Renewals          Age Range Home Library Code  \\\n",
       "0                   15                NaN                b2   \n",
       "1                  378                NaN                e9   \n",
       "2                   33     45 to 54 years                n4   \n",
       "3                 2140                NaN                o2   \n",
       "4                 1035                NaN                o7   \n",
       "...                ...                ...               ...   \n",
       "436285               6     35 to 44 years               yjj   \n",
       "436286               0     10 to 19 years               yjj   \n",
       "436287               0     60 to 64 years               ylw   \n",
       "436288               0     35 to 44 years               ylw   \n",
       "436289             101  75 years and over               ylw   \n",
       "\n",
       "       Home Library Definition Circulation Active Month  \\\n",
       "0                      Bayview                      Mar   \n",
       "1                    Excelsior                      Jun   \n",
       "2                   Noe Valley                      Jan   \n",
       "3                   Ocean View                      Jul   \n",
       "4                       Ortega                      Jul   \n",
       "...                        ...                      ...   \n",
       "436285              Bookmobile                      Oct   \n",
       "436286              Bookmobile                      Nov   \n",
       "436287              Bookmobile                      Mar   \n",
       "436288              Bookmobile                      Sep   \n",
       "436289              Bookmobile                      Jul   \n",
       "\n",
       "        Circulation Active Year Notice Preference Code  \\\n",
       "0                        2023.0                      z   \n",
       "1                        2023.0                      z   \n",
       "2                        2023.0                      z   \n",
       "3                        2023.0                      z   \n",
       "4                        2023.0                      z   \n",
       "...                         ...                    ...   \n",
       "436285                   2022.0                      z   \n",
       "436286                   2015.0                      z   \n",
       "436287                   2022.0                      z   \n",
       "436288                   2020.0                      z   \n",
       "436289                   2023.0                      z   \n",
       "\n",
       "       Notice Preference Definition  Provided Email Address  \\\n",
       "0                             Email                    True   \n",
       "1                             Email                    True   \n",
       "2                             Email                    True   \n",
       "3                             Email                    True   \n",
       "4                             Email                    True   \n",
       "...                             ...                     ...   \n",
       "436285                        Email                    True   \n",
       "436286                        Email                    True   \n",
       "436287                        Email                    True   \n",
       "436288                        Email                    True   \n",
       "436289                        Email                    True   \n",
       "\n",
       "        Year Patron Registered Within San Francisco County  \n",
       "0                         2003                       False  \n",
       "1                         2003                       False  \n",
       "2                         2011                       False  \n",
       "3                         2003                       False  \n",
       "4                         2003                       False  \n",
       "...                        ...                         ...  \n",
       "436285                    2020                         NaN  \n",
       "436286                    2011                         NaN  \n",
       "436287                    2022                         NaN  \n",
       "436288                    2019                         NaN  \n",
       "436289                    2003                         NaN  \n",
       "\n",
       "[393301 rows x 14 columns]"
      ]
     },
     "execution_count": 29,
     "metadata": {},
     "output_type": "execute_result"
    }
   ],
   "source": [
    "benachrichtigung"
   ]
  },
  {
   "cell_type": "code",
   "execution_count": 15,
   "metadata": {},
   "outputs": [
    {
     "name": "stderr",
     "output_type": "stream",
     "text": [
      "/home/rafaela/anaconda3/lib/python3.8/site-packages/seaborn/axisgrid.py:118: UserWarning: The figure layout has changed to tight\n",
      "  self._figure.tight_layout(*args, **kwargs)\n"
     ]
    },
    {
     "data": {
      "text/plain": [
       "<seaborn.axisgrid.FacetGrid at 0x7866a744f040>"
      ]
     },
     "execution_count": 15,
     "metadata": {},
     "output_type": "execute_result"
    },
    {
     "data": {
      "image/png": "[encoded data removed]",
      "text/plain": [
       "<Figure size 1746.47x500 with 1 Axes>"
      ]
     },
     "metadata": {},
     "output_type": "display_data"
    }
   ],
   "source": [
    "sns.catplot(x='Age Range', kind='count', hue='Notice Preference Definition', data=benachrichtigung, aspect=3, order=[\"0 to 9 years\",\"10 to 19 years\",\"20 to 24 years\",\"25 to 34 years\",\"35 to 44 years\",\"45 to 54 years\",\"55 to 59 years\",\"60 to 64 years\",\"65 to 74 years\",\"75 years and over\"])\n",
    "#wenn data=df gewählt wird, würden wir auch die Werte für 'print' sehen"
   ]
  },
  {
   "cell_type": "markdown",
   "metadata": {},
   "source": [
    "Um besser die Zahlen zu verstehen, hilft uns eine Kreuztabelle:"
   ]
  },
  {
   "cell_type": "code",
   "execution_count": 16,
   "metadata": {},
   "outputs": [
    {
     "data": {
      "text/html": [
       "<div>\n",
       "<style scoped>\n",
       "    .dataframe tbody tr th:only-of-type {\n",
       "        vertical-align: middle;\n",
       "    }\n",
       "\n",
       "    .dataframe tbody tr th {\n",
       "        vertical-align: top;\n",
       "    }\n",
       "\n",
       "    .dataframe thead th {\n",
       "        text-align: right;\n",
       "    }\n",
       "</style>\n",
       "<table border=\"1\" class=\"dataframe\">\n",
       "  <thead>\n",
       "    <tr style=\"text-align: right;\">\n",
       "      <th>Age Range</th>\n",
       "      <th>0 to 9 years</th>\n",
       "      <th>10 to 19 years</th>\n",
       "      <th>20 to 24 years</th>\n",
       "      <th>25 to 34 years</th>\n",
       "      <th>35 to 44 years</th>\n",
       "      <th>45 to 54 years</th>\n",
       "      <th>55 to 59 years</th>\n",
       "      <th>60 to 64 years</th>\n",
       "      <th>65 to 74 years</th>\n",
       "      <th>75 years and over</th>\n",
       "      <th>All</th>\n",
       "    </tr>\n",
       "    <tr>\n",
       "      <th>Notice Preference Definition</th>\n",
       "      <th></th>\n",
       "      <th></th>\n",
       "      <th></th>\n",
       "      <th></th>\n",
       "      <th></th>\n",
       "      <th></th>\n",
       "      <th></th>\n",
       "      <th></th>\n",
       "      <th></th>\n",
       "      <th></th>\n",
       "      <th></th>\n",
       "    </tr>\n",
       "  </thead>\n",
       "  <tbody>\n",
       "    <tr>\n",
       "      <th>Email</th>\n",
       "      <td>28740</td>\n",
       "      <td>54936</td>\n",
       "      <td>22701</td>\n",
       "      <td>88200</td>\n",
       "      <td>77618</td>\n",
       "      <td>45165</td>\n",
       "      <td>17336</td>\n",
       "      <td>15539</td>\n",
       "      <td>27170</td>\n",
       "      <td>15069</td>\n",
       "      <td>392474</td>\n",
       "    </tr>\n",
       "    <tr>\n",
       "      <th>All</th>\n",
       "      <td>28740</td>\n",
       "      <td>54936</td>\n",
       "      <td>22701</td>\n",
       "      <td>88200</td>\n",
       "      <td>77618</td>\n",
       "      <td>45165</td>\n",
       "      <td>17336</td>\n",
       "      <td>15539</td>\n",
       "      <td>27170</td>\n",
       "      <td>15069</td>\n",
       "      <td>392474</td>\n",
       "    </tr>\n",
       "  </tbody>\n",
       "</table>\n",
       "</div>"
      ],
      "text/plain": [
       "Age Range                     0 to 9 years  10 to 19 years  20 to 24 years  \\\n",
       "Notice Preference Definition                                                 \n",
       "Email                                28740           54936           22701   \n",
       "All                                  28740           54936           22701   \n",
       "\n",
       "Age Range                     25 to 34 years  35 to 44 years  45 to 54 years  \\\n",
       "Notice Preference Definition                                                   \n",
       "Email                                  88200           77618           45165   \n",
       "All                                    88200           77618           45165   \n",
       "\n",
       "Age Range                     55 to 59 years  60 to 64 years  65 to 74 years  \\\n",
       "Notice Preference Definition                                                   \n",
       "Email                                  17336           15539           27170   \n",
       "All                                    17336           15539           27170   \n",
       "\n",
       "Age Range                     75 years and over     All  \n",
       "Notice Preference Definition                             \n",
       "Email                                     15069  392474  \n",
       "All                                       15069  392474  "
      ]
     },
     "execution_count": 16,
     "metadata": {},
     "output_type": "execute_result"
    }
   ],
   "source": [
    "pd.crosstab(\n",
    "    benachrichtigung['Notice Preference Definition'],\n",
    "    benachrichtigung['Age Range'],\n",
    "    margins=True\n",
    ")\n",
    "# Beachte, dass wir hier eine Teilmenge des Datensatzes betrachten über die Variable \"benachrichitigung\". \n",
    "# D.h. wir blenden die Ereignisse aus, wo in der Spalte 'Notice Preference Definition' nicht \n",
    "# 'Email' oder 'Print' steht."
   ]
  },
  {
   "cell_type": "markdown",
   "metadata": {},
   "source": [
    "----\n",
    "###### WICHTIG:\n",
    "Beachte, dass die Summe der Nutzer, die per Mail informiert werden hier 392474 ergibt. Wir haben aber bei Frage 2 festgestellt, dass eigentlich 393301 Nutzer per Mail informiert werden möchten.\n",
    "Dies liegt daran, dass offensichtlich in einigen Einträgen (Zeilen des Datensatzes) zwar im Feld \"Notice Preference Definition\" der Wert \"Email\" steht, aber offensichtlich im Feld \"Age Range\" kein Eintrag steht. In der Kreuztabelle werden die beiden Merkmale 'Age Range' und 'Notice Preference Definition' betrachtet und somit nur die Einträge, wo entsprechednd beide Felder ausgefüllt sind.\n",
    "\n",
    "(Das ist übrigens unabhängig ob man die Kreuztabelle über die \"große\" Variable \"df\" oder \"benachrichtigung\" berechnet, probiere es gerne aus!)\n",
    "\n",
    "----"
   ]
  },
  {
   "cell_type": "code",
   "execution_count": 17,
   "metadata": {},
   "outputs": [
    {
     "data": {
      "text/html": [
       "<div>\n",
       "<style scoped>\n",
       "    .dataframe tbody tr th:only-of-type {\n",
       "        vertical-align: middle;\n",
       "    }\n",
       "\n",
       "    .dataframe tbody tr th {\n",
       "        vertical-align: top;\n",
       "    }\n",
       "\n",
       "    .dataframe thead th {\n",
       "        text-align: right;\n",
       "    }\n",
       "</style>\n",
       "<table border=\"1\" class=\"dataframe\">\n",
       "  <thead>\n",
       "    <tr style=\"text-align: right;\">\n",
       "      <th>Age Range</th>\n",
       "      <th>0 to 9 years</th>\n",
       "      <th>10 to 19 years</th>\n",
       "      <th>20 to 24 years</th>\n",
       "      <th>25 to 34 years</th>\n",
       "      <th>35 to 44 years</th>\n",
       "      <th>45 to 54 years</th>\n",
       "      <th>55 to 59 years</th>\n",
       "      <th>60 to 64 years</th>\n",
       "      <th>65 to 74 years</th>\n",
       "      <th>75 years and over</th>\n",
       "    </tr>\n",
       "    <tr>\n",
       "      <th>Notice Preference Definition</th>\n",
       "      <th></th>\n",
       "      <th></th>\n",
       "      <th></th>\n",
       "      <th></th>\n",
       "      <th></th>\n",
       "      <th></th>\n",
       "      <th></th>\n",
       "      <th></th>\n",
       "      <th></th>\n",
       "      <th></th>\n",
       "    </tr>\n",
       "  </thead>\n",
       "  <tbody>\n",
       "    <tr>\n",
       "      <th>Email</th>\n",
       "      <td>0.073228</td>\n",
       "      <td>0.139974</td>\n",
       "      <td>0.057841</td>\n",
       "      <td>0.224728</td>\n",
       "      <td>0.197766</td>\n",
       "      <td>0.115078</td>\n",
       "      <td>0.044171</td>\n",
       "      <td>0.039592</td>\n",
       "      <td>0.069228</td>\n",
       "      <td>0.038395</td>\n",
       "    </tr>\n",
       "    <tr>\n",
       "      <th>All</th>\n",
       "      <td>0.073228</td>\n",
       "      <td>0.139974</td>\n",
       "      <td>0.057841</td>\n",
       "      <td>0.224728</td>\n",
       "      <td>0.197766</td>\n",
       "      <td>0.115078</td>\n",
       "      <td>0.044171</td>\n",
       "      <td>0.039592</td>\n",
       "      <td>0.069228</td>\n",
       "      <td>0.038395</td>\n",
       "    </tr>\n",
       "  </tbody>\n",
       "</table>\n",
       "</div>"
      ],
      "text/plain": [
       "Age Range                     0 to 9 years  10 to 19 years  20 to 24 years  \\\n",
       "Notice Preference Definition                                                 \n",
       "Email                             0.073228        0.139974        0.057841   \n",
       "All                               0.073228        0.139974        0.057841   \n",
       "\n",
       "Age Range                     25 to 34 years  35 to 44 years  45 to 54 years  \\\n",
       "Notice Preference Definition                                                   \n",
       "Email                               0.224728        0.197766        0.115078   \n",
       "All                                 0.224728        0.197766        0.115078   \n",
       "\n",
       "Age Range                     55 to 59 years  60 to 64 years  65 to 74 years  \\\n",
       "Notice Preference Definition                                                   \n",
       "Email                               0.044171        0.039592        0.069228   \n",
       "All                                 0.044171        0.039592        0.069228   \n",
       "\n",
       "Age Range                     75 years and over  \n",
       "Notice Preference Definition                     \n",
       "Email                                  0.038395  \n",
       "All                                    0.038395  "
      ]
     },
     "execution_count": 17,
     "metadata": {},
     "output_type": "execute_result"
    }
   ],
   "source": [
    "# Nun möchten wir das prozentual betrachten:\n",
    "pd.crosstab(\n",
    "    benachrichtigung['Notice Preference Definition'],\n",
    "    benachrichtigung['Age Range'],\n",
    "    margins=True, normalize=0\n",
    ")"
   ]
  },
  {
   "cell_type": "markdown",
   "metadata": {},
   "source": [
    "# Antwort auf Frage 3:\n",
    "\n",
    " Die Frage können wir wie folgt beantworten. \n",
    " Von allen Nutzern, die per Mail informiert werden möchten, sind\n",
    " - ca. 7%  in der Alterklasse 0 bis 9 Jahre,\n",
    " - ca. 14% in der Altersklasse 10 bis 19 Jahre,\n",
    " \n",
    " ...\n",
    " \n",
    " - ca. 7%  in der Altersklasse 65 bis 74 Jahre,\n",
    " - ca. 4%  in der Altersklasse 75 Jahre und älter.\n",
    "\n",
    "Im Vergleich dazu, sind von allen Nutzern, die nicht informiert werden möchten\n",
    "- ca. 9%  in der Altersklasse 0 bis 9 Jahre,\n",
    "- ca. 28%  in der Altersklasse 10 bis 19 Jahre,\n",
    "\n",
    "...\n",
    "\n",
    "- ca. 11%  in der Altersklasse 65 bis 74 Jahre,\n",
    "- ca. 10%  in der Altersklasse 75 Jahre und älter.\n"
   ]
  },
  {
   "cell_type": "markdown",
   "metadata": {},
   "source": [
    "# Frage 4: Wie viele Ausleihen werden im Mittel pro Altersgruppe und pro Jahr getätigt? Ist die Streuung zwischen den Gruppen gleich?"
   ]
  },
  {
   "cell_type": "markdown",
   "metadata": {},
   "source": [
    "Für diese Fragestellung sind die Spalten 'Total Checkouts' und 'Age Range' relevant. Bei der ersten handelt es sich um ein metrisches Merkmal, die zweite ist ordinal.\n",
    "Wir definieren eine neue Spalte, die die durchschnittliche jährliche Ausleihe eines Nutzers ausgibt.\n"
   ]
  },
  {
   "cell_type": "code",
   "execution_count": 18,
   "metadata": {},
   "outputs": [],
   "source": [
    "df['Circulation Active Year'] = pd.to_numeric(df['Circulation Active Year'], errors='coerce')\n",
    "df['Membership Duration Years'] = (df['Circulation Active Year'] - df['Year Patron Registered'])+1 \n",
    "# hier werden der Einfachheit ganze Jahre angenommen\n",
    "df[\"Average Checkouts per Year\"] =(df['Total Checkouts']/df['Membership Duration Years'])\n"
   ]
  },
  {
   "cell_type": "code",
   "execution_count": 19,
   "metadata": {},
   "outputs": [
    {
     "data": {
      "text/html": [
       "<div>\n",
       "<style scoped>\n",
       "    .dataframe tbody tr th:only-of-type {\n",
       "        vertical-align: middle;\n",
       "    }\n",
       "\n",
       "    .dataframe tbody tr th {\n",
       "        vertical-align: top;\n",
       "    }\n",
       "\n",
       "    .dataframe thead th {\n",
       "        text-align: right;\n",
       "    }\n",
       "</style>\n",
       "<table border=\"1\" class=\"dataframe\">\n",
       "  <thead>\n",
       "    <tr style=\"text-align: right;\">\n",
       "      <th></th>\n",
       "      <th>Patron Type Code</th>\n",
       "      <th>Patron Type Definition</th>\n",
       "      <th>Total Checkouts</th>\n",
       "      <th>Total Renewals</th>\n",
       "      <th>Age Range</th>\n",
       "      <th>Home Library Code</th>\n",
       "      <th>Home Library Definition</th>\n",
       "      <th>Circulation Active Month</th>\n",
       "      <th>Circulation Active Year</th>\n",
       "      <th>Notice Preference Code</th>\n",
       "      <th>Notice Preference Definition</th>\n",
       "      <th>Provided Email Address</th>\n",
       "      <th>Year Patron Registered</th>\n",
       "      <th>Within San Francisco County</th>\n",
       "      <th>Membership Duration Years</th>\n",
       "      <th>Average Checkouts per Year</th>\n",
       "    </tr>\n",
       "  </thead>\n",
       "  <tbody>\n",
       "    <tr>\n",
       "      <th>0</th>\n",
       "      <td>5</td>\n",
       "      <td>Staff</td>\n",
       "      <td>53</td>\n",
       "      <td>15</td>\n",
       "      <td>NaN</td>\n",
       "      <td>b2</td>\n",
       "      <td>Bayview</td>\n",
       "      <td>Mar</td>\n",
       "      <td>2023.0</td>\n",
       "      <td>z</td>\n",
       "      <td>Email</td>\n",
       "      <td>True</td>\n",
       "      <td>2003</td>\n",
       "      <td>False</td>\n",
       "      <td>21.0</td>\n",
       "      <td>2.523810</td>\n",
       "    </tr>\n",
       "    <tr>\n",
       "      <th>1</th>\n",
       "      <td>5</td>\n",
       "      <td>Staff</td>\n",
       "      <td>480</td>\n",
       "      <td>378</td>\n",
       "      <td>NaN</td>\n",
       "      <td>e9</td>\n",
       "      <td>Excelsior</td>\n",
       "      <td>Jun</td>\n",
       "      <td>2023.0</td>\n",
       "      <td>z</td>\n",
       "      <td>Email</td>\n",
       "      <td>True</td>\n",
       "      <td>2003</td>\n",
       "      <td>False</td>\n",
       "      <td>21.0</td>\n",
       "      <td>22.857143</td>\n",
       "    </tr>\n",
       "    <tr>\n",
       "      <th>2</th>\n",
       "      <td>5</td>\n",
       "      <td>Staff</td>\n",
       "      <td>70</td>\n",
       "      <td>33</td>\n",
       "      <td>45 to 54 years</td>\n",
       "      <td>n4</td>\n",
       "      <td>Noe Valley</td>\n",
       "      <td>Jan</td>\n",
       "      <td>2023.0</td>\n",
       "      <td>z</td>\n",
       "      <td>Email</td>\n",
       "      <td>True</td>\n",
       "      <td>2011</td>\n",
       "      <td>False</td>\n",
       "      <td>13.0</td>\n",
       "      <td>5.384615</td>\n",
       "    </tr>\n",
       "    <tr>\n",
       "      <th>3</th>\n",
       "      <td>5</td>\n",
       "      <td>Staff</td>\n",
       "      <td>3934</td>\n",
       "      <td>2140</td>\n",
       "      <td>NaN</td>\n",
       "      <td>o2</td>\n",
       "      <td>Ocean View</td>\n",
       "      <td>Jul</td>\n",
       "      <td>2023.0</td>\n",
       "      <td>z</td>\n",
       "      <td>Email</td>\n",
       "      <td>True</td>\n",
       "      <td>2003</td>\n",
       "      <td>False</td>\n",
       "      <td>21.0</td>\n",
       "      <td>187.333333</td>\n",
       "    </tr>\n",
       "    <tr>\n",
       "      <th>4</th>\n",
       "      <td>5</td>\n",
       "      <td>Staff</td>\n",
       "      <td>1118</td>\n",
       "      <td>1035</td>\n",
       "      <td>NaN</td>\n",
       "      <td>o7</td>\n",
       "      <td>Ortega</td>\n",
       "      <td>Jul</td>\n",
       "      <td>2023.0</td>\n",
       "      <td>z</td>\n",
       "      <td>Email</td>\n",
       "      <td>True</td>\n",
       "      <td>2003</td>\n",
       "      <td>False</td>\n",
       "      <td>21.0</td>\n",
       "      <td>53.238095</td>\n",
       "    </tr>\n",
       "  </tbody>\n",
       "</table>\n",
       "</div>"
      ],
      "text/plain": [
       "   Patron Type Code Patron Type Definition  Total Checkouts  Total Renewals  \\\n",
       "0                 5                  Staff               53              15   \n",
       "1                 5                  Staff              480             378   \n",
       "2                 5                  Staff               70              33   \n",
       "3                 5                  Staff             3934            2140   \n",
       "4                 5                  Staff             1118            1035   \n",
       "\n",
       "        Age Range Home Library Code Home Library Definition  \\\n",
       "0             NaN                b2                 Bayview   \n",
       "1             NaN                e9               Excelsior   \n",
       "2  45 to 54 years                n4              Noe Valley   \n",
       "3             NaN                o2              Ocean View   \n",
       "4             NaN                o7                  Ortega   \n",
       "\n",
       "  Circulation Active Month  Circulation Active Year Notice Preference Code  \\\n",
       "0                      Mar                   2023.0                      z   \n",
       "1                      Jun                   2023.0                      z   \n",
       "2                      Jan                   2023.0                      z   \n",
       "3                      Jul                   2023.0                      z   \n",
       "4                      Jul                   2023.0                      z   \n",
       "\n",
       "  Notice Preference Definition  Provided Email Address  \\\n",
       "0                        Email                    True   \n",
       "1                        Email                    True   \n",
       "2                        Email                    True   \n",
       "3                        Email                    True   \n",
       "4                        Email                    True   \n",
       "\n",
       "   Year Patron Registered Within San Francisco County  \\\n",
       "0                    2003                       False   \n",
       "1                    2003                       False   \n",
       "2                    2011                       False   \n",
       "3                    2003                       False   \n",
       "4                    2003                       False   \n",
       "\n",
       "   Membership Duration Years  Average Checkouts per Year  \n",
       "0                       21.0                    2.523810  \n",
       "1                       21.0                   22.857143  \n",
       "2                       13.0                    5.384615  \n",
       "3                       21.0                  187.333333  \n",
       "4                       21.0                   53.238095  "
      ]
     },
     "execution_count": 19,
     "metadata": {},
     "output_type": "execute_result"
    }
   ],
   "source": [
    "df.head()"
   ]
  },
  {
   "cell_type": "code",
   "execution_count": 20,
   "metadata": {},
   "outputs": [
    {
     "data": {
      "image/png": "[encoded data removed]",
      "text/plain": [
       "<Figure size 1600x600 with 1 Axes>"
      ]
     },
     "metadata": {},
     "output_type": "display_data"
    }
   ],
   "source": [
    "import matplotlib.pyplot as plt\n",
    "\n",
    "%matplotlib inline\n",
    "sns.set_theme()\n",
    "plt.figure(figsize=(16, 6))\n",
    "my_order =['0 to 9 years', '10 to 19 years', '20 to 24 years', '25 to 34 years', '35 to 44 years', '45 to 54 years', '55 to 59 years', '60 to 64 years', '65 to 74 years', '75 years and over']\n",
    "\n",
    "plt = sns.boxplot(y='Average Checkouts per Year', x='Age Range', data=df[df['Average Checkouts per Year']<df['Average Checkouts per Year'].quantile(0.95)], fliersize=0.5, whis=1.5, order =my_order)"
   ]
  },
  {
   "cell_type": "markdown",
   "metadata": {},
   "source": [
    "# Antwort auf Frage 4: \n",
    "\n",
    "In der Grafik ist die Antwort ablesbar. Man sieht  ganz schön, dass es kaum Zusammenhang zwischen der durschnittlichen Ausleihe pro Jahr und den Altersgruppen gibt. Lediglich die Altersgruppe zwischen 25 und 34 und 35 und 44 leihen sichtbar weniger Bücher aus als die anderen Altersgruppen."
   ]
  },
  {
   "cell_type": "markdown",
   "metadata": {},
   "source": [
    "# Frage 5: Welche Altersgruppe verlängert im Mittel wie oft?"
   ]
  },
  {
   "cell_type": "markdown",
   "metadata": {},
   "source": [
    "# Antwort auf Frage 5"
   ]
  },
  {
   "cell_type": "markdown",
   "metadata": {},
   "source": [
    "Wie in Frage 4 benötigen wir eine Hilfsvariable."
   ]
  },
  {
   "cell_type": "code",
   "execution_count": 21,
   "metadata": {},
   "outputs": [],
   "source": [
    "df['Circulation Active Year'] = pd.to_numeric(df['Circulation Active Year'], errors='coerce')\n",
    "df['Membership Duration Years'] = (df['Circulation Active Year'] - df['Year Patron Registered'])+1 \n",
    "# hier werden der Einfachheit ganze Jahre angenommen\n",
    "df[\"Average Renewals per Year\"] =(df['Total Checkouts']/df['Membership Duration Years'])"
   ]
  },
  {
   "cell_type": "code",
   "execution_count": 22,
   "metadata": {},
   "outputs": [
    {
     "name": "stdout",
     "output_type": "stream",
     "text": [
      "Im Mittel werden in den Altersgruppen wie folgt Verlängerungen getätigt:\n",
      "0 bis 9-jährige: 20.67787896079862\n",
      "10 bis 19-jährige: 22.311279378051076\n",
      "...\n",
      "65 bis 74-jährige: 22.143589378726695\n",
      "ab 75-jährige: 25.56464541876321\n"
     ]
    }
   ],
   "source": [
    "Age_Range_0_9 = df.loc[df['Age Range'] == '0 to 9 years']\n",
    "Age_Range_10_19 = df.loc[df['Age Range'] == '10 to 19 years']\n",
    "Age_Range_20_24 = df.loc[df['Age Range'] == '20 to 24 years']\n",
    "Age_Range_25_34 = df.loc[df['Age Range'] == '25 to 34 years']\n",
    "Age_Range_35_44 = df.loc[df['Age Range'] == '35 to 44 years']\n",
    "Age_Range_45_54 = df.loc[df['Age Range'] == '45 to 54 years']\n",
    "Age_Range_55_59 = df.loc[df['Age Range'] == '55 to 59 years']\n",
    "Age_Range_60_64 = df.loc[df['Age Range'] == '60 to 64 years']\n",
    "Age_Range_65_74 = df.loc[df['Age Range'] == '65 to 74 years']\n",
    "Age_Range_75 = df.loc[df['Age Range'] == '75 years and over']\n",
    "\n",
    "# Hilfsvariablen\n",
    "\n",
    "print('Im Mittel werden in den Altersgruppen wie folgt Verlängerungen getätigt:' )\n",
    "print('0 bis 9-jährige: '  + str(Age_Range_0_9['Average Renewals per Year'].mean()))\n",
    "print('10 bis 19-jährige: '  + str(Age_Range_10_19['Average Renewals per Year'].mean()))\n",
    "\n",
    "print('...')\n",
    "\n",
    "\n",
    "print('65 bis 74-jährige: '  + str(Age_Range_65_74['Average Renewals per Year'].mean()))\n",
    "print('ab 75-jährige: '  + str(Age_Range_75['Average Renewals per Year'].mean()))\n",
    "\n",
    "\n"
   ]
  },
  {
   "cell_type": "markdown",
   "metadata": {},
   "source": [
    "----"
   ]
  },
  {
   "cell_type": "markdown",
   "metadata": {},
   "source": [
    "# Frage 6: Wie ist die Verteilung der Altersgruppen im Mission District"
   ]
  },
  {
   "cell_type": "markdown",
   "metadata": {},
   "source": [
    "Für diese Frage sind die Variablen 'Home Library Definition' und 'Age Range' relevant. Die erstere ist nominal, die zweite ordinal. D.h. auch hier ist die Berechnung von Erwartungswert und Varianz nicht möglich. Für einen ersten graphischen Überblick können wir aber einfach zählen, wie viele Nutzer welcher Altersgruppe im Mission District sind."
   ]
  },
  {
   "cell_type": "code",
   "execution_count": 23,
   "metadata": {},
   "outputs": [],
   "source": [
    "mission_district=df.loc[(df['Home Library Definition'] == \"Mission\")] # Hilfsvariable"
   ]
  },
  {
   "cell_type": "code",
   "execution_count": 24,
   "metadata": {},
   "outputs": [
    {
     "name": "stderr",
     "output_type": "stream",
     "text": [
      "/home/rafaela/anaconda3/lib/python3.8/site-packages/seaborn/axisgrid.py:118: UserWarning: The figure layout has changed to tight\n",
      "  self._figure.tight_layout(*args, **kwargs)\n"
     ]
    },
    {
     "data": {
      "text/plain": [
       "<seaborn.axisgrid.FacetGrid at 0x7866a6b85190>"
      ]
     },
     "execution_count": 24,
     "metadata": {},
     "output_type": "execute_result"
    },
    {
     "data": {
      "image/png": "[encoded data removed]",
      "text/plain": [
       "<Figure size 1500x500 with 1 Axes>"
      ]
     },
     "metadata": {},
     "output_type": "display_data"
    }
   ],
   "source": [
    "my_order =['0 to 9 years', '10 to 19 years', '20 to 24 years', '25 to 34 years', '35 to 44 years', '45 to 54 years', '55 to 59 years', '60 to 64 years', '65 to 74 years', '75 years and over']\n",
    "sns.catplot(x='Age Range', kind=\"count\", data=mission_district, order=my_order, aspect=3)"
   ]
  },
  {
   "cell_type": "markdown",
   "metadata": {},
   "source": [
    "Die obere Grafik beantwortet die Frage schon ganz gut, dennoch können wir uns auch die genauen Werte über eine Kreuztabelle ausgeben lassen:"
   ]
  },
  {
   "cell_type": "code",
   "execution_count": 25,
   "metadata": {},
   "outputs": [
    {
     "data": {
      "text/html": [
       "<div>\n",
       "<style scoped>\n",
       "    .dataframe tbody tr th:only-of-type {\n",
       "        vertical-align: middle;\n",
       "    }\n",
       "\n",
       "    .dataframe tbody tr th {\n",
       "        vertical-align: top;\n",
       "    }\n",
       "\n",
       "    .dataframe thead th {\n",
       "        text-align: right;\n",
       "    }\n",
       "</style>\n",
       "<table border=\"1\" class=\"dataframe\">\n",
       "  <thead>\n",
       "    <tr style=\"text-align: right;\">\n",
       "      <th>Age Range</th>\n",
       "      <th>0 to 9 years</th>\n",
       "      <th>10 to 19 years</th>\n",
       "      <th>20 to 24 years</th>\n",
       "      <th>25 to 34 years</th>\n",
       "      <th>35 to 44 years</th>\n",
       "      <th>45 to 54 years</th>\n",
       "      <th>55 to 59 years</th>\n",
       "      <th>60 to 64 years</th>\n",
       "      <th>65 to 74 years</th>\n",
       "      <th>75 years and over</th>\n",
       "    </tr>\n",
       "    <tr>\n",
       "      <th>Home Library Definition</th>\n",
       "      <th></th>\n",
       "      <th></th>\n",
       "      <th></th>\n",
       "      <th></th>\n",
       "      <th></th>\n",
       "      <th></th>\n",
       "      <th></th>\n",
       "      <th></th>\n",
       "      <th></th>\n",
       "      <th></th>\n",
       "    </tr>\n",
       "  </thead>\n",
       "  <tbody>\n",
       "    <tr>\n",
       "      <th>Mission</th>\n",
       "      <td>0.054378</td>\n",
       "      <td>0.173489</td>\n",
       "      <td>0.05183</td>\n",
       "      <td>0.218813</td>\n",
       "      <td>0.229385</td>\n",
       "      <td>0.123936</td>\n",
       "      <td>0.040607</td>\n",
       "      <td>0.034698</td>\n",
       "      <td>0.049119</td>\n",
       "      <td>0.023746</td>\n",
       "    </tr>\n",
       "    <tr>\n",
       "      <th>All</th>\n",
       "      <td>0.054378</td>\n",
       "      <td>0.173489</td>\n",
       "      <td>0.05183</td>\n",
       "      <td>0.218813</td>\n",
       "      <td>0.229385</td>\n",
       "      <td>0.123936</td>\n",
       "      <td>0.040607</td>\n",
       "      <td>0.034698</td>\n",
       "      <td>0.049119</td>\n",
       "      <td>0.023746</td>\n",
       "    </tr>\n",
       "  </tbody>\n",
       "</table>\n",
       "</div>"
      ],
      "text/plain": [
       "Age Range                0 to 9 years  10 to 19 years  20 to 24 years  \\\n",
       "Home Library Definition                                                 \n",
       "Mission                      0.054378        0.173489         0.05183   \n",
       "All                          0.054378        0.173489         0.05183   \n",
       "\n",
       "Age Range                25 to 34 years  35 to 44 years  45 to 54 years  \\\n",
       "Home Library Definition                                                   \n",
       "Mission                        0.218813        0.229385        0.123936   \n",
       "All                            0.218813        0.229385        0.123936   \n",
       "\n",
       "Age Range                55 to 59 years  60 to 64 years  65 to 74 years  \\\n",
       "Home Library Definition                                                   \n",
       "Mission                        0.040607        0.034698        0.049119   \n",
       "All                            0.040607        0.034698        0.049119   \n",
       "\n",
       "Age Range                75 years and over  \n",
       "Home Library Definition                     \n",
       "Mission                           0.023746  \n",
       "All                               0.023746  "
      ]
     },
     "execution_count": 25,
     "metadata": {},
     "output_type": "execute_result"
    }
   ],
   "source": [
    "pd.crosstab(\n",
    "    mission_district['Home Library Definition'],\n",
    "    mission_district['Age Range'],\n",
    "    margins=True, normalize=0\n",
    ")"
   ]
  },
  {
   "cell_type": "markdown",
   "metadata": {},
   "source": [
    "###### Antwort auf Frage 6\n",
    "Die Verteilung der Altersgruppen im Mission District ist wie folgt:\n",
    "- ca. 5% der Nutzer sind zwischen 0 und 9 Jahren,\n",
    "- ca. 17% der Nutzer sind zwischen 10 und 19 Jahren,\n",
    " \n",
    "...\n",
    "\n",
    "- ca. 5% der Nutzer sind zwischen 65 und 74 Jahren,\n",
    "- ca. 2% der Nutzer sind 75 Jahre und älter.\n",
    "\n",
    "\n",
    "----"
   ]
  },
  {
   "cell_type": "markdown",
   "metadata": {},
   "source": [
    "# Frage 7: Erklärung von Normalisierung von Kreuztabellen (Kapitel 3 im Skript)"
   ]
  },
  {
   "cell_type": "markdown",
   "metadata": {},
   "source": [
    "Wir nutzen das Beispiel von oben (Alterskategorien und Benachrichtigungsart aus Frage 3).\n",
    "Zuerst einmal eine nicht normalisierte Kreuztabelle:"
   ]
  },
  {
   "cell_type": "code",
   "execution_count": 26,
   "metadata": {},
   "outputs": [
    {
     "data": {
      "text/html": [
       "<div>\n",
       "<style scoped>\n",
       "    .dataframe tbody tr th:only-of-type {\n",
       "        vertical-align: middle;\n",
       "    }\n",
       "\n",
       "    .dataframe tbody tr th {\n",
       "        vertical-align: top;\n",
       "    }\n",
       "\n",
       "    .dataframe thead th {\n",
       "        text-align: right;\n",
       "    }\n",
       "</style>\n",
       "<table border=\"1\" class=\"dataframe\">\n",
       "  <thead>\n",
       "    <tr style=\"text-align: right;\">\n",
       "      <th>Age Range</th>\n",
       "      <th>0 to 9 years</th>\n",
       "      <th>10 to 19 years</th>\n",
       "      <th>20 to 24 years</th>\n",
       "      <th>25 to 34 years</th>\n",
       "      <th>35 to 44 years</th>\n",
       "      <th>45 to 54 years</th>\n",
       "      <th>55 to 59 years</th>\n",
       "      <th>60 to 64 years</th>\n",
       "      <th>65 to 74 years</th>\n",
       "      <th>75 years and over</th>\n",
       "      <th>All</th>\n",
       "    </tr>\n",
       "    <tr>\n",
       "      <th>Notice Preference Definition</th>\n",
       "      <th></th>\n",
       "      <th></th>\n",
       "      <th></th>\n",
       "      <th></th>\n",
       "      <th></th>\n",
       "      <th></th>\n",
       "      <th></th>\n",
       "      <th></th>\n",
       "      <th></th>\n",
       "      <th></th>\n",
       "      <th></th>\n",
       "    </tr>\n",
       "  </thead>\n",
       "  <tbody>\n",
       "    <tr>\n",
       "      <th>Email</th>\n",
       "      <td>28740</td>\n",
       "      <td>54936</td>\n",
       "      <td>22701</td>\n",
       "      <td>88200</td>\n",
       "      <td>77618</td>\n",
       "      <td>45165</td>\n",
       "      <td>17336</td>\n",
       "      <td>15539</td>\n",
       "      <td>27170</td>\n",
       "      <td>15069</td>\n",
       "      <td>392474</td>\n",
       "    </tr>\n",
       "    <tr>\n",
       "      <th>All</th>\n",
       "      <td>28740</td>\n",
       "      <td>54936</td>\n",
       "      <td>22701</td>\n",
       "      <td>88200</td>\n",
       "      <td>77618</td>\n",
       "      <td>45165</td>\n",
       "      <td>17336</td>\n",
       "      <td>15539</td>\n",
       "      <td>27170</td>\n",
       "      <td>15069</td>\n",
       "      <td>392474</td>\n",
       "    </tr>\n",
       "  </tbody>\n",
       "</table>\n",
       "</div>"
      ],
      "text/plain": [
       "Age Range                     0 to 9 years  10 to 19 years  20 to 24 years  \\\n",
       "Notice Preference Definition                                                 \n",
       "Email                                28740           54936           22701   \n",
       "All                                  28740           54936           22701   \n",
       "\n",
       "Age Range                     25 to 34 years  35 to 44 years  45 to 54 years  \\\n",
       "Notice Preference Definition                                                   \n",
       "Email                                  88200           77618           45165   \n",
       "All                                    88200           77618           45165   \n",
       "\n",
       "Age Range                     55 to 59 years  60 to 64 years  65 to 74 years  \\\n",
       "Notice Preference Definition                                                   \n",
       "Email                                  17336           15539           27170   \n",
       "All                                    17336           15539           27170   \n",
       "\n",
       "Age Range                     75 years and over     All  \n",
       "Notice Preference Definition                             \n",
       "Email                                     15069  392474  \n",
       "All                                       15069  392474  "
      ]
     },
     "execution_count": 26,
     "metadata": {},
     "output_type": "execute_result"
    }
   ],
   "source": [
    "# Nun möchten wir das prozentual betrachten:\n",
    "pd.crosstab(\n",
    "    benachrichtigung['Notice Preference Definition'],\n",
    "    benachrichtigung['Age Range'],\n",
    "    margins=True\n",
    ")\n",
    "# die Reihenfolge der betrachteten Spalten 'Notice Preference Definition' und 'Age Range' spielt keine Rolle, \n",
    "# probiere es ruhig aus\""
   ]
  },
  {
   "cell_type": "code",
   "execution_count": 27,
   "metadata": {},
   "outputs": [
    {
     "data": {
      "text/html": [
       "<div>\n",
       "<style scoped>\n",
       "    .dataframe tbody tr th:only-of-type {\n",
       "        vertical-align: middle;\n",
       "    }\n",
       "\n",
       "    .dataframe tbody tr th {\n",
       "        vertical-align: top;\n",
       "    }\n",
       "\n",
       "    .dataframe thead th {\n",
       "        text-align: right;\n",
       "    }\n",
       "</style>\n",
       "<table border=\"1\" class=\"dataframe\">\n",
       "  <thead>\n",
       "    <tr style=\"text-align: right;\">\n",
       "      <th>Age Range</th>\n",
       "      <th>0 to 9 years</th>\n",
       "      <th>10 to 19 years</th>\n",
       "      <th>20 to 24 years</th>\n",
       "      <th>25 to 34 years</th>\n",
       "      <th>35 to 44 years</th>\n",
       "      <th>45 to 54 years</th>\n",
       "      <th>55 to 59 years</th>\n",
       "      <th>60 to 64 years</th>\n",
       "      <th>65 to 74 years</th>\n",
       "      <th>75 years and over</th>\n",
       "    </tr>\n",
       "    <tr>\n",
       "      <th>Notice Preference Definition</th>\n",
       "      <th></th>\n",
       "      <th></th>\n",
       "      <th></th>\n",
       "      <th></th>\n",
       "      <th></th>\n",
       "      <th></th>\n",
       "      <th></th>\n",
       "      <th></th>\n",
       "      <th></th>\n",
       "      <th></th>\n",
       "    </tr>\n",
       "  </thead>\n",
       "  <tbody>\n",
       "    <tr>\n",
       "      <th>Email</th>\n",
       "      <td>0.073228</td>\n",
       "      <td>0.139974</td>\n",
       "      <td>0.057841</td>\n",
       "      <td>0.224728</td>\n",
       "      <td>0.197766</td>\n",
       "      <td>0.115078</td>\n",
       "      <td>0.044171</td>\n",
       "      <td>0.039592</td>\n",
       "      <td>0.069228</td>\n",
       "      <td>0.038395</td>\n",
       "    </tr>\n",
       "    <tr>\n",
       "      <th>All</th>\n",
       "      <td>0.073228</td>\n",
       "      <td>0.139974</td>\n",
       "      <td>0.057841</td>\n",
       "      <td>0.224728</td>\n",
       "      <td>0.197766</td>\n",
       "      <td>0.115078</td>\n",
       "      <td>0.044171</td>\n",
       "      <td>0.039592</td>\n",
       "      <td>0.069228</td>\n",
       "      <td>0.038395</td>\n",
       "    </tr>\n",
       "  </tbody>\n",
       "</table>\n",
       "</div>"
      ],
      "text/plain": [
       "Age Range                     0 to 9 years  10 to 19 years  20 to 24 years  \\\n",
       "Notice Preference Definition                                                 \n",
       "Email                             0.073228        0.139974        0.057841   \n",
       "All                               0.073228        0.139974        0.057841   \n",
       "\n",
       "Age Range                     25 to 34 years  35 to 44 years  45 to 54 years  \\\n",
       "Notice Preference Definition                                                   \n",
       "Email                               0.224728        0.197766        0.115078   \n",
       "All                                 0.224728        0.197766        0.115078   \n",
       "\n",
       "Age Range                     55 to 59 years  60 to 64 years  65 to 74 years  \\\n",
       "Notice Preference Definition                                                   \n",
       "Email                               0.044171        0.039592        0.069228   \n",
       "All                                 0.044171        0.039592        0.069228   \n",
       "\n",
       "Age Range                     75 years and over  \n",
       "Notice Preference Definition                     \n",
       "Email                                  0.038395  \n",
       "All                                    0.038395  "
      ]
     },
     "execution_count": 27,
     "metadata": {},
     "output_type": "execute_result"
    }
   ],
   "source": [
    "# Nun normalisieren wir nach Zeilen (normalize=0)\n",
    "pd.crosstab(\n",
    "    benachrichtigung['Notice Preference Definition'],\n",
    "    benachrichtigung['Age Range'],\n",
    "    margins=True, normalize=0\n",
    ")"
   ]
  },
  {
   "cell_type": "markdown",
   "metadata": {},
   "source": [
    "Hier sehen wir, dass jede Zeile in der Summe 1 ergibt. D.h. wir können die Tabelle prozentual nach Zeilen interpretieren.\n",
    "Also z.B. erste Zeile: Von allen Nutzern, die per Mail informiert werden möchten, befinden sich ca. 12% (0.115078 von 1) in der Altersgruppe 45 bis 54 Jahre.\n"
   ]
  },
  {
   "cell_type": "code",
   "execution_count": 28,
   "metadata": {},
   "outputs": [
    {
     "data": {
      "text/html": [
       "<div>\n",
       "<style scoped>\n",
       "    .dataframe tbody tr th:only-of-type {\n",
       "        vertical-align: middle;\n",
       "    }\n",
       "\n",
       "    .dataframe tbody tr th {\n",
       "        vertical-align: top;\n",
       "    }\n",
       "\n",
       "    .dataframe thead th {\n",
       "        text-align: right;\n",
       "    }\n",
       "</style>\n",
       "<table border=\"1\" class=\"dataframe\">\n",
       "  <thead>\n",
       "    <tr style=\"text-align: right;\">\n",
       "      <th>Age Range</th>\n",
       "      <th>0 to 9 years</th>\n",
       "      <th>10 to 19 years</th>\n",
       "      <th>20 to 24 years</th>\n",
       "      <th>25 to 34 years</th>\n",
       "      <th>35 to 44 years</th>\n",
       "      <th>45 to 54 years</th>\n",
       "      <th>55 to 59 years</th>\n",
       "      <th>60 to 64 years</th>\n",
       "      <th>65 to 74 years</th>\n",
       "      <th>75 years and over</th>\n",
       "      <th>All</th>\n",
       "    </tr>\n",
       "    <tr>\n",
       "      <th>Notice Preference Definition</th>\n",
       "      <th></th>\n",
       "      <th></th>\n",
       "      <th></th>\n",
       "      <th></th>\n",
       "      <th></th>\n",
       "      <th></th>\n",
       "      <th></th>\n",
       "      <th></th>\n",
       "      <th></th>\n",
       "      <th></th>\n",
       "      <th></th>\n",
       "    </tr>\n",
       "  </thead>\n",
       "  <tbody>\n",
       "    <tr>\n",
       "      <th>Email</th>\n",
       "      <td>1.0</td>\n",
       "      <td>1.0</td>\n",
       "      <td>1.0</td>\n",
       "      <td>1.0</td>\n",
       "      <td>1.0</td>\n",
       "      <td>1.0</td>\n",
       "      <td>1.0</td>\n",
       "      <td>1.0</td>\n",
       "      <td>1.0</td>\n",
       "      <td>1.0</td>\n",
       "      <td>1.0</td>\n",
       "    </tr>\n",
       "  </tbody>\n",
       "</table>\n",
       "</div>"
      ],
      "text/plain": [
       "Age Range                     0 to 9 years  10 to 19 years  20 to 24 years  \\\n",
       "Notice Preference Definition                                                 \n",
       "Email                                  1.0             1.0             1.0   \n",
       "\n",
       "Age Range                     25 to 34 years  35 to 44 years  45 to 54 years  \\\n",
       "Notice Preference Definition                                                   \n",
       "Email                                    1.0             1.0             1.0   \n",
       "\n",
       "Age Range                     55 to 59 years  60 to 64 years  65 to 74 years  \\\n",
       "Notice Preference Definition                                                   \n",
       "Email                                    1.0             1.0             1.0   \n",
       "\n",
       "Age Range                     75 years and over  All  \n",
       "Notice Preference Definition                          \n",
       "Email                                       1.0  1.0  "
      ]
     },
     "execution_count": 28,
     "metadata": {},
     "output_type": "execute_result"
    }
   ],
   "source": [
    "# Als Vergleich normalisieren wir nach Spalten (normalize=1)\n",
    "pd.crosstab(\n",
    "    benachrichtigung['Notice Preference Definition'],\n",
    "    benachrichtigung['Age Range'],\n",
    "    margins=True, normalize=1\n",
    ")"
   ]
  },
  {
   "cell_type": "markdown",
   "metadata": {},
   "source": [
    "Hier sehen wir, dass jede Spalte in der Summe 1 ergibt. D.h. wir können die Tabelle prozentual nach Spalten interpretieren.\n",
    "Also z.B. erste Spalte: Von allen Nutzern, die zwischen 0 und 9 Jahren sind, möchten sich ca. 12% (0.120886 von 1) nicht informieren lassen.\n"
   ]
  },
  {
   "cell_type": "markdown",
   "metadata": {},
   "source": [
    "----"
   ]
  }
 ],
 "metadata": {
  "kernelspec": {
   "display_name": "Python 3 (ipykernel)",
   "language": "python",
   "name": "python3"
  },
  "language_info": {
   "codemirror_mode": {
    "name": "ipython",
    "version": 3
   },
   "file_extension": ".py",
   "mimetype": "text/x-python",
   "name": "python",
   "nbconvert_exporter": "python",
   "pygments_lexer": "ipython3",
   "version": "3.8.18"
  }
 },
 "nbformat": 4,
 "nbformat_minor": 4
}
